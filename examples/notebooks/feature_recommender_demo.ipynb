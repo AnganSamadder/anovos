{
 "cells": [
  {
   "cell_type": "markdown",
   "id": "cd59198a",
   "metadata": {},
   "source": [
    "# Feature Explorer and Recommender Demo\n",
    "\n",
    "In this notebook, we will cover Feature Recommender, a part of ANOVOS Package. Feature Recommender is a list of methods and functions to help users figure out which features would help them in solving the given problem, which is a cold-start from almost all the data scientists. Feature Recommender contains of 2 part:\n",
    "- Feature Exploration: This part of the Feature Recommender featuring a list of methods, allowing users to explore existing features based on their desired industry and/or use case.\n",
    "    - `list_all_industry()`\n",
    "    - `list_all_usecase()`\n",
    "    - `list_all_pair()`\n",
    "    - `list_usecase_by_industry(industry, semantic=True)`\n",
    "    - `list_industry_by_usecase(usecase, semantic=True)`\n",
    "    - `list_feature_by_industry(industry, num_of_feat=100, semantic=True)`\n",
    "    - `list_feature_by_usecase(usecase, num_of_feat=100, semantic=True)`\n",
    "    - `list_feature_by_pair(industry, usecase, num_of_feat=100, semantic=True)`\n",
    "    \n",
    "    \n",
    "- Feature Recommendation: This part of the Feature Recommender featuring 3 methods, recommend features to users based on their input attribute, and provide a comprehensive mapping method from their own input attribute to either available features, or their own feature corpus.\n",
    "    - `feature_recommendation(df, name_column=None, desc_column=None, suggested_industry='all',suggested_usecase='all', semantic=True, top_n=2, threshold=0.3)`\n",
    "    - `find_attr_by_relevance(df, building_corpus, name_column=None, desc_column=None, threshold=0.3)`\n",
    "    - `sankey_visualization(df, industry_included=False, usecase_included=False)`"
   ]
  },
  {
   "cell_type": "markdown",
   "id": "ff1f8981",
   "metadata": {},
   "source": [
    "## Setting Up\n",
    "\n",
    "As Feature Recommender is a part of ANOVOS, it is recommended to install ANOVOS to try out all the functions inside Feature Recommender. In this notebook, we will both try both installing from ANOVOS Package and manually set up Feature Recommender functions."
   ]
  },
  {
   "cell_type": "markdown",
   "id": "ed370447",
   "metadata": {},
   "source": [
    "### Install from ANOVOS Package"
   ]
  },
  {
   "cell_type": "code",
   "execution_count": 1,
   "id": "6432c77a",
   "metadata": {},
   "outputs": [],
   "source": [
    "# !pip install git+https://github.com/anovos/anovos.git@feature_recommender_beta\n",
    "# from anovos.feature_recommender.feature_exploration import *\n",
    "# from anovos.feature_recommender.feature_recommendation import *"
   ]
  },
  {
   "cell_type": "markdown",
   "id": "38fefc48",
   "metadata": {},
   "source": [
    "### Set up the functions manually"
   ]
  },
  {
   "cell_type": "code",
   "execution_count": 2,
   "id": "e38202f2",
   "metadata": {},
   "outputs": [],
   "source": [
    "import pandas as pd\n",
    "from sentence_transformers import SentenceTransformer\n",
    "from re import finditer\n",
    "import copy\n",
    "from sentence_transformers import util\n",
    "import numpy as np\n",
    "import re\n",
    "import plotly.graph_objects as go\n",
    "import random\n",
    "import matplotlib.pyplot as plt\n",
    "\n",
    "model = SentenceTransformer('all-mpnet-base-v2')\n",
    "input_path = 'https://raw.githubusercontent.com/anovos/anovos/feature_recommender_beta/data/feature_recommender/flatten_fr_db.csv'\n",
    "df_input = pd.read_csv(input_path)\n",
    "\n",
    "\n",
    "def list_all_industry():\n",
    "    \"\"\"\n",
    "    :return: DataFrame\n",
    "    \"\"\"\n",
    "    odf_uni = df_input['Industry'].unique()\n",
    "    odf = pd.DataFrame(odf_uni, columns=['Industry'])\n",
    "    return odf\n",
    "\n",
    "\n",
    "def list_all_usecase():\n",
    "    \"\"\"\n",
    "    :return: DataFrame\n",
    "    \"\"\"\n",
    "    odf_uni = df_input['Usecase'].unique()\n",
    "    odf = pd.DataFrame(odf_uni, columns=['Usecase'])\n",
    "    return odf\n",
    "\n",
    "\n",
    "def list_all_pair():\n",
    "    \"\"\"\n",
    "    :return: DataFrame\n",
    "    \"\"\"\n",
    "    odf = df_input[['Industry', 'Usecase']].drop_duplicates(keep='last',\n",
    "                                                            ignore_index=True)\n",
    "    return odf\n",
    "\n",
    "\n",
    "def process_usecase(usecase, semantic):\n",
    "    \"\"\"\n",
    "    :param usecase: Input usecase (string)\n",
    "    :param semantic: Input semantic (boolean) - Whether the input needs to go through semantic matching or not. Default is True.\n",
    "    :return: Processed Usecase(string)\n",
    "    \"\"\"\n",
    "    if type(semantic) != bool:\n",
    "        raise TypeError('Invalid input for semantic')\n",
    "    if type(usecase) != str:\n",
    "        raise TypeError('Invalid input for usecase')\n",
    "    usecase = usecase.lower().strip()\n",
    "    usecase = usecase.replace(\"[^A-Za-z0-9 ]+\", \" \")\n",
    "    all_usecase = list_all_usecase()['Usecase'].to_list()\n",
    "    if semantic and usecase not in all_usecase:\n",
    "        all_usecase_embeddings = model.encode(all_usecase,\n",
    "                                              convert_to_tensor=True)\n",
    "        usecase_embeddings = model.encode(usecase, convert_to_tensor=True)\n",
    "        cos_scores = util.pytorch_cos_sim(usecase_embeddings,\n",
    "                                          all_usecase_embeddings)[0]\n",
    "        first_match_index = int(np.argpartition(-cos_scores, 0)[0])\n",
    "        processed_usecase = all_usecase[first_match_index]\n",
    "        print(\n",
    "            \"Input Usecase not available. Showing the most semantically relevant Usecase result: \",\n",
    "            processed_usecase)\n",
    "    else:\n",
    "        processed_usecase = usecase\n",
    "    return processed_usecase\n",
    "\n",
    "\n",
    "def process_industry(industry, semantic):\n",
    "    \"\"\"\n",
    "    :param industry: Input industry (string)\n",
    "    :param semantic: Input semantic (boolean) - Whether the input needs to go through semantic matching or not. Default is True.\n",
    "    :return: Processed Industry(string)\n",
    "    \"\"\"\n",
    "    if type(semantic) != bool:\n",
    "        raise TypeError('Invalid input for semantic')\n",
    "    if type(industry) != str:\n",
    "        raise TypeError('Invalid input for industry')\n",
    "    industry = industry.lower().strip()\n",
    "    industry = industry.replace(\"[^A-Za-z0-9 ]+\", \" \")\n",
    "    all_industry = list_all_industry()['Industry'].to_list()\n",
    "    if semantic and industry not in all_industry:\n",
    "        all_industry_embeddings = model.encode(all_industry,\n",
    "                                               convert_to_tensor=True)\n",
    "        industry_embeddings = model.encode(industry, convert_to_tensor=True)\n",
    "        cos_scores = util.pytorch_cos_sim(industry_embeddings,\n",
    "                                          all_industry_embeddings)[0]\n",
    "        first_match_index = int(np.argpartition(-cos_scores, 0)[0])\n",
    "        processed_industry = all_industry[first_match_index]\n",
    "        print(\n",
    "            \"Input Industry not available. Showing the most semantically relevant Usecase result: \",\n",
    "            processed_industry)\n",
    "    else:\n",
    "        processed_industry = industry\n",
    "    return processed_industry\n",
    "\n",
    "\n",
    "def list_usecase_by_industry(industry, semantic=True):\n",
    "    \"\"\"\n",
    "    :param industry: Input industry (string)\n",
    "    :param semantic: Input semantic (boolean) - Whether the input needs to go through semantic matching or not. Default is True.\n",
    "    :return: DataFrame\n",
    "    \"\"\"\n",
    "    industry = process_industry(industry, semantic)\n",
    "    odf = df_input.loc[df_input['Industry'] == industry][[\n",
    "        'Usecase'\n",
    "    ]].drop_duplicates(keep='last', ignore_index=True)\n",
    "    return odf\n",
    "\n",
    "\n",
    "def list_industry_by_usecase(usecase, semantic=True):\n",
    "    \"\"\"\n",
    "    :param usecase: Input usecase (string)\n",
    "    :param semantic: Input semantic (boolean) - Whether the input needs to go through semantic matching or not. Default is True.\n",
    "    :return: DataFrame\n",
    "    \"\"\"\n",
    "    usecase = process_usecase(usecase, semantic)\n",
    "    odf = df_input.loc[df_input['Usecase'] == usecase][[\n",
    "        'Industry'\n",
    "    ]].drop_duplicates(keep='last', ignore_index=True)\n",
    "    return odf\n",
    "\n",
    "\n",
    "def list_feature_by_industry(industry, num_of_feat=100, semantic=True):\n",
    "    \"\"\"\n",
    "    :param industry: Input industry (string)\n",
    "    :param num_of_feat: Number of features displayed (integer). Default is 100.\n",
    "    :param semantic: Input semantic (boolean) - Whether the input needs to go through semantic matching or not. Default is True.\n",
    "    :return: DataFrame\n",
    "    \"\"\"\n",
    "    if type(num_of_feat) != int or num_of_feat < 0:\n",
    "        if num_of_feat != 'all':\n",
    "            raise TypeError('Invalid input for num_of_feat')\n",
    "    industry = process_industry(industry, semantic)\n",
    "    odf = df_input.loc[df_input['Industry'] == industry].drop_duplicates(\n",
    "        keep='last', ignore_index=True)\n",
    "    if len(odf) > 0:\n",
    "        odf['count'] = odf.groupby('Usecase')['Usecase'].transform('count')\n",
    "        odf.sort_values('count', inplace=True, ascending=False)\n",
    "        odf = odf.drop('count', axis=1)\n",
    "        if num_of_feat != 'all':\n",
    "            odf = odf.head(num_of_feat).reset_index(drop=True)\n",
    "        else:\n",
    "            odf = odf.reset_index(drop=True)\n",
    "    return odf\n",
    "\n",
    "\n",
    "def list_feature_by_usecase(usecase, num_of_feat=100, semantic=True):\n",
    "    \"\"\"\n",
    "    :param usecase: Input usecase (string)\n",
    "    :param num_of_feat: Number of features displayed (integer). Default is 100.\n",
    "    :param semantic: Input semantic (boolean) - Whether the input needs to go through semantic matching or not. Default is True.\n",
    "    :return: DataFrame\n",
    "    \"\"\"\n",
    "    if type(num_of_feat) != int or num_of_feat < 0:\n",
    "        if num_of_feat != 'all':\n",
    "            raise TypeError('Invalid input for num_of_feat')\n",
    "    usecase = process_usecase(usecase, semantic)\n",
    "    odf = df_input.loc[df_input['Usecase'] == usecase].drop_duplicates(\n",
    "        keep='last', ignore_index=True)\n",
    "    if len(odf) > 0:\n",
    "        odf['count'] = odf.groupby('Industry')['Industry'].transform('count')\n",
    "        odf.sort_values('count', inplace=True, ascending=False)\n",
    "        odf = odf.drop('count', axis=1)\n",
    "        if num_of_feat != 'all':\n",
    "            odf = odf.head(num_of_feat).reset_index(drop=True)\n",
    "        else:\n",
    "            odf = odf.reset_index(drop=True)\n",
    "    return odf\n",
    "\n",
    "\n",
    "def list_feature_by_pair(industry, usecase, num_of_feat=100, semantic=True):\n",
    "    \"\"\"\n",
    "    :param industry: Input industry (string)\n",
    "    :param usecase: Input usecase (string)\n",
    "    :param num_of_feat: Number of features displayed (integer). Default is 100.\n",
    "    :param semantic: Input semantic (boolean) - Whether the input needs to go through semantic matching or not. Default is True.\n",
    "    :return: DataFrame\n",
    "    \"\"\"\n",
    "    if type(num_of_feat) != int or num_of_feat < 0:\n",
    "        if num_of_feat != 'all':\n",
    "            raise TypeError('Invalid input for num_of_feat')\n",
    "    industry = process_industry(industry, semantic)\n",
    "    usecase = process_usecase(usecase, semantic)\n",
    "    if num_of_feat != 'all':\n",
    "        odf = df_input.loc[(df_input['Industry'] == industry)\n",
    "                           & (df_input['Usecase'] == usecase)].drop_duplicates(\n",
    "                               keep='last',\n",
    "                               ignore_index=True).head(num_of_feat)\n",
    "    else:\n",
    "        odf = df_input.loc[(df_input['Industry'] == industry)\n",
    "                           & (df_input['Usecase'] == usecase)].drop_duplicates(\n",
    "                               keep='last', ignore_index=True)\n",
    "    return odf\n",
    "\n",
    "\n",
    "def camel_case_split(input):\n",
    "    \"\"\"\n",
    "    :param input: Input needs to be cleaned (string)\n",
    "    :return: Processed Input (string)\n",
    "    \"\"\"\n",
    "    processed_input = ''\n",
    "    matches = finditer('.+?(?:(?<=[a-z])(?=[A-Z])|(?<=[A-Z])(?=[A-Z][a-z])|$)',\n",
    "                       input)\n",
    "    for m in matches:\n",
    "        processed_input += str(m.group(0)) + str(' ')\n",
    "    return processed_input\n",
    "\n",
    "\n",
    "def recommendation_data_prep(df, name_column, desc_column):\n",
    "    \"\"\"\n",
    "    :param df: Input DataFrame\n",
    "    :param name_column: Input column name in Input DataFrame (string)\n",
    "    :param desc_column: Input column description in Input DataFrame (string)\n",
    "    :return list_corpus: List of prepared data for Feature Recommender functions\n",
    "    :return df_prep: Processed DataFrame for Feature Recommender functions\n",
    "    \"\"\"\n",
    "    if not isinstance(df, pd.DataFrame):\n",
    "        raise TypeError('Invalid input for df')\n",
    "    if name_column not in df.columns and name_column != None:\n",
    "        raise TypeError('Invalid input for name_column')\n",
    "    if desc_column not in df.columns and desc_column != None:\n",
    "        raise TypeError('Invalid input for desc_column')\n",
    "    if name_column == None and desc_column == None:\n",
    "        raise TypeError(\n",
    "            'Need at least one input for either name_column or desc_column')\n",
    "    df_prep = copy.deepcopy(df)\n",
    "    if name_column == None:\n",
    "        df_prep[desc_column] = df_prep[desc_column].astype(str)\n",
    "        df_prep_com = df_prep[desc_column]\n",
    "    elif desc_column == None:\n",
    "        df_prep[name_column] = df_prep[name_column].astype(str)\n",
    "        df_prep_com = df_prep[name_column]\n",
    "    else:\n",
    "        df_prep[name_column] = df_prep[name_column].str.replace('_', ' ')\n",
    "        df_prep[name_column] = df_prep[name_column].astype(str)\n",
    "        df_prep[desc_column] = df_prep[desc_column].astype(str)\n",
    "        df_prep_com = df_prep[[name_column, desc_column]].agg(' '.join, axis=1)\n",
    "    df_prep_com = df_prep_com.replace({\"[^A-Za-z0-9 ]+\": \" \"}, regex=True)\n",
    "    for i in range(len(df_prep_com)):\n",
    "        df_prep_com[i] = df_prep_com[i].strip()\n",
    "        df_prep_com[i] = camel_case_split(df_prep_com[i])\n",
    "    list_corpus = df_prep_com.to_list()\n",
    "    return list_corpus, df_prep\n",
    "\n",
    "\n",
    "df_groupby = df_input.groupby(['Feature Name', 'Feature Description']).agg({\n",
    "    'Industry':\n",
    "    lambda x: ', '.join(set(x.dropna())),\n",
    "    'Usecase':\n",
    "    lambda x: ', '.join(set(x.dropna())),\n",
    "    'Source':\n",
    "    lambda x: ', '.join(set(x.dropna()))\n",
    "}).reset_index()\n",
    "list_train, df_rec = recommendation_data_prep(df_groupby, 'Feature Name',\n",
    "                                              'Feature Description')\n",
    "list_embedding_train = model.encode(list_train, convert_to_tensor=True)\n",
    "\n",
    "\n",
    "def feature_recommendation(df,\n",
    "                           name_column=None,\n",
    "                           desc_column=None,\n",
    "                           suggested_industry='all',\n",
    "                           suggested_usecase='all',\n",
    "                           semantic=True,\n",
    "                           top_n=2,\n",
    "                           threshold=0.3):\n",
    "    \"\"\"\n",
    "    :param df: Input DataFrame - Attribute Dictionary\n",
    "    :param name_column: Input column name for Attribute Name in Input DataFrame (string). Default is None.\n",
    "    :param desc_column: Input column name for Attribute Description in Input DataFrame (string). Default is None.\n",
    "    :param suggested_industry: Input suggested Industry (string). Default is 'all', meaning all Industries available.\n",
    "    :param suggested_usecase: Input suggested Usecase (string). Default is 'all', meaning all Usecases available.\n",
    "    :param semantic: Input semantic (boolean) - Whether the input needs to go through semantic matching or not. Default is True.\n",
    "    :param top_n: Number of feature displayed (int). Default is 2\n",
    "    :param threshold: Input threshold value (float). Default is 0.3\n",
    "    :return: DataFrame with Recommended Features\n",
    "    \"\"\"\n",
    "    if not isinstance(df, pd.DataFrame):\n",
    "        raise TypeError('Invalid input for df')\n",
    "    if type(top_n) != int or top_n < 0:\n",
    "        raise TypeError('Invalid input for top_n')\n",
    "    if top_n > len(list_train):\n",
    "        raise TypeError('top_n value is too large')\n",
    "    if type(threshold) != float:\n",
    "        raise TypeError('Invalid input for building_corpus')\n",
    "    if threshold < 0 or threshold > 1:\n",
    "        raise TypeError(\n",
    "            'Invalid input for threshold. Threshold value is between 0 and 1')\n",
    "    list_user, df_user = recommendation_data_prep(df, name_column, desc_column)\n",
    "\n",
    "    if suggested_industry != 'all' and suggested_industry == 'all':\n",
    "        suggested_industry = process_industry(suggested_industry, semantic)\n",
    "        df_rec_fr = df_rec[df_rec['Industry'].str.contains(suggested_industry)]\n",
    "        list_keep = list(df_rec_fr.index)\n",
    "        list_embedding_train_fr = [\n",
    "            list_embedding_train.tolist()[x] for x in list_keep\n",
    "        ]\n",
    "        df_rec_fr = df_rec_fr.reset_index(drop=True)\n",
    "    elif suggested_usecase != 'all' and suggested_industry == 'all':\n",
    "        suggested_usecase = process_usecase(suggested_usecase, semantic)\n",
    "        df_rec_fr = df_rec[df_rec['Usecase'].str.contains(suggested_usecase)]\n",
    "        list_keep = list(df_rec_fr.index)\n",
    "        list_embedding_train_fr = [\n",
    "            list_embedding_train.tolist()[x] for x in list_keep\n",
    "        ]\n",
    "        df_rec_fr = df_rec_fr.reset_index(drop=True)\n",
    "    elif suggested_usecase != 'all' and suggested_industry != 'all':\n",
    "        suggested_industry = process_industry(suggested_industry, semantic)\n",
    "        suggested_usecase = process_usecase(suggested_usecase, semantic)\n",
    "        df_rec_fr = df_rec[df_rec['Industry'].str.contains(suggested_industry)\n",
    "                           & df_rec['Usecase'].str.contains(suggested_usecase)]\n",
    "        if len(df_rec_fr) > 0:\n",
    "            list_keep = list(df_rec_fr.index)\n",
    "            list_embedding_train_fr = [\n",
    "                list_embedding_train.tolist()[x] for x in list_keep\n",
    "            ]\n",
    "            df_rec_fr = df_rec_fr.reset_index(drop=True)\n",
    "        else:\n",
    "            df_out = pd.DataFrame(columns=[\n",
    "                'Input Attribute Name', 'Input Attribute Description',\n",
    "                'Recommended Feature Name', 'Recommended Feature Description',\n",
    "                'Feature Similarity Score', 'Industry', 'Usecase', 'Source'\n",
    "            ])\n",
    "            print('Industry/Usecase pair does not exist.')\n",
    "            return df_out\n",
    "    else:\n",
    "        df_rec_fr = df_rec\n",
    "        list_embedding_train_fr = list_embedding_train\n",
    "\n",
    "    if name_column == None:\n",
    "        df_out = pd.DataFrame(columns=[\n",
    "            'Input Attribute Description', 'Recommended Feature Name',\n",
    "            'Recommended Feature Description', 'Feature Similarity Score',\n",
    "            'Industry', 'Usecase', 'Source'\n",
    "        ])\n",
    "    elif desc_column == None:\n",
    "        df_out = pd.DataFrame(columns=[\n",
    "            'Input Attribute Name', 'Recommended Feature Name',\n",
    "            'Recommended Feature Description', 'Feature Similarity Score',\n",
    "            'Industry', 'Usecase', 'Source'\n",
    "        ])\n",
    "    else:\n",
    "        df_out = pd.DataFrame(columns=[\n",
    "            'Input Attribute Name', 'Input Attribute Description',\n",
    "            'Recommended Feature Name', 'Recommended Feature Description',\n",
    "            'Feature Similarity Score', 'Industry', 'Usecase', 'Source'\n",
    "        ])\n",
    "    list_embedding_user = model.encode(list_user, convert_to_tensor=True)\n",
    "    for i, feature in enumerate(list_user):\n",
    "        cos_scores = util.pytorch_cos_sim(list_embedding_user,\n",
    "                                          list_embedding_train_fr)[i]\n",
    "        top_results = np.argpartition(-cos_scores, range(top_n))[0:top_n]\n",
    "        for idx in top_results[0:top_n]:\n",
    "            single_score = \"%.4f\" % (cos_scores[idx])\n",
    "            if name_column == None:\n",
    "                if float(single_score) >= threshold:\n",
    "                    df_append = pd.DataFrame(\n",
    "                        [[\n",
    "                            df_user[desc_column].iloc[i],\n",
    "                            df_rec_fr['Feature Name'].iloc[int(idx)],\n",
    "                            df_rec_fr['Feature Description'].iloc[int(idx)],\n",
    "                            \"%.4f\" % (cos_scores[idx]),\n",
    "                            df_rec_fr['Industry'].iloc[int(idx)],\n",
    "                            df_rec_fr['Usecase'].iloc[int(idx)],\n",
    "                            df_rec_fr['Source'].iloc[int(idx)]\n",
    "                        ]],\n",
    "                        columns=[\n",
    "                            'Input Attribute Description',\n",
    "                            'Recommended Feature Name',\n",
    "                            'Recommended Feature Description',\n",
    "                            'Feature Similarity Score', 'Industry', 'Usecase',\n",
    "                            'Source'\n",
    "                        ])\n",
    "                else:\n",
    "                    df_append = pd.DataFrame(\n",
    "                        [[\n",
    "                            df_user[desc_column].iloc[i], 'Null', 'Null',\n",
    "                            'Null', 'Null', 'Null', 'Null'\n",
    "                        ]],\n",
    "                        columns=[\n",
    "                            'Input Attribute Description',\n",
    "                            'Recommended Feature Name',\n",
    "                            'Recommended Feature Description',\n",
    "                            'Feature Similarity Score', 'Industry', 'Usecase',\n",
    "                            'Source'\n",
    "                        ])\n",
    "            elif desc_column == None:\n",
    "                if float(single_score) >= threshold:\n",
    "                    df_append = pd.DataFrame(\n",
    "                        [[\n",
    "                            df_user[name_column].iloc[i],\n",
    "                            df_rec_fr['Feature Name'].iloc[int(idx)],\n",
    "                            df_rec_fr['Feature Description'].iloc[int(idx)],\n",
    "                            \"%.4f\" % (cos_scores[idx]),\n",
    "                            df_rec_fr['Industry'].iloc[int(idx)],\n",
    "                            df_rec_fr['Usecase'].iloc[int(idx)],\n",
    "                            df_rec_fr['Source'].iloc[int(idx)]\n",
    "                        ]],\n",
    "                        columns=[\n",
    "                            'Input Attribute Name', 'Recommended Feature Name',\n",
    "                            'Recommended Feature Description',\n",
    "                            'Feature Similarity Score', 'Industry', 'Usecase',\n",
    "                            'Source'\n",
    "                        ])\n",
    "                else:\n",
    "                    df_append = pd.DataFrame(\n",
    "                        [[\n",
    "                            df_user[desc_column].iloc[i], 'Null', 'Null',\n",
    "                            'Null', 'Null', 'Null', 'Null'\n",
    "                        ]],\n",
    "                        columns=[\n",
    "                            'Input Attribute Name', 'Recommended Feature Name',\n",
    "                            'Recommended Feature Description',\n",
    "                            'Feature Similarity Score', 'Industry', 'Usecase',\n",
    "                            'Source'\n",
    "                        ])\n",
    "            else:\n",
    "                if float(single_score) >= threshold:\n",
    "                    df_append = pd.DataFrame(\n",
    "                        [[\n",
    "                            df_user[name_column].iloc[i],\n",
    "                            df_user[desc_column].iloc[i],\n",
    "                            df_rec_fr['Feature Name'].iloc[int(idx)],\n",
    "                            df_rec_fr['Feature Description'].iloc[int(idx)],\n",
    "                            \"%.4f\" % (cos_scores[idx]),\n",
    "                            df_rec_fr['Industry'].iloc[int(idx)],\n",
    "                            df_rec_fr['Usecase'].iloc[int(idx)],\n",
    "                            df_rec_fr['Source'].iloc[int(idx)]\n",
    "                        ]],\n",
    "                        columns=[\n",
    "                            'Input Attribute Name',\n",
    "                            'Input Attribute Description',\n",
    "                            'Recommended Feature Name',\n",
    "                            'Recommended Feature Description',\n",
    "                            'Feature Similarity Score', 'Industry', 'Usecase',\n",
    "                            'Source'\n",
    "                        ])\n",
    "                else:\n",
    "                    df_append = pd.DataFrame(\n",
    "                        [[\n",
    "                            df_user[name_column].iloc[i],\n",
    "                            df_user[desc_column].iloc[i], 'Null', 'Null',\n",
    "                            'Null', 'Null', 'Null', 'Null'\n",
    "                        ]],\n",
    "                        columns=[\n",
    "                            'Input Attribute Name',\n",
    "                            'Input Attribute Description',\n",
    "                            'Recommended Feature Name',\n",
    "                            'Recommended Feature Description',\n",
    "                            'Feature Similarity Score', 'Industry', 'Usecase',\n",
    "                            'Source'\n",
    "                        ])\n",
    "            df_out = df_out.append(df_append, ignore_index=True)\n",
    "    return df_out\n",
    "\n",
    "\n",
    "def find_attr_by_relevance(df,\n",
    "                           building_corpus,\n",
    "                           name_column=None,\n",
    "                           desc_column=None,\n",
    "                           threshold=0.3):\n",
    "    \"\"\"\n",
    "    :param df: Input DataFrame - Attribute Dictionary\n",
    "    :param building_corpus: Input Feature Description (list)\n",
    "    :param name_column: Input column name for Attribute Name in Input DataFrame (string). Default is None.\n",
    "    :param desc_column: Input column name for Attribute Description in Input DataFrame (string). Default is None.\n",
    "    :param threshold: Input threshold value (float). Default is 0.3\n",
    "    :return: DataFrame with Input Feature Description and Input Attribute matching\n",
    "    \"\"\"\n",
    "    if not isinstance(df, pd.DataFrame):\n",
    "        raise TypeError('Invalid input for df')\n",
    "    if type(building_corpus) != list:\n",
    "        raise TypeError('Invalid input for building_corpus')\n",
    "    if type(threshold) != float:\n",
    "        raise TypeError('Invalid input for building_corpus')\n",
    "    if threshold < 0 or threshold > 1:\n",
    "        raise TypeError(\n",
    "            'Invalid input for threshold. Threshold value is between 0 and 1')\n",
    "    for i in range(len(building_corpus)):\n",
    "        if type(building_corpus[i]) != str:\n",
    "            raise TypeError('Invalid input inside building_corpus:',\n",
    "                            building_corpus[i])\n",
    "        building_corpus[i] = re.sub(\"[^A-Za-z0-9]+\", \" \", building_corpus[i])\n",
    "        building_corpus[i] = camel_case_split(building_corpus[i])\n",
    "        building_corpus[i] = building_corpus[i].lower().strip()\n",
    "    if name_column == None:\n",
    "        df_out = pd.DataFrame(columns=[\n",
    "            'Input Feature Desc', 'Recommended Input Attribute Description',\n",
    "            'Input Attribute Similarity Score'\n",
    "        ])\n",
    "    elif desc_column == None:\n",
    "        df_out = pd.DataFrame(columns=[\n",
    "            'Input Feature Desc', 'Recommended Input Attribute Name',\n",
    "            'Input Attribute Similarity Score'\n",
    "        ])\n",
    "    else:\n",
    "        df_out = pd.DataFrame(columns=[\n",
    "            'Input Feature Desc', 'Recommended Input Attribute Name',\n",
    "            'Recommended Input Attribute Description',\n",
    "            'Input Attribute Similarity Score'\n",
    "        ])\n",
    "    list_user, df_user = recommendation_data_prep(df, name_column, desc_column)\n",
    "    list_embedding_user = model.encode(list_user, convert_to_tensor=True)\n",
    "    list_embedding_building = model.encode(building_corpus,\n",
    "                                           convert_to_tensor=True)\n",
    "    for i, feature in enumerate(building_corpus):\n",
    "        if name_column == None:\n",
    "            df_append = pd.DataFrame(columns=[\n",
    "                'Input Feature Desc',\n",
    "                'Recommended Input Attribute Description',\n",
    "                'Input Attribute Similarity Score'\n",
    "            ])\n",
    "        elif desc_column == None:\n",
    "            df_append = pd.DataFrame(columns=[\n",
    "                'Input Feature Desc', 'Recommended Input Attribute Name',\n",
    "                'Input Attribute Similarity Score'\n",
    "            ])\n",
    "        else:\n",
    "            df_append = pd.DataFrame(columns=[\n",
    "                'Input Feature Desc', 'Recommended Input Attribute Name',\n",
    "                'Recommended Input Attribute Description',\n",
    "                'Input Attribute Similarity Score'\n",
    "            ])\n",
    "        cos_scores = util.pytorch_cos_sim(list_embedding_building,\n",
    "                                          list_embedding_user)[i]\n",
    "        top_results = np.argpartition(-cos_scores,\n",
    "                                      range(len(list_user)))[0:len(list_user)]\n",
    "        for idx in top_results[0:len(list_user)]:\n",
    "            single_score = \"%.4f\" % (cos_scores[idx])\n",
    "            if float(single_score) >= threshold:\n",
    "                if name_column == None:\n",
    "                    df_append = df_append.append(\n",
    "                        {\n",
    "                            'Input Feature Desc':\n",
    "                            feature,\n",
    "                            'Recommended Input Attribute Description':\n",
    "                            df_user[desc_column].iloc[int(idx)],\n",
    "                            'Input Attribute Similarity Score':\n",
    "                            single_score\n",
    "                        },\n",
    "                        ignore_index=True)\n",
    "                elif desc_column == None:\n",
    "                    df_append = df_append.append(\n",
    "                        {\n",
    "                            'Input Feature Desc':\n",
    "                            feature,\n",
    "                            'Recommended Input Attribute Name':\n",
    "                            df_user[name_column].iloc[int(idx)],\n",
    "                            'Input Attribute Similarity Score':\n",
    "                            single_score\n",
    "                        },\n",
    "                        ignore_index=True)\n",
    "                else:\n",
    "                    df_append = df_append.append(\n",
    "                        {\n",
    "                            'Input Feature Desc':\n",
    "                            feature,\n",
    "                            'Recommended Input Attribute Name':\n",
    "                            df_user[name_column].iloc[int(idx)],\n",
    "                            'Recommended Input Attribute Description':\n",
    "                            df_user[desc_column].iloc[int(idx)],\n",
    "                            'Input Attribute Similarity Score':\n",
    "                            single_score\n",
    "                        },\n",
    "                        ignore_index=True)\n",
    "        if len(df_append) == 0:\n",
    "            if name_column == None:\n",
    "                df_append = df_append.append(\n",
    "                    {\n",
    "                        'Input Feature Desc': feature,\n",
    "                        'Recommended Input Attribute Description': 'Null',\n",
    "                        'Input Attribute Similarity Score': 'Null'\n",
    "                    },\n",
    "                    ignore_index=True)\n",
    "            elif desc_column == None:\n",
    "                df_append = df_append.append(\n",
    "                    {\n",
    "                        'Input Feature Desc': feature,\n",
    "                        'Recommended Input Attribute Name': 'Null',\n",
    "                        'Input Attribute Similarity Score': 'Null'\n",
    "                    },\n",
    "                    ignore_index=True)\n",
    "            else:\n",
    "                df_append = df_append.append(\n",
    "                    {\n",
    "                        'Input Feature Desc': feature,\n",
    "                        'Recommended Input Attribute Name': 'Null',\n",
    "                        'Recommended Input Attribute Description': 'Null',\n",
    "                        'Input Attribute Similarity Score': 'Null'\n",
    "                    },\n",
    "                    ignore_index=True)\n",
    "        df_out = df_out.append(df_append, ignore_index=True)\n",
    "    return df_out\n",
    "\n",
    "\n",
    "def sankey_visualization(df, industry_included=False, usecase_included=False):\n",
    "    \"\"\"\n",
    "    :param df: Input DataFrame. This DataFrame needs to be feature_recommender or find_attr_by_relevance output, or in the same format.\n",
    "    :param industry_included: Whether the plot needs to include industry mapping or not (boolean). Default is False\n",
    "    :param usecase_included: Whether the plot needs to include usecase mapping or not (boolean). Default is False\n",
    "    :return: Sankey plot\n",
    "    \"\"\"\n",
    "    fr_proper_col_list = [\n",
    "        'Recommended Feature Name', 'Recommended Feature Description',\n",
    "        'Feature Similarity Score', 'Industry', 'Usecase', 'Source'\n",
    "    ]\n",
    "    attr_proper_col_list = [\n",
    "        'Input Feature Desc', 'Input Attribute Similarity Score'\n",
    "    ]\n",
    "    if not isinstance(df, pd.DataFrame):\n",
    "        raise TypeError('Invalid input for df')\n",
    "    if not all(x in list(df.columns) for x in fr_proper_col_list) and not all(\n",
    "            x in list(df.columns) for x in attr_proper_col_list):\n",
    "        raise TypeError(\n",
    "            'df is not output DataFrame of Feature Recommendation functions')\n",
    "    if type(industry_included) != bool:\n",
    "        raise TypeError('Invalid input for industry_included')\n",
    "    if type(usecase_included) != bool:\n",
    "        raise TypeError('Invalid input for usecase_included')\n",
    "    if 'Feature Similarity Score' in df.columns:\n",
    "        if 'Input Attribute Name' in df.columns:\n",
    "            name_source = 'Input Attribute Name'\n",
    "        else:\n",
    "            name_source = 'Input Attribute Description'\n",
    "        name_target = 'Recommended Feature Name'\n",
    "        name_score = 'Feature Similarity Score'\n",
    "    else:\n",
    "        name_source = 'Input Feature Desc'\n",
    "        if 'Recommended Input Attribute Name' in df.columns:\n",
    "            name_target = 'Recommended Input Attribute Name'\n",
    "        else:\n",
    "            name_target = 'Recommender Input Attribute Description'\n",
    "        name_score = 'Input Attribute Similarity Score'\n",
    "        if industry_included != False or usecase_included != False:\n",
    "            print(\n",
    "                'Input is find_attr_by_relevance output DataFrame. There is no suggested Industry and/or Usecase.'\n",
    "            )\n",
    "        industry_included = False\n",
    "        usecase_included = False\n",
    "    industry_target = 'Industry'\n",
    "    usecase_target = 'Usecase'\n",
    "    df_iter = copy.deepcopy(df)\n",
    "    for i in range(len(df_iter)):\n",
    "        if str(df_iter[name_score][i]) == 'Null':\n",
    "            df = df.drop([i])\n",
    "    df = df.reset_index(drop=True)\n",
    "    source = []\n",
    "    target = []\n",
    "    value = []\n",
    "    if industry_included == False and usecase_included == False:\n",
    "        source_list = df[name_source].unique().tolist()\n",
    "        target_list = df[name_target].unique().tolist()\n",
    "        label = source_list + target_list\n",
    "        for i in range(len(df)):\n",
    "            source.append(label.index(str(df[name_source][i])))\n",
    "            target.append(label.index(str(df[name_target][i])))\n",
    "            value.append(float(df[name_score][i]))\n",
    "    elif industry_included == False and usecase_included != False:\n",
    "        source_list = df[name_source].unique().tolist()\n",
    "        target_list = df[name_target].unique().tolist()\n",
    "        raw_usecase_list = df[usecase_target].unique().tolist()\n",
    "        usecase_list = []\n",
    "        for i, item in enumerate(raw_usecase_list):\n",
    "            if ', ' in raw_usecase_list[i]:\n",
    "                raw_usecase_list[i] = raw_usecase_list[i].split(', ')\n",
    "                for j, sub_item in enumerate(raw_usecase_list[i]):\n",
    "                    usecase_list.append(sub_item)\n",
    "            else:\n",
    "                usecase_list.append(item)\n",
    "        label = source_list + target_list + usecase_list\n",
    "        for i in range(len(df)):\n",
    "            source.append(label.index(str(df[name_source][i])))\n",
    "            target.append(label.index(str(df[name_target][i])))\n",
    "            value.append(float(df[name_score][i]))\n",
    "            temp_list = df[usecase_target][i].split(', ')\n",
    "            for k, item in enumerate(temp_list):\n",
    "                source.append(label.index(str(df[name_target][i])))\n",
    "                target.append(label.index(str(item)))\n",
    "                value.append(float(1))\n",
    "    elif industry_included != False and usecase_included == False:\n",
    "        source_list = df[name_source].unique().tolist()\n",
    "        target_list = df[name_target].unique().tolist()\n",
    "        raw_industry_list = df[industry_target].unique().tolist()\n",
    "        industry_list = []\n",
    "        for i, item in enumerate(raw_industry_list):\n",
    "            if ', ' in raw_industry_list[i]:\n",
    "                raw_industry_list[i] = raw_industry_list[i].split(', ')\n",
    "                for j, sub_item in enumerate(raw_industry_list[i]):\n",
    "                    industry_list.append(sub_item)\n",
    "            else:\n",
    "                industry_list.append(item)\n",
    "        label = source_list + target_list + industry_list\n",
    "        for i in range(len(df)):\n",
    "            source.append(label.index(str(df[name_source][i])))\n",
    "            target.append(label.index(str(df[name_target][i])))\n",
    "            value.append(float(df[name_score][i]))\n",
    "            temp_list = df[industry_target][i].split(', ')\n",
    "            for k, item in enumerate(temp_list):\n",
    "                source.append(label.index(str(df[name_target][i])))\n",
    "                target.append(label.index(str(item)))\n",
    "                value.append(float(1))\n",
    "    else:\n",
    "        source_list = df[name_source].unique().tolist()\n",
    "        target_list = df[name_target].unique().tolist()\n",
    "        raw_industry_list = df[industry_target].unique().tolist()\n",
    "        raw_usecase_list = df[usecase_target].unique().tolist()\n",
    "        industry_list = []\n",
    "        for i, item in enumerate(raw_industry_list):\n",
    "            if ', ' in raw_industry_list[i]:\n",
    "                raw_industry_list[i] = raw_industry_list[i].split(', ')\n",
    "                for j, sub_item in enumerate(raw_industry_list[i]):\n",
    "                    industry_list.append(sub_item)\n",
    "            else:\n",
    "                industry_list.append(item)\n",
    "\n",
    "        usecase_list = []\n",
    "        for i, item in enumerate(raw_usecase_list):\n",
    "            if ', ' in raw_usecase_list[i]:\n",
    "                raw_usecase_list[i] = raw_usecase_list[i].split(', ')\n",
    "                for j, sub_item in enumerate(raw_usecase_list[i]):\n",
    "                    usecase_list.append(sub_item)\n",
    "            else:\n",
    "                usecase_list.append(item)\n",
    "\n",
    "        label = source_list + target_list + industry_list + usecase_list\n",
    "        for i in range(len(df)):\n",
    "            source.append(label.index(str(df[name_source][i])))\n",
    "            target.append(label.index(str(df[name_target][i])))\n",
    "            value.append(float(df[name_score][i]))\n",
    "            temp_list_industry = df[industry_target][i].split(', ')\n",
    "            temp_list_usecase = df[usecase_target][i].split(', ')\n",
    "            for k, item_industry in enumerate(temp_list_industry):\n",
    "                source.append(label.index(str(df[name_target][i])))\n",
    "                target.append(label.index(str(item_industry)))\n",
    "                value.append(float(1))\n",
    "                for j, item_usecase in enumerate(temp_list_usecase):\n",
    "                    if item_usecase in list_usecase_by_industry(\n",
    "                            item_industry)['Usecase'].tolist():\n",
    "                        source.append(label.index(str(item_industry)))\n",
    "                        target.append(label.index(str(item_usecase)))\n",
    "                        value.append(float(1))\n",
    "    line_color = [\n",
    "        \"#\" + ''.join([random.choice('0123456789ABCDEF') for j in range(6)])\n",
    "        for k in range(len(value))\n",
    "    ]\n",
    "    label_color = [\n",
    "        \"#\" + ''.join([random.choice('0123456789ABCDEF') for e in range(6)])\n",
    "        for f in range(len(label))\n",
    "    ]\n",
    "    fig = go.Figure(data=[\n",
    "        go.Sankey(node=dict(pad=15,\n",
    "                            thickness=20,\n",
    "                            line=dict(color=line_color, width=0.5),\n",
    "                            label=label,\n",
    "                            color=label_color),\n",
    "                  link=dict(source=source, target=target, value=value))\n",
    "    ])\n",
    "    fig.update_layout(title_text=\"Feature Recommendation Sankey Visualization\",\n",
    "                      font_size=10)\n",
    "    return fig"
   ]
  },
  {
   "cell_type": "markdown",
   "id": "00cbd58a",
   "metadata": {},
   "source": [
    "## Feature Exploration\n",
    "\n",
    "Feature Exploration is the first part of Feature Recommender. It is to help users explore existing features on their cold-start problems"
   ]
  },
  {
   "cell_type": "markdown",
   "id": "5b647949",
   "metadata": {},
   "source": [
    "### list_all_industry( )\n",
    "Argument: None\n",
    "\n",
    "This function lists down all the Industries that are supported in Feature Recommender package."
   ]
  },
  {
   "cell_type": "code",
   "execution_count": 3,
   "id": "0e401aa3",
   "metadata": {},
   "outputs": [
    {
     "data": {
      "text/html": [
       "<div>\n",
       "<style scoped>\n",
       "    .dataframe tbody tr th:only-of-type {\n",
       "        vertical-align: middle;\n",
       "    }\n",
       "\n",
       "    .dataframe tbody tr th {\n",
       "        vertical-align: top;\n",
       "    }\n",
       "\n",
       "    .dataframe thead th {\n",
       "        text-align: right;\n",
       "    }\n",
       "</style>\n",
       "<table border=\"1\" class=\"dataframe\">\n",
       "  <thead>\n",
       "    <tr style=\"text-align: right;\">\n",
       "      <th></th>\n",
       "      <th>Industry</th>\n",
       "    </tr>\n",
       "  </thead>\n",
       "  <tbody>\n",
       "    <tr>\n",
       "      <th>0</th>\n",
       "      <td>gaming</td>\n",
       "    </tr>\n",
       "    <tr>\n",
       "      <th>1</th>\n",
       "      <td>retail</td>\n",
       "    </tr>\n",
       "    <tr>\n",
       "      <th>2</th>\n",
       "      <td>banking financial service and insurance</td>\n",
       "    </tr>\n",
       "    <tr>\n",
       "      <th>3</th>\n",
       "      <td>telecommunication</td>\n",
       "    </tr>\n",
       "    <tr>\n",
       "      <th>4</th>\n",
       "      <td>healthcare</td>\n",
       "    </tr>\n",
       "    <tr>\n",
       "      <th>5</th>\n",
       "      <td>transportation</td>\n",
       "    </tr>\n",
       "    <tr>\n",
       "      <th>6</th>\n",
       "      <td>supply chain</td>\n",
       "    </tr>\n",
       "  </tbody>\n",
       "</table>\n",
       "</div>"
      ],
      "text/plain": [
       "                                  Industry\n",
       "0                                   gaming\n",
       "1                                   retail\n",
       "2  banking financial service and insurance\n",
       "3                        telecommunication\n",
       "4                               healthcare\n",
       "5                           transportation\n",
       "6                             supply chain"
      ]
     },
     "execution_count": 3,
     "metadata": {},
     "output_type": "execute_result"
    }
   ],
   "source": [
    "list_all_industry()"
   ]
  },
  {
   "cell_type": "markdown",
   "id": "5d2de705",
   "metadata": {},
   "source": [
    "### list_all_usecase( )\n",
    "Argument: None\n",
    "\n",
    "This function lists down all the Use cases that are supported in Feature Recommender Package"
   ]
  },
  {
   "cell_type": "code",
   "execution_count": 4,
   "id": "619604a2",
   "metadata": {},
   "outputs": [
    {
     "data": {
      "text/html": [
       "<div>\n",
       "<style scoped>\n",
       "    .dataframe tbody tr th:only-of-type {\n",
       "        vertical-align: middle;\n",
       "    }\n",
       "\n",
       "    .dataframe tbody tr th {\n",
       "        vertical-align: top;\n",
       "    }\n",
       "\n",
       "    .dataframe thead th {\n",
       "        text-align: right;\n",
       "    }\n",
       "</style>\n",
       "<table border=\"1\" class=\"dataframe\">\n",
       "  <thead>\n",
       "    <tr style=\"text-align: right;\">\n",
       "      <th></th>\n",
       "      <th>Usecase</th>\n",
       "    </tr>\n",
       "  </thead>\n",
       "  <tbody>\n",
       "    <tr>\n",
       "      <th>0</th>\n",
       "      <td>customer churn prediction</td>\n",
       "    </tr>\n",
       "    <tr>\n",
       "      <th>1</th>\n",
       "      <td>delinquency prediction</td>\n",
       "    </tr>\n",
       "    <tr>\n",
       "      <th>2</th>\n",
       "      <td>gender prediction using voice</td>\n",
       "    </tr>\n",
       "    <tr>\n",
       "      <th>3</th>\n",
       "      <td>mobile data speed prediction</td>\n",
       "    </tr>\n",
       "    <tr>\n",
       "      <th>4</th>\n",
       "      <td>customer segmentation</td>\n",
       "    </tr>\n",
       "    <tr>\n",
       "      <th>5</th>\n",
       "      <td>fraud detection</td>\n",
       "    </tr>\n",
       "    <tr>\n",
       "      <th>6</th>\n",
       "      <td>network traffic analysis and prediction</td>\n",
       "    </tr>\n",
       "    <tr>\n",
       "      <th>7</th>\n",
       "      <td>personality prediction</td>\n",
       "    </tr>\n",
       "    <tr>\n",
       "      <th>8</th>\n",
       "      <td>sim swap detection</td>\n",
       "    </tr>\n",
       "    <tr>\n",
       "      <th>9</th>\n",
       "      <td>malware detection</td>\n",
       "    </tr>\n",
       "    <tr>\n",
       "      <th>10</th>\n",
       "      <td>telco-based credit scoring</td>\n",
       "    </tr>\n",
       "    <tr>\n",
       "      <th>11</th>\n",
       "      <td>transportation model detection</td>\n",
       "    </tr>\n",
       "    <tr>\n",
       "      <th>12</th>\n",
       "      <td>financial statement fraud detection</td>\n",
       "    </tr>\n",
       "    <tr>\n",
       "      <th>13</th>\n",
       "      <td>stock price prediction</td>\n",
       "    </tr>\n",
       "    <tr>\n",
       "      <th>14</th>\n",
       "      <td>recommender system</td>\n",
       "    </tr>\n",
       "    <tr>\n",
       "      <th>15</th>\n",
       "      <td>credit risk modeling</td>\n",
       "    </tr>\n",
       "    <tr>\n",
       "      <th>16</th>\n",
       "      <td>customer lifetime value prediction</td>\n",
       "    </tr>\n",
       "    <tr>\n",
       "      <th>17</th>\n",
       "      <td>sales prediction</td>\n",
       "    </tr>\n",
       "    <tr>\n",
       "      <th>18</th>\n",
       "      <td>income prediction</td>\n",
       "    </tr>\n",
       "    <tr>\n",
       "      <th>19</th>\n",
       "      <td>purchase prediction</td>\n",
       "    </tr>\n",
       "    <tr>\n",
       "      <th>20</th>\n",
       "      <td>cancer prediction</td>\n",
       "    </tr>\n",
       "    <tr>\n",
       "      <th>21</th>\n",
       "      <td>patient forecast</td>\n",
       "    </tr>\n",
       "    <tr>\n",
       "      <th>22</th>\n",
       "      <td>patient churn</td>\n",
       "    </tr>\n",
       "    <tr>\n",
       "      <th>23</th>\n",
       "      <td>length of stay prediction</td>\n",
       "    </tr>\n",
       "    <tr>\n",
       "      <th>24</th>\n",
       "      <td>stroke prediction</td>\n",
       "    </tr>\n",
       "    <tr>\n",
       "      <th>25</th>\n",
       "      <td>heart disease prediction</td>\n",
       "    </tr>\n",
       "    <tr>\n",
       "      <th>26</th>\n",
       "      <td>age and gender prediction</td>\n",
       "    </tr>\n",
       "    <tr>\n",
       "      <th>27</th>\n",
       "      <td>brand affinity and propensity</td>\n",
       "    </tr>\n",
       "    <tr>\n",
       "      <th>28</th>\n",
       "      <td>high value customer acquisition</td>\n",
       "    </tr>\n",
       "    <tr>\n",
       "      <th>29</th>\n",
       "      <td>credit scoring using mobile engagement data</td>\n",
       "    </tr>\n",
       "    <tr>\n",
       "      <th>30</th>\n",
       "      <td>user mobility</td>\n",
       "    </tr>\n",
       "    <tr>\n",
       "      <th>31</th>\n",
       "      <td>subcription type prediction</td>\n",
       "    </tr>\n",
       "  </tbody>\n",
       "</table>\n",
       "</div>"
      ],
      "text/plain": [
       "                                        Usecase\n",
       "0                     customer churn prediction\n",
       "1                        delinquency prediction\n",
       "2                 gender prediction using voice\n",
       "3                  mobile data speed prediction\n",
       "4                         customer segmentation\n",
       "5                               fraud detection\n",
       "6       network traffic analysis and prediction\n",
       "7                        personality prediction\n",
       "8                            sim swap detection\n",
       "9                             malware detection\n",
       "10                   telco-based credit scoring\n",
       "11               transportation model detection\n",
       "12          financial statement fraud detection\n",
       "13                       stock price prediction\n",
       "14                           recommender system\n",
       "15                         credit risk modeling\n",
       "16           customer lifetime value prediction\n",
       "17                             sales prediction\n",
       "18                            income prediction\n",
       "19                          purchase prediction\n",
       "20                            cancer prediction\n",
       "21                             patient forecast\n",
       "22                                patient churn\n",
       "23                    length of stay prediction\n",
       "24                            stroke prediction\n",
       "25                     heart disease prediction\n",
       "26                    age and gender prediction\n",
       "27                brand affinity and propensity\n",
       "28              high value customer acquisition\n",
       "29  credit scoring using mobile engagement data\n",
       "30                                user mobility\n",
       "31                  subcription type prediction"
      ]
     },
     "execution_count": 4,
     "metadata": {},
     "output_type": "execute_result"
    }
   ],
   "source": [
    "list_all_usecase()"
   ]
  },
  {
   "cell_type": "markdown",
   "id": "969d72c6",
   "metadata": {},
   "source": [
    "### list_all_pair( )\n",
    "Argument: None\n",
    "\n",
    "This function lists down all the Industry/Use case pairs that are supported in Feature Recommender Package"
   ]
  },
  {
   "cell_type": "code",
   "execution_count": 5,
   "id": "9288507e",
   "metadata": {},
   "outputs": [
    {
     "data": {
      "text/html": [
       "<div>\n",
       "<style scoped>\n",
       "    .dataframe tbody tr th:only-of-type {\n",
       "        vertical-align: middle;\n",
       "    }\n",
       "\n",
       "    .dataframe tbody tr th {\n",
       "        vertical-align: top;\n",
       "    }\n",
       "\n",
       "    .dataframe thead th {\n",
       "        text-align: right;\n",
       "    }\n",
       "</style>\n",
       "<table border=\"1\" class=\"dataframe\">\n",
       "  <thead>\n",
       "    <tr style=\"text-align: right;\">\n",
       "      <th></th>\n",
       "      <th>Industry</th>\n",
       "      <th>Usecase</th>\n",
       "    </tr>\n",
       "  </thead>\n",
       "  <tbody>\n",
       "    <tr>\n",
       "      <th>0</th>\n",
       "      <td>gaming</td>\n",
       "      <td>customer churn prediction</td>\n",
       "    </tr>\n",
       "    <tr>\n",
       "      <th>1</th>\n",
       "      <td>retail</td>\n",
       "      <td>customer churn prediction</td>\n",
       "    </tr>\n",
       "    <tr>\n",
       "      <th>2</th>\n",
       "      <td>banking financial service and insurance</td>\n",
       "      <td>customer churn prediction</td>\n",
       "    </tr>\n",
       "    <tr>\n",
       "      <th>3</th>\n",
       "      <td>telecommunication</td>\n",
       "      <td>customer churn prediction</td>\n",
       "    </tr>\n",
       "    <tr>\n",
       "      <th>4</th>\n",
       "      <td>telecommunication</td>\n",
       "      <td>delinquency prediction</td>\n",
       "    </tr>\n",
       "    <tr>\n",
       "      <th>5</th>\n",
       "      <td>telecommunication</td>\n",
       "      <td>gender prediction using voice</td>\n",
       "    </tr>\n",
       "    <tr>\n",
       "      <th>6</th>\n",
       "      <td>telecommunication</td>\n",
       "      <td>mobile data speed prediction</td>\n",
       "    </tr>\n",
       "    <tr>\n",
       "      <th>7</th>\n",
       "      <td>retail</td>\n",
       "      <td>customer segmentation</td>\n",
       "    </tr>\n",
       "    <tr>\n",
       "      <th>8</th>\n",
       "      <td>banking financial service and insurance</td>\n",
       "      <td>customer segmentation</td>\n",
       "    </tr>\n",
       "    <tr>\n",
       "      <th>9</th>\n",
       "      <td>telecommunication</td>\n",
       "      <td>customer segmentation</td>\n",
       "    </tr>\n",
       "    <tr>\n",
       "      <th>10</th>\n",
       "      <td>healthcare</td>\n",
       "      <td>fraud detection</td>\n",
       "    </tr>\n",
       "    <tr>\n",
       "      <th>11</th>\n",
       "      <td>banking financial service and insurance</td>\n",
       "      <td>fraud detection</td>\n",
       "    </tr>\n",
       "    <tr>\n",
       "      <th>12</th>\n",
       "      <td>telecommunication</td>\n",
       "      <td>fraud detection</td>\n",
       "    </tr>\n",
       "    <tr>\n",
       "      <th>13</th>\n",
       "      <td>telecommunication</td>\n",
       "      <td>network traffic analysis and prediction</td>\n",
       "    </tr>\n",
       "    <tr>\n",
       "      <th>14</th>\n",
       "      <td>telecommunication</td>\n",
       "      <td>personality prediction</td>\n",
       "    </tr>\n",
       "    <tr>\n",
       "      <th>15</th>\n",
       "      <td>telecommunication</td>\n",
       "      <td>sim swap detection</td>\n",
       "    </tr>\n",
       "    <tr>\n",
       "      <th>16</th>\n",
       "      <td>telecommunication</td>\n",
       "      <td>malware detection</td>\n",
       "    </tr>\n",
       "    <tr>\n",
       "      <th>17</th>\n",
       "      <td>telecommunication</td>\n",
       "      <td>telco-based credit scoring</td>\n",
       "    </tr>\n",
       "    <tr>\n",
       "      <th>18</th>\n",
       "      <td>telecommunication</td>\n",
       "      <td>transportation model detection</td>\n",
       "    </tr>\n",
       "    <tr>\n",
       "      <th>19</th>\n",
       "      <td>banking financial service and insurance</td>\n",
       "      <td>financial statement fraud detection</td>\n",
       "    </tr>\n",
       "    <tr>\n",
       "      <th>20</th>\n",
       "      <td>banking financial service and insurance</td>\n",
       "      <td>stock price prediction</td>\n",
       "    </tr>\n",
       "    <tr>\n",
       "      <th>21</th>\n",
       "      <td>banking financial service and insurance</td>\n",
       "      <td>recommender system</td>\n",
       "    </tr>\n",
       "    <tr>\n",
       "      <th>22</th>\n",
       "      <td>banking financial service and insurance</td>\n",
       "      <td>credit risk modeling</td>\n",
       "    </tr>\n",
       "    <tr>\n",
       "      <th>23</th>\n",
       "      <td>retail</td>\n",
       "      <td>customer lifetime value prediction</td>\n",
       "    </tr>\n",
       "    <tr>\n",
       "      <th>24</th>\n",
       "      <td>banking financial service and insurance</td>\n",
       "      <td>customer lifetime value prediction</td>\n",
       "    </tr>\n",
       "    <tr>\n",
       "      <th>25</th>\n",
       "      <td>retail</td>\n",
       "      <td>sales prediction</td>\n",
       "    </tr>\n",
       "    <tr>\n",
       "      <th>26</th>\n",
       "      <td>retail</td>\n",
       "      <td>income prediction</td>\n",
       "    </tr>\n",
       "    <tr>\n",
       "      <th>27</th>\n",
       "      <td>retail</td>\n",
       "      <td>purchase prediction</td>\n",
       "    </tr>\n",
       "    <tr>\n",
       "      <th>28</th>\n",
       "      <td>healthcare</td>\n",
       "      <td>cancer prediction</td>\n",
       "    </tr>\n",
       "    <tr>\n",
       "      <th>29</th>\n",
       "      <td>healthcare</td>\n",
       "      <td>patient forecast</td>\n",
       "    </tr>\n",
       "    <tr>\n",
       "      <th>30</th>\n",
       "      <td>healthcare</td>\n",
       "      <td>patient churn</td>\n",
       "    </tr>\n",
       "    <tr>\n",
       "      <th>31</th>\n",
       "      <td>healthcare</td>\n",
       "      <td>length of stay prediction</td>\n",
       "    </tr>\n",
       "    <tr>\n",
       "      <th>32</th>\n",
       "      <td>healthcare</td>\n",
       "      <td>stroke prediction</td>\n",
       "    </tr>\n",
       "    <tr>\n",
       "      <th>33</th>\n",
       "      <td>healthcare</td>\n",
       "      <td>heart disease prediction</td>\n",
       "    </tr>\n",
       "    <tr>\n",
       "      <th>34</th>\n",
       "      <td>transportation</td>\n",
       "      <td>age and gender prediction</td>\n",
       "    </tr>\n",
       "    <tr>\n",
       "      <th>35</th>\n",
       "      <td>retail</td>\n",
       "      <td>age and gender prediction</td>\n",
       "    </tr>\n",
       "    <tr>\n",
       "      <th>36</th>\n",
       "      <td>banking financial service and insurance</td>\n",
       "      <td>age and gender prediction</td>\n",
       "    </tr>\n",
       "    <tr>\n",
       "      <th>37</th>\n",
       "      <td>telecommunication</td>\n",
       "      <td>age and gender prediction</td>\n",
       "    </tr>\n",
       "    <tr>\n",
       "      <th>38</th>\n",
       "      <td>retail</td>\n",
       "      <td>brand affinity and propensity</td>\n",
       "    </tr>\n",
       "    <tr>\n",
       "      <th>39</th>\n",
       "      <td>transportation</td>\n",
       "      <td>high value customer acquisition</td>\n",
       "    </tr>\n",
       "    <tr>\n",
       "      <th>40</th>\n",
       "      <td>banking financial service and insurance</td>\n",
       "      <td>credit scoring using mobile engagement data</td>\n",
       "    </tr>\n",
       "    <tr>\n",
       "      <th>41</th>\n",
       "      <td>transportation</td>\n",
       "      <td>user mobility</td>\n",
       "    </tr>\n",
       "    <tr>\n",
       "      <th>42</th>\n",
       "      <td>supply chain</td>\n",
       "      <td>user mobility</td>\n",
       "    </tr>\n",
       "    <tr>\n",
       "      <th>43</th>\n",
       "      <td>telecommunication</td>\n",
       "      <td>subcription type prediction</td>\n",
       "    </tr>\n",
       "  </tbody>\n",
       "</table>\n",
       "</div>"
      ],
      "text/plain": [
       "                                   Industry  \\\n",
       "0                                    gaming   \n",
       "1                                    retail   \n",
       "2   banking financial service and insurance   \n",
       "3                         telecommunication   \n",
       "4                         telecommunication   \n",
       "5                         telecommunication   \n",
       "6                         telecommunication   \n",
       "7                                    retail   \n",
       "8   banking financial service and insurance   \n",
       "9                         telecommunication   \n",
       "10                               healthcare   \n",
       "11  banking financial service and insurance   \n",
       "12                        telecommunication   \n",
       "13                        telecommunication   \n",
       "14                        telecommunication   \n",
       "15                        telecommunication   \n",
       "16                        telecommunication   \n",
       "17                        telecommunication   \n",
       "18                        telecommunication   \n",
       "19  banking financial service and insurance   \n",
       "20  banking financial service and insurance   \n",
       "21  banking financial service and insurance   \n",
       "22  banking financial service and insurance   \n",
       "23                                   retail   \n",
       "24  banking financial service and insurance   \n",
       "25                                   retail   \n",
       "26                                   retail   \n",
       "27                                   retail   \n",
       "28                               healthcare   \n",
       "29                               healthcare   \n",
       "30                               healthcare   \n",
       "31                               healthcare   \n",
       "32                               healthcare   \n",
       "33                               healthcare   \n",
       "34                           transportation   \n",
       "35                                   retail   \n",
       "36  banking financial service and insurance   \n",
       "37                        telecommunication   \n",
       "38                                   retail   \n",
       "39                           transportation   \n",
       "40  banking financial service and insurance   \n",
       "41                           transportation   \n",
       "42                             supply chain   \n",
       "43                        telecommunication   \n",
       "\n",
       "                                        Usecase  \n",
       "0                     customer churn prediction  \n",
       "1                     customer churn prediction  \n",
       "2                     customer churn prediction  \n",
       "3                     customer churn prediction  \n",
       "4                        delinquency prediction  \n",
       "5                 gender prediction using voice  \n",
       "6                  mobile data speed prediction  \n",
       "7                         customer segmentation  \n",
       "8                         customer segmentation  \n",
       "9                         customer segmentation  \n",
       "10                              fraud detection  \n",
       "11                              fraud detection  \n",
       "12                              fraud detection  \n",
       "13      network traffic analysis and prediction  \n",
       "14                       personality prediction  \n",
       "15                           sim swap detection  \n",
       "16                            malware detection  \n",
       "17                   telco-based credit scoring  \n",
       "18               transportation model detection  \n",
       "19          financial statement fraud detection  \n",
       "20                       stock price prediction  \n",
       "21                           recommender system  \n",
       "22                         credit risk modeling  \n",
       "23           customer lifetime value prediction  \n",
       "24           customer lifetime value prediction  \n",
       "25                             sales prediction  \n",
       "26                            income prediction  \n",
       "27                          purchase prediction  \n",
       "28                            cancer prediction  \n",
       "29                             patient forecast  \n",
       "30                                patient churn  \n",
       "31                    length of stay prediction  \n",
       "32                            stroke prediction  \n",
       "33                     heart disease prediction  \n",
       "34                    age and gender prediction  \n",
       "35                    age and gender prediction  \n",
       "36                    age and gender prediction  \n",
       "37                    age and gender prediction  \n",
       "38                brand affinity and propensity  \n",
       "39              high value customer acquisition  \n",
       "40  credit scoring using mobile engagement data  \n",
       "41                                user mobility  \n",
       "42                                user mobility  \n",
       "43                  subcription type prediction  "
      ]
     },
     "execution_count": 5,
     "metadata": {},
     "output_type": "execute_result"
    }
   ],
   "source": [
    "list_all_pair()"
   ]
  },
  {
   "cell_type": "markdown",
   "id": "3554c3ab",
   "metadata": {},
   "source": [
    "### list_usecase_by_industry(industry, semantic=True)\n",
    "Argument: \n",
    "- industry(string): Input industry from user\n",
    "- semantic(boolean): Whether the input needs to go through semantic matching or not. Default is `True`\n",
    "\n",
    "This function lists down all the Use cases that are supported in Feature Recommender Package based on the Input Industry"
   ]
  },
  {
   "cell_type": "markdown",
   "id": "05a38a59",
   "metadata": {},
   "source": [
    "From the output of list_allIndustry( ), we can see the list of available supported industries. Let's first try with `telco`"
   ]
  },
  {
   "cell_type": "code",
   "execution_count": 32,
   "id": "d6a40340",
   "metadata": {},
   "outputs": [
    {
     "name": "stdout",
     "output_type": "stream",
     "text": [
      "Input Industry not available. Showing the most semantically relevant Usecase result:  telecommunication\n"
     ]
    },
    {
     "data": {
      "text/html": [
       "<div>\n",
       "<style scoped>\n",
       "    .dataframe tbody tr th:only-of-type {\n",
       "        vertical-align: middle;\n",
       "    }\n",
       "\n",
       "    .dataframe tbody tr th {\n",
       "        vertical-align: top;\n",
       "    }\n",
       "\n",
       "    .dataframe thead th {\n",
       "        text-align: right;\n",
       "    }\n",
       "</style>\n",
       "<table border=\"1\" class=\"dataframe\">\n",
       "  <thead>\n",
       "    <tr style=\"text-align: right;\">\n",
       "      <th></th>\n",
       "      <th>Usecase</th>\n",
       "    </tr>\n",
       "  </thead>\n",
       "  <tbody>\n",
       "    <tr>\n",
       "      <th>0</th>\n",
       "      <td>customer churn prediction</td>\n",
       "    </tr>\n",
       "    <tr>\n",
       "      <th>1</th>\n",
       "      <td>delinquency prediction</td>\n",
       "    </tr>\n",
       "    <tr>\n",
       "      <th>2</th>\n",
       "      <td>gender prediction using voice</td>\n",
       "    </tr>\n",
       "    <tr>\n",
       "      <th>3</th>\n",
       "      <td>mobile data speed prediction</td>\n",
       "    </tr>\n",
       "    <tr>\n",
       "      <th>4</th>\n",
       "      <td>customer segmentation</td>\n",
       "    </tr>\n",
       "    <tr>\n",
       "      <th>5</th>\n",
       "      <td>fraud detection</td>\n",
       "    </tr>\n",
       "    <tr>\n",
       "      <th>6</th>\n",
       "      <td>network traffic analysis and prediction</td>\n",
       "    </tr>\n",
       "    <tr>\n",
       "      <th>7</th>\n",
       "      <td>personality prediction</td>\n",
       "    </tr>\n",
       "    <tr>\n",
       "      <th>8</th>\n",
       "      <td>sim swap detection</td>\n",
       "    </tr>\n",
       "    <tr>\n",
       "      <th>9</th>\n",
       "      <td>malware detection</td>\n",
       "    </tr>\n",
       "    <tr>\n",
       "      <th>10</th>\n",
       "      <td>telco-based credit scoring</td>\n",
       "    </tr>\n",
       "    <tr>\n",
       "      <th>11</th>\n",
       "      <td>transportation model detection</td>\n",
       "    </tr>\n",
       "    <tr>\n",
       "      <th>12</th>\n",
       "      <td>age and gender prediction</td>\n",
       "    </tr>\n",
       "    <tr>\n",
       "      <th>13</th>\n",
       "      <td>subcription type prediction</td>\n",
       "    </tr>\n",
       "  </tbody>\n",
       "</table>\n",
       "</div>"
      ],
      "text/plain": [
       "                                    Usecase\n",
       "0                 customer churn prediction\n",
       "1                    delinquency prediction\n",
       "2             gender prediction using voice\n",
       "3              mobile data speed prediction\n",
       "4                     customer segmentation\n",
       "5                           fraud detection\n",
       "6   network traffic analysis and prediction\n",
       "7                    personality prediction\n",
       "8                        sim swap detection\n",
       "9                         malware detection\n",
       "10               telco-based credit scoring\n",
       "11           transportation model detection\n",
       "12                age and gender prediction\n",
       "13              subcription type prediction"
      ]
     },
     "execution_count": 32,
     "metadata": {},
     "output_type": "execute_result"
    }
   ],
   "source": [
    "list_usecase_by_industry('telco')"
   ]
  },
  {
   "cell_type": "markdown",
   "id": "4b9ec0e3",
   "metadata": {},
   "source": [
    "Next, we will try with `logistics`, another common industry, but not available in Feature Recommender, with the semantic argument as `True` by default"
   ]
  },
  {
   "cell_type": "code",
   "execution_count": 7,
   "id": "22ee3b3d",
   "metadata": {},
   "outputs": [
    {
     "name": "stdout",
     "output_type": "stream",
     "text": [
      "Input Industry not available. Showing the most semantically relevant Usecase result:  supply chain\n"
     ]
    },
    {
     "data": {
      "text/html": [
       "<div>\n",
       "<style scoped>\n",
       "    .dataframe tbody tr th:only-of-type {\n",
       "        vertical-align: middle;\n",
       "    }\n",
       "\n",
       "    .dataframe tbody tr th {\n",
       "        vertical-align: top;\n",
       "    }\n",
       "\n",
       "    .dataframe thead th {\n",
       "        text-align: right;\n",
       "    }\n",
       "</style>\n",
       "<table border=\"1\" class=\"dataframe\">\n",
       "  <thead>\n",
       "    <tr style=\"text-align: right;\">\n",
       "      <th></th>\n",
       "      <th>Usecase</th>\n",
       "    </tr>\n",
       "  </thead>\n",
       "  <tbody>\n",
       "    <tr>\n",
       "      <th>0</th>\n",
       "      <td>user mobility</td>\n",
       "    </tr>\n",
       "  </tbody>\n",
       "</table>\n",
       "</div>"
      ],
      "text/plain": [
       "         Usecase\n",
       "0  user mobility"
      ]
     },
     "execution_count": 7,
     "metadata": {},
     "output_type": "execute_result"
    }
   ],
   "source": [
    "list_usecase_by_industry('logistics')"
   ]
  },
  {
   "cell_type": "markdown",
   "id": "5573ccef",
   "metadata": {},
   "source": [
    "We can see `logistics` is clearly not literal matched with any of our available Industries here. But with semantic matching, `logistics` is matched with `supply chain`, which is definitely a very close pair."
   ]
  },
  {
   "cell_type": "markdown",
   "id": "68ee3673",
   "metadata": {},
   "source": [
    "### list_industry_by_usecase(usecase, semantic=True)\n",
    "Argument: \n",
    "- usecase(string): Input usecase from user\n",
    "- semantic(boolean): Whether the input needs to go through semantic matching or not. Default is `True`\n",
    "\n",
    "This function lists down all the Use cases that are supported in Feature Recommender Package based on the Input Industry"
   ]
  },
  {
   "cell_type": "markdown",
   "id": "a4f642dc",
   "metadata": {},
   "source": [
    "From the output of list_allUsecase( ), we can see the list of available supported usecases. Let's first try with `fraud detection`"
   ]
  },
  {
   "cell_type": "code",
   "execution_count": 8,
   "id": "5ed13895",
   "metadata": {},
   "outputs": [
    {
     "data": {
      "text/html": [
       "<div>\n",
       "<style scoped>\n",
       "    .dataframe tbody tr th:only-of-type {\n",
       "        vertical-align: middle;\n",
       "    }\n",
       "\n",
       "    .dataframe tbody tr th {\n",
       "        vertical-align: top;\n",
       "    }\n",
       "\n",
       "    .dataframe thead th {\n",
       "        text-align: right;\n",
       "    }\n",
       "</style>\n",
       "<table border=\"1\" class=\"dataframe\">\n",
       "  <thead>\n",
       "    <tr style=\"text-align: right;\">\n",
       "      <th></th>\n",
       "      <th>Industry</th>\n",
       "    </tr>\n",
       "  </thead>\n",
       "  <tbody>\n",
       "    <tr>\n",
       "      <th>0</th>\n",
       "      <td>healthcare</td>\n",
       "    </tr>\n",
       "    <tr>\n",
       "      <th>1</th>\n",
       "      <td>banking financial service and insurance</td>\n",
       "    </tr>\n",
       "    <tr>\n",
       "      <th>2</th>\n",
       "      <td>telecommunication</td>\n",
       "    </tr>\n",
       "  </tbody>\n",
       "</table>\n",
       "</div>"
      ],
      "text/plain": [
       "                                  Industry\n",
       "0                               healthcare\n",
       "1  banking financial service and insurance\n",
       "2                        telecommunication"
      ]
     },
     "execution_count": 8,
     "metadata": {},
     "output_type": "execute_result"
    }
   ],
   "source": [
    "list_industry_by_usecase('fraud detection')"
   ]
  },
  {
   "cell_type": "markdown",
   "id": "6bd0be4d",
   "metadata": {},
   "source": [
    "Next, we will try with `demographic inference`, an use case that are not available in Feature Recommender. This time, first let's set semantic to `False`"
   ]
  },
  {
   "cell_type": "code",
   "execution_count": 9,
   "id": "5d6654da",
   "metadata": {},
   "outputs": [
    {
     "data": {
      "text/html": [
       "<div>\n",
       "<style scoped>\n",
       "    .dataframe tbody tr th:only-of-type {\n",
       "        vertical-align: middle;\n",
       "    }\n",
       "\n",
       "    .dataframe tbody tr th {\n",
       "        vertical-align: top;\n",
       "    }\n",
       "\n",
       "    .dataframe thead th {\n",
       "        text-align: right;\n",
       "    }\n",
       "</style>\n",
       "<table border=\"1\" class=\"dataframe\">\n",
       "  <thead>\n",
       "    <tr style=\"text-align: right;\">\n",
       "      <th></th>\n",
       "      <th>Industry</th>\n",
       "    </tr>\n",
       "  </thead>\n",
       "  <tbody>\n",
       "  </tbody>\n",
       "</table>\n",
       "</div>"
      ],
      "text/plain": [
       "Empty DataFrame\n",
       "Columns: [Industry]\n",
       "Index: []"
      ]
     },
     "execution_count": 9,
     "metadata": {},
     "output_type": "execute_result"
    }
   ],
   "source": [
    "list_industry_by_usecase('demographic inference', semantic=False)"
   ]
  },
  {
   "cell_type": "markdown",
   "id": "3bc73047",
   "metadata": {},
   "source": [
    "Without semantic matching, `demographic inference` is not literal matched to any supported use cases, therefore returns no result. Now we set semantic back to `True`"
   ]
  },
  {
   "cell_type": "code",
   "execution_count": 10,
   "id": "7d68751e",
   "metadata": {},
   "outputs": [
    {
     "name": "stdout",
     "output_type": "stream",
     "text": [
      "Input Usecase not available. Showing the most semantically relevant Usecase result:  age and gender prediction\n"
     ]
    },
    {
     "data": {
      "text/html": [
       "<div>\n",
       "<style scoped>\n",
       "    .dataframe tbody tr th:only-of-type {\n",
       "        vertical-align: middle;\n",
       "    }\n",
       "\n",
       "    .dataframe tbody tr th {\n",
       "        vertical-align: top;\n",
       "    }\n",
       "\n",
       "    .dataframe thead th {\n",
       "        text-align: right;\n",
       "    }\n",
       "</style>\n",
       "<table border=\"1\" class=\"dataframe\">\n",
       "  <thead>\n",
       "    <tr style=\"text-align: right;\">\n",
       "      <th></th>\n",
       "      <th>Industry</th>\n",
       "    </tr>\n",
       "  </thead>\n",
       "  <tbody>\n",
       "    <tr>\n",
       "      <th>0</th>\n",
       "      <td>transportation</td>\n",
       "    </tr>\n",
       "    <tr>\n",
       "      <th>1</th>\n",
       "      <td>retail</td>\n",
       "    </tr>\n",
       "    <tr>\n",
       "      <th>2</th>\n",
       "      <td>banking financial service and insurance</td>\n",
       "    </tr>\n",
       "    <tr>\n",
       "      <th>3</th>\n",
       "      <td>telecommunication</td>\n",
       "    </tr>\n",
       "  </tbody>\n",
       "</table>\n",
       "</div>"
      ],
      "text/plain": [
       "                                  Industry\n",
       "0                           transportation\n",
       "1                                   retail\n",
       "2  banking financial service and insurance\n",
       "3                        telecommunication"
      ]
     },
     "execution_count": 10,
     "metadata": {},
     "output_type": "execute_result"
    }
   ],
   "source": [
    "list_industry_by_usecase('demographic inference', semantic=True)"
   ]
  },
  {
   "cell_type": "markdown",
   "id": "3760b809",
   "metadata": {},
   "source": [
    "With semantic matching, `demographic inference` is matched to `age and gender prediction`, a very close pair as well."
   ]
  },
  {
   "cell_type": "markdown",
   "id": "8810e744",
   "metadata": {},
   "source": [
    "### list_feature_by_industry(industry, num_of_feat=100, semantic=True)\n",
    "Argument: \n",
    "- industry(string): Input industry from user\n",
    "- num_of_feat(int): Number of features displayed. Default is `100`\n",
    "- semantic(boolean): Whether the input needs to go through semantic matching or not. Default is `True`\n",
    "\n",
    "This function lists down all the Features that are available in Feature Recommender Package based on the Input Industry"
   ]
  },
  {
   "cell_type": "markdown",
   "id": "225fe020",
   "metadata": {},
   "source": [
    "The output is returned in the form of a DataFrame. Columns are:\n",
    "\n",
    "- Feature Name: Name of the suggested Feature\n",
    "- Feature Description: Description of the suggested Feature\n",
    "- Industry: Industry name of the suggested Feature\n",
    "- Usecase: Usecase name of the suggested Feature\n",
    "- Source: Source of the suggested Feature\n",
    "\n",
    "The list of features is sorted by the Usecases' Relevance to the Input Industry."
   ]
  },
  {
   "cell_type": "markdown",
   "id": "1f64c655",
   "metadata": {},
   "source": [
    "Let's try the function with `banking financial service and insurance` industry, with `num_of_feat` set to `10`, and see its output"
   ]
  },
  {
   "cell_type": "code",
   "execution_count": 11,
   "id": "23721ce2",
   "metadata": {},
   "outputs": [
    {
     "data": {
      "text/html": [
       "<div>\n",
       "<style scoped>\n",
       "    .dataframe tbody tr th:only-of-type {\n",
       "        vertical-align: middle;\n",
       "    }\n",
       "\n",
       "    .dataframe tbody tr th {\n",
       "        vertical-align: top;\n",
       "    }\n",
       "\n",
       "    .dataframe thead th {\n",
       "        text-align: right;\n",
       "    }\n",
       "</style>\n",
       "<table border=\"1\" class=\"dataframe\">\n",
       "  <thead>\n",
       "    <tr style=\"text-align: right;\">\n",
       "      <th></th>\n",
       "      <th>Feature Name</th>\n",
       "      <th>Feature Description</th>\n",
       "      <th>Industry</th>\n",
       "      <th>Usecase</th>\n",
       "      <th>Source</th>\n",
       "    </tr>\n",
       "  </thead>\n",
       "  <tbody>\n",
       "    <tr>\n",
       "      <th>0</th>\n",
       "      <td>payable turnover - days</td>\n",
       "      <td>Sales / (Accounts Payable/365)</td>\n",
       "      <td>banking financial service and insurance</td>\n",
       "      <td>credit risk modeling</td>\n",
       "      <td>https://www.researchgate.net/publication/31837...</td>\n",
       "    </tr>\n",
       "    <tr>\n",
       "      <th>1</th>\n",
       "      <td>monthly_household_cost</td>\n",
       "      <td>monthly cost of household</td>\n",
       "      <td>banking financial service and insurance</td>\n",
       "      <td>credit risk modeling</td>\n",
       "      <td>https://www.researchgate.net/publication/28587...</td>\n",
       "    </tr>\n",
       "    <tr>\n",
       "      <th>2</th>\n",
       "      <td>roa</td>\n",
       "      <td>return on assets</td>\n",
       "      <td>banking financial service and insurance</td>\n",
       "      <td>credit risk modeling</td>\n",
       "      <td>https://www.researchgate.net/publication/31837...</td>\n",
       "    </tr>\n",
       "    <tr>\n",
       "      <th>3</th>\n",
       "      <td>roe</td>\n",
       "      <td>return on equity</td>\n",
       "      <td>banking financial service and insurance</td>\n",
       "      <td>credit risk modeling</td>\n",
       "      <td>https://www.researchgate.net/publication/31837...</td>\n",
       "    </tr>\n",
       "    <tr>\n",
       "      <th>4</th>\n",
       "      <td>credit history</td>\n",
       "      <td>no credits taken/all credits paid back duly/ex...</td>\n",
       "      <td>banking financial service and insurance</td>\n",
       "      <td>credit risk modeling</td>\n",
       "      <td>https://www.researchgate.net/publication/31837...</td>\n",
       "    </tr>\n",
       "    <tr>\n",
       "      <th>5</th>\n",
       "      <td>no. annual payments</td>\n",
       "      <td>number of payments per year</td>\n",
       "      <td>banking financial service and insurance</td>\n",
       "      <td>credit risk modeling</td>\n",
       "      <td>https://www.researchgate.net/publication/28587...</td>\n",
       "    </tr>\n",
       "    <tr>\n",
       "      <th>6</th>\n",
       "      <td>loans_defaulted</td>\n",
       "      <td>loans defaulted or delinquent</td>\n",
       "      <td>banking financial service and insurance</td>\n",
       "      <td>credit risk modeling</td>\n",
       "      <td>https://www.researchgate.net/publication/28587...</td>\n",
       "    </tr>\n",
       "    <tr>\n",
       "      <th>7</th>\n",
       "      <td>avg_CA_balance</td>\n",
       "      <td>average balance in current account</td>\n",
       "      <td>banking financial service and insurance</td>\n",
       "      <td>credit risk modeling</td>\n",
       "      <td>https://www.researchgate.net/publication/28587...</td>\n",
       "    </tr>\n",
       "    <tr>\n",
       "      <th>8</th>\n",
       "      <td>employment_type</td>\n",
       "      <td>type of employment</td>\n",
       "      <td>banking financial service and insurance</td>\n",
       "      <td>credit risk modeling</td>\n",
       "      <td>https://www.researchgate.net/publication/28587...</td>\n",
       "    </tr>\n",
       "    <tr>\n",
       "      <th>9</th>\n",
       "      <td>monetary values of each product/ service used ...</td>\n",
       "      <td>Monetary values: total assets values of the sp...</td>\n",
       "      <td>banking financial service and insurance</td>\n",
       "      <td>credit risk modeling</td>\n",
       "      <td>https://www.researchgate.net/publication/28587...</td>\n",
       "    </tr>\n",
       "  </tbody>\n",
       "</table>\n",
       "</div>"
      ],
      "text/plain": [
       "                                        Feature Name  \\\n",
       "0                            payable turnover - days   \n",
       "1                             monthly_household_cost   \n",
       "2                                                roa   \n",
       "3                                                roe   \n",
       "4                                     credit history   \n",
       "5                                no. annual payments   \n",
       "6                                    loans_defaulted   \n",
       "7                                     avg_CA_balance   \n",
       "8                                    employment_type   \n",
       "9  monetary values of each product/ service used ...   \n",
       "\n",
       "                                 Feature Description  \\\n",
       "0                     Sales / (Accounts Payable/365)   \n",
       "1                          monthly cost of household   \n",
       "2                                   return on assets   \n",
       "3                                   return on equity   \n",
       "4  no credits taken/all credits paid back duly/ex...   \n",
       "5                        number of payments per year   \n",
       "6                      loans defaulted or delinquent   \n",
       "7                 average balance in current account   \n",
       "8                                 type of employment   \n",
       "9  Monetary values: total assets values of the sp...   \n",
       "\n",
       "                                  Industry               Usecase  \\\n",
       "0  banking financial service and insurance  credit risk modeling   \n",
       "1  banking financial service and insurance  credit risk modeling   \n",
       "2  banking financial service and insurance  credit risk modeling   \n",
       "3  banking financial service and insurance  credit risk modeling   \n",
       "4  banking financial service and insurance  credit risk modeling   \n",
       "5  banking financial service and insurance  credit risk modeling   \n",
       "6  banking financial service and insurance  credit risk modeling   \n",
       "7  banking financial service and insurance  credit risk modeling   \n",
       "8  banking financial service and insurance  credit risk modeling   \n",
       "9  banking financial service and insurance  credit risk modeling   \n",
       "\n",
       "                                              Source  \n",
       "0  https://www.researchgate.net/publication/31837...  \n",
       "1  https://www.researchgate.net/publication/28587...  \n",
       "2  https://www.researchgate.net/publication/31837...  \n",
       "3  https://www.researchgate.net/publication/31837...  \n",
       "4  https://www.researchgate.net/publication/31837...  \n",
       "5  https://www.researchgate.net/publication/28587...  \n",
       "6  https://www.researchgate.net/publication/28587...  \n",
       "7  https://www.researchgate.net/publication/28587...  \n",
       "8  https://www.researchgate.net/publication/28587...  \n",
       "9  https://www.researchgate.net/publication/28587...  "
      ]
     },
     "execution_count": 11,
     "metadata": {},
     "output_type": "execute_result"
    }
   ],
   "source": [
    "list_feature_by_industry('banking financial service and insurance', num_of_feat=10)"
   ]
  },
  {
   "cell_type": "markdown",
   "id": "ee31cd12",
   "metadata": {},
   "source": [
    "The output returns 10 features that are closely related to the Input Industry `banking financial service and insurance`, with the Use case of `credit risk modeling`, which is highly relevant to the Input Industry as well.\n",
    "\n",
    "In most scenarios, `banking financial service and insurance` is too long and sometimes, users may mistype or forget the exact full name. This time we will try it with only `finance` and see its results"
   ]
  },
  {
   "cell_type": "code",
   "execution_count": 12,
   "id": "e6686a27",
   "metadata": {},
   "outputs": [
    {
     "name": "stdout",
     "output_type": "stream",
     "text": [
      "Input Industry not available. Showing the most semantically relevant Usecase result:  banking financial service and insurance\n"
     ]
    },
    {
     "data": {
      "text/html": [
       "<div>\n",
       "<style scoped>\n",
       "    .dataframe tbody tr th:only-of-type {\n",
       "        vertical-align: middle;\n",
       "    }\n",
       "\n",
       "    .dataframe tbody tr th {\n",
       "        vertical-align: top;\n",
       "    }\n",
       "\n",
       "    .dataframe thead th {\n",
       "        text-align: right;\n",
       "    }\n",
       "</style>\n",
       "<table border=\"1\" class=\"dataframe\">\n",
       "  <thead>\n",
       "    <tr style=\"text-align: right;\">\n",
       "      <th></th>\n",
       "      <th>Feature Name</th>\n",
       "      <th>Feature Description</th>\n",
       "      <th>Industry</th>\n",
       "      <th>Usecase</th>\n",
       "      <th>Source</th>\n",
       "    </tr>\n",
       "  </thead>\n",
       "  <tbody>\n",
       "    <tr>\n",
       "      <th>0</th>\n",
       "      <td>payable turnover - days</td>\n",
       "      <td>Sales / (Accounts Payable/365)</td>\n",
       "      <td>banking financial service and insurance</td>\n",
       "      <td>credit risk modeling</td>\n",
       "      <td>https://www.researchgate.net/publication/31837...</td>\n",
       "    </tr>\n",
       "    <tr>\n",
       "      <th>1</th>\n",
       "      <td>monthly_household_cost</td>\n",
       "      <td>monthly cost of household</td>\n",
       "      <td>banking financial service and insurance</td>\n",
       "      <td>credit risk modeling</td>\n",
       "      <td>https://www.researchgate.net/publication/28587...</td>\n",
       "    </tr>\n",
       "    <tr>\n",
       "      <th>2</th>\n",
       "      <td>roa</td>\n",
       "      <td>return on assets</td>\n",
       "      <td>banking financial service and insurance</td>\n",
       "      <td>credit risk modeling</td>\n",
       "      <td>https://www.researchgate.net/publication/31837...</td>\n",
       "    </tr>\n",
       "    <tr>\n",
       "      <th>3</th>\n",
       "      <td>roe</td>\n",
       "      <td>return on equity</td>\n",
       "      <td>banking financial service and insurance</td>\n",
       "      <td>credit risk modeling</td>\n",
       "      <td>https://www.researchgate.net/publication/31837...</td>\n",
       "    </tr>\n",
       "    <tr>\n",
       "      <th>4</th>\n",
       "      <td>credit history</td>\n",
       "      <td>no credits taken/all credits paid back duly/ex...</td>\n",
       "      <td>banking financial service and insurance</td>\n",
       "      <td>credit risk modeling</td>\n",
       "      <td>https://www.researchgate.net/publication/31837...</td>\n",
       "    </tr>\n",
       "    <tr>\n",
       "      <th>5</th>\n",
       "      <td>no. annual payments</td>\n",
       "      <td>number of payments per year</td>\n",
       "      <td>banking financial service and insurance</td>\n",
       "      <td>credit risk modeling</td>\n",
       "      <td>https://www.researchgate.net/publication/28587...</td>\n",
       "    </tr>\n",
       "    <tr>\n",
       "      <th>6</th>\n",
       "      <td>loans_defaulted</td>\n",
       "      <td>loans defaulted or delinquent</td>\n",
       "      <td>banking financial service and insurance</td>\n",
       "      <td>credit risk modeling</td>\n",
       "      <td>https://www.researchgate.net/publication/28587...</td>\n",
       "    </tr>\n",
       "    <tr>\n",
       "      <th>7</th>\n",
       "      <td>avg_CA_balance</td>\n",
       "      <td>average balance in current account</td>\n",
       "      <td>banking financial service and insurance</td>\n",
       "      <td>credit risk modeling</td>\n",
       "      <td>https://www.researchgate.net/publication/28587...</td>\n",
       "    </tr>\n",
       "    <tr>\n",
       "      <th>8</th>\n",
       "      <td>employment_type</td>\n",
       "      <td>type of employment</td>\n",
       "      <td>banking financial service and insurance</td>\n",
       "      <td>credit risk modeling</td>\n",
       "      <td>https://www.researchgate.net/publication/28587...</td>\n",
       "    </tr>\n",
       "    <tr>\n",
       "      <th>9</th>\n",
       "      <td>monetary values of each product/ service used ...</td>\n",
       "      <td>Monetary values: total assets values of the sp...</td>\n",
       "      <td>banking financial service and insurance</td>\n",
       "      <td>credit risk modeling</td>\n",
       "      <td>https://www.researchgate.net/publication/28587...</td>\n",
       "    </tr>\n",
       "  </tbody>\n",
       "</table>\n",
       "</div>"
      ],
      "text/plain": [
       "                                        Feature Name  \\\n",
       "0                            payable turnover - days   \n",
       "1                             monthly_household_cost   \n",
       "2                                                roa   \n",
       "3                                                roe   \n",
       "4                                     credit history   \n",
       "5                                no. annual payments   \n",
       "6                                    loans_defaulted   \n",
       "7                                     avg_CA_balance   \n",
       "8                                    employment_type   \n",
       "9  monetary values of each product/ service used ...   \n",
       "\n",
       "                                 Feature Description  \\\n",
       "0                     Sales / (Accounts Payable/365)   \n",
       "1                          monthly cost of household   \n",
       "2                                   return on assets   \n",
       "3                                   return on equity   \n",
       "4  no credits taken/all credits paid back duly/ex...   \n",
       "5                        number of payments per year   \n",
       "6                      loans defaulted or delinquent   \n",
       "7                 average balance in current account   \n",
       "8                                 type of employment   \n",
       "9  Monetary values: total assets values of the sp...   \n",
       "\n",
       "                                  Industry               Usecase  \\\n",
       "0  banking financial service and insurance  credit risk modeling   \n",
       "1  banking financial service and insurance  credit risk modeling   \n",
       "2  banking financial service and insurance  credit risk modeling   \n",
       "3  banking financial service and insurance  credit risk modeling   \n",
       "4  banking financial service and insurance  credit risk modeling   \n",
       "5  banking financial service and insurance  credit risk modeling   \n",
       "6  banking financial service and insurance  credit risk modeling   \n",
       "7  banking financial service and insurance  credit risk modeling   \n",
       "8  banking financial service and insurance  credit risk modeling   \n",
       "9  banking financial service and insurance  credit risk modeling   \n",
       "\n",
       "                                              Source  \n",
       "0  https://www.researchgate.net/publication/31837...  \n",
       "1  https://www.researchgate.net/publication/28587...  \n",
       "2  https://www.researchgate.net/publication/31837...  \n",
       "3  https://www.researchgate.net/publication/31837...  \n",
       "4  https://www.researchgate.net/publication/31837...  \n",
       "5  https://www.researchgate.net/publication/28587...  \n",
       "6  https://www.researchgate.net/publication/28587...  \n",
       "7  https://www.researchgate.net/publication/28587...  \n",
       "8  https://www.researchgate.net/publication/28587...  \n",
       "9  https://www.researchgate.net/publication/28587...  "
      ]
     },
     "execution_count": 12,
     "metadata": {},
     "output_type": "execute_result"
    }
   ],
   "source": [
    "list_feature_by_industry('finance', num_of_feat=10)"
   ]
  },
  {
   "cell_type": "markdown",
   "id": "d2864a76",
   "metadata": {},
   "source": [
    "With the semantic matching for `finance`, the results are still matched and similar to `banking financial service and insurance`"
   ]
  },
  {
   "cell_type": "markdown",
   "id": "78ad57bb",
   "metadata": {},
   "source": [
    "### list_feature_by_usecase(usecase, num_of_feat=100, semantic=True)\n",
    "Argument: \n",
    "- usecase(string): Input industry from user\n",
    "- num_of_feat(int): Number of features displayed. Default is `100`\n",
    "- semantic(boolean): Whether the input needs to go through semantic matching or not. Default is `True`\n",
    "\n",
    "This function lists down all the Features that are available in Feature Recommender Package based on the Input Usecase"
   ]
  },
  {
   "cell_type": "markdown",
   "id": "58058859",
   "metadata": {},
   "source": [
    "The output is returned in the form of a DataFrame. Columns are:\n",
    "\n",
    "- Feature Name: Name of the suggested Feature\n",
    "- Feature Description: Description of the suggested Feature\n",
    "- Industry: Industry name of the suggested Feature\n",
    "- Usecase: Usecase name of the suggested Feature\n",
    "- Source: Source of the suggested Feature\n",
    "\n",
    "The list of features is sorted by the Industries' Relevance to the Input Usecase."
   ]
  },
  {
   "cell_type": "markdown",
   "id": "44db4ab7",
   "metadata": {},
   "source": [
    "Let's try with `brand affinity and propensity`"
   ]
  },
  {
   "cell_type": "code",
   "execution_count": 13,
   "id": "44ddb8b7",
   "metadata": {},
   "outputs": [
    {
     "data": {
      "text/html": [
       "<div>\n",
       "<style scoped>\n",
       "    .dataframe tbody tr th:only-of-type {\n",
       "        vertical-align: middle;\n",
       "    }\n",
       "\n",
       "    .dataframe tbody tr th {\n",
       "        vertical-align: top;\n",
       "    }\n",
       "\n",
       "    .dataframe thead th {\n",
       "        text-align: right;\n",
       "    }\n",
       "</style>\n",
       "<table border=\"1\" class=\"dataframe\">\n",
       "  <thead>\n",
       "    <tr style=\"text-align: right;\">\n",
       "      <th></th>\n",
       "      <th>Feature Name</th>\n",
       "      <th>Feature Description</th>\n",
       "      <th>Industry</th>\n",
       "      <th>Usecase</th>\n",
       "      <th>Source</th>\n",
       "    </tr>\n",
       "  </thead>\n",
       "  <tbody>\n",
       "    <tr>\n",
       "      <th>0</th>\n",
       "      <td>Number days the consumer observed in the brand...</td>\n",
       "      <td>Number days the consumer observed in the brand...</td>\n",
       "      <td>retail</td>\n",
       "      <td>brand affinity and propensity</td>\n",
       "      <td>https://ieeexplore.ieee.org/document/8622225</td>\n",
       "    </tr>\n",
       "    <tr>\n",
       "      <th>1</th>\n",
       "      <td>Total Active days of the consumer</td>\n",
       "      <td>the total number of days in the lookback horiz...</td>\n",
       "      <td>retail</td>\n",
       "      <td>brand affinity and propensity</td>\n",
       "      <td>https://ieeexplore.ieee.org/document/8622225</td>\n",
       "    </tr>\n",
       "    <tr>\n",
       "      <th>2</th>\n",
       "      <td>Interim Brand Affinity (Q)</td>\n",
       "      <td>Number days the consumer observed in the brand...</td>\n",
       "      <td>retail</td>\n",
       "      <td>brand affinity and propensity</td>\n",
       "      <td>https://ieeexplore.ieee.org/document/8622225</td>\n",
       "    </tr>\n",
       "    <tr>\n",
       "      <th>3</th>\n",
       "      <td>Total number of\\nconsumers seen in all\\nof bra...</td>\n",
       "      <td>Total number of\\nconsumers seen in all\\nof bra...</td>\n",
       "      <td>retail</td>\n",
       "      <td>brand affinity and propensity</td>\n",
       "      <td>https://ieeexplore.ieee.org/document/8622225</td>\n",
       "    </tr>\n",
       "    <tr>\n",
       "      <th>4</th>\n",
       "      <td>Total Number of Consumers Observed</td>\n",
       "      <td>total number of consumers observed at the geog...</td>\n",
       "      <td>retail</td>\n",
       "      <td>brand affinity and propensity</td>\n",
       "      <td>https://ieeexplore.ieee.org/document/8622225</td>\n",
       "    </tr>\n",
       "    <tr>\n",
       "      <th>5</th>\n",
       "      <td>Consumer Share</td>\n",
       "      <td>Consumer Share</td>\n",
       "      <td>retail</td>\n",
       "      <td>brand affinity and propensity</td>\n",
       "      <td>https://ieeexplore.ieee.org/document/8622225</td>\n",
       "    </tr>\n",
       "    <tr>\n",
       "      <th>6</th>\n",
       "      <td>Discounting Factor</td>\n",
       "      <td>total consumers observed at brand / total cons...</td>\n",
       "      <td>retail</td>\n",
       "      <td>brand affinity and propensity</td>\n",
       "      <td>https://ieeexplore.ieee.org/document/8622225</td>\n",
       "    </tr>\n",
       "  </tbody>\n",
       "</table>\n",
       "</div>"
      ],
      "text/plain": [
       "                                        Feature Name  \\\n",
       "0  Number days the consumer observed in the brand...   \n",
       "1                  Total Active days of the consumer   \n",
       "2                         Interim Brand Affinity (Q)   \n",
       "3  Total number of\\nconsumers seen in all\\nof bra...   \n",
       "4                 Total Number of Consumers Observed   \n",
       "5                                     Consumer Share   \n",
       "6                                 Discounting Factor   \n",
       "\n",
       "                                 Feature Description Industry  \\\n",
       "0  Number days the consumer observed in the brand...   retail   \n",
       "1  the total number of days in the lookback horiz...   retail   \n",
       "2  Number days the consumer observed in the brand...   retail   \n",
       "3  Total number of\\nconsumers seen in all\\nof bra...   retail   \n",
       "4  total number of consumers observed at the geog...   retail   \n",
       "5                                     Consumer Share   retail   \n",
       "6  total consumers observed at brand / total cons...   retail   \n",
       "\n",
       "                         Usecase                                        Source  \n",
       "0  brand affinity and propensity  https://ieeexplore.ieee.org/document/8622225  \n",
       "1  brand affinity and propensity  https://ieeexplore.ieee.org/document/8622225  \n",
       "2  brand affinity and propensity  https://ieeexplore.ieee.org/document/8622225  \n",
       "3  brand affinity and propensity  https://ieeexplore.ieee.org/document/8622225  \n",
       "4  brand affinity and propensity  https://ieeexplore.ieee.org/document/8622225  \n",
       "5  brand affinity and propensity  https://ieeexplore.ieee.org/document/8622225  \n",
       "6  brand affinity and propensity  https://ieeexplore.ieee.org/document/8622225  "
      ]
     },
     "execution_count": 13,
     "metadata": {},
     "output_type": "execute_result"
    }
   ],
   "source": [
    "list_feature_by_usecase('brand affinity and propensity')"
   ]
  },
  {
   "cell_type": "markdown",
   "id": "8336525d",
   "metadata": {},
   "source": [
    "And this time with semantic matching, only `customer preference`"
   ]
  },
  {
   "cell_type": "code",
   "execution_count": 14,
   "id": "12df2ed4",
   "metadata": {},
   "outputs": [
    {
     "name": "stdout",
     "output_type": "stream",
     "text": [
      "Input Usecase not available. Showing the most semantically relevant Usecase result:  high value customer acquisition\n"
     ]
    },
    {
     "data": {
      "text/html": [
       "<div>\n",
       "<style scoped>\n",
       "    .dataframe tbody tr th:only-of-type {\n",
       "        vertical-align: middle;\n",
       "    }\n",
       "\n",
       "    .dataframe tbody tr th {\n",
       "        vertical-align: top;\n",
       "    }\n",
       "\n",
       "    .dataframe thead th {\n",
       "        text-align: right;\n",
       "    }\n",
       "</style>\n",
       "<table border=\"1\" class=\"dataframe\">\n",
       "  <thead>\n",
       "    <tr style=\"text-align: right;\">\n",
       "      <th></th>\n",
       "      <th>Feature Name</th>\n",
       "      <th>Feature Description</th>\n",
       "      <th>Industry</th>\n",
       "      <th>Usecase</th>\n",
       "      <th>Source</th>\n",
       "    </tr>\n",
       "  </thead>\n",
       "  <tbody>\n",
       "    <tr>\n",
       "      <th>0</th>\n",
       "      <td>gender</td>\n",
       "      <td>Gender of the client</td>\n",
       "      <td>transportation</td>\n",
       "      <td>high value customer acquisition</td>\n",
       "      <td>https://ieeexplore.ieee.org/document/9006106</td>\n",
       "    </tr>\n",
       "    <tr>\n",
       "      <th>1</th>\n",
       "      <td>age</td>\n",
       "      <td>age of customer</td>\n",
       "      <td>transportation</td>\n",
       "      <td>high value customer acquisition</td>\n",
       "      <td>https://ieeexplore.ieee.org/document/9006106</td>\n",
       "    </tr>\n",
       "    <tr>\n",
       "      <th>2</th>\n",
       "      <td>radius of gyration</td>\n",
       "      <td>radius of the smallest circle that contains al...</td>\n",
       "      <td>transportation</td>\n",
       "      <td>high value customer acquisition</td>\n",
       "      <td>https://ieeexplore.ieee.org/document/9006106</td>\n",
       "    </tr>\n",
       "    <tr>\n",
       "      <th>3</th>\n",
       "      <td>App Usage</td>\n",
       "      <td>No. of distinct apps captured by signals from ...</td>\n",
       "      <td>transportation</td>\n",
       "      <td>high value customer acquisition</td>\n",
       "      <td>https://ieeexplore.ieee.org/document/9006106</td>\n",
       "    </tr>\n",
       "    <tr>\n",
       "      <th>4</th>\n",
       "      <td>No. of Active Days</td>\n",
       "      <td>No. of days with at least one signal from\\nthe...</td>\n",
       "      <td>transportation</td>\n",
       "      <td>high value customer acquisition</td>\n",
       "      <td>https://ieeexplore.ieee.org/document/9006106</td>\n",
       "    </tr>\n",
       "    <tr>\n",
       "      <th>5</th>\n",
       "      <td>Day Engagement Pattern</td>\n",
       "      <td>No. of Active Days/Device Age</td>\n",
       "      <td>transportation</td>\n",
       "      <td>high value customer acquisition</td>\n",
       "      <td>https://ieeexplore.ieee.org/document/9006106</td>\n",
       "    </tr>\n",
       "    <tr>\n",
       "      <th>6</th>\n",
       "      <td>Internet Connectivity</td>\n",
       "      <td>WIFI or Cellular Data Usage for the device</td>\n",
       "      <td>transportation</td>\n",
       "      <td>high value customer acquisition</td>\n",
       "      <td>https://ieeexplore.ieee.org/document/9006106</td>\n",
       "    </tr>\n",
       "    <tr>\n",
       "      <th>7</th>\n",
       "      <td>Mobility of a Device</td>\n",
       "      <td>No. of different geographical areas captured i...</td>\n",
       "      <td>transportation</td>\n",
       "      <td>high value customer acquisition</td>\n",
       "      <td>https://ieeexplore.ieee.org/document/9006106</td>\n",
       "    </tr>\n",
       "    <tr>\n",
       "      <th>8</th>\n",
       "      <td>Device's Category Engagement</td>\n",
       "      <td>Signal Distribution across Android or iOS cate...</td>\n",
       "      <td>transportation</td>\n",
       "      <td>high value customer acquisition</td>\n",
       "      <td>https://ieeexplore.ieee.org/document/9006106</td>\n",
       "    </tr>\n",
       "    <tr>\n",
       "      <th>9</th>\n",
       "      <td>Affluency Index</td>\n",
       "      <td>High, Medium or Low</td>\n",
       "      <td>transportation</td>\n",
       "      <td>high value customer acquisition</td>\n",
       "      <td>https://ieeexplore.ieee.org/document/9006106</td>\n",
       "    </tr>\n",
       "    <tr>\n",
       "      <th>10</th>\n",
       "      <td>POI Engagement Score</td>\n",
       "      <td>Number of days found within 50m of POI locatio...</td>\n",
       "      <td>transportation</td>\n",
       "      <td>high value customer acquisition</td>\n",
       "      <td>https://ieeexplore.ieee.org/document/9006106</td>\n",
       "    </tr>\n",
       "    <tr>\n",
       "      <th>11</th>\n",
       "      <td>POI Location Count</td>\n",
       "      <td>No. of distinct locations captured in each POI</td>\n",
       "      <td>transportation</td>\n",
       "      <td>high value customer acquisition</td>\n",
       "      <td>https://ieeexplore.ieee.org/document/9006106</td>\n",
       "    </tr>\n",
       "    <tr>\n",
       "      <th>12</th>\n",
       "      <td>Food App Engagement</td>\n",
       "      <td>Engagement Score/No. of Distinct Food related ...</td>\n",
       "      <td>transportation</td>\n",
       "      <td>high value customer acquisition</td>\n",
       "      <td>https://ieeexplore.ieee.org/document/9006106</td>\n",
       "    </tr>\n",
       "    <tr>\n",
       "      <th>13</th>\n",
       "      <td>Average Device\\nEngagement</td>\n",
       "      <td>Signal Count/ No. of Active Days</td>\n",
       "      <td>transportation</td>\n",
       "      <td>high value customer acquisition</td>\n",
       "      <td>https://ieeexplore.ieee.org/document/9006106</td>\n",
       "    </tr>\n",
       "    <tr>\n",
       "      <th>14</th>\n",
       "      <td>Segment Name</td>\n",
       "      <td>Families with Kids, Singles, Dieters, Sports E...</td>\n",
       "      <td>transportation</td>\n",
       "      <td>high value customer acquisition</td>\n",
       "      <td>https://ieeexplore.ieee.org/document/9006106</td>\n",
       "    </tr>\n",
       "  </tbody>\n",
       "</table>\n",
       "</div>"
      ],
      "text/plain": [
       "                    Feature Name  \\\n",
       "0                         gender   \n",
       "1                            age   \n",
       "2             radius of gyration   \n",
       "3                      App Usage   \n",
       "4             No. of Active Days   \n",
       "5         Day Engagement Pattern   \n",
       "6          Internet Connectivity   \n",
       "7           Mobility of a Device   \n",
       "8   Device's Category Engagement   \n",
       "9                Affluency Index   \n",
       "10          POI Engagement Score   \n",
       "11            POI Location Count   \n",
       "12           Food App Engagement   \n",
       "13    Average Device\\nEngagement   \n",
       "14                  Segment Name   \n",
       "\n",
       "                                  Feature Description        Industry  \\\n",
       "0                                Gender of the client  transportation   \n",
       "1                                     age of customer  transportation   \n",
       "2   radius of the smallest circle that contains al...  transportation   \n",
       "3   No. of distinct apps captured by signals from ...  transportation   \n",
       "4   No. of days with at least one signal from\\nthe...  transportation   \n",
       "5                       No. of Active Days/Device Age  transportation   \n",
       "6          WIFI or Cellular Data Usage for the device  transportation   \n",
       "7   No. of different geographical areas captured i...  transportation   \n",
       "8   Signal Distribution across Android or iOS cate...  transportation   \n",
       "9                                 High, Medium or Low  transportation   \n",
       "10  Number of days found within 50m of POI locatio...  transportation   \n",
       "11     No. of distinct locations captured in each POI  transportation   \n",
       "12  Engagement Score/No. of Distinct Food related ...  transportation   \n",
       "13                   Signal Count/ No. of Active Days  transportation   \n",
       "14  Families with Kids, Singles, Dieters, Sports E...  transportation   \n",
       "\n",
       "                            Usecase  \\\n",
       "0   high value customer acquisition   \n",
       "1   high value customer acquisition   \n",
       "2   high value customer acquisition   \n",
       "3   high value customer acquisition   \n",
       "4   high value customer acquisition   \n",
       "5   high value customer acquisition   \n",
       "6   high value customer acquisition   \n",
       "7   high value customer acquisition   \n",
       "8   high value customer acquisition   \n",
       "9   high value customer acquisition   \n",
       "10  high value customer acquisition   \n",
       "11  high value customer acquisition   \n",
       "12  high value customer acquisition   \n",
       "13  high value customer acquisition   \n",
       "14  high value customer acquisition   \n",
       "\n",
       "                                          Source  \n",
       "0   https://ieeexplore.ieee.org/document/9006106  \n",
       "1   https://ieeexplore.ieee.org/document/9006106  \n",
       "2   https://ieeexplore.ieee.org/document/9006106  \n",
       "3   https://ieeexplore.ieee.org/document/9006106  \n",
       "4   https://ieeexplore.ieee.org/document/9006106  \n",
       "5   https://ieeexplore.ieee.org/document/9006106  \n",
       "6   https://ieeexplore.ieee.org/document/9006106  \n",
       "7   https://ieeexplore.ieee.org/document/9006106  \n",
       "8   https://ieeexplore.ieee.org/document/9006106  \n",
       "9   https://ieeexplore.ieee.org/document/9006106  \n",
       "10  https://ieeexplore.ieee.org/document/9006106  \n",
       "11  https://ieeexplore.ieee.org/document/9006106  \n",
       "12  https://ieeexplore.ieee.org/document/9006106  \n",
       "13  https://ieeexplore.ieee.org/document/9006106  \n",
       "14  https://ieeexplore.ieee.org/document/9006106  "
      ]
     },
     "execution_count": 14,
     "metadata": {},
     "output_type": "execute_result"
    }
   ],
   "source": [
    "list_feature_by_usecase('customer preference')"
   ]
  },
  {
   "cell_type": "markdown",
   "id": "7aa992c4",
   "metadata": {},
   "source": [
    "### list_feature_by_pair(industry, usecase, num_of_feat=100, semantic=True)\n",
    "Argument: \n",
    "- industry(string): Input industry from user\n",
    "- usecase(string): Input usecase from user\n",
    "- num_of_feat(int): Number of features displayed. Default is `100`\n",
    "- semantic(boolean): Whether the input needs to go through semantic matching or not. Default is `True`\n",
    "\n",
    "This function lists down all the Features that are available in Feature Recommender Package based on the Input Industry/ Usecase pair"
   ]
  },
  {
   "cell_type": "markdown",
   "id": "a32a0026",
   "metadata": {},
   "source": [
    "The output is returned in the form of a DataFrame. Columns are:\n",
    "\n",
    "- Feature Name: Name of the suggested Feature\n",
    "- Feature Description: Description of the suggested Feature\n",
    "- Industry: Industry name of the suggested Feature\n",
    "- Usecase: Usecase name of the suggested Feature\n",
    "- Source: Source of the suggested Feature"
   ]
  },
  {
   "cell_type": "markdown",
   "id": "792478e0",
   "metadata": {},
   "source": [
    "Let's try with `healthcare` and `stroke prediction`"
   ]
  },
  {
   "cell_type": "code",
   "execution_count": 15,
   "id": "8163a5bc",
   "metadata": {},
   "outputs": [
    {
     "data": {
      "text/html": [
       "<div>\n",
       "<style scoped>\n",
       "    .dataframe tbody tr th:only-of-type {\n",
       "        vertical-align: middle;\n",
       "    }\n",
       "\n",
       "    .dataframe tbody tr th {\n",
       "        vertical-align: top;\n",
       "    }\n",
       "\n",
       "    .dataframe thead th {\n",
       "        text-align: right;\n",
       "    }\n",
       "</style>\n",
       "<table border=\"1\" class=\"dataframe\">\n",
       "  <thead>\n",
       "    <tr style=\"text-align: right;\">\n",
       "      <th></th>\n",
       "      <th>Feature Name</th>\n",
       "      <th>Feature Description</th>\n",
       "      <th>Industry</th>\n",
       "      <th>Usecase</th>\n",
       "      <th>Source</th>\n",
       "    </tr>\n",
       "  </thead>\n",
       "  <tbody>\n",
       "    <tr>\n",
       "      <th>0</th>\n",
       "      <td>marital_status</td>\n",
       "      <td>is the client married (Yes, No)</td>\n",
       "      <td>healthcare</td>\n",
       "      <td>length of stay prediction</td>\n",
       "      <td>https://pdfs.semanticscholar.org/51aa/cfcf3f3c...</td>\n",
       "    </tr>\n",
       "    <tr>\n",
       "      <th>1</th>\n",
       "      <td>gender</td>\n",
       "      <td>Gender of the client</td>\n",
       "      <td>healthcare</td>\n",
       "      <td>length of stay prediction</td>\n",
       "      <td>https://pdfs.semanticscholar.org/51aa/cfcf3f3c...</td>\n",
       "    </tr>\n",
       "    <tr>\n",
       "      <th>2</th>\n",
       "      <td>age</td>\n",
       "      <td>age of customer</td>\n",
       "      <td>healthcare</td>\n",
       "      <td>length of stay prediction</td>\n",
       "      <td>https://pdfs.semanticscholar.org/51aa/cfcf3f3c...</td>\n",
       "    </tr>\n",
       "    <tr>\n",
       "      <th>3</th>\n",
       "      <td>Social history</td>\n",
       "      <td>Smoking, Alcohol, Living situation, Employment</td>\n",
       "      <td>healthcare</td>\n",
       "      <td>length of stay prediction</td>\n",
       "      <td>https://pdfs.semanticscholar.org/51aa/cfcf3f3c...</td>\n",
       "    </tr>\n",
       "    <tr>\n",
       "      <th>4</th>\n",
       "      <td>Diastolic blood pressure</td>\n",
       "      <td>Diastolic blood pressure (mm Hg)</td>\n",
       "      <td>healthcare</td>\n",
       "      <td>length of stay prediction</td>\n",
       "      <td>https://pdfs.semanticscholar.org/51aa/cfcf3f3c...</td>\n",
       "    </tr>\n",
       "    <tr>\n",
       "      <th>5</th>\n",
       "      <td>Surgery type</td>\n",
       "      <td>Surgery type</td>\n",
       "      <td>healthcare</td>\n",
       "      <td>length of stay prediction</td>\n",
       "      <td>https://pdfs.semanticscholar.org/51aa/cfcf3f3c...</td>\n",
       "    </tr>\n",
       "    <tr>\n",
       "      <th>6</th>\n",
       "      <td>Average number of visits per day</td>\n",
       "      <td>Average number of visits per day</td>\n",
       "      <td>healthcare</td>\n",
       "      <td>length of stay prediction</td>\n",
       "      <td>https://pdfs.semanticscholar.org/51aa/cfcf3f3c...</td>\n",
       "    </tr>\n",
       "    <tr>\n",
       "      <th>7</th>\n",
       "      <td>Number of consultations</td>\n",
       "      <td>Number of medical consultations</td>\n",
       "      <td>healthcare</td>\n",
       "      <td>length of stay prediction</td>\n",
       "      <td>https://pdfs.semanticscholar.org/51aa/cfcf3f3c...</td>\n",
       "    </tr>\n",
       "    <tr>\n",
       "      <th>8</th>\n",
       "      <td>Number of surgeries</td>\n",
       "      <td>Number of surgeries</td>\n",
       "      <td>healthcare</td>\n",
       "      <td>length of stay prediction</td>\n",
       "      <td>https://pdfs.semanticscholar.org/51aa/cfcf3f3c...</td>\n",
       "    </tr>\n",
       "    <tr>\n",
       "      <th>9</th>\n",
       "      <td>Interval between discharge order and discharge</td>\n",
       "      <td>Interval between discharge order and discharge</td>\n",
       "      <td>healthcare</td>\n",
       "      <td>length of stay prediction</td>\n",
       "      <td>https://pdfs.semanticscholar.org/51aa/cfcf3f3c...</td>\n",
       "    </tr>\n",
       "    <tr>\n",
       "      <th>10</th>\n",
       "      <td>Transmission between parts</td>\n",
       "      <td>Transmission between parts</td>\n",
       "      <td>healthcare</td>\n",
       "      <td>length of stay prediction</td>\n",
       "      <td>https://pdfs.semanticscholar.org/51aa/cfcf3f3c...</td>\n",
       "    </tr>\n",
       "    <tr>\n",
       "      <th>11</th>\n",
       "      <td>Preoperative hospitalization</td>\n",
       "      <td>Preoperative hospitalization</td>\n",
       "      <td>healthcare</td>\n",
       "      <td>length of stay prediction</td>\n",
       "      <td>https://pdfs.semanticscholar.org/51aa/cfcf3f3c...</td>\n",
       "    </tr>\n",
       "    <tr>\n",
       "      <th>12</th>\n",
       "      <td>Number of tests</td>\n",
       "      <td>Number of tests</td>\n",
       "      <td>healthcare</td>\n",
       "      <td>length of stay prediction</td>\n",
       "      <td>https://pdfs.semanticscholar.org/51aa/cfcf3f3c...</td>\n",
       "    </tr>\n",
       "    <tr>\n",
       "      <th>13</th>\n",
       "      <td>Lodging</td>\n",
       "      <td>Lodging</td>\n",
       "      <td>healthcare</td>\n",
       "      <td>length of stay prediction</td>\n",
       "      <td>https://pdfs.semanticscholar.org/51aa/cfcf3f3c...</td>\n",
       "    </tr>\n",
       "    <tr>\n",
       "      <th>14</th>\n",
       "      <td>Insurance type</td>\n",
       "      <td>Insurance type</td>\n",
       "      <td>healthcare</td>\n",
       "      <td>length of stay prediction</td>\n",
       "      <td>https://pdfs.semanticscholar.org/51aa/cfcf3f3c...</td>\n",
       "    </tr>\n",
       "  </tbody>\n",
       "</table>\n",
       "</div>"
      ],
      "text/plain": [
       "                                      Feature Name  \\\n",
       "0                                   marital_status   \n",
       "1                                           gender   \n",
       "2                                              age   \n",
       "3                                   Social history   \n",
       "4                         Diastolic blood pressure   \n",
       "5                                     Surgery type   \n",
       "6                 Average number of visits per day   \n",
       "7                          Number of consultations   \n",
       "8                              Number of surgeries   \n",
       "9   Interval between discharge order and discharge   \n",
       "10                      Transmission between parts   \n",
       "11                    Preoperative hospitalization   \n",
       "12                                 Number of tests   \n",
       "13                                         Lodging   \n",
       "14                                  Insurance type   \n",
       "\n",
       "                               Feature Description    Industry  \\\n",
       "0                  is the client married (Yes, No)  healthcare   \n",
       "1                             Gender of the client  healthcare   \n",
       "2                                  age of customer  healthcare   \n",
       "3   Smoking, Alcohol, Living situation, Employment  healthcare   \n",
       "4                 Diastolic blood pressure (mm Hg)  healthcare   \n",
       "5                                     Surgery type  healthcare   \n",
       "6                 Average number of visits per day  healthcare   \n",
       "7                  Number of medical consultations  healthcare   \n",
       "8                              Number of surgeries  healthcare   \n",
       "9   Interval between discharge order and discharge  healthcare   \n",
       "10                      Transmission between parts  healthcare   \n",
       "11                    Preoperative hospitalization  healthcare   \n",
       "12                                 Number of tests  healthcare   \n",
       "13                                         Lodging  healthcare   \n",
       "14                                  Insurance type  healthcare   \n",
       "\n",
       "                      Usecase  \\\n",
       "0   length of stay prediction   \n",
       "1   length of stay prediction   \n",
       "2   length of stay prediction   \n",
       "3   length of stay prediction   \n",
       "4   length of stay prediction   \n",
       "5   length of stay prediction   \n",
       "6   length of stay prediction   \n",
       "7   length of stay prediction   \n",
       "8   length of stay prediction   \n",
       "9   length of stay prediction   \n",
       "10  length of stay prediction   \n",
       "11  length of stay prediction   \n",
       "12  length of stay prediction   \n",
       "13  length of stay prediction   \n",
       "14  length of stay prediction   \n",
       "\n",
       "                                               Source  \n",
       "0   https://pdfs.semanticscholar.org/51aa/cfcf3f3c...  \n",
       "1   https://pdfs.semanticscholar.org/51aa/cfcf3f3c...  \n",
       "2   https://pdfs.semanticscholar.org/51aa/cfcf3f3c...  \n",
       "3   https://pdfs.semanticscholar.org/51aa/cfcf3f3c...  \n",
       "4   https://pdfs.semanticscholar.org/51aa/cfcf3f3c...  \n",
       "5   https://pdfs.semanticscholar.org/51aa/cfcf3f3c...  \n",
       "6   https://pdfs.semanticscholar.org/51aa/cfcf3f3c...  \n",
       "7   https://pdfs.semanticscholar.org/51aa/cfcf3f3c...  \n",
       "8   https://pdfs.semanticscholar.org/51aa/cfcf3f3c...  \n",
       "9   https://pdfs.semanticscholar.org/51aa/cfcf3f3c...  \n",
       "10  https://pdfs.semanticscholar.org/51aa/cfcf3f3c...  \n",
       "11  https://pdfs.semanticscholar.org/51aa/cfcf3f3c...  \n",
       "12  https://pdfs.semanticscholar.org/51aa/cfcf3f3c...  \n",
       "13  https://pdfs.semanticscholar.org/51aa/cfcf3f3c...  \n",
       "14  https://pdfs.semanticscholar.org/51aa/cfcf3f3c...  "
      ]
     },
     "execution_count": 15,
     "metadata": {},
     "output_type": "execute_result"
    }
   ],
   "source": [
    "list_feature_by_pair('healthcare', 'length of stay prediction', num_of_feat = 15)"
   ]
  },
  {
   "cell_type": "markdown",
   "id": "0bb4b965",
   "metadata": {},
   "source": [
    "And for the semantic part, `sale` and `sort customer`"
   ]
  },
  {
   "cell_type": "code",
   "execution_count": 16,
   "id": "93737106",
   "metadata": {},
   "outputs": [
    {
     "name": "stdout",
     "output_type": "stream",
     "text": [
      "Input Industry not available. Showing the most semantically relevant Usecase result:  retail\n",
      "Input Usecase not available. Showing the most semantically relevant Usecase result:  customer segmentation\n"
     ]
    },
    {
     "data": {
      "text/html": [
       "<div>\n",
       "<style scoped>\n",
       "    .dataframe tbody tr th:only-of-type {\n",
       "        vertical-align: middle;\n",
       "    }\n",
       "\n",
       "    .dataframe tbody tr th {\n",
       "        vertical-align: top;\n",
       "    }\n",
       "\n",
       "    .dataframe thead th {\n",
       "        text-align: right;\n",
       "    }\n",
       "</style>\n",
       "<table border=\"1\" class=\"dataframe\">\n",
       "  <thead>\n",
       "    <tr style=\"text-align: right;\">\n",
       "      <th></th>\n",
       "      <th>Feature Name</th>\n",
       "      <th>Feature Description</th>\n",
       "      <th>Industry</th>\n",
       "      <th>Usecase</th>\n",
       "      <th>Source</th>\n",
       "    </tr>\n",
       "  </thead>\n",
       "  <tbody>\n",
       "    <tr>\n",
       "      <th>0</th>\n",
       "      <td>recency value</td>\n",
       "      <td>The last time the customer has made a transaction</td>\n",
       "      <td>retail</td>\n",
       "      <td>customer segmentation</td>\n",
       "      <td>https://link.springer.com/content/pdf/10.1057/...</td>\n",
       "    </tr>\n",
       "    <tr>\n",
       "      <th>1</th>\n",
       "      <td>buyer</td>\n",
       "      <td>Corresponding to each distinct postcode</td>\n",
       "      <td>retail</td>\n",
       "      <td>customer segmentation</td>\n",
       "      <td>https://link.springer.com/content/pdf/10.1057/...</td>\n",
       "    </tr>\n",
       "    <tr>\n",
       "      <th>2</th>\n",
       "      <td>first_purchase</td>\n",
       "      <td>Time in month since the first purchase in 2011</td>\n",
       "      <td>retail</td>\n",
       "      <td>customer segmentation</td>\n",
       "      <td>https://link.springer.com/content/pdf/10.1057/...</td>\n",
       "    </tr>\n",
       "    <tr>\n",
       "      <th>3</th>\n",
       "      <td>frequency_per_postcode</td>\n",
       "      <td>Frequency of purchase per postcode</td>\n",
       "      <td>retail</td>\n",
       "      <td>customer segmentation</td>\n",
       "      <td>https://link.springer.com/content/pdf/10.1057/...</td>\n",
       "    </tr>\n",
       "    <tr>\n",
       "      <th>4</th>\n",
       "      <td>monetary_per_postcode</td>\n",
       "      <td>Total amount spent per postcode</td>\n",
       "      <td>retail</td>\n",
       "      <td>customer segmentation</td>\n",
       "      <td>https://link.springer.com/content/pdf/10.1057/...</td>\n",
       "    </tr>\n",
       "    <tr>\n",
       "      <th>5</th>\n",
       "      <td>postcode_minimum_spend</td>\n",
       "      <td>Minimum spending per postcode</td>\n",
       "      <td>retail</td>\n",
       "      <td>customer segmentation</td>\n",
       "      <td>https://link.springer.com/content/pdf/10.1057/...</td>\n",
       "    </tr>\n",
       "    <tr>\n",
       "      <th>6</th>\n",
       "      <td>postcode_maximum_spend</td>\n",
       "      <td>Maximum spending per postcode</td>\n",
       "      <td>retail</td>\n",
       "      <td>customer segmentation</td>\n",
       "      <td>https://link.springer.com/content/pdf/10.1057/...</td>\n",
       "    </tr>\n",
       "    <tr>\n",
       "      <th>7</th>\n",
       "      <td>postcode_median_spend</td>\n",
       "      <td>Median spending per postcode</td>\n",
       "      <td>retail</td>\n",
       "      <td>customer segmentation</td>\n",
       "      <td>https://link.springer.com/content/pdf/10.1057/...</td>\n",
       "    </tr>\n",
       "  </tbody>\n",
       "</table>\n",
       "</div>"
      ],
      "text/plain": [
       "             Feature Name                                Feature Description  \\\n",
       "0           recency value  The last time the customer has made a transaction   \n",
       "1                   buyer            Corresponding to each distinct postcode   \n",
       "2          first_purchase     Time in month since the first purchase in 2011   \n",
       "3  frequency_per_postcode                 Frequency of purchase per postcode   \n",
       "4   monetary_per_postcode                    Total amount spent per postcode   \n",
       "5  postcode_minimum_spend                      Minimum spending per postcode   \n",
       "6  postcode_maximum_spend                      Maximum spending per postcode   \n",
       "7   postcode_median_spend                       Median spending per postcode   \n",
       "\n",
       "  Industry                Usecase  \\\n",
       "0   retail  customer segmentation   \n",
       "1   retail  customer segmentation   \n",
       "2   retail  customer segmentation   \n",
       "3   retail  customer segmentation   \n",
       "4   retail  customer segmentation   \n",
       "5   retail  customer segmentation   \n",
       "6   retail  customer segmentation   \n",
       "7   retail  customer segmentation   \n",
       "\n",
       "                                              Source  \n",
       "0  https://link.springer.com/content/pdf/10.1057/...  \n",
       "1  https://link.springer.com/content/pdf/10.1057/...  \n",
       "2  https://link.springer.com/content/pdf/10.1057/...  \n",
       "3  https://link.springer.com/content/pdf/10.1057/...  \n",
       "4  https://link.springer.com/content/pdf/10.1057/...  \n",
       "5  https://link.springer.com/content/pdf/10.1057/...  \n",
       "6  https://link.springer.com/content/pdf/10.1057/...  \n",
       "7  https://link.springer.com/content/pdf/10.1057/...  "
      ]
     },
     "execution_count": 16,
     "metadata": {},
     "output_type": "execute_result"
    }
   ],
   "source": [
    "list_feature_by_pair('sale', 'sort customer')"
   ]
  },
  {
   "cell_type": "markdown",
   "id": "bff67dfe",
   "metadata": {},
   "source": [
    "## Feature Recommendation\n",
    "\n",
    "Feature Recommendation is the second part of Feature Recommender. It is to recommend features to users based on their input attributes, and provide a comprehensive mapping method from their own input attribute to either available features, or their own feature corpus."
   ]
  },
  {
   "cell_type": "markdown",
   "id": "ddc7d0eb",
   "metadata": {},
   "source": [
    "### Example User Input Attribute Dictionary"
   ]
  },
  {
   "cell_type": "markdown",
   "id": "f6ffe99e",
   "metadata": {},
   "source": [
    "To test out the functions in Feature Recommendation part, User Input Attribute Dictionary is required. In this notebook, we will use 2 Example User Input Attribute Dictionaries"
   ]
  },
  {
   "cell_type": "markdown",
   "id": "c98d9c97",
   "metadata": {},
   "source": [
    "First Attribute Dictionary is churn attributes for Telecoms"
   ]
  },
  {
   "cell_type": "code",
   "execution_count": 17,
   "id": "9bda6c0c",
   "metadata": {},
   "outputs": [
    {
     "data": {
      "text/html": [
       "<div>\n",
       "<style scoped>\n",
       "    .dataframe tbody tr th:only-of-type {\n",
       "        vertical-align: middle;\n",
       "    }\n",
       "\n",
       "    .dataframe tbody tr th {\n",
       "        vertical-align: top;\n",
       "    }\n",
       "\n",
       "    .dataframe thead th {\n",
       "        text-align: right;\n",
       "    }\n",
       "</style>\n",
       "<table border=\"1\" class=\"dataframe\">\n",
       "  <thead>\n",
       "    <tr style=\"text-align: right;\">\n",
       "      <th></th>\n",
       "      <th>Attribute Name</th>\n",
       "      <th>Attribute Description</th>\n",
       "    </tr>\n",
       "  </thead>\n",
       "  <tbody>\n",
       "    <tr>\n",
       "      <th>0</th>\n",
       "      <td>churn</td>\n",
       "      <td>1 if customer cancelled service, 0 if not</td>\n",
       "    </tr>\n",
       "    <tr>\n",
       "      <th>1</th>\n",
       "      <td>AccountWeeks</td>\n",
       "      <td>number of weeks customer has had active account</td>\n",
       "    </tr>\n",
       "    <tr>\n",
       "      <th>2</th>\n",
       "      <td>ContractRenewal</td>\n",
       "      <td>1 if customer recently renewed contract, 0 if not</td>\n",
       "    </tr>\n",
       "    <tr>\n",
       "      <th>3</th>\n",
       "      <td>DataPlan</td>\n",
       "      <td>1 if customer has data plan, 0 if not</td>\n",
       "    </tr>\n",
       "    <tr>\n",
       "      <th>4</th>\n",
       "      <td>DataUsage</td>\n",
       "      <td>gigabytes of monthly data usage</td>\n",
       "    </tr>\n",
       "    <tr>\n",
       "      <th>5</th>\n",
       "      <td>CustServCalls</td>\n",
       "      <td>number of calls into customer service</td>\n",
       "    </tr>\n",
       "    <tr>\n",
       "      <th>6</th>\n",
       "      <td>DayMins</td>\n",
       "      <td>average daytime minutes per month</td>\n",
       "    </tr>\n",
       "    <tr>\n",
       "      <th>7</th>\n",
       "      <td>DayCalls</td>\n",
       "      <td>average number of daytime calls</td>\n",
       "    </tr>\n",
       "    <tr>\n",
       "      <th>8</th>\n",
       "      <td>MonthlyCharge</td>\n",
       "      <td>average monthly bill</td>\n",
       "    </tr>\n",
       "    <tr>\n",
       "      <th>9</th>\n",
       "      <td>OverageFee</td>\n",
       "      <td>largest overage fee in last 12 months</td>\n",
       "    </tr>\n",
       "  </tbody>\n",
       "</table>\n",
       "</div>"
      ],
      "text/plain": [
       "    Attribute Name                              Attribute Description\n",
       "0            churn          1 if customer cancelled service, 0 if not\n",
       "1     AccountWeeks    number of weeks customer has had active account\n",
       "2  ContractRenewal  1 if customer recently renewed contract, 0 if not\n",
       "3         DataPlan              1 if customer has data plan, 0 if not\n",
       "4        DataUsage                    gigabytes of monthly data usage\n",
       "5    CustServCalls              number of calls into customer service\n",
       "6          DayMins                  average daytime minutes per month\n",
       "7         DayCalls                    average number of daytime calls\n",
       "8    MonthlyCharge                               average monthly bill\n",
       "9       OverageFee              largest overage fee in last 12 months"
      ]
     },
     "execution_count": 17,
     "metadata": {},
     "output_type": "execute_result"
    }
   ],
   "source": [
    "import pandas as pd\n",
    "\n",
    "df_attr_1 = pd.read_csv(\n",
    "    'https://raw.githubusercontent.com/anovos/anovos/feature_recommender_beta/data/feature_recommender/test_input_fr.csv'\n",
    ")\n",
    "df_attr_1"
   ]
  },
  {
   "cell_type": "markdown",
   "id": "4af06157",
   "metadata": {},
   "source": [
    "Second Attribute Dictionary is mobility pricing attributes for Transportation services "
   ]
  },
  {
   "cell_type": "code",
   "execution_count": 18,
   "id": "3e0bc15b",
   "metadata": {},
   "outputs": [
    {
     "data": {
      "text/html": [
       "<div>\n",
       "<style scoped>\n",
       "    .dataframe tbody tr th:only-of-type {\n",
       "        vertical-align: middle;\n",
       "    }\n",
       "\n",
       "    .dataframe tbody tr th {\n",
       "        vertical-align: top;\n",
       "    }\n",
       "\n",
       "    .dataframe thead th {\n",
       "        text-align: right;\n",
       "    }\n",
       "</style>\n",
       "<table border=\"1\" class=\"dataframe\">\n",
       "  <thead>\n",
       "    <tr style=\"text-align: right;\">\n",
       "      <th></th>\n",
       "      <th>Name</th>\n",
       "      <th>Desc</th>\n",
       "      <th>Industry</th>\n",
       "      <th>Usecase</th>\n",
       "    </tr>\n",
       "  </thead>\n",
       "  <tbody>\n",
       "    <tr>\n",
       "      <th>0</th>\n",
       "      <td>key</td>\n",
       "      <td>a unique identifier for each trip</td>\n",
       "      <td>Transportation</td>\n",
       "      <td>Ridepooling Pricing</td>\n",
       "    </tr>\n",
       "    <tr>\n",
       "      <th>1</th>\n",
       "      <td>fare_amount</td>\n",
       "      <td>the cost of each trip in usd</td>\n",
       "      <td>Transportation</td>\n",
       "      <td>Ridepooling Pricing</td>\n",
       "    </tr>\n",
       "    <tr>\n",
       "      <th>2</th>\n",
       "      <td>pickup_datetime</td>\n",
       "      <td>date and time where the meter was engaged</td>\n",
       "      <td>Transportation</td>\n",
       "      <td>Ridepooling Pricing</td>\n",
       "    </tr>\n",
       "    <tr>\n",
       "      <th>3</th>\n",
       "      <td>passenger_count</td>\n",
       "      <td>the number of passengers in the vehicle (drive...</td>\n",
       "      <td>Transportation</td>\n",
       "      <td>Ridepooling Pricing</td>\n",
       "    </tr>\n",
       "    <tr>\n",
       "      <th>4</th>\n",
       "      <td>pickup_longitude</td>\n",
       "      <td>the longitude where the meter was engaged</td>\n",
       "      <td>Transportation</td>\n",
       "      <td>Ridepooling Pricing</td>\n",
       "    </tr>\n",
       "    <tr>\n",
       "      <th>5</th>\n",
       "      <td>pickup_latitude</td>\n",
       "      <td>the latitude where the meter was engaged</td>\n",
       "      <td>Transportation</td>\n",
       "      <td>Ridepooling Pricing</td>\n",
       "    </tr>\n",
       "    <tr>\n",
       "      <th>6</th>\n",
       "      <td>dropoff_longitude</td>\n",
       "      <td>the longitude where the meter was disengaged</td>\n",
       "      <td>Transportation</td>\n",
       "      <td>Ridepooling Pricing</td>\n",
       "    </tr>\n",
       "    <tr>\n",
       "      <th>7</th>\n",
       "      <td>dropoff_latitude</td>\n",
       "      <td>the latitude where the meter was disengaged</td>\n",
       "      <td>Transportation</td>\n",
       "      <td>Ridepooling Pricing</td>\n",
       "    </tr>\n",
       "  </tbody>\n",
       "</table>\n",
       "</div>"
      ],
      "text/plain": [
       "                Name                                               Desc  \\\n",
       "0                key                  a unique identifier for each trip   \n",
       "1        fare_amount                       the cost of each trip in usd   \n",
       "2    pickup_datetime          date and time where the meter was engaged   \n",
       "3    passenger_count  the number of passengers in the vehicle (drive...   \n",
       "4   pickup_longitude          the longitude where the meter was engaged   \n",
       "5    pickup_latitude           the latitude where the meter was engaged   \n",
       "6  dropoff_longitude       the longitude where the meter was disengaged   \n",
       "7   dropoff_latitude        the latitude where the meter was disengaged   \n",
       "\n",
       "         Industry              Usecase  \n",
       "0  Transportation  Ridepooling Pricing  \n",
       "1  Transportation  Ridepooling Pricing  \n",
       "2  Transportation  Ridepooling Pricing  \n",
       "3  Transportation  Ridepooling Pricing  \n",
       "4  Transportation  Ridepooling Pricing  \n",
       "5  Transportation  Ridepooling Pricing  \n",
       "6  Transportation  Ridepooling Pricing  \n",
       "7  Transportation  Ridepooling Pricing  "
      ]
     },
     "execution_count": 18,
     "metadata": {},
     "output_type": "execute_result"
    }
   ],
   "source": [
    "import pandas as pd\n",
    "\n",
    "df_attr_2 = pd.read_csv(\n",
    "    'https://raw.githubusercontent.com/anovos/anovos/feature_recommender_beta/data/feature_recommender/test_input_fr_2.csv'\n",
    ")\n",
    "df_attr_2"
   ]
  },
  {
   "cell_type": "markdown",
   "id": "742a2b0e",
   "metadata": {},
   "source": [
    "### feature_recommendation(df, name_column=None, desc_column=None, suggested_industry='all',suggested_usecase='all', semantic=True, top_n=2, threshold=0.3)\n",
    "Argument: \n",
    "- df(DataFrame): Input User Attribute Dictionary\n",
    "- name_column(string): Name of the column contains attribute names. Default is `None`\n",
    "- desc_column(string): Name of the column contains attribute description. Default is `None`\n",
    "- suggested_industry(string): Input goal industry from user. Default is `all`\n",
    "- suggested_usecase(string): Input goal usecase from user. Default is `all`\n",
    "- semantic(boolean): Whether the input needs to go through semantic matching or not. Default is `True`\n",
    "- top_n(int): Number of most similar features displayed matched to input attributes. Default is `2`\n",
    "- threshold(float): Floor limit of the similarity score to be matched. Default is `0.3`\n",
    "\n",
    "This function recommends features to users based on their input attributes, and their goal industry and/or use case"
   ]
  },
  {
   "cell_type": "markdown",
   "id": "429bdb14",
   "metadata": {},
   "source": [
    "The output is returned in the form of a DataFrame. Columns are:\n",
    "\n",
    "- Input Attribute Name: Name of the input Attribute\n",
    "- Input Attribute Description: Description of the input Attribute\n",
    "- Recommended Feature Name: Name of the recommended Feature\n",
    "- Recommended Feature Description: Description of the recommended Feature\n",
    "- Feature Similarity Score: Semantic similarity score between input Attribute and recommended Feature\n",
    "- Industry: Industry name of the recommended Feature\n",
    "- Usecase: Usecase name of the recommended Feature\n",
    "- Source: Source of the recommended Feature"
   ]
  },
  {
   "cell_type": "markdown",
   "id": "5d3617c9",
   "metadata": {},
   "source": [
    "First, we will try with First User Attribute Dictionary example, with `name_column` set to `Attribute Name` and `desc_column` set to `Attribute Description`. All other arguments stay with their default values."
   ]
  },
  {
   "cell_type": "code",
   "execution_count": 19,
   "id": "e7b4a86f",
   "metadata": {},
   "outputs": [
    {
     "data": {
      "text/html": [
       "<div>\n",
       "<style scoped>\n",
       "    .dataframe tbody tr th:only-of-type {\n",
       "        vertical-align: middle;\n",
       "    }\n",
       "\n",
       "    .dataframe tbody tr th {\n",
       "        vertical-align: top;\n",
       "    }\n",
       "\n",
       "    .dataframe thead th {\n",
       "        text-align: right;\n",
       "    }\n",
       "</style>\n",
       "<table border=\"1\" class=\"dataframe\">\n",
       "  <thead>\n",
       "    <tr style=\"text-align: right;\">\n",
       "      <th></th>\n",
       "      <th>Input Attribute Name</th>\n",
       "      <th>Input Attribute Description</th>\n",
       "      <th>Recommended Feature Name</th>\n",
       "      <th>Recommended Feature Description</th>\n",
       "      <th>Feature Similarity Score</th>\n",
       "      <th>Industry</th>\n",
       "      <th>Usecase</th>\n",
       "      <th>Source</th>\n",
       "    </tr>\n",
       "  </thead>\n",
       "  <tbody>\n",
       "    <tr>\n",
       "      <th>0</th>\n",
       "      <td>churn</td>\n",
       "      <td>1 if customer cancelled service, 0 if not</td>\n",
       "      <td>churn probability</td>\n",
       "      <td>the percentage of users that discontinue subsc...</td>\n",
       "      <td>0.7258</td>\n",
       "      <td>banking financial service and insurance</td>\n",
       "      <td>customer lifetime value prediction</td>\n",
       "      <td>https://www.researchgate.net/publication/26168...</td>\n",
       "    </tr>\n",
       "    <tr>\n",
       "      <th>1</th>\n",
       "      <td>churn</td>\n",
       "      <td>1 if customer cancelled service, 0 if not</td>\n",
       "      <td>Status</td>\n",
       "      <td>Either 1 for churn or 0 for non-churn</td>\n",
       "      <td>0.6963</td>\n",
       "      <td>healthcare</td>\n",
       "      <td>patient churn</td>\n",
       "      <td>http://www.ieomsociety.org/singapore2021/paper...</td>\n",
       "    </tr>\n",
       "    <tr>\n",
       "      <th>2</th>\n",
       "      <td>AccountWeeks</td>\n",
       "      <td>number of weeks customer has had active account</td>\n",
       "      <td>years of credit history</td>\n",
       "      <td>The years since the first entry in the custome...</td>\n",
       "      <td>0.5499</td>\n",
       "      <td>banking financial service and insurance</td>\n",
       "      <td>credit risk modeling</td>\n",
       "      <td>https://www.kaggle.com/c/credit-risk-modeling-...</td>\n",
       "    </tr>\n",
       "    <tr>\n",
       "      <th>3</th>\n",
       "      <td>AccountWeeks</td>\n",
       "      <td>number of weeks customer has had active account</td>\n",
       "      <td>length of customer association</td>\n",
       "      <td>Number of years the customer is associated wit...</td>\n",
       "      <td>0.5445</td>\n",
       "      <td>banking financial service and insurance</td>\n",
       "      <td>customer churn prediction</td>\n",
       "      <td>https://www.researchgate.net/publication/30638...</td>\n",
       "    </tr>\n",
       "    <tr>\n",
       "      <th>4</th>\n",
       "      <td>ContractRenewal</td>\n",
       "      <td>1 if customer recently renewed contract, 0 if not</td>\n",
       "      <td>contract</td>\n",
       "      <td>type of customer contract (Month to month, on...</td>\n",
       "      <td>0.5738</td>\n",
       "      <td>telecommunication</td>\n",
       "      <td>customer churn prediction, customer segmentation</td>\n",
       "      <td>https://link.springer.com/article/10.1057/dbm....</td>\n",
       "    </tr>\n",
       "    <tr>\n",
       "      <th>5</th>\n",
       "      <td>ContractRenewal</td>\n",
       "      <td>1 if customer recently renewed contract, 0 if not</td>\n",
       "      <td>new customer</td>\n",
       "      <td>New customer flag. 1 if the customer registere...</td>\n",
       "      <td>0.5197</td>\n",
       "      <td>banking financial service and insurance</td>\n",
       "      <td>recommender system</td>\n",
       "      <td>https://github.com/anshuljdhingra/Bank-Recomme...</td>\n",
       "    </tr>\n",
       "    <tr>\n",
       "      <th>6</th>\n",
       "      <td>DataPlan</td>\n",
       "      <td>1 if customer has data plan, 0 if not</td>\n",
       "      <td>Internet Connectivity</td>\n",
       "      <td>WIFI or Cellular Data Usage for the device</td>\n",
       "      <td>0.5072</td>\n",
       "      <td>banking financial service and insurance, trans...</td>\n",
       "      <td>age and gender prediction, high value customer...</td>\n",
       "      <td>https://ieeexplore.ieee.org/document/9006106, ...</td>\n",
       "    </tr>\n",
       "    <tr>\n",
       "      <th>7</th>\n",
       "      <td>DataPlan</td>\n",
       "      <td>1 if customer has data plan, 0 if not</td>\n",
       "      <td>subscriber's plan</td>\n",
       "      <td>Subscriber plan</td>\n",
       "      <td>0.4921</td>\n",
       "      <td>telecommunication</td>\n",
       "      <td>sim swap detection</td>\n",
       "      <td>https://logrhythm.com/telecommunication-use-ca...</td>\n",
       "    </tr>\n",
       "    <tr>\n",
       "      <th>8</th>\n",
       "      <td>DataUsage</td>\n",
       "      <td>gigabytes of monthly data usage</td>\n",
       "      <td>Cellular Data Usage</td>\n",
       "      <td>Cellular data is more expensive than WIFI data_</td>\n",
       "      <td>0.5012</td>\n",
       "      <td>banking financial service and insurance</td>\n",
       "      <td>credit scoring using mobile engagement data</td>\n",
       "      <td>https://www.mobilewalla.com/financial-services</td>\n",
       "    </tr>\n",
       "    <tr>\n",
       "      <th>9</th>\n",
       "      <td>DataUsage</td>\n",
       "      <td>gigabytes of monthly data usage</td>\n",
       "      <td>basic phone use</td>\n",
       "      <td>number of calls, number of texts</td>\n",
       "      <td>0.5010</td>\n",
       "      <td>telecommunication</td>\n",
       "      <td>personality prediction</td>\n",
       "      <td>https://web.media.mit.edu/~yva/papers/deMontjo...</td>\n",
       "    </tr>\n",
       "    <tr>\n",
       "      <th>10</th>\n",
       "      <td>CustServCalls</td>\n",
       "      <td>number of calls into customer service</td>\n",
       "      <td>number customer service calls</td>\n",
       "      <td>Number of call to customer service</td>\n",
       "      <td>0.7691</td>\n",
       "      <td>telecommunication</td>\n",
       "      <td>customer churn prediction</td>\n",
       "      <td>https://www.researchgate.net/publication/28298...</td>\n",
       "    </tr>\n",
       "    <tr>\n",
       "      <th>11</th>\n",
       "      <td>CustServCalls</td>\n",
       "      <td>number of calls into customer service</td>\n",
       "      <td>num incoming calls</td>\n",
       "      <td>number of incoming calls</td>\n",
       "      <td>0.6401</td>\n",
       "      <td>telecommunication</td>\n",
       "      <td>fraud detection</td>\n",
       "      <td>https://www.sciencedirect.com/science/article/...</td>\n",
       "    </tr>\n",
       "    <tr>\n",
       "      <th>12</th>\n",
       "      <td>DayMins</td>\n",
       "      <td>average daytime minutes per month</td>\n",
       "      <td>total day minutes</td>\n",
       "      <td>Daily total talk time</td>\n",
       "      <td>0.6274</td>\n",
       "      <td>telecommunication</td>\n",
       "      <td>customer churn prediction, telco-based credit ...</td>\n",
       "      <td>https://www.researchgate.net/publication/31408...</td>\n",
       "    </tr>\n",
       "    <tr>\n",
       "      <th>13</th>\n",
       "      <td>DayMins</td>\n",
       "      <td>average daytime minutes per month</td>\n",
       "      <td>Average number of visits per day</td>\n",
       "      <td>Average number of visits per day</td>\n",
       "      <td>0.5536</td>\n",
       "      <td>healthcare</td>\n",
       "      <td>length of stay prediction</td>\n",
       "      <td>https://pdfs.semanticscholar.org/51aa/cfcf3f3c...</td>\n",
       "    </tr>\n",
       "    <tr>\n",
       "      <th>14</th>\n",
       "      <td>DayCalls</td>\n",
       "      <td>average number of daytime calls</td>\n",
       "      <td>Average number of visits per day</td>\n",
       "      <td>Average number of visits per day</td>\n",
       "      <td>0.6624</td>\n",
       "      <td>healthcare</td>\n",
       "      <td>length of stay prediction</td>\n",
       "      <td>https://pdfs.semanticscholar.org/51aa/cfcf3f3c...</td>\n",
       "    </tr>\n",
       "    <tr>\n",
       "      <th>15</th>\n",
       "      <td>DayCalls</td>\n",
       "      <td>average number of daytime calls</td>\n",
       "      <td>total day minutes</td>\n",
       "      <td>Daily total talk time</td>\n",
       "      <td>0.6476</td>\n",
       "      <td>telecommunication</td>\n",
       "      <td>customer churn prediction, telco-based credit ...</td>\n",
       "      <td>https://www.researchgate.net/publication/31408...</td>\n",
       "    </tr>\n",
       "    <tr>\n",
       "      <th>16</th>\n",
       "      <td>MonthlyCharge</td>\n",
       "      <td>average monthly bill</td>\n",
       "      <td>monthlycharges</td>\n",
       "      <td>current monthly payment</td>\n",
       "      <td>0.7087</td>\n",
       "      <td>telecommunication</td>\n",
       "      <td>customer churn prediction</td>\n",
       "      <td>https://www.kaggle.com/radmirzosimov/telecom-u...</td>\n",
       "    </tr>\n",
       "    <tr>\n",
       "      <th>17</th>\n",
       "      <td>MonthlyCharge</td>\n",
       "      <td>average monthly bill</td>\n",
       "      <td>payment amount average</td>\n",
       "      <td>Average payment amount</td>\n",
       "      <td>0.6110</td>\n",
       "      <td>telecommunication</td>\n",
       "      <td>customer segmentation</td>\n",
       "      <td>https://link.springer.com/article/10.1057/dbm....</td>\n",
       "    </tr>\n",
       "    <tr>\n",
       "      <th>18</th>\n",
       "      <td>OverageFee</td>\n",
       "      <td>largest overage fee in last 12 months</td>\n",
       "      <td>monthlycharges</td>\n",
       "      <td>current monthly payment</td>\n",
       "      <td>0.4173</td>\n",
       "      <td>telecommunication</td>\n",
       "      <td>customer churn prediction</td>\n",
       "      <td>https://www.kaggle.com/radmirzosimov/telecom-u...</td>\n",
       "    </tr>\n",
       "    <tr>\n",
       "      <th>19</th>\n",
       "      <td>OverageFee</td>\n",
       "      <td>largest overage fee in last 12 months</td>\n",
       "      <td>Cellular Carrier</td>\n",
       "      <td>Certain carrier services are more expensive th...</td>\n",
       "      <td>0.3771</td>\n",
       "      <td>banking financial service and insurance</td>\n",
       "      <td>credit scoring using mobile engagement data</td>\n",
       "      <td>https://www.mobilewalla.com/financial-services</td>\n",
       "    </tr>\n",
       "  </tbody>\n",
       "</table>\n",
       "</div>"
      ],
      "text/plain": [
       "   Input Attribute Name                        Input Attribute Description  \\\n",
       "0                 churn          1 if customer cancelled service, 0 if not   \n",
       "1                 churn          1 if customer cancelled service, 0 if not   \n",
       "2          AccountWeeks    number of weeks customer has had active account   \n",
       "3          AccountWeeks    number of weeks customer has had active account   \n",
       "4       ContractRenewal  1 if customer recently renewed contract, 0 if not   \n",
       "5       ContractRenewal  1 if customer recently renewed contract, 0 if not   \n",
       "6              DataPlan              1 if customer has data plan, 0 if not   \n",
       "7              DataPlan              1 if customer has data plan, 0 if not   \n",
       "8             DataUsage                    gigabytes of monthly data usage   \n",
       "9             DataUsage                    gigabytes of monthly data usage   \n",
       "10        CustServCalls              number of calls into customer service   \n",
       "11        CustServCalls              number of calls into customer service   \n",
       "12              DayMins                  average daytime minutes per month   \n",
       "13              DayMins                  average daytime minutes per month   \n",
       "14             DayCalls                    average number of daytime calls   \n",
       "15             DayCalls                    average number of daytime calls   \n",
       "16        MonthlyCharge                               average monthly bill   \n",
       "17        MonthlyCharge                               average monthly bill   \n",
       "18           OverageFee              largest overage fee in last 12 months   \n",
       "19           OverageFee              largest overage fee in last 12 months   \n",
       "\n",
       "            Recommended Feature Name  \\\n",
       "0                  churn probability   \n",
       "1                             Status   \n",
       "2            years of credit history   \n",
       "3     length of customer association   \n",
       "4                           contract   \n",
       "5                       new customer   \n",
       "6              Internet Connectivity   \n",
       "7                  subscriber's plan   \n",
       "8               Cellular Data Usage    \n",
       "9                    basic phone use   \n",
       "10     number customer service calls   \n",
       "11                num incoming calls   \n",
       "12                 total day minutes   \n",
       "13  Average number of visits per day   \n",
       "14  Average number of visits per day   \n",
       "15                 total day minutes   \n",
       "16                    monthlycharges   \n",
       "17            payment amount average   \n",
       "18                    monthlycharges   \n",
       "19                 Cellular Carrier    \n",
       "\n",
       "                      Recommended Feature Description  \\\n",
       "0   the percentage of users that discontinue subsc...   \n",
       "1               Either 1 for churn or 0 for non-churn   \n",
       "2   The years since the first entry in the custome...   \n",
       "3   Number of years the customer is associated wit...   \n",
       "4    type of customer contract (Month to month, on...   \n",
       "5   New customer flag. 1 if the customer registere...   \n",
       "6          WIFI or Cellular Data Usage for the device   \n",
       "7                                     Subscriber plan   \n",
       "8     Cellular data is more expensive than WIFI data_   \n",
       "9                    number of calls, number of texts   \n",
       "10                 Number of call to customer service   \n",
       "11                           number of incoming calls   \n",
       "12                              Daily total talk time   \n",
       "13                   Average number of visits per day   \n",
       "14                   Average number of visits per day   \n",
       "15                              Daily total talk time   \n",
       "16                            current monthly payment   \n",
       "17                             Average payment amount   \n",
       "18                            current monthly payment   \n",
       "19  Certain carrier services are more expensive th...   \n",
       "\n",
       "   Feature Similarity Score  \\\n",
       "0                    0.7258   \n",
       "1                    0.6963   \n",
       "2                    0.5499   \n",
       "3                    0.5445   \n",
       "4                    0.5738   \n",
       "5                    0.5197   \n",
       "6                    0.5072   \n",
       "7                    0.4921   \n",
       "8                    0.5012   \n",
       "9                    0.5010   \n",
       "10                   0.7691   \n",
       "11                   0.6401   \n",
       "12                   0.6274   \n",
       "13                   0.5536   \n",
       "14                   0.6624   \n",
       "15                   0.6476   \n",
       "16                   0.7087   \n",
       "17                   0.6110   \n",
       "18                   0.4173   \n",
       "19                   0.3771   \n",
       "\n",
       "                                             Industry  \\\n",
       "0             banking financial service and insurance   \n",
       "1                                          healthcare   \n",
       "2             banking financial service and insurance   \n",
       "3             banking financial service and insurance   \n",
       "4                                   telecommunication   \n",
       "5             banking financial service and insurance   \n",
       "6   banking financial service and insurance, trans...   \n",
       "7                                   telecommunication   \n",
       "8             banking financial service and insurance   \n",
       "9                                   telecommunication   \n",
       "10                                  telecommunication   \n",
       "11                                  telecommunication   \n",
       "12                                  telecommunication   \n",
       "13                                         healthcare   \n",
       "14                                         healthcare   \n",
       "15                                  telecommunication   \n",
       "16                                  telecommunication   \n",
       "17                                  telecommunication   \n",
       "18                                  telecommunication   \n",
       "19            banking financial service and insurance   \n",
       "\n",
       "                                              Usecase  \\\n",
       "0                  customer lifetime value prediction   \n",
       "1                                       patient churn   \n",
       "2                                credit risk modeling   \n",
       "3                           customer churn prediction   \n",
       "4    customer churn prediction, customer segmentation   \n",
       "5                                  recommender system   \n",
       "6   age and gender prediction, high value customer...   \n",
       "7                                  sim swap detection   \n",
       "8         credit scoring using mobile engagement data   \n",
       "9                              personality prediction   \n",
       "10                          customer churn prediction   \n",
       "11                                    fraud detection   \n",
       "12  customer churn prediction, telco-based credit ...   \n",
       "13                          length of stay prediction   \n",
       "14                          length of stay prediction   \n",
       "15  customer churn prediction, telco-based credit ...   \n",
       "16                          customer churn prediction   \n",
       "17                              customer segmentation   \n",
       "18                          customer churn prediction   \n",
       "19        credit scoring using mobile engagement data   \n",
       "\n",
       "                                               Source  \n",
       "0   https://www.researchgate.net/publication/26168...  \n",
       "1   http://www.ieomsociety.org/singapore2021/paper...  \n",
       "2   https://www.kaggle.com/c/credit-risk-modeling-...  \n",
       "3   https://www.researchgate.net/publication/30638...  \n",
       "4   https://link.springer.com/article/10.1057/dbm....  \n",
       "5   https://github.com/anshuljdhingra/Bank-Recomme...  \n",
       "6   https://ieeexplore.ieee.org/document/9006106, ...  \n",
       "7   https://logrhythm.com/telecommunication-use-ca...  \n",
       "8      https://www.mobilewalla.com/financial-services  \n",
       "9   https://web.media.mit.edu/~yva/papers/deMontjo...  \n",
       "10  https://www.researchgate.net/publication/28298...  \n",
       "11  https://www.sciencedirect.com/science/article/...  \n",
       "12  https://www.researchgate.net/publication/31408...  \n",
       "13  https://pdfs.semanticscholar.org/51aa/cfcf3f3c...  \n",
       "14  https://pdfs.semanticscholar.org/51aa/cfcf3f3c...  \n",
       "15  https://www.researchgate.net/publication/31408...  \n",
       "16  https://www.kaggle.com/radmirzosimov/telecom-u...  \n",
       "17  https://link.springer.com/article/10.1057/dbm....  \n",
       "18  https://www.kaggle.com/radmirzosimov/telecom-u...  \n",
       "19     https://www.mobilewalla.com/financial-services  "
      ]
     },
     "execution_count": 19,
     "metadata": {},
     "output_type": "execute_result"
    }
   ],
   "source": [
    "feature_recommendation(df_attr_1, name_column='Attribute Name', desc_column='Attribute Description')"
   ]
  },
  {
   "cell_type": "markdown",
   "id": "8cc7deb1",
   "metadata": {},
   "source": [
    "We can see that every attribute is matched to 2 features that they have the highest similarity score with. For example, `AccountWeeks` attribute to `year of credit history` and `length of customer association` features."
   ]
  },
  {
   "cell_type": "markdown",
   "id": "1034d595",
   "metadata": {},
   "source": [
    "Next, let's say, with these input attributes, users want to explore only `telecoms` industry and `churn prediction` usecase related features. \n",
    "\n",
    "We will set `suggested_industry` to `telecoms` and `suggested_usecase` to `churn prediction` and run the function again"
   ]
  },
  {
   "cell_type": "code",
   "execution_count": 20,
   "id": "8f052e10",
   "metadata": {},
   "outputs": [
    {
     "name": "stdout",
     "output_type": "stream",
     "text": [
      "Input Industry not available. Showing the most semantically relevant Usecase result:  telecommunication\n",
      "Input Usecase not available. Showing the most semantically relevant Usecase result:  customer churn prediction\n"
     ]
    },
    {
     "data": {
      "text/html": [
       "<div>\n",
       "<style scoped>\n",
       "    .dataframe tbody tr th:only-of-type {\n",
       "        vertical-align: middle;\n",
       "    }\n",
       "\n",
       "    .dataframe tbody tr th {\n",
       "        vertical-align: top;\n",
       "    }\n",
       "\n",
       "    .dataframe thead th {\n",
       "        text-align: right;\n",
       "    }\n",
       "</style>\n",
       "<table border=\"1\" class=\"dataframe\">\n",
       "  <thead>\n",
       "    <tr style=\"text-align: right;\">\n",
       "      <th></th>\n",
       "      <th>Input Attribute Name</th>\n",
       "      <th>Input Attribute Description</th>\n",
       "      <th>Recommended Feature Name</th>\n",
       "      <th>Recommended Feature Description</th>\n",
       "      <th>Feature Similarity Score</th>\n",
       "      <th>Industry</th>\n",
       "      <th>Usecase</th>\n",
       "      <th>Source</th>\n",
       "    </tr>\n",
       "  </thead>\n",
       "  <tbody>\n",
       "    <tr>\n",
       "      <th>0</th>\n",
       "      <td>churn</td>\n",
       "      <td>1 if customer cancelled service, 0 if not</td>\n",
       "      <td>retired flag</td>\n",
       "      <td>is the client retired (1, 0)</td>\n",
       "      <td>0.4096</td>\n",
       "      <td>telecommunication, healthcare, banking financi...</td>\n",
       "      <td>customer churn prediction, fraud detection, st...</td>\n",
       "      <td>https://www.kaggle.com/mathchi/churn-for-bank-...</td>\n",
       "    </tr>\n",
       "    <tr>\n",
       "      <th>1</th>\n",
       "      <td>churn</td>\n",
       "      <td>1 if customer cancelled service, 0 if not</td>\n",
       "      <td>number customer service calls</td>\n",
       "      <td>Number of call to customer service</td>\n",
       "      <td>0.4075</td>\n",
       "      <td>telecommunication</td>\n",
       "      <td>customer churn prediction</td>\n",
       "      <td>https://www.researchgate.net/publication/28298...</td>\n",
       "    </tr>\n",
       "    <tr>\n",
       "      <th>2</th>\n",
       "      <td>AccountWeeks</td>\n",
       "      <td>number of weeks customer has had active account</td>\n",
       "      <td>last rech date ma</td>\n",
       "      <td>Number of days till last recharge of main account</td>\n",
       "      <td>0.4841</td>\n",
       "      <td>telecommunication</td>\n",
       "      <td>customer churn prediction</td>\n",
       "      <td>https://www.kaggle.com/sivakrishna3311/delinqu...</td>\n",
       "    </tr>\n",
       "    <tr>\n",
       "      <th>3</th>\n",
       "      <td>AccountWeeks</td>\n",
       "      <td>number of weeks customer has had active account</td>\n",
       "      <td>last rech date da</td>\n",
       "      <td>Number of days till last recharge of data account</td>\n",
       "      <td>0.4473</td>\n",
       "      <td>telecommunication</td>\n",
       "      <td>customer churn prediction</td>\n",
       "      <td>https://www.kaggle.com/sivakrishna3311/delinqu...</td>\n",
       "    </tr>\n",
       "    <tr>\n",
       "      <th>4</th>\n",
       "      <td>ContractRenewal</td>\n",
       "      <td>1 if customer recently renewed contract, 0 if not</td>\n",
       "      <td>contract</td>\n",
       "      <td>type of customer contract (Month to month, on...</td>\n",
       "      <td>0.5738</td>\n",
       "      <td>telecommunication</td>\n",
       "      <td>customer churn prediction, customer segmentation</td>\n",
       "      <td>https://link.springer.com/article/10.1057/dbm....</td>\n",
       "    </tr>\n",
       "    <tr>\n",
       "      <th>5</th>\n",
       "      <td>ContractRenewal</td>\n",
       "      <td>1 if customer recently renewed contract, 0 if not</td>\n",
       "      <td>tenure</td>\n",
       "      <td>Tenure of credit card service for user</td>\n",
       "      <td>0.3821</td>\n",
       "      <td>telecommunication, banking financial service a...</td>\n",
       "      <td>customer churn prediction, customer segmentation</td>\n",
       "      <td>https://www.kaggle.com/arjunbhasin2013/ccdata,...</td>\n",
       "    </tr>\n",
       "    <tr>\n",
       "      <th>6</th>\n",
       "      <td>DataPlan</td>\n",
       "      <td>1 if customer has data plan, 0 if not</td>\n",
       "      <td>contract</td>\n",
       "      <td>type of customer contract (Month to month, on...</td>\n",
       "      <td>0.4543</td>\n",
       "      <td>telecommunication</td>\n",
       "      <td>customer churn prediction, customer segmentation</td>\n",
       "      <td>https://link.springer.com/article/10.1057/dbm....</td>\n",
       "    </tr>\n",
       "    <tr>\n",
       "      <th>7</th>\n",
       "      <td>DataPlan</td>\n",
       "      <td>1 if customer has data plan, 0 if not</td>\n",
       "      <td>voice mail plan</td>\n",
       "      <td>Voice mail usage</td>\n",
       "      <td>0.4410</td>\n",
       "      <td>telecommunication</td>\n",
       "      <td>customer churn prediction</td>\n",
       "      <td>https://www.researchgate.net/publication/28298...</td>\n",
       "    </tr>\n",
       "    <tr>\n",
       "      <th>8</th>\n",
       "      <td>DataUsage</td>\n",
       "      <td>gigabytes of monthly data usage</td>\n",
       "      <td>monthlycharges</td>\n",
       "      <td>current monthly payment</td>\n",
       "      <td>0.4644</td>\n",
       "      <td>telecommunication</td>\n",
       "      <td>customer churn prediction</td>\n",
       "      <td>https://www.kaggle.com/radmirzosimov/telecom-u...</td>\n",
       "    </tr>\n",
       "    <tr>\n",
       "      <th>9</th>\n",
       "      <td>DataUsage</td>\n",
       "      <td>gigabytes of monthly data usage</td>\n",
       "      <td>last rech date da</td>\n",
       "      <td>Number of days till last recharge of data account</td>\n",
       "      <td>0.4275</td>\n",
       "      <td>telecommunication</td>\n",
       "      <td>customer churn prediction</td>\n",
       "      <td>https://www.kaggle.com/sivakrishna3311/delinqu...</td>\n",
       "    </tr>\n",
       "    <tr>\n",
       "      <th>10</th>\n",
       "      <td>CustServCalls</td>\n",
       "      <td>number of calls into customer service</td>\n",
       "      <td>number customer service calls</td>\n",
       "      <td>Number of call to customer service</td>\n",
       "      <td>0.7691</td>\n",
       "      <td>telecommunication</td>\n",
       "      <td>customer churn prediction</td>\n",
       "      <td>https://www.researchgate.net/publication/28298...</td>\n",
       "    </tr>\n",
       "    <tr>\n",
       "      <th>11</th>\n",
       "      <td>CustServCalls</td>\n",
       "      <td>number of calls into customer service</td>\n",
       "      <td>total intl calls</td>\n",
       "      <td>Total number of international call</td>\n",
       "      <td>0.4630</td>\n",
       "      <td>telecommunication</td>\n",
       "      <td>customer churn prediction, fraud detection</td>\n",
       "      <td>https://www.iiste.org/Journals/index.php/CEIS/...</td>\n",
       "    </tr>\n",
       "    <tr>\n",
       "      <th>12</th>\n",
       "      <td>DayMins</td>\n",
       "      <td>average daytime minutes per month</td>\n",
       "      <td>total day minutes</td>\n",
       "      <td>Daily total talk time</td>\n",
       "      <td>0.6274</td>\n",
       "      <td>telecommunication</td>\n",
       "      <td>customer churn prediction, telco-based credit ...</td>\n",
       "      <td>https://www.researchgate.net/publication/31408...</td>\n",
       "    </tr>\n",
       "    <tr>\n",
       "      <th>13</th>\n",
       "      <td>DayMins</td>\n",
       "      <td>average daytime minutes per month</td>\n",
       "      <td>total eve minutes</td>\n",
       "      <td>Total talk time in evening</td>\n",
       "      <td>0.5504</td>\n",
       "      <td>telecommunication</td>\n",
       "      <td>customer churn prediction</td>\n",
       "      <td>https://www.researchgate.net/publication/28298...</td>\n",
       "    </tr>\n",
       "    <tr>\n",
       "      <th>14</th>\n",
       "      <td>DayCalls</td>\n",
       "      <td>average number of daytime calls</td>\n",
       "      <td>total day minutes</td>\n",
       "      <td>Daily total talk time</td>\n",
       "      <td>0.6476</td>\n",
       "      <td>telecommunication</td>\n",
       "      <td>customer churn prediction, telco-based credit ...</td>\n",
       "      <td>https://www.researchgate.net/publication/31408...</td>\n",
       "    </tr>\n",
       "    <tr>\n",
       "      <th>15</th>\n",
       "      <td>DayCalls</td>\n",
       "      <td>average number of daytime calls</td>\n",
       "      <td>total eve minutes</td>\n",
       "      <td>Total talk time in evening</td>\n",
       "      <td>0.6002</td>\n",
       "      <td>telecommunication</td>\n",
       "      <td>customer churn prediction</td>\n",
       "      <td>https://www.researchgate.net/publication/28298...</td>\n",
       "    </tr>\n",
       "    <tr>\n",
       "      <th>16</th>\n",
       "      <td>MonthlyCharge</td>\n",
       "      <td>average monthly bill</td>\n",
       "      <td>monthlycharges</td>\n",
       "      <td>current monthly payment</td>\n",
       "      <td>0.7087</td>\n",
       "      <td>telecommunication</td>\n",
       "      <td>customer churn prediction</td>\n",
       "      <td>https://www.kaggle.com/radmirzosimov/telecom-u...</td>\n",
       "    </tr>\n",
       "    <tr>\n",
       "      <th>17</th>\n",
       "      <td>MonthlyCharge</td>\n",
       "      <td>average monthly bill</td>\n",
       "      <td>total day charge</td>\n",
       "      <td>Daily Total spent credits</td>\n",
       "      <td>0.5659</td>\n",
       "      <td>telecommunication</td>\n",
       "      <td>customer churn prediction</td>\n",
       "      <td>https://www.researchgate.net/publication/28298...</td>\n",
       "    </tr>\n",
       "    <tr>\n",
       "      <th>18</th>\n",
       "      <td>OverageFee</td>\n",
       "      <td>largest overage fee in last 12 months</td>\n",
       "      <td>monthlycharges</td>\n",
       "      <td>current monthly payment</td>\n",
       "      <td>0.4173</td>\n",
       "      <td>telecommunication</td>\n",
       "      <td>customer churn prediction</td>\n",
       "      <td>https://www.kaggle.com/radmirzosimov/telecom-u...</td>\n",
       "    </tr>\n",
       "    <tr>\n",
       "      <th>19</th>\n",
       "      <td>OverageFee</td>\n",
       "      <td>largest overage fee in last 12 months</td>\n",
       "      <td>totalcharges</td>\n",
       "      <td>total amount that the client paid for the serv...</td>\n",
       "      <td>0.3257</td>\n",
       "      <td>telecommunication</td>\n",
       "      <td>customer churn prediction</td>\n",
       "      <td>https://www.kaggle.com/radmirzosimov/telecom-u...</td>\n",
       "    </tr>\n",
       "  </tbody>\n",
       "</table>\n",
       "</div>"
      ],
      "text/plain": [
       "   Input Attribute Name                        Input Attribute Description  \\\n",
       "0                 churn          1 if customer cancelled service, 0 if not   \n",
       "1                 churn          1 if customer cancelled service, 0 if not   \n",
       "2          AccountWeeks    number of weeks customer has had active account   \n",
       "3          AccountWeeks    number of weeks customer has had active account   \n",
       "4       ContractRenewal  1 if customer recently renewed contract, 0 if not   \n",
       "5       ContractRenewal  1 if customer recently renewed contract, 0 if not   \n",
       "6              DataPlan              1 if customer has data plan, 0 if not   \n",
       "7              DataPlan              1 if customer has data plan, 0 if not   \n",
       "8             DataUsage                    gigabytes of monthly data usage   \n",
       "9             DataUsage                    gigabytes of monthly data usage   \n",
       "10        CustServCalls              number of calls into customer service   \n",
       "11        CustServCalls              number of calls into customer service   \n",
       "12              DayMins                  average daytime minutes per month   \n",
       "13              DayMins                  average daytime minutes per month   \n",
       "14             DayCalls                    average number of daytime calls   \n",
       "15             DayCalls                    average number of daytime calls   \n",
       "16        MonthlyCharge                               average monthly bill   \n",
       "17        MonthlyCharge                               average monthly bill   \n",
       "18           OverageFee              largest overage fee in last 12 months   \n",
       "19           OverageFee              largest overage fee in last 12 months   \n",
       "\n",
       "         Recommended Feature Name  \\\n",
       "0                    retired flag   \n",
       "1   number customer service calls   \n",
       "2               last rech date ma   \n",
       "3               last rech date da   \n",
       "4                        contract   \n",
       "5                          tenure   \n",
       "6                        contract   \n",
       "7                 voice mail plan   \n",
       "8                  monthlycharges   \n",
       "9               last rech date da   \n",
       "10  number customer service calls   \n",
       "11               total intl calls   \n",
       "12              total day minutes   \n",
       "13              total eve minutes   \n",
       "14              total day minutes   \n",
       "15              total eve minutes   \n",
       "16                 monthlycharges   \n",
       "17               total day charge   \n",
       "18                 monthlycharges   \n",
       "19                   totalcharges   \n",
       "\n",
       "                      Recommended Feature Description  \\\n",
       "0                        is the client retired (1, 0)   \n",
       "1                  Number of call to customer service   \n",
       "2   Number of days till last recharge of main account   \n",
       "3   Number of days till last recharge of data account   \n",
       "4    type of customer contract (Month to month, on...   \n",
       "5              Tenure of credit card service for user   \n",
       "6    type of customer contract (Month to month, on...   \n",
       "7                                    Voice mail usage   \n",
       "8                             current monthly payment   \n",
       "9   Number of days till last recharge of data account   \n",
       "10                 Number of call to customer service   \n",
       "11                 Total number of international call   \n",
       "12                              Daily total talk time   \n",
       "13                         Total talk time in evening   \n",
       "14                              Daily total talk time   \n",
       "15                         Total talk time in evening   \n",
       "16                            current monthly payment   \n",
       "17                          Daily Total spent credits   \n",
       "18                            current monthly payment   \n",
       "19  total amount that the client paid for the serv...   \n",
       "\n",
       "   Feature Similarity Score  \\\n",
       "0                    0.4096   \n",
       "1                    0.4075   \n",
       "2                    0.4841   \n",
       "3                    0.4473   \n",
       "4                    0.5738   \n",
       "5                    0.3821   \n",
       "6                    0.4543   \n",
       "7                    0.4410   \n",
       "8                    0.4644   \n",
       "9                    0.4275   \n",
       "10                   0.7691   \n",
       "11                   0.4630   \n",
       "12                   0.6274   \n",
       "13                   0.5504   \n",
       "14                   0.6476   \n",
       "15                   0.6002   \n",
       "16                   0.7087   \n",
       "17                   0.5659   \n",
       "18                   0.4173   \n",
       "19                   0.3257   \n",
       "\n",
       "                                             Industry  \\\n",
       "0   telecommunication, healthcare, banking financi...   \n",
       "1                                   telecommunication   \n",
       "2                                   telecommunication   \n",
       "3                                   telecommunication   \n",
       "4                                   telecommunication   \n",
       "5   telecommunication, banking financial service a...   \n",
       "6                                   telecommunication   \n",
       "7                                   telecommunication   \n",
       "8                                   telecommunication   \n",
       "9                                   telecommunication   \n",
       "10                                  telecommunication   \n",
       "11                                  telecommunication   \n",
       "12                                  telecommunication   \n",
       "13                                  telecommunication   \n",
       "14                                  telecommunication   \n",
       "15                                  telecommunication   \n",
       "16                                  telecommunication   \n",
       "17                                  telecommunication   \n",
       "18                                  telecommunication   \n",
       "19                                  telecommunication   \n",
       "\n",
       "                                              Usecase  \\\n",
       "0   customer churn prediction, fraud detection, st...   \n",
       "1                           customer churn prediction   \n",
       "2                           customer churn prediction   \n",
       "3                           customer churn prediction   \n",
       "4    customer churn prediction, customer segmentation   \n",
       "5    customer churn prediction, customer segmentation   \n",
       "6    customer churn prediction, customer segmentation   \n",
       "7                           customer churn prediction   \n",
       "8                           customer churn prediction   \n",
       "9                           customer churn prediction   \n",
       "10                          customer churn prediction   \n",
       "11         customer churn prediction, fraud detection   \n",
       "12  customer churn prediction, telco-based credit ...   \n",
       "13                          customer churn prediction   \n",
       "14  customer churn prediction, telco-based credit ...   \n",
       "15                          customer churn prediction   \n",
       "16                          customer churn prediction   \n",
       "17                          customer churn prediction   \n",
       "18                          customer churn prediction   \n",
       "19                          customer churn prediction   \n",
       "\n",
       "                                               Source  \n",
       "0   https://www.kaggle.com/mathchi/churn-for-bank-...  \n",
       "1   https://www.researchgate.net/publication/28298...  \n",
       "2   https://www.kaggle.com/sivakrishna3311/delinqu...  \n",
       "3   https://www.kaggle.com/sivakrishna3311/delinqu...  \n",
       "4   https://link.springer.com/article/10.1057/dbm....  \n",
       "5   https://www.kaggle.com/arjunbhasin2013/ccdata,...  \n",
       "6   https://link.springer.com/article/10.1057/dbm....  \n",
       "7   https://www.researchgate.net/publication/28298...  \n",
       "8   https://www.kaggle.com/radmirzosimov/telecom-u...  \n",
       "9   https://www.kaggle.com/sivakrishna3311/delinqu...  \n",
       "10  https://www.researchgate.net/publication/28298...  \n",
       "11  https://www.iiste.org/Journals/index.php/CEIS/...  \n",
       "12  https://www.researchgate.net/publication/31408...  \n",
       "13  https://www.researchgate.net/publication/28298...  \n",
       "14  https://www.researchgate.net/publication/31408...  \n",
       "15  https://www.researchgate.net/publication/28298...  \n",
       "16  https://www.kaggle.com/radmirzosimov/telecom-u...  \n",
       "17  https://www.researchgate.net/publication/28298...  \n",
       "18  https://www.kaggle.com/radmirzosimov/telecom-u...  \n",
       "19  https://www.kaggle.com/radmirzosimov/telecom-u...  "
      ]
     },
     "execution_count": 20,
     "metadata": {},
     "output_type": "execute_result"
    }
   ],
   "source": [
    "feature_recommendation(df_attr_1,\n",
    "                       name_column='Attribute Name',\n",
    "                       desc_column='Attribute Description',\n",
    "                       suggested_industry='telecoms',\n",
    "                       suggested_usecase='churn prediction')"
   ]
  },
  {
   "cell_type": "markdown",
   "id": "db40f3f0",
   "metadata": {},
   "source": [
    "Semantic Matching for Industry and Use case still work here. We can see now, input attributes are only mapped to relevant features in the selected Industry and selected Use case.\n",
    "\n",
    "If in our attribute dictionary, there is only one column for the whole DataFrame, we can leave either `name_column` or `desc_column` with its default value `None`, and only assign values to either of them.\n",
    "\n",
    "We will try with the Second User Attribute Dictionary, and with only assign `desc_column` value"
   ]
  },
  {
   "cell_type": "code",
   "execution_count": 21,
   "id": "4b851ab6",
   "metadata": {},
   "outputs": [
    {
     "data": {
      "text/html": [
       "<div>\n",
       "<style scoped>\n",
       "    .dataframe tbody tr th:only-of-type {\n",
       "        vertical-align: middle;\n",
       "    }\n",
       "\n",
       "    .dataframe tbody tr th {\n",
       "        vertical-align: top;\n",
       "    }\n",
       "\n",
       "    .dataframe thead th {\n",
       "        text-align: right;\n",
       "    }\n",
       "</style>\n",
       "<table border=\"1\" class=\"dataframe\">\n",
       "  <thead>\n",
       "    <tr style=\"text-align: right;\">\n",
       "      <th></th>\n",
       "      <th>Input Attribute Description</th>\n",
       "      <th>Recommended Feature Name</th>\n",
       "      <th>Recommended Feature Description</th>\n",
       "      <th>Feature Similarity Score</th>\n",
       "      <th>Industry</th>\n",
       "      <th>Usecase</th>\n",
       "      <th>Source</th>\n",
       "    </tr>\n",
       "  </thead>\n",
       "  <tbody>\n",
       "    <tr>\n",
       "      <th>0</th>\n",
       "      <td>a unique identifier for each trip</td>\n",
       "      <td>Total Visits</td>\n",
       "      <td>Total number of times a member made and attend...</td>\n",
       "      <td>0.4541</td>\n",
       "      <td>healthcare</td>\n",
       "      <td>patient churn</td>\n",
       "      <td>http://www.ieomsociety.org/singapore2021/paper...</td>\n",
       "    </tr>\n",
       "    <tr>\n",
       "      <th>1</th>\n",
       "      <td>a unique identifier for each trip</td>\n",
       "      <td>Insured Id</td>\n",
       "      <td>Unique ID given to insured</td>\n",
       "      <td>0.4504</td>\n",
       "      <td>healthcare</td>\n",
       "      <td>fraud detection</td>\n",
       "      <td>https://arxiv.org/pdf/2102.10978</td>\n",
       "    </tr>\n",
       "    <tr>\n",
       "      <th>2</th>\n",
       "      <td>the cost of each trip in usd</td>\n",
       "      <td>unit price</td>\n",
       "      <td>Price of each product in dollar</td>\n",
       "      <td>0.4767</td>\n",
       "      <td>retail</td>\n",
       "      <td>sales prediction</td>\n",
       "      <td>https://www.kaggle.com/aungpyaeap/supermarket-...</td>\n",
       "    </tr>\n",
       "    <tr>\n",
       "      <th>3</th>\n",
       "      <td>the cost of each trip in usd</td>\n",
       "      <td>total</td>\n",
       "      <td>Total price including tax</td>\n",
       "      <td>0.4602</td>\n",
       "      <td>retail</td>\n",
       "      <td>sales prediction</td>\n",
       "      <td>https://www.kaggle.com/aungpyaeap/supermarket-...</td>\n",
       "    </tr>\n",
       "    <tr>\n",
       "      <th>4</th>\n",
       "      <td>date and time where the meter was engaged</td>\n",
       "      <td>Device Age</td>\n",
       "      <td>No. of days between first observation and last...</td>\n",
       "      <td>0.5013</td>\n",
       "      <td>transportation, retail, telecommunication, ban...</td>\n",
       "      <td>age and gender prediction</td>\n",
       "      <td>https://ieeexplore.ieee.org/document/8621942</td>\n",
       "    </tr>\n",
       "    <tr>\n",
       "      <th>5</th>\n",
       "      <td>date and time where the meter was engaged</td>\n",
       "      <td>call date time</td>\n",
       "      <td>Date and time of the call</td>\n",
       "      <td>0.4483</td>\n",
       "      <td>telecommunication</td>\n",
       "      <td>fraud detection</td>\n",
       "      <td>https://www.sciencedirect.com/science/article/...</td>\n",
       "    </tr>\n",
       "    <tr>\n",
       "      <th>6</th>\n",
       "      <td>the number of passengers in the vehicle (drive...</td>\n",
       "      <td>Total Visits</td>\n",
       "      <td>Total number of times a member made and attend...</td>\n",
       "      <td>0.4269</td>\n",
       "      <td>healthcare</td>\n",
       "      <td>patient churn</td>\n",
       "      <td>http://www.ieomsociety.org/singapore2021/paper...</td>\n",
       "    </tr>\n",
       "    <tr>\n",
       "      <th>7</th>\n",
       "      <td>the number of passengers in the vehicle (drive...</td>\n",
       "      <td>total number of employees</td>\n",
       "      <td>the number of employees engaged at the place o...</td>\n",
       "      <td>0.4177</td>\n",
       "      <td>banking financial service and insurance</td>\n",
       "      <td>credit risk modeling, recommender system, cust...</td>\n",
       "      <td>https://www.researchgate.net/publication/28587...</td>\n",
       "    </tr>\n",
       "    <tr>\n",
       "      <th>8</th>\n",
       "      <td>the longitude where the meter was engaged</td>\n",
       "      <td>geomagnetic field</td>\n",
       "      <td>Magnetometer measures the ambient geomagnetic ...</td>\n",
       "      <td>0.5041</td>\n",
       "      <td>telecommunication</td>\n",
       "      <td>transportation model detection</td>\n",
       "      <td>https://infoscience.epfl.ch/record/229181</td>\n",
       "    </tr>\n",
       "    <tr>\n",
       "      <th>9</th>\n",
       "      <td>the longitude where the meter was engaged</td>\n",
       "      <td>lat</td>\n",
       "      <td>Relative latitude of the given base station</td>\n",
       "      <td>0.4494</td>\n",
       "      <td>telecommunication</td>\n",
       "      <td>network traffic analysis and prediction</td>\n",
       "      <td>https://www.researchgate.net/publication/34218...</td>\n",
       "    </tr>\n",
       "    <tr>\n",
       "      <th>10</th>\n",
       "      <td>the latitude where the meter was engaged</td>\n",
       "      <td>lat</td>\n",
       "      <td>Relative latitude of the given base station</td>\n",
       "      <td>0.4945</td>\n",
       "      <td>telecommunication</td>\n",
       "      <td>network traffic analysis and prediction</td>\n",
       "      <td>https://www.researchgate.net/publication/34218...</td>\n",
       "    </tr>\n",
       "    <tr>\n",
       "      <th>11</th>\n",
       "      <td>the latitude where the meter was engaged</td>\n",
       "      <td>geomagnetic field</td>\n",
       "      <td>Magnetometer measures the ambient geomagnetic ...</td>\n",
       "      <td>0.4725</td>\n",
       "      <td>telecommunication</td>\n",
       "      <td>transportation model detection</td>\n",
       "      <td>https://infoscience.epfl.ch/record/229181</td>\n",
       "    </tr>\n",
       "    <tr>\n",
       "      <th>12</th>\n",
       "      <td>the longitude where the meter was disengaged</td>\n",
       "      <td>geomagnetic field</td>\n",
       "      <td>Magnetometer measures the ambient geomagnetic ...</td>\n",
       "      <td>0.4786</td>\n",
       "      <td>telecommunication</td>\n",
       "      <td>transportation model detection</td>\n",
       "      <td>https://infoscience.epfl.ch/record/229181</td>\n",
       "    </tr>\n",
       "    <tr>\n",
       "      <th>13</th>\n",
       "      <td>the longitude where the meter was disengaged</td>\n",
       "      <td>lat</td>\n",
       "      <td>Relative latitude of the given base station</td>\n",
       "      <td>0.4085</td>\n",
       "      <td>telecommunication</td>\n",
       "      <td>network traffic analysis and prediction</td>\n",
       "      <td>https://www.researchgate.net/publication/34218...</td>\n",
       "    </tr>\n",
       "    <tr>\n",
       "      <th>14</th>\n",
       "      <td>the latitude where the meter was disengaged</td>\n",
       "      <td>geomagnetic field</td>\n",
       "      <td>Magnetometer measures the ambient geomagnetic ...</td>\n",
       "      <td>0.4409</td>\n",
       "      <td>telecommunication</td>\n",
       "      <td>transportation model detection</td>\n",
       "      <td>https://infoscience.epfl.ch/record/229181</td>\n",
       "    </tr>\n",
       "    <tr>\n",
       "      <th>15</th>\n",
       "      <td>the latitude where the meter was disengaged</td>\n",
       "      <td>lat</td>\n",
       "      <td>Relative latitude of the given base station</td>\n",
       "      <td>0.4230</td>\n",
       "      <td>telecommunication</td>\n",
       "      <td>network traffic analysis and prediction</td>\n",
       "      <td>https://www.researchgate.net/publication/34218...</td>\n",
       "    </tr>\n",
       "  </tbody>\n",
       "</table>\n",
       "</div>"
      ],
      "text/plain": [
       "                          Input Attribute Description  \\\n",
       "0                   a unique identifier for each trip   \n",
       "1                   a unique identifier for each trip   \n",
       "2                        the cost of each trip in usd   \n",
       "3                        the cost of each trip in usd   \n",
       "4           date and time where the meter was engaged   \n",
       "5           date and time where the meter was engaged   \n",
       "6   the number of passengers in the vehicle (drive...   \n",
       "7   the number of passengers in the vehicle (drive...   \n",
       "8           the longitude where the meter was engaged   \n",
       "9           the longitude where the meter was engaged   \n",
       "10           the latitude where the meter was engaged   \n",
       "11           the latitude where the meter was engaged   \n",
       "12       the longitude where the meter was disengaged   \n",
       "13       the longitude where the meter was disengaged   \n",
       "14        the latitude where the meter was disengaged   \n",
       "15        the latitude where the meter was disengaged   \n",
       "\n",
       "     Recommended Feature Name  \\\n",
       "0                Total Visits   \n",
       "1                  Insured Id   \n",
       "2                  unit price   \n",
       "3                       total   \n",
       "4                  Device Age   \n",
       "5              call date time   \n",
       "6                Total Visits   \n",
       "7   total number of employees   \n",
       "8           geomagnetic field   \n",
       "9                         lat   \n",
       "10                        lat   \n",
       "11          geomagnetic field   \n",
       "12          geomagnetic field   \n",
       "13                        lat   \n",
       "14          geomagnetic field   \n",
       "15                        lat   \n",
       "\n",
       "                      Recommended Feature Description  \\\n",
       "0   Total number of times a member made and attend...   \n",
       "1                          Unique ID given to insured   \n",
       "2                     Price of each product in dollar   \n",
       "3                           Total price including tax   \n",
       "4   No. of days between first observation and last...   \n",
       "5                           Date and time of the call   \n",
       "6   Total number of times a member made and attend...   \n",
       "7   the number of employees engaged at the place o...   \n",
       "8   Magnetometer measures the ambient geomagnetic ...   \n",
       "9         Relative latitude of the given base station   \n",
       "10        Relative latitude of the given base station   \n",
       "11  Magnetometer measures the ambient geomagnetic ...   \n",
       "12  Magnetometer measures the ambient geomagnetic ...   \n",
       "13        Relative latitude of the given base station   \n",
       "14  Magnetometer measures the ambient geomagnetic ...   \n",
       "15        Relative latitude of the given base station   \n",
       "\n",
       "   Feature Similarity Score  \\\n",
       "0                    0.4541   \n",
       "1                    0.4504   \n",
       "2                    0.4767   \n",
       "3                    0.4602   \n",
       "4                    0.5013   \n",
       "5                    0.4483   \n",
       "6                    0.4269   \n",
       "7                    0.4177   \n",
       "8                    0.5041   \n",
       "9                    0.4494   \n",
       "10                   0.4945   \n",
       "11                   0.4725   \n",
       "12                   0.4786   \n",
       "13                   0.4085   \n",
       "14                   0.4409   \n",
       "15                   0.4230   \n",
       "\n",
       "                                             Industry  \\\n",
       "0                                          healthcare   \n",
       "1                                          healthcare   \n",
       "2                                              retail   \n",
       "3                                              retail   \n",
       "4   transportation, retail, telecommunication, ban...   \n",
       "5                                   telecommunication   \n",
       "6                                          healthcare   \n",
       "7             banking financial service and insurance   \n",
       "8                                   telecommunication   \n",
       "9                                   telecommunication   \n",
       "10                                  telecommunication   \n",
       "11                                  telecommunication   \n",
       "12                                  telecommunication   \n",
       "13                                  telecommunication   \n",
       "14                                  telecommunication   \n",
       "15                                  telecommunication   \n",
       "\n",
       "                                              Usecase  \\\n",
       "0                                       patient churn   \n",
       "1                                     fraud detection   \n",
       "2                                    sales prediction   \n",
       "3                                    sales prediction   \n",
       "4                           age and gender prediction   \n",
       "5                                     fraud detection   \n",
       "6                                       patient churn   \n",
       "7   credit risk modeling, recommender system, cust...   \n",
       "8                      transportation model detection   \n",
       "9             network traffic analysis and prediction   \n",
       "10            network traffic analysis and prediction   \n",
       "11                     transportation model detection   \n",
       "12                     transportation model detection   \n",
       "13            network traffic analysis and prediction   \n",
       "14                     transportation model detection   \n",
       "15            network traffic analysis and prediction   \n",
       "\n",
       "                                               Source  \n",
       "0   http://www.ieomsociety.org/singapore2021/paper...  \n",
       "1                    https://arxiv.org/pdf/2102.10978  \n",
       "2   https://www.kaggle.com/aungpyaeap/supermarket-...  \n",
       "3   https://www.kaggle.com/aungpyaeap/supermarket-...  \n",
       "4        https://ieeexplore.ieee.org/document/8621942  \n",
       "5   https://www.sciencedirect.com/science/article/...  \n",
       "6   http://www.ieomsociety.org/singapore2021/paper...  \n",
       "7   https://www.researchgate.net/publication/28587...  \n",
       "8           https://infoscience.epfl.ch/record/229181  \n",
       "9   https://www.researchgate.net/publication/34218...  \n",
       "10  https://www.researchgate.net/publication/34218...  \n",
       "11          https://infoscience.epfl.ch/record/229181  \n",
       "12          https://infoscience.epfl.ch/record/229181  \n",
       "13  https://www.researchgate.net/publication/34218...  \n",
       "14          https://infoscience.epfl.ch/record/229181  \n",
       "15  https://www.researchgate.net/publication/34218...  "
      ]
     },
     "execution_count": 21,
     "metadata": {},
     "output_type": "execute_result"
    }
   ],
   "source": [
    "feature_recommendation(df_attr_2, desc_column='Desc')"
   ]
  },
  {
   "cell_type": "markdown",
   "id": "486630fe",
   "metadata": {},
   "source": [
    "### find_attr_by_relevance(df, building_corpus, name_column=None, desc_column=None, threshold=0.3)\n",
    "Argument: \n",
    "- df(DataFrame): Input User Attribute Dictionary\n",
    "- building_corpus(list): Input User Feature Corpus\n",
    "- name_column(string): Name of the column contains attribute names. Default is `None`\n",
    "- desc_column(string): Name of the column contains attribute description. Default is `None`\n",
    "- threshold(float): Floor limit of the similarity score to be matched. Default is `0.3`\n",
    "\n",
    "This function is to provide a comprehensive mapping method from users' input attributes to their own feature corpus, and therefore, help with the process of creating features in cold-start problems"
   ]
  },
  {
   "cell_type": "markdown",
   "id": "1ce5ff74",
   "metadata": {},
   "source": [
    "The output is returned in the form of a DataFrame. Columns are:\n",
    "\n",
    "- Input Feature Desc: Description of the input Feature\n",
    "- Recommended Input Attribute Name: Name of the recommended Feature\n",
    "- Recommended Input Attribute Description: Description of the recommended Feature\n",
    "- Input Attribute Similarity Score: Semantic similarity score between input Attribute and recommended Feature"
   ]
  },
  {
   "cell_type": "markdown",
   "id": "de7e67c4",
   "metadata": {},
   "source": [
    "Let's start with First User Attribute Dictionary example, with `name_column` set to `Attribute Name` and `desc_column` set to `Attribute Description`. For the `building corpus`, we will use `['number of customers using products', 'average recommended product price']`, and we will use the default threshold value `0.4` for now."
   ]
  },
  {
   "cell_type": "code",
   "execution_count": 22,
   "id": "ca2e579b",
   "metadata": {},
   "outputs": [],
   "source": [
    "test_building_corpus = ['number of customers using products', 'number of call customer make daily']"
   ]
  },
  {
   "cell_type": "code",
   "execution_count": 23,
   "id": "a836e6c6",
   "metadata": {},
   "outputs": [
    {
     "data": {
      "text/html": [
       "<div>\n",
       "<style scoped>\n",
       "    .dataframe tbody tr th:only-of-type {\n",
       "        vertical-align: middle;\n",
       "    }\n",
       "\n",
       "    .dataframe tbody tr th {\n",
       "        vertical-align: top;\n",
       "    }\n",
       "\n",
       "    .dataframe thead th {\n",
       "        text-align: right;\n",
       "    }\n",
       "</style>\n",
       "<table border=\"1\" class=\"dataframe\">\n",
       "  <thead>\n",
       "    <tr style=\"text-align: right;\">\n",
       "      <th></th>\n",
       "      <th>Input Feature Desc</th>\n",
       "      <th>Recommended Input Attribute Name</th>\n",
       "      <th>Recommended Input Attribute Description</th>\n",
       "      <th>Input Attribute Similarity Score</th>\n",
       "    </tr>\n",
       "  </thead>\n",
       "  <tbody>\n",
       "    <tr>\n",
       "      <th>0</th>\n",
       "      <td>number of customers using products</td>\n",
       "      <td>CustServCalls</td>\n",
       "      <td>number of calls into customer service</td>\n",
       "      <td>0.4228</td>\n",
       "    </tr>\n",
       "    <tr>\n",
       "      <th>1</th>\n",
       "      <td>number of customers using products</td>\n",
       "      <td>AccountWeeks</td>\n",
       "      <td>number of weeks customer has had active account</td>\n",
       "      <td>0.3764</td>\n",
       "    </tr>\n",
       "    <tr>\n",
       "      <th>2</th>\n",
       "      <td>number of customers using products</td>\n",
       "      <td>churn</td>\n",
       "      <td>1 if customer cancelled service, 0 if not</td>\n",
       "      <td>0.3409</td>\n",
       "    </tr>\n",
       "    <tr>\n",
       "      <th>3</th>\n",
       "      <td>number of customers using products</td>\n",
       "      <td>DayCalls</td>\n",
       "      <td>average number of daytime calls</td>\n",
       "      <td>0.3245</td>\n",
       "    </tr>\n",
       "    <tr>\n",
       "      <th>4</th>\n",
       "      <td>number of customers using products</td>\n",
       "      <td>DataUsage</td>\n",
       "      <td>gigabytes of monthly data usage</td>\n",
       "      <td>0.3198</td>\n",
       "    </tr>\n",
       "    <tr>\n",
       "      <th>5</th>\n",
       "      <td>number of customers using products</td>\n",
       "      <td>DataPlan</td>\n",
       "      <td>1 if customer has data plan, 0 if not</td>\n",
       "      <td>0.3089</td>\n",
       "    </tr>\n",
       "    <tr>\n",
       "      <th>6</th>\n",
       "      <td>number of call customer make daily</td>\n",
       "      <td>DayCalls</td>\n",
       "      <td>average number of daytime calls</td>\n",
       "      <td>0.7598</td>\n",
       "    </tr>\n",
       "    <tr>\n",
       "      <th>7</th>\n",
       "      <td>number of call customer make daily</td>\n",
       "      <td>CustServCalls</td>\n",
       "      <td>number of calls into customer service</td>\n",
       "      <td>0.6555</td>\n",
       "    </tr>\n",
       "    <tr>\n",
       "      <th>8</th>\n",
       "      <td>number of call customer make daily</td>\n",
       "      <td>DayMins</td>\n",
       "      <td>average daytime minutes per month</td>\n",
       "      <td>0.4595</td>\n",
       "    </tr>\n",
       "    <tr>\n",
       "      <th>9</th>\n",
       "      <td>number of call customer make daily</td>\n",
       "      <td>churn</td>\n",
       "      <td>1 if customer cancelled service, 0 if not</td>\n",
       "      <td>0.4411</td>\n",
       "    </tr>\n",
       "    <tr>\n",
       "      <th>10</th>\n",
       "      <td>number of call customer make daily</td>\n",
       "      <td>DataUsage</td>\n",
       "      <td>gigabytes of monthly data usage</td>\n",
       "      <td>0.4119</td>\n",
       "    </tr>\n",
       "    <tr>\n",
       "      <th>11</th>\n",
       "      <td>number of call customer make daily</td>\n",
       "      <td>AccountWeeks</td>\n",
       "      <td>number of weeks customer has had active account</td>\n",
       "      <td>0.3883</td>\n",
       "    </tr>\n",
       "    <tr>\n",
       "      <th>12</th>\n",
       "      <td>number of call customer make daily</td>\n",
       "      <td>MonthlyCharge</td>\n",
       "      <td>average monthly bill</td>\n",
       "      <td>0.3801</td>\n",
       "    </tr>\n",
       "    <tr>\n",
       "      <th>13</th>\n",
       "      <td>number of call customer make daily</td>\n",
       "      <td>DataPlan</td>\n",
       "      <td>1 if customer has data plan, 0 if not</td>\n",
       "      <td>0.3665</td>\n",
       "    </tr>\n",
       "    <tr>\n",
       "      <th>14</th>\n",
       "      <td>number of call customer make daily</td>\n",
       "      <td>ContractRenewal</td>\n",
       "      <td>1 if customer recently renewed contract, 0 if not</td>\n",
       "      <td>0.3297</td>\n",
       "    </tr>\n",
       "  </tbody>\n",
       "</table>\n",
       "</div>"
      ],
      "text/plain": [
       "                    Input Feature Desc Recommended Input Attribute Name  \\\n",
       "0   number of customers using products                    CustServCalls   \n",
       "1   number of customers using products                     AccountWeeks   \n",
       "2   number of customers using products                            churn   \n",
       "3   number of customers using products                         DayCalls   \n",
       "4   number of customers using products                        DataUsage   \n",
       "5   number of customers using products                         DataPlan   \n",
       "6   number of call customer make daily                         DayCalls   \n",
       "7   number of call customer make daily                    CustServCalls   \n",
       "8   number of call customer make daily                          DayMins   \n",
       "9   number of call customer make daily                            churn   \n",
       "10  number of call customer make daily                        DataUsage   \n",
       "11  number of call customer make daily                     AccountWeeks   \n",
       "12  number of call customer make daily                    MonthlyCharge   \n",
       "13  number of call customer make daily                         DataPlan   \n",
       "14  number of call customer make daily                  ContractRenewal   \n",
       "\n",
       "              Recommended Input Attribute Description  \\\n",
       "0               number of calls into customer service   \n",
       "1     number of weeks customer has had active account   \n",
       "2           1 if customer cancelled service, 0 if not   \n",
       "3                     average number of daytime calls   \n",
       "4                     gigabytes of monthly data usage   \n",
       "5               1 if customer has data plan, 0 if not   \n",
       "6                     average number of daytime calls   \n",
       "7               number of calls into customer service   \n",
       "8                   average daytime minutes per month   \n",
       "9           1 if customer cancelled service, 0 if not   \n",
       "10                    gigabytes of monthly data usage   \n",
       "11    number of weeks customer has had active account   \n",
       "12                               average monthly bill   \n",
       "13              1 if customer has data plan, 0 if not   \n",
       "14  1 if customer recently renewed contract, 0 if not   \n",
       "\n",
       "   Input Attribute Similarity Score  \n",
       "0                            0.4228  \n",
       "1                            0.3764  \n",
       "2                            0.3409  \n",
       "3                            0.3245  \n",
       "4                            0.3198  \n",
       "5                            0.3089  \n",
       "6                            0.7598  \n",
       "7                            0.6555  \n",
       "8                            0.4595  \n",
       "9                            0.4411  \n",
       "10                           0.4119  \n",
       "11                           0.3883  \n",
       "12                           0.3801  \n",
       "13                           0.3665  \n",
       "14                           0.3297  "
      ]
     },
     "execution_count": 23,
     "metadata": {},
     "output_type": "execute_result"
    }
   ],
   "source": [
    "find_attr_by_relevance(df_attr_1,\n",
    "                     building_corpus=test_building_corpus,\n",
    "                     name_column='Attribute Name',\n",
    "                     desc_column='Attribute Description')"
   ]
  },
  {
   "cell_type": "markdown",
   "id": "9fe3df8e",
   "metadata": {},
   "source": [
    "The function matches the input feature corpus with the input users' attribute dictionary, with the condition of the pair similarity score must be higher than the threshold input.\n",
    "\n",
    "Users can use this tool tailored to their own needs to create their features. Change the input feature corpus around to match their existing attributes, and/or change the threshold to not be too strict on the matching.\n",
    "\n",
    "Next, we will use the Second User Attribute Dictionary example, with `['usual location of the customer', 'how much customer spend for each trip on average']` as Input Feature Corpus, and set the threshold to be `0.25`"
   ]
  },
  {
   "cell_type": "code",
   "execution_count": 24,
   "id": "825606c0",
   "metadata": {},
   "outputs": [],
   "source": [
    "test_building_corpus_2 = [\n",
    "    'usual location of the customer',\n",
    "    'how much customer spend for each trip on average'\n",
    "]"
   ]
  },
  {
   "cell_type": "code",
   "execution_count": 25,
   "id": "9b4b2b02",
   "metadata": {},
   "outputs": [
    {
     "data": {
      "text/html": [
       "<div>\n",
       "<style scoped>\n",
       "    .dataframe tbody tr th:only-of-type {\n",
       "        vertical-align: middle;\n",
       "    }\n",
       "\n",
       "    .dataframe tbody tr th {\n",
       "        vertical-align: top;\n",
       "    }\n",
       "\n",
       "    .dataframe thead th {\n",
       "        text-align: right;\n",
       "    }\n",
       "</style>\n",
       "<table border=\"1\" class=\"dataframe\">\n",
       "  <thead>\n",
       "    <tr style=\"text-align: right;\">\n",
       "      <th></th>\n",
       "      <th>Name</th>\n",
       "      <th>Desc</th>\n",
       "      <th>Industry</th>\n",
       "      <th>Usecase</th>\n",
       "    </tr>\n",
       "  </thead>\n",
       "  <tbody>\n",
       "    <tr>\n",
       "      <th>0</th>\n",
       "      <td>key</td>\n",
       "      <td>a unique identifier for each trip</td>\n",
       "      <td>Transportation</td>\n",
       "      <td>Ridepooling Pricing</td>\n",
       "    </tr>\n",
       "    <tr>\n",
       "      <th>1</th>\n",
       "      <td>fare_amount</td>\n",
       "      <td>the cost of each trip in usd</td>\n",
       "      <td>Transportation</td>\n",
       "      <td>Ridepooling Pricing</td>\n",
       "    </tr>\n",
       "    <tr>\n",
       "      <th>2</th>\n",
       "      <td>pickup_datetime</td>\n",
       "      <td>date and time where the meter was engaged</td>\n",
       "      <td>Transportation</td>\n",
       "      <td>Ridepooling Pricing</td>\n",
       "    </tr>\n",
       "    <tr>\n",
       "      <th>3</th>\n",
       "      <td>passenger_count</td>\n",
       "      <td>the number of passengers in the vehicle (drive...</td>\n",
       "      <td>Transportation</td>\n",
       "      <td>Ridepooling Pricing</td>\n",
       "    </tr>\n",
       "    <tr>\n",
       "      <th>4</th>\n",
       "      <td>pickup_longitude</td>\n",
       "      <td>the longitude where the meter was engaged</td>\n",
       "      <td>Transportation</td>\n",
       "      <td>Ridepooling Pricing</td>\n",
       "    </tr>\n",
       "    <tr>\n",
       "      <th>5</th>\n",
       "      <td>pickup_latitude</td>\n",
       "      <td>the latitude where the meter was engaged</td>\n",
       "      <td>Transportation</td>\n",
       "      <td>Ridepooling Pricing</td>\n",
       "    </tr>\n",
       "    <tr>\n",
       "      <th>6</th>\n",
       "      <td>dropoff_longitude</td>\n",
       "      <td>the longitude where the meter was disengaged</td>\n",
       "      <td>Transportation</td>\n",
       "      <td>Ridepooling Pricing</td>\n",
       "    </tr>\n",
       "    <tr>\n",
       "      <th>7</th>\n",
       "      <td>dropoff_latitude</td>\n",
       "      <td>the latitude where the meter was disengaged</td>\n",
       "      <td>Transportation</td>\n",
       "      <td>Ridepooling Pricing</td>\n",
       "    </tr>\n",
       "  </tbody>\n",
       "</table>\n",
       "</div>"
      ],
      "text/plain": [
       "                Name                                               Desc  \\\n",
       "0                key                  a unique identifier for each trip   \n",
       "1        fare_amount                       the cost of each trip in usd   \n",
       "2    pickup_datetime          date and time where the meter was engaged   \n",
       "3    passenger_count  the number of passengers in the vehicle (drive...   \n",
       "4   pickup_longitude          the longitude where the meter was engaged   \n",
       "5    pickup_latitude           the latitude where the meter was engaged   \n",
       "6  dropoff_longitude       the longitude where the meter was disengaged   \n",
       "7   dropoff_latitude        the latitude where the meter was disengaged   \n",
       "\n",
       "         Industry              Usecase  \n",
       "0  Transportation  Ridepooling Pricing  \n",
       "1  Transportation  Ridepooling Pricing  \n",
       "2  Transportation  Ridepooling Pricing  \n",
       "3  Transportation  Ridepooling Pricing  \n",
       "4  Transportation  Ridepooling Pricing  \n",
       "5  Transportation  Ridepooling Pricing  \n",
       "6  Transportation  Ridepooling Pricing  \n",
       "7  Transportation  Ridepooling Pricing  "
      ]
     },
     "execution_count": 25,
     "metadata": {},
     "output_type": "execute_result"
    }
   ],
   "source": [
    "df_attr_2"
   ]
  },
  {
   "cell_type": "code",
   "execution_count": 26,
   "id": "567cda09",
   "metadata": {},
   "outputs": [
    {
     "data": {
      "text/html": [
       "<div>\n",
       "<style scoped>\n",
       "    .dataframe tbody tr th:only-of-type {\n",
       "        vertical-align: middle;\n",
       "    }\n",
       "\n",
       "    .dataframe tbody tr th {\n",
       "        vertical-align: top;\n",
       "    }\n",
       "\n",
       "    .dataframe thead th {\n",
       "        text-align: right;\n",
       "    }\n",
       "</style>\n",
       "<table border=\"1\" class=\"dataframe\">\n",
       "  <thead>\n",
       "    <tr style=\"text-align: right;\">\n",
       "      <th></th>\n",
       "      <th>Input Feature Desc</th>\n",
       "      <th>Recommended Input Attribute Name</th>\n",
       "      <th>Recommended Input Attribute Description</th>\n",
       "      <th>Input Attribute Similarity Score</th>\n",
       "    </tr>\n",
       "  </thead>\n",
       "  <tbody>\n",
       "    <tr>\n",
       "      <th>0</th>\n",
       "      <td>usual location of the customer</td>\n",
       "      <td>pickup latitude</td>\n",
       "      <td>the latitude where the meter was engaged</td>\n",
       "      <td>0.3327</td>\n",
       "    </tr>\n",
       "    <tr>\n",
       "      <th>1</th>\n",
       "      <td>usual location of the customer</td>\n",
       "      <td>passenger count</td>\n",
       "      <td>the number of passengers in the vehicle (drive...</td>\n",
       "      <td>0.2881</td>\n",
       "    </tr>\n",
       "    <tr>\n",
       "      <th>2</th>\n",
       "      <td>usual location of the customer</td>\n",
       "      <td>pickup longitude</td>\n",
       "      <td>the longitude where the meter was engaged</td>\n",
       "      <td>0.2840</td>\n",
       "    </tr>\n",
       "    <tr>\n",
       "      <th>3</th>\n",
       "      <td>usual location of the customer</td>\n",
       "      <td>dropoff latitude</td>\n",
       "      <td>the latitude where the meter was disengaged</td>\n",
       "      <td>0.2829</td>\n",
       "    </tr>\n",
       "    <tr>\n",
       "      <th>4</th>\n",
       "      <td>how much customer spend for each trip on average</td>\n",
       "      <td>fare amount</td>\n",
       "      <td>the cost of each trip in usd</td>\n",
       "      <td>0.5199</td>\n",
       "    </tr>\n",
       "    <tr>\n",
       "      <th>5</th>\n",
       "      <td>how much customer spend for each trip on average</td>\n",
       "      <td>passenger count</td>\n",
       "      <td>the number of passengers in the vehicle (drive...</td>\n",
       "      <td>0.3881</td>\n",
       "    </tr>\n",
       "    <tr>\n",
       "      <th>6</th>\n",
       "      <td>how much customer spend for each trip on average</td>\n",
       "      <td>key</td>\n",
       "      <td>a unique identifier for each trip</td>\n",
       "      <td>0.3358</td>\n",
       "    </tr>\n",
       "  </tbody>\n",
       "</table>\n",
       "</div>"
      ],
      "text/plain": [
       "                                 Input Feature Desc  \\\n",
       "0                    usual location of the customer   \n",
       "1                    usual location of the customer   \n",
       "2                    usual location of the customer   \n",
       "3                    usual location of the customer   \n",
       "4  how much customer spend for each trip on average   \n",
       "5  how much customer spend for each trip on average   \n",
       "6  how much customer spend for each trip on average   \n",
       "\n",
       "  Recommended Input Attribute Name  \\\n",
       "0                  pickup latitude   \n",
       "1                  passenger count   \n",
       "2                 pickup longitude   \n",
       "3                 dropoff latitude   \n",
       "4                      fare amount   \n",
       "5                  passenger count   \n",
       "6                              key   \n",
       "\n",
       "             Recommended Input Attribute Description  \\\n",
       "0           the latitude where the meter was engaged   \n",
       "1  the number of passengers in the vehicle (drive...   \n",
       "2          the longitude where the meter was engaged   \n",
       "3        the latitude where the meter was disengaged   \n",
       "4                       the cost of each trip in usd   \n",
       "5  the number of passengers in the vehicle (drive...   \n",
       "6                  a unique identifier for each trip   \n",
       "\n",
       "  Input Attribute Similarity Score  \n",
       "0                           0.3327  \n",
       "1                           0.2881  \n",
       "2                           0.2840  \n",
       "3                           0.2829  \n",
       "4                           0.5199  \n",
       "5                           0.3881  \n",
       "6                           0.3358  "
      ]
     },
     "execution_count": 26,
     "metadata": {},
     "output_type": "execute_result"
    }
   ],
   "source": [
    "find_attr_by_relevance(df_attr_2,\n",
    "                     building_corpus=test_building_corpus_2,\n",
    "                     name_column='Name',\n",
    "                     desc_column='Desc', threshold=0.25)"
   ]
  },
  {
   "cell_type": "markdown",
   "id": "f7963e9b",
   "metadata": {},
   "source": [
    "With lower threshold, more matching attributes come out, sorted by the relevance to the input feature corpus"
   ]
  },
  {
   "cell_type": "markdown",
   "id": "990202c9",
   "metadata": {},
   "source": [
    "### Sankey Matching Visualization"
   ]
  },
  {
   "cell_type": "markdown",
   "id": "8e5b5094",
   "metadata": {},
   "source": [
    "For this section, in order to understand the matching methods better in Feature Recommendation part, we use Sankey plot to visualize all the matching we have done above"
   ]
  },
  {
   "cell_type": "markdown",
   "id": "22ef3f80",
   "metadata": {},
   "source": [
    "#### sankey_visualization(df, industry_included=False, usecase_included=False)\n",
    "Argument: \n",
    "- df(DataFrame): Input DataFrame. This DataFrame needs to be output of feature_recommendation or find_attr_by_relevance, or in the same format.\n",
    "- industry_included(boolean): Whether the plot needs to include industry mapping or not. Default is `False`\n",
    "- usecase_included(boolean): Whether the plot needs to include usecase mapping or not. Default is `False`\n",
    "\n",
    "This function is to visualize Feature Recommendation functions through Sankey plots"
   ]
  },
  {
   "cell_type": "markdown",
   "id": "a82bf69f",
   "metadata": {},
   "source": [
    "#### feature_recommendation( ) Sankey Plots"
   ]
  },
  {
   "cell_type": "code",
   "execution_count": 35,
   "id": "aed32377",
   "metadata": {},
   "outputs": [
    {
     "data": {
      "text/html": [
       "<div>\n",
       "<style scoped>\n",
       "    .dataframe tbody tr th:only-of-type {\n",
       "        vertical-align: middle;\n",
       "    }\n",
       "\n",
       "    .dataframe tbody tr th {\n",
       "        vertical-align: top;\n",
       "    }\n",
       "\n",
       "    .dataframe thead th {\n",
       "        text-align: right;\n",
       "    }\n",
       "</style>\n",
       "<table border=\"1\" class=\"dataframe\">\n",
       "  <thead>\n",
       "    <tr style=\"text-align: right;\">\n",
       "      <th></th>\n",
       "      <th>Attribute Name</th>\n",
       "      <th>Attribute Description</th>\n",
       "    </tr>\n",
       "  </thead>\n",
       "  <tbody>\n",
       "    <tr>\n",
       "      <th>0</th>\n",
       "      <td>churn</td>\n",
       "      <td>1 if customer cancelled service, 0 if not</td>\n",
       "    </tr>\n",
       "    <tr>\n",
       "      <th>1</th>\n",
       "      <td>AccountWeeks</td>\n",
       "      <td>number of weeks customer has had active account</td>\n",
       "    </tr>\n",
       "    <tr>\n",
       "      <th>2</th>\n",
       "      <td>ContractRenewal</td>\n",
       "      <td>1 if customer recently renewed contract, 0 if not</td>\n",
       "    </tr>\n",
       "    <tr>\n",
       "      <th>3</th>\n",
       "      <td>DataPlan</td>\n",
       "      <td>1 if customer has data plan, 0 if not</td>\n",
       "    </tr>\n",
       "    <tr>\n",
       "      <th>4</th>\n",
       "      <td>DataUsage</td>\n",
       "      <td>gigabytes of monthly data usage</td>\n",
       "    </tr>\n",
       "    <tr>\n",
       "      <th>5</th>\n",
       "      <td>CustServCalls</td>\n",
       "      <td>number of calls into customer service</td>\n",
       "    </tr>\n",
       "    <tr>\n",
       "      <th>6</th>\n",
       "      <td>DayMins</td>\n",
       "      <td>average daytime minutes per month</td>\n",
       "    </tr>\n",
       "    <tr>\n",
       "      <th>7</th>\n",
       "      <td>DayCalls</td>\n",
       "      <td>average number of daytime calls</td>\n",
       "    </tr>\n",
       "    <tr>\n",
       "      <th>8</th>\n",
       "      <td>MonthlyCharge</td>\n",
       "      <td>average monthly bill</td>\n",
       "    </tr>\n",
       "    <tr>\n",
       "      <th>9</th>\n",
       "      <td>OverageFee</td>\n",
       "      <td>largest overage fee in last 12 months</td>\n",
       "    </tr>\n",
       "  </tbody>\n",
       "</table>\n",
       "</div>"
      ],
      "text/plain": [
       "    Attribute Name                              Attribute Description\n",
       "0            churn          1 if customer cancelled service, 0 if not\n",
       "1     AccountWeeks    number of weeks customer has had active account\n",
       "2  ContractRenewal  1 if customer recently renewed contract, 0 if not\n",
       "3         DataPlan              1 if customer has data plan, 0 if not\n",
       "4        DataUsage                    gigabytes of monthly data usage\n",
       "5    CustServCalls              number of calls into customer service\n",
       "6          DayMins                  average daytime minutes per month\n",
       "7         DayCalls                    average number of daytime calls\n",
       "8    MonthlyCharge                               average monthly bill\n",
       "9       OverageFee              largest overage fee in last 12 months"
      ]
     },
     "execution_count": 35,
     "metadata": {},
     "output_type": "execute_result"
    }
   ],
   "source": [
    "df_attr_1"
   ]
  },
  {
   "cell_type": "code",
   "execution_count": 36,
   "id": "24ecd63e",
   "metadata": {},
   "outputs": [
    {
     "data": {
      "application/vnd.plotly.v1+json": {
       "config": {
        "plotlyServerURL": "https://plot.ly"
       },
       "data": [
        {
         "link": {
          "source": [
           0,
           0,
           1,
           1,
           2,
           2,
           3,
           3,
           4,
           4,
           5,
           5,
           6,
           6,
           7,
           7,
           8,
           8,
           9,
           9
          ],
          "target": [
           10,
           11,
           12,
           13,
           14,
           15,
           16,
           17,
           18,
           19,
           20,
           21,
           22,
           23,
           23,
           22,
           24,
           25,
           24,
           26
          ],
          "value": [
           0.7258,
           0.6963,
           0.5499,
           0.5445,
           0.5738,
           0.5197,
           0.5072,
           0.4921,
           0.5012,
           0.501,
           0.7691,
           0.6401,
           0.6274,
           0.5536,
           0.6624,
           0.6476,
           0.7087,
           0.611,
           0.4173,
           0.3771
          ]
         },
         "node": {
          "color": [
           "#91E46A",
           "#6061E5",
           "#6E5B74",
           "#42E255",
           "#B41284",
           "#168456",
           "#CA8B9F",
           "#B06C19",
           "#DE8B09",
           "#F06D2A",
           "#D157DE",
           "#200C75",
           "#23154B",
           "#E371D8",
           "#53146A",
           "#BA6F92",
           "#A54259",
           "#7BBC67",
           "#98BBF7",
           "#C04C12",
           "#8D8BBD",
           "#701E8A",
           "#B318DD",
           "#05E189",
           "#A05048",
           "#769CB8",
           "#BC324B"
          ],
          "label": [
           "churn",
           "AccountWeeks",
           "ContractRenewal",
           "DataPlan",
           "DataUsage",
           "CustServCalls",
           "DayMins",
           "DayCalls",
           "MonthlyCharge",
           "OverageFee",
           "churn probability",
           "Status",
           "years of credit history",
           "length of customer association",
           "contract",
           "new customer",
           "Internet Connectivity",
           "subscriber's plan",
           "Cellular Data Usage ",
           "basic phone use",
           "number customer service calls",
           "num incoming calls",
           "total day minutes",
           "Average number of visits per day",
           "monthlycharges",
           "payment amount average",
           "Cellular Carrier "
          ],
          "line": {
           "color": [
            "#F9967C",
            "#876FE0",
            "#FA1F75",
            "#5CFFBE",
            "#74B3AD",
            "#545AA7",
            "#B54A8F",
            "#602A47",
            "#95D96D",
            "#4AD983",
            "#1DC268",
            "#64D5C3",
            "#7FF351",
            "#1A5260",
            "#BF1529",
            "#904B17",
            "#B25770",
            "#6B818E",
            "#B4B374",
            "#87C793"
           ],
           "width": 0.5
          },
          "pad": 15,
          "thickness": 20
         },
         "type": "sankey"
        }
       ],
       "layout": {
        "font": {
         "size": 10
        },
        "template": {
         "data": {
          "bar": [
           {
            "error_x": {
             "color": "#2a3f5f"
            },
            "error_y": {
             "color": "#2a3f5f"
            },
            "marker": {
             "line": {
              "color": "#E5ECF6",
              "width": 0.5
             },
             "pattern": {
              "fillmode": "overlay",
              "size": 10,
              "solidity": 0.2
             }
            },
            "type": "bar"
           }
          ],
          "barpolar": [
           {
            "marker": {
             "line": {
              "color": "#E5ECF6",
              "width": 0.5
             },
             "pattern": {
              "fillmode": "overlay",
              "size": 10,
              "solidity": 0.2
             }
            },
            "type": "barpolar"
           }
          ],
          "carpet": [
           {
            "aaxis": {
             "endlinecolor": "#2a3f5f",
             "gridcolor": "white",
             "linecolor": "white",
             "minorgridcolor": "white",
             "startlinecolor": "#2a3f5f"
            },
            "baxis": {
             "endlinecolor": "#2a3f5f",
             "gridcolor": "white",
             "linecolor": "white",
             "minorgridcolor": "white",
             "startlinecolor": "#2a3f5f"
            },
            "type": "carpet"
           }
          ],
          "choropleth": [
           {
            "colorbar": {
             "outlinewidth": 0,
             "ticks": ""
            },
            "type": "choropleth"
           }
          ],
          "contour": [
           {
            "colorbar": {
             "outlinewidth": 0,
             "ticks": ""
            },
            "colorscale": [
             [
              0,
              "#0d0887"
             ],
             [
              0.1111111111111111,
              "#46039f"
             ],
             [
              0.2222222222222222,
              "#7201a8"
             ],
             [
              0.3333333333333333,
              "#9c179e"
             ],
             [
              0.4444444444444444,
              "#bd3786"
             ],
             [
              0.5555555555555556,
              "#d8576b"
             ],
             [
              0.6666666666666666,
              "#ed7953"
             ],
             [
              0.7777777777777778,
              "#fb9f3a"
             ],
             [
              0.8888888888888888,
              "#fdca26"
             ],
             [
              1,
              "#f0f921"
             ]
            ],
            "type": "contour"
           }
          ],
          "contourcarpet": [
           {
            "colorbar": {
             "outlinewidth": 0,
             "ticks": ""
            },
            "type": "contourcarpet"
           }
          ],
          "heatmap": [
           {
            "colorbar": {
             "outlinewidth": 0,
             "ticks": ""
            },
            "colorscale": [
             [
              0,
              "#0d0887"
             ],
             [
              0.1111111111111111,
              "#46039f"
             ],
             [
              0.2222222222222222,
              "#7201a8"
             ],
             [
              0.3333333333333333,
              "#9c179e"
             ],
             [
              0.4444444444444444,
              "#bd3786"
             ],
             [
              0.5555555555555556,
              "#d8576b"
             ],
             [
              0.6666666666666666,
              "#ed7953"
             ],
             [
              0.7777777777777778,
              "#fb9f3a"
             ],
             [
              0.8888888888888888,
              "#fdca26"
             ],
             [
              1,
              "#f0f921"
             ]
            ],
            "type": "heatmap"
           }
          ],
          "heatmapgl": [
           {
            "colorbar": {
             "outlinewidth": 0,
             "ticks": ""
            },
            "colorscale": [
             [
              0,
              "#0d0887"
             ],
             [
              0.1111111111111111,
              "#46039f"
             ],
             [
              0.2222222222222222,
              "#7201a8"
             ],
             [
              0.3333333333333333,
              "#9c179e"
             ],
             [
              0.4444444444444444,
              "#bd3786"
             ],
             [
              0.5555555555555556,
              "#d8576b"
             ],
             [
              0.6666666666666666,
              "#ed7953"
             ],
             [
              0.7777777777777778,
              "#fb9f3a"
             ],
             [
              0.8888888888888888,
              "#fdca26"
             ],
             [
              1,
              "#f0f921"
             ]
            ],
            "type": "heatmapgl"
           }
          ],
          "histogram": [
           {
            "marker": {
             "pattern": {
              "fillmode": "overlay",
              "size": 10,
              "solidity": 0.2
             }
            },
            "type": "histogram"
           }
          ],
          "histogram2d": [
           {
            "colorbar": {
             "outlinewidth": 0,
             "ticks": ""
            },
            "colorscale": [
             [
              0,
              "#0d0887"
             ],
             [
              0.1111111111111111,
              "#46039f"
             ],
             [
              0.2222222222222222,
              "#7201a8"
             ],
             [
              0.3333333333333333,
              "#9c179e"
             ],
             [
              0.4444444444444444,
              "#bd3786"
             ],
             [
              0.5555555555555556,
              "#d8576b"
             ],
             [
              0.6666666666666666,
              "#ed7953"
             ],
             [
              0.7777777777777778,
              "#fb9f3a"
             ],
             [
              0.8888888888888888,
              "#fdca26"
             ],
             [
              1,
              "#f0f921"
             ]
            ],
            "type": "histogram2d"
           }
          ],
          "histogram2dcontour": [
           {
            "colorbar": {
             "outlinewidth": 0,
             "ticks": ""
            },
            "colorscale": [
             [
              0,
              "#0d0887"
             ],
             [
              0.1111111111111111,
              "#46039f"
             ],
             [
              0.2222222222222222,
              "#7201a8"
             ],
             [
              0.3333333333333333,
              "#9c179e"
             ],
             [
              0.4444444444444444,
              "#bd3786"
             ],
             [
              0.5555555555555556,
              "#d8576b"
             ],
             [
              0.6666666666666666,
              "#ed7953"
             ],
             [
              0.7777777777777778,
              "#fb9f3a"
             ],
             [
              0.8888888888888888,
              "#fdca26"
             ],
             [
              1,
              "#f0f921"
             ]
            ],
            "type": "histogram2dcontour"
           }
          ],
          "mesh3d": [
           {
            "colorbar": {
             "outlinewidth": 0,
             "ticks": ""
            },
            "type": "mesh3d"
           }
          ],
          "parcoords": [
           {
            "line": {
             "colorbar": {
              "outlinewidth": 0,
              "ticks": ""
             }
            },
            "type": "parcoords"
           }
          ],
          "pie": [
           {
            "automargin": true,
            "type": "pie"
           }
          ],
          "scatter": [
           {
            "marker": {
             "colorbar": {
              "outlinewidth": 0,
              "ticks": ""
             }
            },
            "type": "scatter"
           }
          ],
          "scatter3d": [
           {
            "line": {
             "colorbar": {
              "outlinewidth": 0,
              "ticks": ""
             }
            },
            "marker": {
             "colorbar": {
              "outlinewidth": 0,
              "ticks": ""
             }
            },
            "type": "scatter3d"
           }
          ],
          "scattercarpet": [
           {
            "marker": {
             "colorbar": {
              "outlinewidth": 0,
              "ticks": ""
             }
            },
            "type": "scattercarpet"
           }
          ],
          "scattergeo": [
           {
            "marker": {
             "colorbar": {
              "outlinewidth": 0,
              "ticks": ""
             }
            },
            "type": "scattergeo"
           }
          ],
          "scattergl": [
           {
            "marker": {
             "colorbar": {
              "outlinewidth": 0,
              "ticks": ""
             }
            },
            "type": "scattergl"
           }
          ],
          "scattermapbox": [
           {
            "marker": {
             "colorbar": {
              "outlinewidth": 0,
              "ticks": ""
             }
            },
            "type": "scattermapbox"
           }
          ],
          "scatterpolar": [
           {
            "marker": {
             "colorbar": {
              "outlinewidth": 0,
              "ticks": ""
             }
            },
            "type": "scatterpolar"
           }
          ],
          "scatterpolargl": [
           {
            "marker": {
             "colorbar": {
              "outlinewidth": 0,
              "ticks": ""
             }
            },
            "type": "scatterpolargl"
           }
          ],
          "scatterternary": [
           {
            "marker": {
             "colorbar": {
              "outlinewidth": 0,
              "ticks": ""
             }
            },
            "type": "scatterternary"
           }
          ],
          "surface": [
           {
            "colorbar": {
             "outlinewidth": 0,
             "ticks": ""
            },
            "colorscale": [
             [
              0,
              "#0d0887"
             ],
             [
              0.1111111111111111,
              "#46039f"
             ],
             [
              0.2222222222222222,
              "#7201a8"
             ],
             [
              0.3333333333333333,
              "#9c179e"
             ],
             [
              0.4444444444444444,
              "#bd3786"
             ],
             [
              0.5555555555555556,
              "#d8576b"
             ],
             [
              0.6666666666666666,
              "#ed7953"
             ],
             [
              0.7777777777777778,
              "#fb9f3a"
             ],
             [
              0.8888888888888888,
              "#fdca26"
             ],
             [
              1,
              "#f0f921"
             ]
            ],
            "type": "surface"
           }
          ],
          "table": [
           {
            "cells": {
             "fill": {
              "color": "#EBF0F8"
             },
             "line": {
              "color": "white"
             }
            },
            "header": {
             "fill": {
              "color": "#C8D4E3"
             },
             "line": {
              "color": "white"
             }
            },
            "type": "table"
           }
          ]
         },
         "layout": {
          "annotationdefaults": {
           "arrowcolor": "#2a3f5f",
           "arrowhead": 0,
           "arrowwidth": 1
          },
          "autotypenumbers": "strict",
          "coloraxis": {
           "colorbar": {
            "outlinewidth": 0,
            "ticks": ""
           }
          },
          "colorscale": {
           "diverging": [
            [
             0,
             "#8e0152"
            ],
            [
             0.1,
             "#c51b7d"
            ],
            [
             0.2,
             "#de77ae"
            ],
            [
             0.3,
             "#f1b6da"
            ],
            [
             0.4,
             "#fde0ef"
            ],
            [
             0.5,
             "#f7f7f7"
            ],
            [
             0.6,
             "#e6f5d0"
            ],
            [
             0.7,
             "#b8e186"
            ],
            [
             0.8,
             "#7fbc41"
            ],
            [
             0.9,
             "#4d9221"
            ],
            [
             1,
             "#276419"
            ]
           ],
           "sequential": [
            [
             0,
             "#0d0887"
            ],
            [
             0.1111111111111111,
             "#46039f"
            ],
            [
             0.2222222222222222,
             "#7201a8"
            ],
            [
             0.3333333333333333,
             "#9c179e"
            ],
            [
             0.4444444444444444,
             "#bd3786"
            ],
            [
             0.5555555555555556,
             "#d8576b"
            ],
            [
             0.6666666666666666,
             "#ed7953"
            ],
            [
             0.7777777777777778,
             "#fb9f3a"
            ],
            [
             0.8888888888888888,
             "#fdca26"
            ],
            [
             1,
             "#f0f921"
            ]
           ],
           "sequentialminus": [
            [
             0,
             "#0d0887"
            ],
            [
             0.1111111111111111,
             "#46039f"
            ],
            [
             0.2222222222222222,
             "#7201a8"
            ],
            [
             0.3333333333333333,
             "#9c179e"
            ],
            [
             0.4444444444444444,
             "#bd3786"
            ],
            [
             0.5555555555555556,
             "#d8576b"
            ],
            [
             0.6666666666666666,
             "#ed7953"
            ],
            [
             0.7777777777777778,
             "#fb9f3a"
            ],
            [
             0.8888888888888888,
             "#fdca26"
            ],
            [
             1,
             "#f0f921"
            ]
           ]
          },
          "colorway": [
           "#636efa",
           "#EF553B",
           "#00cc96",
           "#ab63fa",
           "#FFA15A",
           "#19d3f3",
           "#FF6692",
           "#B6E880",
           "#FF97FF",
           "#FECB52"
          ],
          "font": {
           "color": "#2a3f5f"
          },
          "geo": {
           "bgcolor": "white",
           "lakecolor": "white",
           "landcolor": "#E5ECF6",
           "showlakes": true,
           "showland": true,
           "subunitcolor": "white"
          },
          "hoverlabel": {
           "align": "left"
          },
          "hovermode": "closest",
          "mapbox": {
           "style": "light"
          },
          "paper_bgcolor": "white",
          "plot_bgcolor": "#E5ECF6",
          "polar": {
           "angularaxis": {
            "gridcolor": "white",
            "linecolor": "white",
            "ticks": ""
           },
           "bgcolor": "#E5ECF6",
           "radialaxis": {
            "gridcolor": "white",
            "linecolor": "white",
            "ticks": ""
           }
          },
          "scene": {
           "xaxis": {
            "backgroundcolor": "#E5ECF6",
            "gridcolor": "white",
            "gridwidth": 2,
            "linecolor": "white",
            "showbackground": true,
            "ticks": "",
            "zerolinecolor": "white"
           },
           "yaxis": {
            "backgroundcolor": "#E5ECF6",
            "gridcolor": "white",
            "gridwidth": 2,
            "linecolor": "white",
            "showbackground": true,
            "ticks": "",
            "zerolinecolor": "white"
           },
           "zaxis": {
            "backgroundcolor": "#E5ECF6",
            "gridcolor": "white",
            "gridwidth": 2,
            "linecolor": "white",
            "showbackground": true,
            "ticks": "",
            "zerolinecolor": "white"
           }
          },
          "shapedefaults": {
           "line": {
            "color": "#2a3f5f"
           }
          },
          "ternary": {
           "aaxis": {
            "gridcolor": "white",
            "linecolor": "white",
            "ticks": ""
           },
           "baxis": {
            "gridcolor": "white",
            "linecolor": "white",
            "ticks": ""
           },
           "bgcolor": "#E5ECF6",
           "caxis": {
            "gridcolor": "white",
            "linecolor": "white",
            "ticks": ""
           }
          },
          "title": {
           "x": 0.05
          },
          "xaxis": {
           "automargin": true,
           "gridcolor": "white",
           "linecolor": "white",
           "ticks": "",
           "title": {
            "standoff": 15
           },
           "zerolinecolor": "white",
           "zerolinewidth": 2
          },
          "yaxis": {
           "automargin": true,
           "gridcolor": "white",
           "linecolor": "white",
           "ticks": "",
           "title": {
            "standoff": 15
           },
           "zerolinecolor": "white",
           "zerolinewidth": 2
          }
         }
        },
        "title": {
         "text": "Feature Recommendation Sankey Visualization"
        }
       }
      },
      "text/html": [
       "<div>                            <div id=\"d99e1e27-245e-4717-9ee2-f349b8757c82\" class=\"plotly-graph-div\" style=\"height:525px; width:100%;\"></div>            <script type=\"text/javascript\">                require([\"plotly\"], function(Plotly) {                    window.PLOTLYENV=window.PLOTLYENV || {};                                    if (document.getElementById(\"d99e1e27-245e-4717-9ee2-f349b8757c82\")) {                    Plotly.newPlot(                        \"d99e1e27-245e-4717-9ee2-f349b8757c82\",                        [{\"link\":{\"source\":[0,0,1,1,2,2,3,3,4,4,5,5,6,6,7,7,8,8,9,9],\"target\":[10,11,12,13,14,15,16,17,18,19,20,21,22,23,23,22,24,25,24,26],\"value\":[0.7258,0.6963,0.5499,0.5445,0.5738,0.5197,0.5072,0.4921,0.5012,0.501,0.7691,0.6401,0.6274,0.5536,0.6624,0.6476,0.7087,0.611,0.4173,0.3771]},\"node\":{\"color\":[\"#91E46A\",\"#6061E5\",\"#6E5B74\",\"#42E255\",\"#B41284\",\"#168456\",\"#CA8B9F\",\"#B06C19\",\"#DE8B09\",\"#F06D2A\",\"#D157DE\",\"#200C75\",\"#23154B\",\"#E371D8\",\"#53146A\",\"#BA6F92\",\"#A54259\",\"#7BBC67\",\"#98BBF7\",\"#C04C12\",\"#8D8BBD\",\"#701E8A\",\"#B318DD\",\"#05E189\",\"#A05048\",\"#769CB8\",\"#BC324B\"],\"label\":[\"churn\",\"AccountWeeks\",\"ContractRenewal\",\"DataPlan\",\"DataUsage\",\"CustServCalls\",\"DayMins\",\"DayCalls\",\"MonthlyCharge\",\"OverageFee\",\"churn probability\",\"Status\",\"years of credit history\",\"length of customer association\",\"contract\",\"new customer\",\"Internet Connectivity\",\"subscriber's plan\",\"Cellular Data Usage \",\"basic phone use\",\"number customer service calls\",\"num incoming calls\",\"total day minutes\",\"Average number of visits per day\",\"monthlycharges\",\"payment amount average\",\"Cellular Carrier \"],\"line\":{\"color\":[\"#F9967C\",\"#876FE0\",\"#FA1F75\",\"#5CFFBE\",\"#74B3AD\",\"#545AA7\",\"#B54A8F\",\"#602A47\",\"#95D96D\",\"#4AD983\",\"#1DC268\",\"#64D5C3\",\"#7FF351\",\"#1A5260\",\"#BF1529\",\"#904B17\",\"#B25770\",\"#6B818E\",\"#B4B374\",\"#87C793\"],\"width\":0.5},\"pad\":15,\"thickness\":20},\"type\":\"sankey\"}],                        {\"font\":{\"size\":10},\"template\":{\"data\":{\"bar\":[{\"error_x\":{\"color\":\"#2a3f5f\"},\"error_y\":{\"color\":\"#2a3f5f\"},\"marker\":{\"line\":{\"color\":\"#E5ECF6\",\"width\":0.5},\"pattern\":{\"fillmode\":\"overlay\",\"size\":10,\"solidity\":0.2}},\"type\":\"bar\"}],\"barpolar\":[{\"marker\":{\"line\":{\"color\":\"#E5ECF6\",\"width\":0.5},\"pattern\":{\"fillmode\":\"overlay\",\"size\":10,\"solidity\":0.2}},\"type\":\"barpolar\"}],\"carpet\":[{\"aaxis\":{\"endlinecolor\":\"#2a3f5f\",\"gridcolor\":\"white\",\"linecolor\":\"white\",\"minorgridcolor\":\"white\",\"startlinecolor\":\"#2a3f5f\"},\"baxis\":{\"endlinecolor\":\"#2a3f5f\",\"gridcolor\":\"white\",\"linecolor\":\"white\",\"minorgridcolor\":\"white\",\"startlinecolor\":\"#2a3f5f\"},\"type\":\"carpet\"}],\"choropleth\":[{\"colorbar\":{\"outlinewidth\":0,\"ticks\":\"\"},\"type\":\"choropleth\"}],\"contour\":[{\"colorbar\":{\"outlinewidth\":0,\"ticks\":\"\"},\"colorscale\":[[0.0,\"#0d0887\"],[0.1111111111111111,\"#46039f\"],[0.2222222222222222,\"#7201a8\"],[0.3333333333333333,\"#9c179e\"],[0.4444444444444444,\"#bd3786\"],[0.5555555555555556,\"#d8576b\"],[0.6666666666666666,\"#ed7953\"],[0.7777777777777778,\"#fb9f3a\"],[0.8888888888888888,\"#fdca26\"],[1.0,\"#f0f921\"]],\"type\":\"contour\"}],\"contourcarpet\":[{\"colorbar\":{\"outlinewidth\":0,\"ticks\":\"\"},\"type\":\"contourcarpet\"}],\"heatmap\":[{\"colorbar\":{\"outlinewidth\":0,\"ticks\":\"\"},\"colorscale\":[[0.0,\"#0d0887\"],[0.1111111111111111,\"#46039f\"],[0.2222222222222222,\"#7201a8\"],[0.3333333333333333,\"#9c179e\"],[0.4444444444444444,\"#bd3786\"],[0.5555555555555556,\"#d8576b\"],[0.6666666666666666,\"#ed7953\"],[0.7777777777777778,\"#fb9f3a\"],[0.8888888888888888,\"#fdca26\"],[1.0,\"#f0f921\"]],\"type\":\"heatmap\"}],\"heatmapgl\":[{\"colorbar\":{\"outlinewidth\":0,\"ticks\":\"\"},\"colorscale\":[[0.0,\"#0d0887\"],[0.1111111111111111,\"#46039f\"],[0.2222222222222222,\"#7201a8\"],[0.3333333333333333,\"#9c179e\"],[0.4444444444444444,\"#bd3786\"],[0.5555555555555556,\"#d8576b\"],[0.6666666666666666,\"#ed7953\"],[0.7777777777777778,\"#fb9f3a\"],[0.8888888888888888,\"#fdca26\"],[1.0,\"#f0f921\"]],\"type\":\"heatmapgl\"}],\"histogram\":[{\"marker\":{\"pattern\":{\"fillmode\":\"overlay\",\"size\":10,\"solidity\":0.2}},\"type\":\"histogram\"}],\"histogram2d\":[{\"colorbar\":{\"outlinewidth\":0,\"ticks\":\"\"},\"colorscale\":[[0.0,\"#0d0887\"],[0.1111111111111111,\"#46039f\"],[0.2222222222222222,\"#7201a8\"],[0.3333333333333333,\"#9c179e\"],[0.4444444444444444,\"#bd3786\"],[0.5555555555555556,\"#d8576b\"],[0.6666666666666666,\"#ed7953\"],[0.7777777777777778,\"#fb9f3a\"],[0.8888888888888888,\"#fdca26\"],[1.0,\"#f0f921\"]],\"type\":\"histogram2d\"}],\"histogram2dcontour\":[{\"colorbar\":{\"outlinewidth\":0,\"ticks\":\"\"},\"colorscale\":[[0.0,\"#0d0887\"],[0.1111111111111111,\"#46039f\"],[0.2222222222222222,\"#7201a8\"],[0.3333333333333333,\"#9c179e\"],[0.4444444444444444,\"#bd3786\"],[0.5555555555555556,\"#d8576b\"],[0.6666666666666666,\"#ed7953\"],[0.7777777777777778,\"#fb9f3a\"],[0.8888888888888888,\"#fdca26\"],[1.0,\"#f0f921\"]],\"type\":\"histogram2dcontour\"}],\"mesh3d\":[{\"colorbar\":{\"outlinewidth\":0,\"ticks\":\"\"},\"type\":\"mesh3d\"}],\"parcoords\":[{\"line\":{\"colorbar\":{\"outlinewidth\":0,\"ticks\":\"\"}},\"type\":\"parcoords\"}],\"pie\":[{\"automargin\":true,\"type\":\"pie\"}],\"scatter\":[{\"marker\":{\"colorbar\":{\"outlinewidth\":0,\"ticks\":\"\"}},\"type\":\"scatter\"}],\"scatter3d\":[{\"line\":{\"colorbar\":{\"outlinewidth\":0,\"ticks\":\"\"}},\"marker\":{\"colorbar\":{\"outlinewidth\":0,\"ticks\":\"\"}},\"type\":\"scatter3d\"}],\"scattercarpet\":[{\"marker\":{\"colorbar\":{\"outlinewidth\":0,\"ticks\":\"\"}},\"type\":\"scattercarpet\"}],\"scattergeo\":[{\"marker\":{\"colorbar\":{\"outlinewidth\":0,\"ticks\":\"\"}},\"type\":\"scattergeo\"}],\"scattergl\":[{\"marker\":{\"colorbar\":{\"outlinewidth\":0,\"ticks\":\"\"}},\"type\":\"scattergl\"}],\"scattermapbox\":[{\"marker\":{\"colorbar\":{\"outlinewidth\":0,\"ticks\":\"\"}},\"type\":\"scattermapbox\"}],\"scatterpolar\":[{\"marker\":{\"colorbar\":{\"outlinewidth\":0,\"ticks\":\"\"}},\"type\":\"scatterpolar\"}],\"scatterpolargl\":[{\"marker\":{\"colorbar\":{\"outlinewidth\":0,\"ticks\":\"\"}},\"type\":\"scatterpolargl\"}],\"scatterternary\":[{\"marker\":{\"colorbar\":{\"outlinewidth\":0,\"ticks\":\"\"}},\"type\":\"scatterternary\"}],\"surface\":[{\"colorbar\":{\"outlinewidth\":0,\"ticks\":\"\"},\"colorscale\":[[0.0,\"#0d0887\"],[0.1111111111111111,\"#46039f\"],[0.2222222222222222,\"#7201a8\"],[0.3333333333333333,\"#9c179e\"],[0.4444444444444444,\"#bd3786\"],[0.5555555555555556,\"#d8576b\"],[0.6666666666666666,\"#ed7953\"],[0.7777777777777778,\"#fb9f3a\"],[0.8888888888888888,\"#fdca26\"],[1.0,\"#f0f921\"]],\"type\":\"surface\"}],\"table\":[{\"cells\":{\"fill\":{\"color\":\"#EBF0F8\"},\"line\":{\"color\":\"white\"}},\"header\":{\"fill\":{\"color\":\"#C8D4E3\"},\"line\":{\"color\":\"white\"}},\"type\":\"table\"}]},\"layout\":{\"annotationdefaults\":{\"arrowcolor\":\"#2a3f5f\",\"arrowhead\":0,\"arrowwidth\":1},\"autotypenumbers\":\"strict\",\"coloraxis\":{\"colorbar\":{\"outlinewidth\":0,\"ticks\":\"\"}},\"colorscale\":{\"diverging\":[[0,\"#8e0152\"],[0.1,\"#c51b7d\"],[0.2,\"#de77ae\"],[0.3,\"#f1b6da\"],[0.4,\"#fde0ef\"],[0.5,\"#f7f7f7\"],[0.6,\"#e6f5d0\"],[0.7,\"#b8e186\"],[0.8,\"#7fbc41\"],[0.9,\"#4d9221\"],[1,\"#276419\"]],\"sequential\":[[0.0,\"#0d0887\"],[0.1111111111111111,\"#46039f\"],[0.2222222222222222,\"#7201a8\"],[0.3333333333333333,\"#9c179e\"],[0.4444444444444444,\"#bd3786\"],[0.5555555555555556,\"#d8576b\"],[0.6666666666666666,\"#ed7953\"],[0.7777777777777778,\"#fb9f3a\"],[0.8888888888888888,\"#fdca26\"],[1.0,\"#f0f921\"]],\"sequentialminus\":[[0.0,\"#0d0887\"],[0.1111111111111111,\"#46039f\"],[0.2222222222222222,\"#7201a8\"],[0.3333333333333333,\"#9c179e\"],[0.4444444444444444,\"#bd3786\"],[0.5555555555555556,\"#d8576b\"],[0.6666666666666666,\"#ed7953\"],[0.7777777777777778,\"#fb9f3a\"],[0.8888888888888888,\"#fdca26\"],[1.0,\"#f0f921\"]]},\"colorway\":[\"#636efa\",\"#EF553B\",\"#00cc96\",\"#ab63fa\",\"#FFA15A\",\"#19d3f3\",\"#FF6692\",\"#B6E880\",\"#FF97FF\",\"#FECB52\"],\"font\":{\"color\":\"#2a3f5f\"},\"geo\":{\"bgcolor\":\"white\",\"lakecolor\":\"white\",\"landcolor\":\"#E5ECF6\",\"showlakes\":true,\"showland\":true,\"subunitcolor\":\"white\"},\"hoverlabel\":{\"align\":\"left\"},\"hovermode\":\"closest\",\"mapbox\":{\"style\":\"light\"},\"paper_bgcolor\":\"white\",\"plot_bgcolor\":\"#E5ECF6\",\"polar\":{\"angularaxis\":{\"gridcolor\":\"white\",\"linecolor\":\"white\",\"ticks\":\"\"},\"bgcolor\":\"#E5ECF6\",\"radialaxis\":{\"gridcolor\":\"white\",\"linecolor\":\"white\",\"ticks\":\"\"}},\"scene\":{\"xaxis\":{\"backgroundcolor\":\"#E5ECF6\",\"gridcolor\":\"white\",\"gridwidth\":2,\"linecolor\":\"white\",\"showbackground\":true,\"ticks\":\"\",\"zerolinecolor\":\"white\"},\"yaxis\":{\"backgroundcolor\":\"#E5ECF6\",\"gridcolor\":\"white\",\"gridwidth\":2,\"linecolor\":\"white\",\"showbackground\":true,\"ticks\":\"\",\"zerolinecolor\":\"white\"},\"zaxis\":{\"backgroundcolor\":\"#E5ECF6\",\"gridcolor\":\"white\",\"gridwidth\":2,\"linecolor\":\"white\",\"showbackground\":true,\"ticks\":\"\",\"zerolinecolor\":\"white\"}},\"shapedefaults\":{\"line\":{\"color\":\"#2a3f5f\"}},\"ternary\":{\"aaxis\":{\"gridcolor\":\"white\",\"linecolor\":\"white\",\"ticks\":\"\"},\"baxis\":{\"gridcolor\":\"white\",\"linecolor\":\"white\",\"ticks\":\"\"},\"bgcolor\":\"#E5ECF6\",\"caxis\":{\"gridcolor\":\"white\",\"linecolor\":\"white\",\"ticks\":\"\"}},\"title\":{\"x\":0.05},\"xaxis\":{\"automargin\":true,\"gridcolor\":\"white\",\"linecolor\":\"white\",\"ticks\":\"\",\"title\":{\"standoff\":15},\"zerolinecolor\":\"white\",\"zerolinewidth\":2},\"yaxis\":{\"automargin\":true,\"gridcolor\":\"white\",\"linecolor\":\"white\",\"ticks\":\"\",\"title\":{\"standoff\":15},\"zerolinecolor\":\"white\",\"zerolinewidth\":2}}},\"title\":{\"text\":\"Feature Recommendation Sankey Visualization\"}},                        {\"responsive\": true}                    ).then(function(){\n",
       "                            \n",
       "var gd = document.getElementById('d99e1e27-245e-4717-9ee2-f349b8757c82');\n",
       "var x = new MutationObserver(function (mutations, observer) {{\n",
       "        var display = window.getComputedStyle(gd).display;\n",
       "        if (!display || display === 'none') {{\n",
       "            console.log([gd, 'removed!']);\n",
       "            Plotly.purge(gd);\n",
       "            observer.disconnect();\n",
       "        }}\n",
       "}});\n",
       "\n",
       "// Listen for the removal of the full notebook cells\n",
       "var notebookContainer = gd.closest('#notebook-container');\n",
       "if (notebookContainer) {{\n",
       "    x.observe(notebookContainer, {childList: true});\n",
       "}}\n",
       "\n",
       "// Listen for the clearing of the current output cell\n",
       "var outputEl = gd.closest('.output');\n",
       "if (outputEl) {{\n",
       "    x.observe(outputEl, {childList: true});\n",
       "}}\n",
       "\n",
       "                        })                };                });            </script>        </div>"
      ]
     },
     "metadata": {},
     "output_type": "display_data"
    }
   ],
   "source": [
    "df = feature_recommendation(df_attr_1,\n",
    "                            name_column='Attribute Name',\n",
    "                            desc_column='Attribute Description')\n",
    "fig = sankey_visualization(df)\n",
    "fig.show()"
   ]
  },
  {
   "cell_type": "code",
   "execution_count": 28,
   "id": "3fe8f8e9",
   "metadata": {},
   "outputs": [
    {
     "name": "stdout",
     "output_type": "stream",
     "text": [
      "Input Industry not available. Showing the most semantically relevant Usecase result:  telecommunication\n",
      "Input Usecase not available. Showing the most semantically relevant Usecase result:  customer churn prediction\n"
     ]
    },
    {
     "data": {
      "application/vnd.plotly.v1+json": {
       "config": {
        "plotlyServerURL": "https://plot.ly"
       },
       "data": [
        {
         "link": {
          "source": [
           0,
           10,
           23,
           23,
           10,
           24,
           24,
           10,
           25,
           25,
           0,
           11,
           23,
           1,
           12,
           23,
           1,
           13,
           23,
           2,
           14,
           23,
           23,
           2,
           15,
           23,
           23,
           15,
           25,
           25,
           3,
           14,
           23,
           23,
           3,
           16,
           23,
           4,
           17,
           23,
           4,
           13,
           23,
           5,
           11,
           23,
           5,
           18,
           23,
           23,
           6,
           19,
           23,
           23,
           6,
           20,
           23,
           7,
           19,
           23,
           23,
           7,
           20,
           23,
           8,
           17,
           23,
           8,
           21,
           23,
           9,
           17,
           23,
           9,
           22,
           23
          ],
          "target": [
           10,
           23,
           29,
           30,
           24,
           30,
           31,
           25,
           29,
           30,
           11,
           23,
           29,
           12,
           23,
           29,
           13,
           23,
           29,
           14,
           23,
           29,
           34,
           15,
           23,
           29,
           34,
           25,
           29,
           34,
           14,
           23,
           29,
           34,
           16,
           23,
           29,
           17,
           23,
           29,
           13,
           23,
           29,
           11,
           23,
           29,
           18,
           23,
           29,
           30,
           19,
           23,
           29,
           38,
           20,
           23,
           29,
           19,
           23,
           29,
           38,
           20,
           23,
           29,
           17,
           23,
           29,
           21,
           23,
           29,
           17,
           23,
           29,
           22,
           23,
           29
          ],
          "value": [
           0.4096,
           1,
           1,
           1,
           1,
           1,
           1,
           1,
           1,
           1,
           0.4075,
           1,
           1,
           0.4841,
           1,
           1,
           0.4473,
           1,
           1,
           0.5738,
           1,
           1,
           1,
           0.3821,
           1,
           1,
           1,
           1,
           1,
           1,
           0.4543,
           1,
           1,
           1,
           0.441,
           1,
           1,
           0.4644,
           1,
           1,
           0.4275,
           1,
           1,
           0.7691,
           1,
           1,
           0.463,
           1,
           1,
           1,
           0.6274,
           1,
           1,
           1,
           0.5504,
           1,
           1,
           0.6476,
           1,
           1,
           1,
           0.6002,
           1,
           1,
           0.7087,
           1,
           1,
           0.5659,
           1,
           1,
           0.4173,
           1,
           1,
           0.3257,
           1,
           1
          ]
         },
         "node": {
          "color": [
           "#FCAFE4",
           "#358131",
           "#52C720",
           "#B7B3F7",
           "#274181",
           "#7CA4D4",
           "#011487",
           "#F87067",
           "#E80446",
           "#4A814B",
           "#227C17",
           "#6BE5B0",
           "#A4AD5D",
           "#69ABDD",
           "#8A0AAB",
           "#EB9E71",
           "#23BEFC",
           "#A7D0C6",
           "#F5F18F",
           "#64E84A",
           "#AB8BEA",
           "#A7A350",
           "#E7DFBF",
           "#FED2A2",
           "#92928B",
           "#1627DD",
           "#156EE5",
           "#AA1037",
           "#68D4FD",
           "#197350",
           "#C13142",
           "#9B6FAC",
           "#3B0995",
           "#EFF2C0",
           "#BDD33E",
           "#552DD9",
           "#DF0487",
           "#66DFC8",
           "#FAB9A6"
          ],
          "label": [
           "churn",
           "AccountWeeks",
           "ContractRenewal",
           "DataPlan",
           "DataUsage",
           "CustServCalls",
           "DayMins",
           "DayCalls",
           "MonthlyCharge",
           "OverageFee",
           "retired flag",
           "number customer service calls",
           "last rech date ma",
           "last rech date da",
           "contract",
           "tenure",
           "voice mail plan",
           "monthlycharges",
           "total intl calls",
           "total day minutes",
           "total eve minutes",
           "total day charge",
           "totalcharges",
           "telecommunication",
           "healthcare",
           "banking financial service and insurance",
           "telecommunication",
           "telecommunication",
           "banking financial service and insurance",
           "customer churn prediction",
           "fraud detection",
           "stroke prediction",
           "customer churn prediction",
           "customer churn prediction",
           "customer segmentation",
           "customer churn prediction",
           "fraud detection",
           "customer churn prediction",
           "telco-based credit scoring"
          ],
          "line": {
           "color": [
            "#EA3641",
            "#52EEC2",
            "#DD56B6",
            "#C138FB",
            "#54F73B",
            "#2846F8",
            "#34F55F",
            "#482A92",
            "#126D8A",
            "#3DA33E",
            "#D063AB",
            "#FE0EA4",
            "#B4A420",
            "#F993E1",
            "#0489F8",
            "#25000E",
            "#94D9B6",
            "#7DE236",
            "#C5CDD7",
            "#33BFAB",
            "#78F820",
            "#484856",
            "#EBC42D",
            "#665563",
            "#AE0BE9",
            "#5E8F16",
            "#BFA771",
            "#655A1E",
            "#2EE1CC",
            "#F5A66E",
            "#3A0D68",
            "#4347B3",
            "#920A8C",
            "#02AD5D",
            "#E16EDD",
            "#7DC4E4",
            "#FEAE2F",
            "#5C7F57",
            "#BC410B",
            "#8FF701",
            "#63B16B",
            "#C9BAE9",
            "#689971",
            "#E27E2C",
            "#B9C248",
            "#363579",
            "#5426F0",
            "#43A5A1",
            "#1E316C",
            "#3635F3",
            "#6E29C6",
            "#937F7E",
            "#1720F3",
            "#AD70D8",
            "#FA8EE6",
            "#EBDB05",
            "#E31F3B",
            "#4E8642",
            "#6860CB",
            "#7E6A9E",
            "#35F66C",
            "#6A41CC",
            "#31B32B",
            "#B79634",
            "#2E5937",
            "#6ECC1D",
            "#7C4E46",
            "#D3DAAA",
            "#9E6132",
            "#D61402",
            "#070888",
            "#18141E",
            "#2ADF28",
            "#C58E3B",
            "#CAF256",
            "#5F3634"
           ],
           "width": 0.5
          },
          "pad": 15,
          "thickness": 20
         },
         "type": "sankey"
        }
       ],
       "layout": {
        "font": {
         "size": 10
        },
        "template": {
         "data": {
          "bar": [
           {
            "error_x": {
             "color": "#2a3f5f"
            },
            "error_y": {
             "color": "#2a3f5f"
            },
            "marker": {
             "line": {
              "color": "#E5ECF6",
              "width": 0.5
             },
             "pattern": {
              "fillmode": "overlay",
              "size": 10,
              "solidity": 0.2
             }
            },
            "type": "bar"
           }
          ],
          "barpolar": [
           {
            "marker": {
             "line": {
              "color": "#E5ECF6",
              "width": 0.5
             },
             "pattern": {
              "fillmode": "overlay",
              "size": 10,
              "solidity": 0.2
             }
            },
            "type": "barpolar"
           }
          ],
          "carpet": [
           {
            "aaxis": {
             "endlinecolor": "#2a3f5f",
             "gridcolor": "white",
             "linecolor": "white",
             "minorgridcolor": "white",
             "startlinecolor": "#2a3f5f"
            },
            "baxis": {
             "endlinecolor": "#2a3f5f",
             "gridcolor": "white",
             "linecolor": "white",
             "minorgridcolor": "white",
             "startlinecolor": "#2a3f5f"
            },
            "type": "carpet"
           }
          ],
          "choropleth": [
           {
            "colorbar": {
             "outlinewidth": 0,
             "ticks": ""
            },
            "type": "choropleth"
           }
          ],
          "contour": [
           {
            "colorbar": {
             "outlinewidth": 0,
             "ticks": ""
            },
            "colorscale": [
             [
              0,
              "#0d0887"
             ],
             [
              0.1111111111111111,
              "#46039f"
             ],
             [
              0.2222222222222222,
              "#7201a8"
             ],
             [
              0.3333333333333333,
              "#9c179e"
             ],
             [
              0.4444444444444444,
              "#bd3786"
             ],
             [
              0.5555555555555556,
              "#d8576b"
             ],
             [
              0.6666666666666666,
              "#ed7953"
             ],
             [
              0.7777777777777778,
              "#fb9f3a"
             ],
             [
              0.8888888888888888,
              "#fdca26"
             ],
             [
              1,
              "#f0f921"
             ]
            ],
            "type": "contour"
           }
          ],
          "contourcarpet": [
           {
            "colorbar": {
             "outlinewidth": 0,
             "ticks": ""
            },
            "type": "contourcarpet"
           }
          ],
          "heatmap": [
           {
            "colorbar": {
             "outlinewidth": 0,
             "ticks": ""
            },
            "colorscale": [
             [
              0,
              "#0d0887"
             ],
             [
              0.1111111111111111,
              "#46039f"
             ],
             [
              0.2222222222222222,
              "#7201a8"
             ],
             [
              0.3333333333333333,
              "#9c179e"
             ],
             [
              0.4444444444444444,
              "#bd3786"
             ],
             [
              0.5555555555555556,
              "#d8576b"
             ],
             [
              0.6666666666666666,
              "#ed7953"
             ],
             [
              0.7777777777777778,
              "#fb9f3a"
             ],
             [
              0.8888888888888888,
              "#fdca26"
             ],
             [
              1,
              "#f0f921"
             ]
            ],
            "type": "heatmap"
           }
          ],
          "heatmapgl": [
           {
            "colorbar": {
             "outlinewidth": 0,
             "ticks": ""
            },
            "colorscale": [
             [
              0,
              "#0d0887"
             ],
             [
              0.1111111111111111,
              "#46039f"
             ],
             [
              0.2222222222222222,
              "#7201a8"
             ],
             [
              0.3333333333333333,
              "#9c179e"
             ],
             [
              0.4444444444444444,
              "#bd3786"
             ],
             [
              0.5555555555555556,
              "#d8576b"
             ],
             [
              0.6666666666666666,
              "#ed7953"
             ],
             [
              0.7777777777777778,
              "#fb9f3a"
             ],
             [
              0.8888888888888888,
              "#fdca26"
             ],
             [
              1,
              "#f0f921"
             ]
            ],
            "type": "heatmapgl"
           }
          ],
          "histogram": [
           {
            "marker": {
             "pattern": {
              "fillmode": "overlay",
              "size": 10,
              "solidity": 0.2
             }
            },
            "type": "histogram"
           }
          ],
          "histogram2d": [
           {
            "colorbar": {
             "outlinewidth": 0,
             "ticks": ""
            },
            "colorscale": [
             [
              0,
              "#0d0887"
             ],
             [
              0.1111111111111111,
              "#46039f"
             ],
             [
              0.2222222222222222,
              "#7201a8"
             ],
             [
              0.3333333333333333,
              "#9c179e"
             ],
             [
              0.4444444444444444,
              "#bd3786"
             ],
             [
              0.5555555555555556,
              "#d8576b"
             ],
             [
              0.6666666666666666,
              "#ed7953"
             ],
             [
              0.7777777777777778,
              "#fb9f3a"
             ],
             [
              0.8888888888888888,
              "#fdca26"
             ],
             [
              1,
              "#f0f921"
             ]
            ],
            "type": "histogram2d"
           }
          ],
          "histogram2dcontour": [
           {
            "colorbar": {
             "outlinewidth": 0,
             "ticks": ""
            },
            "colorscale": [
             [
              0,
              "#0d0887"
             ],
             [
              0.1111111111111111,
              "#46039f"
             ],
             [
              0.2222222222222222,
              "#7201a8"
             ],
             [
              0.3333333333333333,
              "#9c179e"
             ],
             [
              0.4444444444444444,
              "#bd3786"
             ],
             [
              0.5555555555555556,
              "#d8576b"
             ],
             [
              0.6666666666666666,
              "#ed7953"
             ],
             [
              0.7777777777777778,
              "#fb9f3a"
             ],
             [
              0.8888888888888888,
              "#fdca26"
             ],
             [
              1,
              "#f0f921"
             ]
            ],
            "type": "histogram2dcontour"
           }
          ],
          "mesh3d": [
           {
            "colorbar": {
             "outlinewidth": 0,
             "ticks": ""
            },
            "type": "mesh3d"
           }
          ],
          "parcoords": [
           {
            "line": {
             "colorbar": {
              "outlinewidth": 0,
              "ticks": ""
             }
            },
            "type": "parcoords"
           }
          ],
          "pie": [
           {
            "automargin": true,
            "type": "pie"
           }
          ],
          "scatter": [
           {
            "marker": {
             "colorbar": {
              "outlinewidth": 0,
              "ticks": ""
             }
            },
            "type": "scatter"
           }
          ],
          "scatter3d": [
           {
            "line": {
             "colorbar": {
              "outlinewidth": 0,
              "ticks": ""
             }
            },
            "marker": {
             "colorbar": {
              "outlinewidth": 0,
              "ticks": ""
             }
            },
            "type": "scatter3d"
           }
          ],
          "scattercarpet": [
           {
            "marker": {
             "colorbar": {
              "outlinewidth": 0,
              "ticks": ""
             }
            },
            "type": "scattercarpet"
           }
          ],
          "scattergeo": [
           {
            "marker": {
             "colorbar": {
              "outlinewidth": 0,
              "ticks": ""
             }
            },
            "type": "scattergeo"
           }
          ],
          "scattergl": [
           {
            "marker": {
             "colorbar": {
              "outlinewidth": 0,
              "ticks": ""
             }
            },
            "type": "scattergl"
           }
          ],
          "scattermapbox": [
           {
            "marker": {
             "colorbar": {
              "outlinewidth": 0,
              "ticks": ""
             }
            },
            "type": "scattermapbox"
           }
          ],
          "scatterpolar": [
           {
            "marker": {
             "colorbar": {
              "outlinewidth": 0,
              "ticks": ""
             }
            },
            "type": "scatterpolar"
           }
          ],
          "scatterpolargl": [
           {
            "marker": {
             "colorbar": {
              "outlinewidth": 0,
              "ticks": ""
             }
            },
            "type": "scatterpolargl"
           }
          ],
          "scatterternary": [
           {
            "marker": {
             "colorbar": {
              "outlinewidth": 0,
              "ticks": ""
             }
            },
            "type": "scatterternary"
           }
          ],
          "surface": [
           {
            "colorbar": {
             "outlinewidth": 0,
             "ticks": ""
            },
            "colorscale": [
             [
              0,
              "#0d0887"
             ],
             [
              0.1111111111111111,
              "#46039f"
             ],
             [
              0.2222222222222222,
              "#7201a8"
             ],
             [
              0.3333333333333333,
              "#9c179e"
             ],
             [
              0.4444444444444444,
              "#bd3786"
             ],
             [
              0.5555555555555556,
              "#d8576b"
             ],
             [
              0.6666666666666666,
              "#ed7953"
             ],
             [
              0.7777777777777778,
              "#fb9f3a"
             ],
             [
              0.8888888888888888,
              "#fdca26"
             ],
             [
              1,
              "#f0f921"
             ]
            ],
            "type": "surface"
           }
          ],
          "table": [
           {
            "cells": {
             "fill": {
              "color": "#EBF0F8"
             },
             "line": {
              "color": "white"
             }
            },
            "header": {
             "fill": {
              "color": "#C8D4E3"
             },
             "line": {
              "color": "white"
             }
            },
            "type": "table"
           }
          ]
         },
         "layout": {
          "annotationdefaults": {
           "arrowcolor": "#2a3f5f",
           "arrowhead": 0,
           "arrowwidth": 1
          },
          "autotypenumbers": "strict",
          "coloraxis": {
           "colorbar": {
            "outlinewidth": 0,
            "ticks": ""
           }
          },
          "colorscale": {
           "diverging": [
            [
             0,
             "#8e0152"
            ],
            [
             0.1,
             "#c51b7d"
            ],
            [
             0.2,
             "#de77ae"
            ],
            [
             0.3,
             "#f1b6da"
            ],
            [
             0.4,
             "#fde0ef"
            ],
            [
             0.5,
             "#f7f7f7"
            ],
            [
             0.6,
             "#e6f5d0"
            ],
            [
             0.7,
             "#b8e186"
            ],
            [
             0.8,
             "#7fbc41"
            ],
            [
             0.9,
             "#4d9221"
            ],
            [
             1,
             "#276419"
            ]
           ],
           "sequential": [
            [
             0,
             "#0d0887"
            ],
            [
             0.1111111111111111,
             "#46039f"
            ],
            [
             0.2222222222222222,
             "#7201a8"
            ],
            [
             0.3333333333333333,
             "#9c179e"
            ],
            [
             0.4444444444444444,
             "#bd3786"
            ],
            [
             0.5555555555555556,
             "#d8576b"
            ],
            [
             0.6666666666666666,
             "#ed7953"
            ],
            [
             0.7777777777777778,
             "#fb9f3a"
            ],
            [
             0.8888888888888888,
             "#fdca26"
            ],
            [
             1,
             "#f0f921"
            ]
           ],
           "sequentialminus": [
            [
             0,
             "#0d0887"
            ],
            [
             0.1111111111111111,
             "#46039f"
            ],
            [
             0.2222222222222222,
             "#7201a8"
            ],
            [
             0.3333333333333333,
             "#9c179e"
            ],
            [
             0.4444444444444444,
             "#bd3786"
            ],
            [
             0.5555555555555556,
             "#d8576b"
            ],
            [
             0.6666666666666666,
             "#ed7953"
            ],
            [
             0.7777777777777778,
             "#fb9f3a"
            ],
            [
             0.8888888888888888,
             "#fdca26"
            ],
            [
             1,
             "#f0f921"
            ]
           ]
          },
          "colorway": [
           "#636efa",
           "#EF553B",
           "#00cc96",
           "#ab63fa",
           "#FFA15A",
           "#19d3f3",
           "#FF6692",
           "#B6E880",
           "#FF97FF",
           "#FECB52"
          ],
          "font": {
           "color": "#2a3f5f"
          },
          "geo": {
           "bgcolor": "white",
           "lakecolor": "white",
           "landcolor": "#E5ECF6",
           "showlakes": true,
           "showland": true,
           "subunitcolor": "white"
          },
          "hoverlabel": {
           "align": "left"
          },
          "hovermode": "closest",
          "mapbox": {
           "style": "light"
          },
          "paper_bgcolor": "white",
          "plot_bgcolor": "#E5ECF6",
          "polar": {
           "angularaxis": {
            "gridcolor": "white",
            "linecolor": "white",
            "ticks": ""
           },
           "bgcolor": "#E5ECF6",
           "radialaxis": {
            "gridcolor": "white",
            "linecolor": "white",
            "ticks": ""
           }
          },
          "scene": {
           "xaxis": {
            "backgroundcolor": "#E5ECF6",
            "gridcolor": "white",
            "gridwidth": 2,
            "linecolor": "white",
            "showbackground": true,
            "ticks": "",
            "zerolinecolor": "white"
           },
           "yaxis": {
            "backgroundcolor": "#E5ECF6",
            "gridcolor": "white",
            "gridwidth": 2,
            "linecolor": "white",
            "showbackground": true,
            "ticks": "",
            "zerolinecolor": "white"
           },
           "zaxis": {
            "backgroundcolor": "#E5ECF6",
            "gridcolor": "white",
            "gridwidth": 2,
            "linecolor": "white",
            "showbackground": true,
            "ticks": "",
            "zerolinecolor": "white"
           }
          },
          "shapedefaults": {
           "line": {
            "color": "#2a3f5f"
           }
          },
          "ternary": {
           "aaxis": {
            "gridcolor": "white",
            "linecolor": "white",
            "ticks": ""
           },
           "baxis": {
            "gridcolor": "white",
            "linecolor": "white",
            "ticks": ""
           },
           "bgcolor": "#E5ECF6",
           "caxis": {
            "gridcolor": "white",
            "linecolor": "white",
            "ticks": ""
           }
          },
          "title": {
           "x": 0.05
          },
          "xaxis": {
           "automargin": true,
           "gridcolor": "white",
           "linecolor": "white",
           "ticks": "",
           "title": {
            "standoff": 15
           },
           "zerolinecolor": "white",
           "zerolinewidth": 2
          },
          "yaxis": {
           "automargin": true,
           "gridcolor": "white",
           "linecolor": "white",
           "ticks": "",
           "title": {
            "standoff": 15
           },
           "zerolinecolor": "white",
           "zerolinewidth": 2
          }
         }
        },
        "title": {
         "text": "Feature Recommendation Sankey Visualization"
        }
       }
      },
      "text/html": [
       "<div>                            <div id=\"b1f4e9df-39db-459f-a103-f58c3cf2d6ed\" class=\"plotly-graph-div\" style=\"height:525px; width:100%;\"></div>            <script type=\"text/javascript\">                require([\"plotly\"], function(Plotly) {                    window.PLOTLYENV=window.PLOTLYENV || {};                                    if (document.getElementById(\"b1f4e9df-39db-459f-a103-f58c3cf2d6ed\")) {                    Plotly.newPlot(                        \"b1f4e9df-39db-459f-a103-f58c3cf2d6ed\",                        [{\"link\":{\"source\":[0,10,23,23,10,24,24,10,25,25,0,11,23,1,12,23,1,13,23,2,14,23,23,2,15,23,23,15,25,25,3,14,23,23,3,16,23,4,17,23,4,13,23,5,11,23,5,18,23,23,6,19,23,23,6,20,23,7,19,23,23,7,20,23,8,17,23,8,21,23,9,17,23,9,22,23],\"target\":[10,23,29,30,24,30,31,25,29,30,11,23,29,12,23,29,13,23,29,14,23,29,34,15,23,29,34,25,29,34,14,23,29,34,16,23,29,17,23,29,13,23,29,11,23,29,18,23,29,30,19,23,29,38,20,23,29,19,23,29,38,20,23,29,17,23,29,21,23,29,17,23,29,22,23,29],\"value\":[0.4096,1.0,1.0,1.0,1.0,1.0,1.0,1.0,1.0,1.0,0.4075,1.0,1.0,0.4841,1.0,1.0,0.4473,1.0,1.0,0.5738,1.0,1.0,1.0,0.3821,1.0,1.0,1.0,1.0,1.0,1.0,0.4543,1.0,1.0,1.0,0.441,1.0,1.0,0.4644,1.0,1.0,0.4275,1.0,1.0,0.7691,1.0,1.0,0.463,1.0,1.0,1.0,0.6274,1.0,1.0,1.0,0.5504,1.0,1.0,0.6476,1.0,1.0,1.0,0.6002,1.0,1.0,0.7087,1.0,1.0,0.5659,1.0,1.0,0.4173,1.0,1.0,0.3257,1.0,1.0]},\"node\":{\"color\":[\"#FCAFE4\",\"#358131\",\"#52C720\",\"#B7B3F7\",\"#274181\",\"#7CA4D4\",\"#011487\",\"#F87067\",\"#E80446\",\"#4A814B\",\"#227C17\",\"#6BE5B0\",\"#A4AD5D\",\"#69ABDD\",\"#8A0AAB\",\"#EB9E71\",\"#23BEFC\",\"#A7D0C6\",\"#F5F18F\",\"#64E84A\",\"#AB8BEA\",\"#A7A350\",\"#E7DFBF\",\"#FED2A2\",\"#92928B\",\"#1627DD\",\"#156EE5\",\"#AA1037\",\"#68D4FD\",\"#197350\",\"#C13142\",\"#9B6FAC\",\"#3B0995\",\"#EFF2C0\",\"#BDD33E\",\"#552DD9\",\"#DF0487\",\"#66DFC8\",\"#FAB9A6\"],\"label\":[\"churn\",\"AccountWeeks\",\"ContractRenewal\",\"DataPlan\",\"DataUsage\",\"CustServCalls\",\"DayMins\",\"DayCalls\",\"MonthlyCharge\",\"OverageFee\",\"retired flag\",\"number customer service calls\",\"last rech date ma\",\"last rech date da\",\"contract\",\"tenure\",\"voice mail plan\",\"monthlycharges\",\"total intl calls\",\"total day minutes\",\"total eve minutes\",\"total day charge\",\"totalcharges\",\"telecommunication\",\"healthcare\",\"banking financial service and insurance\",\"telecommunication\",\"telecommunication\",\"banking financial service and insurance\",\"customer churn prediction\",\"fraud detection\",\"stroke prediction\",\"customer churn prediction\",\"customer churn prediction\",\"customer segmentation\",\"customer churn prediction\",\"fraud detection\",\"customer churn prediction\",\"telco-based credit scoring\"],\"line\":{\"color\":[\"#EA3641\",\"#52EEC2\",\"#DD56B6\",\"#C138FB\",\"#54F73B\",\"#2846F8\",\"#34F55F\",\"#482A92\",\"#126D8A\",\"#3DA33E\",\"#D063AB\",\"#FE0EA4\",\"#B4A420\",\"#F993E1\",\"#0489F8\",\"#25000E\",\"#94D9B6\",\"#7DE236\",\"#C5CDD7\",\"#33BFAB\",\"#78F820\",\"#484856\",\"#EBC42D\",\"#665563\",\"#AE0BE9\",\"#5E8F16\",\"#BFA771\",\"#655A1E\",\"#2EE1CC\",\"#F5A66E\",\"#3A0D68\",\"#4347B3\",\"#920A8C\",\"#02AD5D\",\"#E16EDD\",\"#7DC4E4\",\"#FEAE2F\",\"#5C7F57\",\"#BC410B\",\"#8FF701\",\"#63B16B\",\"#C9BAE9\",\"#689971\",\"#E27E2C\",\"#B9C248\",\"#363579\",\"#5426F0\",\"#43A5A1\",\"#1E316C\",\"#3635F3\",\"#6E29C6\",\"#937F7E\",\"#1720F3\",\"#AD70D8\",\"#FA8EE6\",\"#EBDB05\",\"#E31F3B\",\"#4E8642\",\"#6860CB\",\"#7E6A9E\",\"#35F66C\",\"#6A41CC\",\"#31B32B\",\"#B79634\",\"#2E5937\",\"#6ECC1D\",\"#7C4E46\",\"#D3DAAA\",\"#9E6132\",\"#D61402\",\"#070888\",\"#18141E\",\"#2ADF28\",\"#C58E3B\",\"#CAF256\",\"#5F3634\"],\"width\":0.5},\"pad\":15,\"thickness\":20},\"type\":\"sankey\"}],                        {\"font\":{\"size\":10},\"template\":{\"data\":{\"bar\":[{\"error_x\":{\"color\":\"#2a3f5f\"},\"error_y\":{\"color\":\"#2a3f5f\"},\"marker\":{\"line\":{\"color\":\"#E5ECF6\",\"width\":0.5},\"pattern\":{\"fillmode\":\"overlay\",\"size\":10,\"solidity\":0.2}},\"type\":\"bar\"}],\"barpolar\":[{\"marker\":{\"line\":{\"color\":\"#E5ECF6\",\"width\":0.5},\"pattern\":{\"fillmode\":\"overlay\",\"size\":10,\"solidity\":0.2}},\"type\":\"barpolar\"}],\"carpet\":[{\"aaxis\":{\"endlinecolor\":\"#2a3f5f\",\"gridcolor\":\"white\",\"linecolor\":\"white\",\"minorgridcolor\":\"white\",\"startlinecolor\":\"#2a3f5f\"},\"baxis\":{\"endlinecolor\":\"#2a3f5f\",\"gridcolor\":\"white\",\"linecolor\":\"white\",\"minorgridcolor\":\"white\",\"startlinecolor\":\"#2a3f5f\"},\"type\":\"carpet\"}],\"choropleth\":[{\"colorbar\":{\"outlinewidth\":0,\"ticks\":\"\"},\"type\":\"choropleth\"}],\"contour\":[{\"colorbar\":{\"outlinewidth\":0,\"ticks\":\"\"},\"colorscale\":[[0.0,\"#0d0887\"],[0.1111111111111111,\"#46039f\"],[0.2222222222222222,\"#7201a8\"],[0.3333333333333333,\"#9c179e\"],[0.4444444444444444,\"#bd3786\"],[0.5555555555555556,\"#d8576b\"],[0.6666666666666666,\"#ed7953\"],[0.7777777777777778,\"#fb9f3a\"],[0.8888888888888888,\"#fdca26\"],[1.0,\"#f0f921\"]],\"type\":\"contour\"}],\"contourcarpet\":[{\"colorbar\":{\"outlinewidth\":0,\"ticks\":\"\"},\"type\":\"contourcarpet\"}],\"heatmap\":[{\"colorbar\":{\"outlinewidth\":0,\"ticks\":\"\"},\"colorscale\":[[0.0,\"#0d0887\"],[0.1111111111111111,\"#46039f\"],[0.2222222222222222,\"#7201a8\"],[0.3333333333333333,\"#9c179e\"],[0.4444444444444444,\"#bd3786\"],[0.5555555555555556,\"#d8576b\"],[0.6666666666666666,\"#ed7953\"],[0.7777777777777778,\"#fb9f3a\"],[0.8888888888888888,\"#fdca26\"],[1.0,\"#f0f921\"]],\"type\":\"heatmap\"}],\"heatmapgl\":[{\"colorbar\":{\"outlinewidth\":0,\"ticks\":\"\"},\"colorscale\":[[0.0,\"#0d0887\"],[0.1111111111111111,\"#46039f\"],[0.2222222222222222,\"#7201a8\"],[0.3333333333333333,\"#9c179e\"],[0.4444444444444444,\"#bd3786\"],[0.5555555555555556,\"#d8576b\"],[0.6666666666666666,\"#ed7953\"],[0.7777777777777778,\"#fb9f3a\"],[0.8888888888888888,\"#fdca26\"],[1.0,\"#f0f921\"]],\"type\":\"heatmapgl\"}],\"histogram\":[{\"marker\":{\"pattern\":{\"fillmode\":\"overlay\",\"size\":10,\"solidity\":0.2}},\"type\":\"histogram\"}],\"histogram2d\":[{\"colorbar\":{\"outlinewidth\":0,\"ticks\":\"\"},\"colorscale\":[[0.0,\"#0d0887\"],[0.1111111111111111,\"#46039f\"],[0.2222222222222222,\"#7201a8\"],[0.3333333333333333,\"#9c179e\"],[0.4444444444444444,\"#bd3786\"],[0.5555555555555556,\"#d8576b\"],[0.6666666666666666,\"#ed7953\"],[0.7777777777777778,\"#fb9f3a\"],[0.8888888888888888,\"#fdca26\"],[1.0,\"#f0f921\"]],\"type\":\"histogram2d\"}],\"histogram2dcontour\":[{\"colorbar\":{\"outlinewidth\":0,\"ticks\":\"\"},\"colorscale\":[[0.0,\"#0d0887\"],[0.1111111111111111,\"#46039f\"],[0.2222222222222222,\"#7201a8\"],[0.3333333333333333,\"#9c179e\"],[0.4444444444444444,\"#bd3786\"],[0.5555555555555556,\"#d8576b\"],[0.6666666666666666,\"#ed7953\"],[0.7777777777777778,\"#fb9f3a\"],[0.8888888888888888,\"#fdca26\"],[1.0,\"#f0f921\"]],\"type\":\"histogram2dcontour\"}],\"mesh3d\":[{\"colorbar\":{\"outlinewidth\":0,\"ticks\":\"\"},\"type\":\"mesh3d\"}],\"parcoords\":[{\"line\":{\"colorbar\":{\"outlinewidth\":0,\"ticks\":\"\"}},\"type\":\"parcoords\"}],\"pie\":[{\"automargin\":true,\"type\":\"pie\"}],\"scatter\":[{\"marker\":{\"colorbar\":{\"outlinewidth\":0,\"ticks\":\"\"}},\"type\":\"scatter\"}],\"scatter3d\":[{\"line\":{\"colorbar\":{\"outlinewidth\":0,\"ticks\":\"\"}},\"marker\":{\"colorbar\":{\"outlinewidth\":0,\"ticks\":\"\"}},\"type\":\"scatter3d\"}],\"scattercarpet\":[{\"marker\":{\"colorbar\":{\"outlinewidth\":0,\"ticks\":\"\"}},\"type\":\"scattercarpet\"}],\"scattergeo\":[{\"marker\":{\"colorbar\":{\"outlinewidth\":0,\"ticks\":\"\"}},\"type\":\"scattergeo\"}],\"scattergl\":[{\"marker\":{\"colorbar\":{\"outlinewidth\":0,\"ticks\":\"\"}},\"type\":\"scattergl\"}],\"scattermapbox\":[{\"marker\":{\"colorbar\":{\"outlinewidth\":0,\"ticks\":\"\"}},\"type\":\"scattermapbox\"}],\"scatterpolar\":[{\"marker\":{\"colorbar\":{\"outlinewidth\":0,\"ticks\":\"\"}},\"type\":\"scatterpolar\"}],\"scatterpolargl\":[{\"marker\":{\"colorbar\":{\"outlinewidth\":0,\"ticks\":\"\"}},\"type\":\"scatterpolargl\"}],\"scatterternary\":[{\"marker\":{\"colorbar\":{\"outlinewidth\":0,\"ticks\":\"\"}},\"type\":\"scatterternary\"}],\"surface\":[{\"colorbar\":{\"outlinewidth\":0,\"ticks\":\"\"},\"colorscale\":[[0.0,\"#0d0887\"],[0.1111111111111111,\"#46039f\"],[0.2222222222222222,\"#7201a8\"],[0.3333333333333333,\"#9c179e\"],[0.4444444444444444,\"#bd3786\"],[0.5555555555555556,\"#d8576b\"],[0.6666666666666666,\"#ed7953\"],[0.7777777777777778,\"#fb9f3a\"],[0.8888888888888888,\"#fdca26\"],[1.0,\"#f0f921\"]],\"type\":\"surface\"}],\"table\":[{\"cells\":{\"fill\":{\"color\":\"#EBF0F8\"},\"line\":{\"color\":\"white\"}},\"header\":{\"fill\":{\"color\":\"#C8D4E3\"},\"line\":{\"color\":\"white\"}},\"type\":\"table\"}]},\"layout\":{\"annotationdefaults\":{\"arrowcolor\":\"#2a3f5f\",\"arrowhead\":0,\"arrowwidth\":1},\"autotypenumbers\":\"strict\",\"coloraxis\":{\"colorbar\":{\"outlinewidth\":0,\"ticks\":\"\"}},\"colorscale\":{\"diverging\":[[0,\"#8e0152\"],[0.1,\"#c51b7d\"],[0.2,\"#de77ae\"],[0.3,\"#f1b6da\"],[0.4,\"#fde0ef\"],[0.5,\"#f7f7f7\"],[0.6,\"#e6f5d0\"],[0.7,\"#b8e186\"],[0.8,\"#7fbc41\"],[0.9,\"#4d9221\"],[1,\"#276419\"]],\"sequential\":[[0.0,\"#0d0887\"],[0.1111111111111111,\"#46039f\"],[0.2222222222222222,\"#7201a8\"],[0.3333333333333333,\"#9c179e\"],[0.4444444444444444,\"#bd3786\"],[0.5555555555555556,\"#d8576b\"],[0.6666666666666666,\"#ed7953\"],[0.7777777777777778,\"#fb9f3a\"],[0.8888888888888888,\"#fdca26\"],[1.0,\"#f0f921\"]],\"sequentialminus\":[[0.0,\"#0d0887\"],[0.1111111111111111,\"#46039f\"],[0.2222222222222222,\"#7201a8\"],[0.3333333333333333,\"#9c179e\"],[0.4444444444444444,\"#bd3786\"],[0.5555555555555556,\"#d8576b\"],[0.6666666666666666,\"#ed7953\"],[0.7777777777777778,\"#fb9f3a\"],[0.8888888888888888,\"#fdca26\"],[1.0,\"#f0f921\"]]},\"colorway\":[\"#636efa\",\"#EF553B\",\"#00cc96\",\"#ab63fa\",\"#FFA15A\",\"#19d3f3\",\"#FF6692\",\"#B6E880\",\"#FF97FF\",\"#FECB52\"],\"font\":{\"color\":\"#2a3f5f\"},\"geo\":{\"bgcolor\":\"white\",\"lakecolor\":\"white\",\"landcolor\":\"#E5ECF6\",\"showlakes\":true,\"showland\":true,\"subunitcolor\":\"white\"},\"hoverlabel\":{\"align\":\"left\"},\"hovermode\":\"closest\",\"mapbox\":{\"style\":\"light\"},\"paper_bgcolor\":\"white\",\"plot_bgcolor\":\"#E5ECF6\",\"polar\":{\"angularaxis\":{\"gridcolor\":\"white\",\"linecolor\":\"white\",\"ticks\":\"\"},\"bgcolor\":\"#E5ECF6\",\"radialaxis\":{\"gridcolor\":\"white\",\"linecolor\":\"white\",\"ticks\":\"\"}},\"scene\":{\"xaxis\":{\"backgroundcolor\":\"#E5ECF6\",\"gridcolor\":\"white\",\"gridwidth\":2,\"linecolor\":\"white\",\"showbackground\":true,\"ticks\":\"\",\"zerolinecolor\":\"white\"},\"yaxis\":{\"backgroundcolor\":\"#E5ECF6\",\"gridcolor\":\"white\",\"gridwidth\":2,\"linecolor\":\"white\",\"showbackground\":true,\"ticks\":\"\",\"zerolinecolor\":\"white\"},\"zaxis\":{\"backgroundcolor\":\"#E5ECF6\",\"gridcolor\":\"white\",\"gridwidth\":2,\"linecolor\":\"white\",\"showbackground\":true,\"ticks\":\"\",\"zerolinecolor\":\"white\"}},\"shapedefaults\":{\"line\":{\"color\":\"#2a3f5f\"}},\"ternary\":{\"aaxis\":{\"gridcolor\":\"white\",\"linecolor\":\"white\",\"ticks\":\"\"},\"baxis\":{\"gridcolor\":\"white\",\"linecolor\":\"white\",\"ticks\":\"\"},\"bgcolor\":\"#E5ECF6\",\"caxis\":{\"gridcolor\":\"white\",\"linecolor\":\"white\",\"ticks\":\"\"}},\"title\":{\"x\":0.05},\"xaxis\":{\"automargin\":true,\"gridcolor\":\"white\",\"linecolor\":\"white\",\"ticks\":\"\",\"title\":{\"standoff\":15},\"zerolinecolor\":\"white\",\"zerolinewidth\":2},\"yaxis\":{\"automargin\":true,\"gridcolor\":\"white\",\"linecolor\":\"white\",\"ticks\":\"\",\"title\":{\"standoff\":15},\"zerolinecolor\":\"white\",\"zerolinewidth\":2}}},\"title\":{\"text\":\"Feature Recommendation Sankey Visualization\"}},                        {\"responsive\": true}                    ).then(function(){\n",
       "                            \n",
       "var gd = document.getElementById('b1f4e9df-39db-459f-a103-f58c3cf2d6ed');\n",
       "var x = new MutationObserver(function (mutations, observer) {{\n",
       "        var display = window.getComputedStyle(gd).display;\n",
       "        if (!display || display === 'none') {{\n",
       "            console.log([gd, 'removed!']);\n",
       "            Plotly.purge(gd);\n",
       "            observer.disconnect();\n",
       "        }}\n",
       "}});\n",
       "\n",
       "// Listen for the removal of the full notebook cells\n",
       "var notebookContainer = gd.closest('#notebook-container');\n",
       "if (notebookContainer) {{\n",
       "    x.observe(notebookContainer, {childList: true});\n",
       "}}\n",
       "\n",
       "// Listen for the clearing of the current output cell\n",
       "var outputEl = gd.closest('.output');\n",
       "if (outputEl) {{\n",
       "    x.observe(outputEl, {childList: true});\n",
       "}}\n",
       "\n",
       "                        })                };                });            </script>        </div>"
      ]
     },
     "metadata": {},
     "output_type": "display_data"
    }
   ],
   "source": [
    "df_2 = feature_recommendation(df_attr_1,\n",
    "                              name_column='Attribute Name',\n",
    "                              desc_column='Attribute Description',\n",
    "                              suggested_industry='telecoms',\n",
    "                              suggested_usecase='churn prediction')\n",
    "fig_2 = sankey_visualization(df_2, industry_included=True, usecase_included=True)\n",
    "fig_2.show()"
   ]
  },
  {
   "cell_type": "code",
   "execution_count": 37,
   "id": "b280a9cd",
   "metadata": {},
   "outputs": [
    {
     "data": {
      "text/html": [
       "<div>\n",
       "<style scoped>\n",
       "    .dataframe tbody tr th:only-of-type {\n",
       "        vertical-align: middle;\n",
       "    }\n",
       "\n",
       "    .dataframe tbody tr th {\n",
       "        vertical-align: top;\n",
       "    }\n",
       "\n",
       "    .dataframe thead th {\n",
       "        text-align: right;\n",
       "    }\n",
       "</style>\n",
       "<table border=\"1\" class=\"dataframe\">\n",
       "  <thead>\n",
       "    <tr style=\"text-align: right;\">\n",
       "      <th></th>\n",
       "      <th>Name</th>\n",
       "      <th>Desc</th>\n",
       "      <th>Industry</th>\n",
       "      <th>Usecase</th>\n",
       "    </tr>\n",
       "  </thead>\n",
       "  <tbody>\n",
       "    <tr>\n",
       "      <th>0</th>\n",
       "      <td>key</td>\n",
       "      <td>a unique identifier for each trip</td>\n",
       "      <td>Transportation</td>\n",
       "      <td>Ridepooling Pricing</td>\n",
       "    </tr>\n",
       "    <tr>\n",
       "      <th>1</th>\n",
       "      <td>fare_amount</td>\n",
       "      <td>the cost of each trip in usd</td>\n",
       "      <td>Transportation</td>\n",
       "      <td>Ridepooling Pricing</td>\n",
       "    </tr>\n",
       "    <tr>\n",
       "      <th>2</th>\n",
       "      <td>pickup_datetime</td>\n",
       "      <td>date and time where the meter was engaged</td>\n",
       "      <td>Transportation</td>\n",
       "      <td>Ridepooling Pricing</td>\n",
       "    </tr>\n",
       "    <tr>\n",
       "      <th>3</th>\n",
       "      <td>passenger_count</td>\n",
       "      <td>the number of passengers in the vehicle (drive...</td>\n",
       "      <td>Transportation</td>\n",
       "      <td>Ridepooling Pricing</td>\n",
       "    </tr>\n",
       "    <tr>\n",
       "      <th>4</th>\n",
       "      <td>pickup_longitude</td>\n",
       "      <td>the longitude where the meter was engaged</td>\n",
       "      <td>Transportation</td>\n",
       "      <td>Ridepooling Pricing</td>\n",
       "    </tr>\n",
       "    <tr>\n",
       "      <th>5</th>\n",
       "      <td>pickup_latitude</td>\n",
       "      <td>the latitude where the meter was engaged</td>\n",
       "      <td>Transportation</td>\n",
       "      <td>Ridepooling Pricing</td>\n",
       "    </tr>\n",
       "    <tr>\n",
       "      <th>6</th>\n",
       "      <td>dropoff_longitude</td>\n",
       "      <td>the longitude where the meter was disengaged</td>\n",
       "      <td>Transportation</td>\n",
       "      <td>Ridepooling Pricing</td>\n",
       "    </tr>\n",
       "    <tr>\n",
       "      <th>7</th>\n",
       "      <td>dropoff_latitude</td>\n",
       "      <td>the latitude where the meter was disengaged</td>\n",
       "      <td>Transportation</td>\n",
       "      <td>Ridepooling Pricing</td>\n",
       "    </tr>\n",
       "  </tbody>\n",
       "</table>\n",
       "</div>"
      ],
      "text/plain": [
       "                Name                                               Desc  \\\n",
       "0                key                  a unique identifier for each trip   \n",
       "1        fare_amount                       the cost of each trip in usd   \n",
       "2    pickup_datetime          date and time where the meter was engaged   \n",
       "3    passenger_count  the number of passengers in the vehicle (drive...   \n",
       "4   pickup_longitude          the longitude where the meter was engaged   \n",
       "5    pickup_latitude           the latitude where the meter was engaged   \n",
       "6  dropoff_longitude       the longitude where the meter was disengaged   \n",
       "7   dropoff_latitude        the latitude where the meter was disengaged   \n",
       "\n",
       "         Industry              Usecase  \n",
       "0  Transportation  Ridepooling Pricing  \n",
       "1  Transportation  Ridepooling Pricing  \n",
       "2  Transportation  Ridepooling Pricing  \n",
       "3  Transportation  Ridepooling Pricing  \n",
       "4  Transportation  Ridepooling Pricing  \n",
       "5  Transportation  Ridepooling Pricing  \n",
       "6  Transportation  Ridepooling Pricing  \n",
       "7  Transportation  Ridepooling Pricing  "
      ]
     },
     "execution_count": 37,
     "metadata": {},
     "output_type": "execute_result"
    }
   ],
   "source": [
    "df_attr_2"
   ]
  },
  {
   "cell_type": "code",
   "execution_count": 29,
   "id": "d1748032",
   "metadata": {},
   "outputs": [
    {
     "data": {
      "application/vnd.plotly.v1+json": {
       "config": {
        "plotlyServerURL": "https://plot.ly"
       },
       "data": [
        {
         "link": {
          "source": [
           0,
           8,
           17,
           0,
           9,
           17,
           1,
           10,
           18,
           1,
           11,
           18,
           2,
           12,
           19,
           12,
           18,
           12,
           21,
           12,
           22,
           2,
           13,
           21,
           3,
           8,
           17,
           3,
           14,
           22,
           22,
           22,
           4,
           15,
           21,
           4,
           16,
           21,
           5,
           16,
           21,
           5,
           15,
           21,
           6,
           15,
           21,
           6,
           16,
           21,
           7,
           15,
           21,
           7,
           16,
           21
          ],
          "target": [
           8,
           17,
           25,
           9,
           17,
           26,
           10,
           18,
           27,
           11,
           18,
           27,
           12,
           19,
           28,
           18,
           28,
           21,
           28,
           22,
           28,
           13,
           21,
           26,
           8,
           17,
           25,
           14,
           22,
           29,
           30,
           31,
           15,
           21,
           32,
           16,
           21,
           33,
           16,
           21,
           33,
           15,
           21,
           32,
           15,
           21,
           32,
           16,
           21,
           33,
           15,
           21,
           32,
           16,
           21,
           33
          ],
          "value": [
           0.4541,
           1,
           1,
           0.4504,
           1,
           1,
           0.4767,
           1,
           1,
           0.4602,
           1,
           1,
           0.5013,
           1,
           1,
           1,
           1,
           1,
           1,
           1,
           1,
           0.4483,
           1,
           1,
           0.4269,
           1,
           1,
           0.4177,
           1,
           1,
           1,
           1,
           0.5041,
           1,
           1,
           0.4494,
           1,
           1,
           0.4945,
           1,
           1,
           0.4725,
           1,
           1,
           0.4786,
           1,
           1,
           0.4085,
           1,
           1,
           0.4409,
           1,
           1,
           0.423,
           1,
           1
          ]
         },
         "node": {
          "color": [
           "#1D45F7",
           "#CE2942",
           "#795347",
           "#66DAD8",
           "#50D087",
           "#678F14",
           "#1F1A8C",
           "#D1D4E7",
           "#2F47F1",
           "#168F3C",
           "#9208AF",
           "#1D3C3C",
           "#137089",
           "#50E4F3",
           "#4BE29D",
           "#24107C",
           "#6150BD",
           "#53FE49",
           "#DF412A",
           "#76A70B",
           "#E4DF34",
           "#B72E99",
           "#D9E48D",
           "#F0E45D",
           "#B03C00",
           "#5819C6",
           "#FE2530",
           "#7C5915",
           "#27BA2E",
           "#D25525",
           "#1BAF88",
           "#4F3984",
           "#D77B54",
           "#3D83E3"
          ],
          "label": [
           "a unique identifier for each trip",
           "the cost of each trip in usd",
           "date and time where the meter was engaged",
           "the number of passengers in the vehicle (driver entered value)",
           "the longitude where the meter was engaged",
           "the latitude where the meter was engaged",
           "the longitude where the meter was disengaged",
           "the latitude where the meter was disengaged",
           "Total Visits",
           "Insured Id",
           "unit price",
           "total",
           "Device Age",
           "call date time",
           "total number of employees",
           "geomagnetic field",
           "lat",
           "healthcare",
           "retail",
           "transportation",
           "retail",
           "telecommunication",
           "banking financial service and insurance",
           "telecommunication",
           "banking financial service and insurance",
           "patient churn",
           "fraud detection",
           "sales prediction",
           "age and gender prediction",
           "credit risk modeling",
           "recommender system",
           "customer segmentation",
           "transportation model detection",
           "network traffic analysis and prediction"
          ],
          "line": {
           "color": [
            "#A1FB1B",
            "#521953",
            "#CE1004",
            "#ECE4BE",
            "#2B3CB2",
            "#AD4F0F",
            "#99661E",
            "#CB0149",
            "#F27C77",
            "#0CCD22",
            "#C4E751",
            "#52EBA9",
            "#88D1CD",
            "#C95FAF",
            "#E0237B",
            "#7A1055",
            "#13311A",
            "#AC1C57",
            "#730833",
            "#D6D6FF",
            "#C97BB4",
            "#B11F93",
            "#33B2F0",
            "#ADB4E9",
            "#72C90D",
            "#B9A074",
            "#017EFE",
            "#950CC8",
            "#6822BB",
            "#295845",
            "#351A43",
            "#1B627D",
            "#9AF621",
            "#291573",
            "#0CD444",
            "#8F18D7",
            "#E5BD47",
            "#E4EDC4",
            "#9C7A19",
            "#1E1725",
            "#DC1BDA",
            "#D92E67",
            "#94D17D",
            "#962EDD",
            "#77E4C6",
            "#F07B42",
            "#0D84A5",
            "#6F021D",
            "#3FE191",
            "#E9B15B",
            "#18F1D6",
            "#EBC5E9",
            "#47ABA4",
            "#758275",
            "#CD7FB6",
            "#510298"
           ],
           "width": 0.5
          },
          "pad": 15,
          "thickness": 20
         },
         "type": "sankey"
        }
       ],
       "layout": {
        "font": {
         "size": 10
        },
        "template": {
         "data": {
          "bar": [
           {
            "error_x": {
             "color": "#2a3f5f"
            },
            "error_y": {
             "color": "#2a3f5f"
            },
            "marker": {
             "line": {
              "color": "#E5ECF6",
              "width": 0.5
             },
             "pattern": {
              "fillmode": "overlay",
              "size": 10,
              "solidity": 0.2
             }
            },
            "type": "bar"
           }
          ],
          "barpolar": [
           {
            "marker": {
             "line": {
              "color": "#E5ECF6",
              "width": 0.5
             },
             "pattern": {
              "fillmode": "overlay",
              "size": 10,
              "solidity": 0.2
             }
            },
            "type": "barpolar"
           }
          ],
          "carpet": [
           {
            "aaxis": {
             "endlinecolor": "#2a3f5f",
             "gridcolor": "white",
             "linecolor": "white",
             "minorgridcolor": "white",
             "startlinecolor": "#2a3f5f"
            },
            "baxis": {
             "endlinecolor": "#2a3f5f",
             "gridcolor": "white",
             "linecolor": "white",
             "minorgridcolor": "white",
             "startlinecolor": "#2a3f5f"
            },
            "type": "carpet"
           }
          ],
          "choropleth": [
           {
            "colorbar": {
             "outlinewidth": 0,
             "ticks": ""
            },
            "type": "choropleth"
           }
          ],
          "contour": [
           {
            "colorbar": {
             "outlinewidth": 0,
             "ticks": ""
            },
            "colorscale": [
             [
              0,
              "#0d0887"
             ],
             [
              0.1111111111111111,
              "#46039f"
             ],
             [
              0.2222222222222222,
              "#7201a8"
             ],
             [
              0.3333333333333333,
              "#9c179e"
             ],
             [
              0.4444444444444444,
              "#bd3786"
             ],
             [
              0.5555555555555556,
              "#d8576b"
             ],
             [
              0.6666666666666666,
              "#ed7953"
             ],
             [
              0.7777777777777778,
              "#fb9f3a"
             ],
             [
              0.8888888888888888,
              "#fdca26"
             ],
             [
              1,
              "#f0f921"
             ]
            ],
            "type": "contour"
           }
          ],
          "contourcarpet": [
           {
            "colorbar": {
             "outlinewidth": 0,
             "ticks": ""
            },
            "type": "contourcarpet"
           }
          ],
          "heatmap": [
           {
            "colorbar": {
             "outlinewidth": 0,
             "ticks": ""
            },
            "colorscale": [
             [
              0,
              "#0d0887"
             ],
             [
              0.1111111111111111,
              "#46039f"
             ],
             [
              0.2222222222222222,
              "#7201a8"
             ],
             [
              0.3333333333333333,
              "#9c179e"
             ],
             [
              0.4444444444444444,
              "#bd3786"
             ],
             [
              0.5555555555555556,
              "#d8576b"
             ],
             [
              0.6666666666666666,
              "#ed7953"
             ],
             [
              0.7777777777777778,
              "#fb9f3a"
             ],
             [
              0.8888888888888888,
              "#fdca26"
             ],
             [
              1,
              "#f0f921"
             ]
            ],
            "type": "heatmap"
           }
          ],
          "heatmapgl": [
           {
            "colorbar": {
             "outlinewidth": 0,
             "ticks": ""
            },
            "colorscale": [
             [
              0,
              "#0d0887"
             ],
             [
              0.1111111111111111,
              "#46039f"
             ],
             [
              0.2222222222222222,
              "#7201a8"
             ],
             [
              0.3333333333333333,
              "#9c179e"
             ],
             [
              0.4444444444444444,
              "#bd3786"
             ],
             [
              0.5555555555555556,
              "#d8576b"
             ],
             [
              0.6666666666666666,
              "#ed7953"
             ],
             [
              0.7777777777777778,
              "#fb9f3a"
             ],
             [
              0.8888888888888888,
              "#fdca26"
             ],
             [
              1,
              "#f0f921"
             ]
            ],
            "type": "heatmapgl"
           }
          ],
          "histogram": [
           {
            "marker": {
             "pattern": {
              "fillmode": "overlay",
              "size": 10,
              "solidity": 0.2
             }
            },
            "type": "histogram"
           }
          ],
          "histogram2d": [
           {
            "colorbar": {
             "outlinewidth": 0,
             "ticks": ""
            },
            "colorscale": [
             [
              0,
              "#0d0887"
             ],
             [
              0.1111111111111111,
              "#46039f"
             ],
             [
              0.2222222222222222,
              "#7201a8"
             ],
             [
              0.3333333333333333,
              "#9c179e"
             ],
             [
              0.4444444444444444,
              "#bd3786"
             ],
             [
              0.5555555555555556,
              "#d8576b"
             ],
             [
              0.6666666666666666,
              "#ed7953"
             ],
             [
              0.7777777777777778,
              "#fb9f3a"
             ],
             [
              0.8888888888888888,
              "#fdca26"
             ],
             [
              1,
              "#f0f921"
             ]
            ],
            "type": "histogram2d"
           }
          ],
          "histogram2dcontour": [
           {
            "colorbar": {
             "outlinewidth": 0,
             "ticks": ""
            },
            "colorscale": [
             [
              0,
              "#0d0887"
             ],
             [
              0.1111111111111111,
              "#46039f"
             ],
             [
              0.2222222222222222,
              "#7201a8"
             ],
             [
              0.3333333333333333,
              "#9c179e"
             ],
             [
              0.4444444444444444,
              "#bd3786"
             ],
             [
              0.5555555555555556,
              "#d8576b"
             ],
             [
              0.6666666666666666,
              "#ed7953"
             ],
             [
              0.7777777777777778,
              "#fb9f3a"
             ],
             [
              0.8888888888888888,
              "#fdca26"
             ],
             [
              1,
              "#f0f921"
             ]
            ],
            "type": "histogram2dcontour"
           }
          ],
          "mesh3d": [
           {
            "colorbar": {
             "outlinewidth": 0,
             "ticks": ""
            },
            "type": "mesh3d"
           }
          ],
          "parcoords": [
           {
            "line": {
             "colorbar": {
              "outlinewidth": 0,
              "ticks": ""
             }
            },
            "type": "parcoords"
           }
          ],
          "pie": [
           {
            "automargin": true,
            "type": "pie"
           }
          ],
          "scatter": [
           {
            "marker": {
             "colorbar": {
              "outlinewidth": 0,
              "ticks": ""
             }
            },
            "type": "scatter"
           }
          ],
          "scatter3d": [
           {
            "line": {
             "colorbar": {
              "outlinewidth": 0,
              "ticks": ""
             }
            },
            "marker": {
             "colorbar": {
              "outlinewidth": 0,
              "ticks": ""
             }
            },
            "type": "scatter3d"
           }
          ],
          "scattercarpet": [
           {
            "marker": {
             "colorbar": {
              "outlinewidth": 0,
              "ticks": ""
             }
            },
            "type": "scattercarpet"
           }
          ],
          "scattergeo": [
           {
            "marker": {
             "colorbar": {
              "outlinewidth": 0,
              "ticks": ""
             }
            },
            "type": "scattergeo"
           }
          ],
          "scattergl": [
           {
            "marker": {
             "colorbar": {
              "outlinewidth": 0,
              "ticks": ""
             }
            },
            "type": "scattergl"
           }
          ],
          "scattermapbox": [
           {
            "marker": {
             "colorbar": {
              "outlinewidth": 0,
              "ticks": ""
             }
            },
            "type": "scattermapbox"
           }
          ],
          "scatterpolar": [
           {
            "marker": {
             "colorbar": {
              "outlinewidth": 0,
              "ticks": ""
             }
            },
            "type": "scatterpolar"
           }
          ],
          "scatterpolargl": [
           {
            "marker": {
             "colorbar": {
              "outlinewidth": 0,
              "ticks": ""
             }
            },
            "type": "scatterpolargl"
           }
          ],
          "scatterternary": [
           {
            "marker": {
             "colorbar": {
              "outlinewidth": 0,
              "ticks": ""
             }
            },
            "type": "scatterternary"
           }
          ],
          "surface": [
           {
            "colorbar": {
             "outlinewidth": 0,
             "ticks": ""
            },
            "colorscale": [
             [
              0,
              "#0d0887"
             ],
             [
              0.1111111111111111,
              "#46039f"
             ],
             [
              0.2222222222222222,
              "#7201a8"
             ],
             [
              0.3333333333333333,
              "#9c179e"
             ],
             [
              0.4444444444444444,
              "#bd3786"
             ],
             [
              0.5555555555555556,
              "#d8576b"
             ],
             [
              0.6666666666666666,
              "#ed7953"
             ],
             [
              0.7777777777777778,
              "#fb9f3a"
             ],
             [
              0.8888888888888888,
              "#fdca26"
             ],
             [
              1,
              "#f0f921"
             ]
            ],
            "type": "surface"
           }
          ],
          "table": [
           {
            "cells": {
             "fill": {
              "color": "#EBF0F8"
             },
             "line": {
              "color": "white"
             }
            },
            "header": {
             "fill": {
              "color": "#C8D4E3"
             },
             "line": {
              "color": "white"
             }
            },
            "type": "table"
           }
          ]
         },
         "layout": {
          "annotationdefaults": {
           "arrowcolor": "#2a3f5f",
           "arrowhead": 0,
           "arrowwidth": 1
          },
          "autotypenumbers": "strict",
          "coloraxis": {
           "colorbar": {
            "outlinewidth": 0,
            "ticks": ""
           }
          },
          "colorscale": {
           "diverging": [
            [
             0,
             "#8e0152"
            ],
            [
             0.1,
             "#c51b7d"
            ],
            [
             0.2,
             "#de77ae"
            ],
            [
             0.3,
             "#f1b6da"
            ],
            [
             0.4,
             "#fde0ef"
            ],
            [
             0.5,
             "#f7f7f7"
            ],
            [
             0.6,
             "#e6f5d0"
            ],
            [
             0.7,
             "#b8e186"
            ],
            [
             0.8,
             "#7fbc41"
            ],
            [
             0.9,
             "#4d9221"
            ],
            [
             1,
             "#276419"
            ]
           ],
           "sequential": [
            [
             0,
             "#0d0887"
            ],
            [
             0.1111111111111111,
             "#46039f"
            ],
            [
             0.2222222222222222,
             "#7201a8"
            ],
            [
             0.3333333333333333,
             "#9c179e"
            ],
            [
             0.4444444444444444,
             "#bd3786"
            ],
            [
             0.5555555555555556,
             "#d8576b"
            ],
            [
             0.6666666666666666,
             "#ed7953"
            ],
            [
             0.7777777777777778,
             "#fb9f3a"
            ],
            [
             0.8888888888888888,
             "#fdca26"
            ],
            [
             1,
             "#f0f921"
            ]
           ],
           "sequentialminus": [
            [
             0,
             "#0d0887"
            ],
            [
             0.1111111111111111,
             "#46039f"
            ],
            [
             0.2222222222222222,
             "#7201a8"
            ],
            [
             0.3333333333333333,
             "#9c179e"
            ],
            [
             0.4444444444444444,
             "#bd3786"
            ],
            [
             0.5555555555555556,
             "#d8576b"
            ],
            [
             0.6666666666666666,
             "#ed7953"
            ],
            [
             0.7777777777777778,
             "#fb9f3a"
            ],
            [
             0.8888888888888888,
             "#fdca26"
            ],
            [
             1,
             "#f0f921"
            ]
           ]
          },
          "colorway": [
           "#636efa",
           "#EF553B",
           "#00cc96",
           "#ab63fa",
           "#FFA15A",
           "#19d3f3",
           "#FF6692",
           "#B6E880",
           "#FF97FF",
           "#FECB52"
          ],
          "font": {
           "color": "#2a3f5f"
          },
          "geo": {
           "bgcolor": "white",
           "lakecolor": "white",
           "landcolor": "#E5ECF6",
           "showlakes": true,
           "showland": true,
           "subunitcolor": "white"
          },
          "hoverlabel": {
           "align": "left"
          },
          "hovermode": "closest",
          "mapbox": {
           "style": "light"
          },
          "paper_bgcolor": "white",
          "plot_bgcolor": "#E5ECF6",
          "polar": {
           "angularaxis": {
            "gridcolor": "white",
            "linecolor": "white",
            "ticks": ""
           },
           "bgcolor": "#E5ECF6",
           "radialaxis": {
            "gridcolor": "white",
            "linecolor": "white",
            "ticks": ""
           }
          },
          "scene": {
           "xaxis": {
            "backgroundcolor": "#E5ECF6",
            "gridcolor": "white",
            "gridwidth": 2,
            "linecolor": "white",
            "showbackground": true,
            "ticks": "",
            "zerolinecolor": "white"
           },
           "yaxis": {
            "backgroundcolor": "#E5ECF6",
            "gridcolor": "white",
            "gridwidth": 2,
            "linecolor": "white",
            "showbackground": true,
            "ticks": "",
            "zerolinecolor": "white"
           },
           "zaxis": {
            "backgroundcolor": "#E5ECF6",
            "gridcolor": "white",
            "gridwidth": 2,
            "linecolor": "white",
            "showbackground": true,
            "ticks": "",
            "zerolinecolor": "white"
           }
          },
          "shapedefaults": {
           "line": {
            "color": "#2a3f5f"
           }
          },
          "ternary": {
           "aaxis": {
            "gridcolor": "white",
            "linecolor": "white",
            "ticks": ""
           },
           "baxis": {
            "gridcolor": "white",
            "linecolor": "white",
            "ticks": ""
           },
           "bgcolor": "#E5ECF6",
           "caxis": {
            "gridcolor": "white",
            "linecolor": "white",
            "ticks": ""
           }
          },
          "title": {
           "x": 0.05
          },
          "xaxis": {
           "automargin": true,
           "gridcolor": "white",
           "linecolor": "white",
           "ticks": "",
           "title": {
            "standoff": 15
           },
           "zerolinecolor": "white",
           "zerolinewidth": 2
          },
          "yaxis": {
           "automargin": true,
           "gridcolor": "white",
           "linecolor": "white",
           "ticks": "",
           "title": {
            "standoff": 15
           },
           "zerolinecolor": "white",
           "zerolinewidth": 2
          }
         }
        },
        "title": {
         "text": "Feature Recommendation Sankey Visualization"
        }
       }
      },
      "text/html": [
       "<div>                            <div id=\"1f61322f-e362-4a9c-8474-ead4526df0ed\" class=\"plotly-graph-div\" style=\"height:525px; width:100%;\"></div>            <script type=\"text/javascript\">                require([\"plotly\"], function(Plotly) {                    window.PLOTLYENV=window.PLOTLYENV || {};                                    if (document.getElementById(\"1f61322f-e362-4a9c-8474-ead4526df0ed\")) {                    Plotly.newPlot(                        \"1f61322f-e362-4a9c-8474-ead4526df0ed\",                        [{\"link\":{\"source\":[0,8,17,0,9,17,1,10,18,1,11,18,2,12,19,12,18,12,21,12,22,2,13,21,3,8,17,3,14,22,22,22,4,15,21,4,16,21,5,16,21,5,15,21,6,15,21,6,16,21,7,15,21,7,16,21],\"target\":[8,17,25,9,17,26,10,18,27,11,18,27,12,19,28,18,28,21,28,22,28,13,21,26,8,17,25,14,22,29,30,31,15,21,32,16,21,33,16,21,33,15,21,32,15,21,32,16,21,33,15,21,32,16,21,33],\"value\":[0.4541,1.0,1.0,0.4504,1.0,1.0,0.4767,1.0,1.0,0.4602,1.0,1.0,0.5013,1.0,1.0,1.0,1.0,1.0,1.0,1.0,1.0,0.4483,1.0,1.0,0.4269,1.0,1.0,0.4177,1.0,1.0,1.0,1.0,0.5041,1.0,1.0,0.4494,1.0,1.0,0.4945,1.0,1.0,0.4725,1.0,1.0,0.4786,1.0,1.0,0.4085,1.0,1.0,0.4409,1.0,1.0,0.423,1.0,1.0]},\"node\":{\"color\":[\"#1D45F7\",\"#CE2942\",\"#795347\",\"#66DAD8\",\"#50D087\",\"#678F14\",\"#1F1A8C\",\"#D1D4E7\",\"#2F47F1\",\"#168F3C\",\"#9208AF\",\"#1D3C3C\",\"#137089\",\"#50E4F3\",\"#4BE29D\",\"#24107C\",\"#6150BD\",\"#53FE49\",\"#DF412A\",\"#76A70B\",\"#E4DF34\",\"#B72E99\",\"#D9E48D\",\"#F0E45D\",\"#B03C00\",\"#5819C6\",\"#FE2530\",\"#7C5915\",\"#27BA2E\",\"#D25525\",\"#1BAF88\",\"#4F3984\",\"#D77B54\",\"#3D83E3\"],\"label\":[\"a unique identifier for each trip\",\"the cost of each trip in usd\",\"date and time where the meter was engaged\",\"the number of passengers in the vehicle (driver entered value)\",\"the longitude where the meter was engaged\",\"the latitude where the meter was engaged\",\"the longitude where the meter was disengaged\",\"the latitude where the meter was disengaged\",\"Total Visits\",\"Insured Id\",\"unit price\",\"total\",\"Device Age\",\"call date time\",\"total number of employees\",\"geomagnetic field\",\"lat\",\"healthcare\",\"retail\",\"transportation\",\"retail\",\"telecommunication\",\"banking financial service and insurance\",\"telecommunication\",\"banking financial service and insurance\",\"patient churn\",\"fraud detection\",\"sales prediction\",\"age and gender prediction\",\"credit risk modeling\",\"recommender system\",\"customer segmentation\",\"transportation model detection\",\"network traffic analysis and prediction\"],\"line\":{\"color\":[\"#A1FB1B\",\"#521953\",\"#CE1004\",\"#ECE4BE\",\"#2B3CB2\",\"#AD4F0F\",\"#99661E\",\"#CB0149\",\"#F27C77\",\"#0CCD22\",\"#C4E751\",\"#52EBA9\",\"#88D1CD\",\"#C95FAF\",\"#E0237B\",\"#7A1055\",\"#13311A\",\"#AC1C57\",\"#730833\",\"#D6D6FF\",\"#C97BB4\",\"#B11F93\",\"#33B2F0\",\"#ADB4E9\",\"#72C90D\",\"#B9A074\",\"#017EFE\",\"#950CC8\",\"#6822BB\",\"#295845\",\"#351A43\",\"#1B627D\",\"#9AF621\",\"#291573\",\"#0CD444\",\"#8F18D7\",\"#E5BD47\",\"#E4EDC4\",\"#9C7A19\",\"#1E1725\",\"#DC1BDA\",\"#D92E67\",\"#94D17D\",\"#962EDD\",\"#77E4C6\",\"#F07B42\",\"#0D84A5\",\"#6F021D\",\"#3FE191\",\"#E9B15B\",\"#18F1D6\",\"#EBC5E9\",\"#47ABA4\",\"#758275\",\"#CD7FB6\",\"#510298\"],\"width\":0.5},\"pad\":15,\"thickness\":20},\"type\":\"sankey\"}],                        {\"font\":{\"size\":10},\"template\":{\"data\":{\"bar\":[{\"error_x\":{\"color\":\"#2a3f5f\"},\"error_y\":{\"color\":\"#2a3f5f\"},\"marker\":{\"line\":{\"color\":\"#E5ECF6\",\"width\":0.5},\"pattern\":{\"fillmode\":\"overlay\",\"size\":10,\"solidity\":0.2}},\"type\":\"bar\"}],\"barpolar\":[{\"marker\":{\"line\":{\"color\":\"#E5ECF6\",\"width\":0.5},\"pattern\":{\"fillmode\":\"overlay\",\"size\":10,\"solidity\":0.2}},\"type\":\"barpolar\"}],\"carpet\":[{\"aaxis\":{\"endlinecolor\":\"#2a3f5f\",\"gridcolor\":\"white\",\"linecolor\":\"white\",\"minorgridcolor\":\"white\",\"startlinecolor\":\"#2a3f5f\"},\"baxis\":{\"endlinecolor\":\"#2a3f5f\",\"gridcolor\":\"white\",\"linecolor\":\"white\",\"minorgridcolor\":\"white\",\"startlinecolor\":\"#2a3f5f\"},\"type\":\"carpet\"}],\"choropleth\":[{\"colorbar\":{\"outlinewidth\":0,\"ticks\":\"\"},\"type\":\"choropleth\"}],\"contour\":[{\"colorbar\":{\"outlinewidth\":0,\"ticks\":\"\"},\"colorscale\":[[0.0,\"#0d0887\"],[0.1111111111111111,\"#46039f\"],[0.2222222222222222,\"#7201a8\"],[0.3333333333333333,\"#9c179e\"],[0.4444444444444444,\"#bd3786\"],[0.5555555555555556,\"#d8576b\"],[0.6666666666666666,\"#ed7953\"],[0.7777777777777778,\"#fb9f3a\"],[0.8888888888888888,\"#fdca26\"],[1.0,\"#f0f921\"]],\"type\":\"contour\"}],\"contourcarpet\":[{\"colorbar\":{\"outlinewidth\":0,\"ticks\":\"\"},\"type\":\"contourcarpet\"}],\"heatmap\":[{\"colorbar\":{\"outlinewidth\":0,\"ticks\":\"\"},\"colorscale\":[[0.0,\"#0d0887\"],[0.1111111111111111,\"#46039f\"],[0.2222222222222222,\"#7201a8\"],[0.3333333333333333,\"#9c179e\"],[0.4444444444444444,\"#bd3786\"],[0.5555555555555556,\"#d8576b\"],[0.6666666666666666,\"#ed7953\"],[0.7777777777777778,\"#fb9f3a\"],[0.8888888888888888,\"#fdca26\"],[1.0,\"#f0f921\"]],\"type\":\"heatmap\"}],\"heatmapgl\":[{\"colorbar\":{\"outlinewidth\":0,\"ticks\":\"\"},\"colorscale\":[[0.0,\"#0d0887\"],[0.1111111111111111,\"#46039f\"],[0.2222222222222222,\"#7201a8\"],[0.3333333333333333,\"#9c179e\"],[0.4444444444444444,\"#bd3786\"],[0.5555555555555556,\"#d8576b\"],[0.6666666666666666,\"#ed7953\"],[0.7777777777777778,\"#fb9f3a\"],[0.8888888888888888,\"#fdca26\"],[1.0,\"#f0f921\"]],\"type\":\"heatmapgl\"}],\"histogram\":[{\"marker\":{\"pattern\":{\"fillmode\":\"overlay\",\"size\":10,\"solidity\":0.2}},\"type\":\"histogram\"}],\"histogram2d\":[{\"colorbar\":{\"outlinewidth\":0,\"ticks\":\"\"},\"colorscale\":[[0.0,\"#0d0887\"],[0.1111111111111111,\"#46039f\"],[0.2222222222222222,\"#7201a8\"],[0.3333333333333333,\"#9c179e\"],[0.4444444444444444,\"#bd3786\"],[0.5555555555555556,\"#d8576b\"],[0.6666666666666666,\"#ed7953\"],[0.7777777777777778,\"#fb9f3a\"],[0.8888888888888888,\"#fdca26\"],[1.0,\"#f0f921\"]],\"type\":\"histogram2d\"}],\"histogram2dcontour\":[{\"colorbar\":{\"outlinewidth\":0,\"ticks\":\"\"},\"colorscale\":[[0.0,\"#0d0887\"],[0.1111111111111111,\"#46039f\"],[0.2222222222222222,\"#7201a8\"],[0.3333333333333333,\"#9c179e\"],[0.4444444444444444,\"#bd3786\"],[0.5555555555555556,\"#d8576b\"],[0.6666666666666666,\"#ed7953\"],[0.7777777777777778,\"#fb9f3a\"],[0.8888888888888888,\"#fdca26\"],[1.0,\"#f0f921\"]],\"type\":\"histogram2dcontour\"}],\"mesh3d\":[{\"colorbar\":{\"outlinewidth\":0,\"ticks\":\"\"},\"type\":\"mesh3d\"}],\"parcoords\":[{\"line\":{\"colorbar\":{\"outlinewidth\":0,\"ticks\":\"\"}},\"type\":\"parcoords\"}],\"pie\":[{\"automargin\":true,\"type\":\"pie\"}],\"scatter\":[{\"marker\":{\"colorbar\":{\"outlinewidth\":0,\"ticks\":\"\"}},\"type\":\"scatter\"}],\"scatter3d\":[{\"line\":{\"colorbar\":{\"outlinewidth\":0,\"ticks\":\"\"}},\"marker\":{\"colorbar\":{\"outlinewidth\":0,\"ticks\":\"\"}},\"type\":\"scatter3d\"}],\"scattercarpet\":[{\"marker\":{\"colorbar\":{\"outlinewidth\":0,\"ticks\":\"\"}},\"type\":\"scattercarpet\"}],\"scattergeo\":[{\"marker\":{\"colorbar\":{\"outlinewidth\":0,\"ticks\":\"\"}},\"type\":\"scattergeo\"}],\"scattergl\":[{\"marker\":{\"colorbar\":{\"outlinewidth\":0,\"ticks\":\"\"}},\"type\":\"scattergl\"}],\"scattermapbox\":[{\"marker\":{\"colorbar\":{\"outlinewidth\":0,\"ticks\":\"\"}},\"type\":\"scattermapbox\"}],\"scatterpolar\":[{\"marker\":{\"colorbar\":{\"outlinewidth\":0,\"ticks\":\"\"}},\"type\":\"scatterpolar\"}],\"scatterpolargl\":[{\"marker\":{\"colorbar\":{\"outlinewidth\":0,\"ticks\":\"\"}},\"type\":\"scatterpolargl\"}],\"scatterternary\":[{\"marker\":{\"colorbar\":{\"outlinewidth\":0,\"ticks\":\"\"}},\"type\":\"scatterternary\"}],\"surface\":[{\"colorbar\":{\"outlinewidth\":0,\"ticks\":\"\"},\"colorscale\":[[0.0,\"#0d0887\"],[0.1111111111111111,\"#46039f\"],[0.2222222222222222,\"#7201a8\"],[0.3333333333333333,\"#9c179e\"],[0.4444444444444444,\"#bd3786\"],[0.5555555555555556,\"#d8576b\"],[0.6666666666666666,\"#ed7953\"],[0.7777777777777778,\"#fb9f3a\"],[0.8888888888888888,\"#fdca26\"],[1.0,\"#f0f921\"]],\"type\":\"surface\"}],\"table\":[{\"cells\":{\"fill\":{\"color\":\"#EBF0F8\"},\"line\":{\"color\":\"white\"}},\"header\":{\"fill\":{\"color\":\"#C8D4E3\"},\"line\":{\"color\":\"white\"}},\"type\":\"table\"}]},\"layout\":{\"annotationdefaults\":{\"arrowcolor\":\"#2a3f5f\",\"arrowhead\":0,\"arrowwidth\":1},\"autotypenumbers\":\"strict\",\"coloraxis\":{\"colorbar\":{\"outlinewidth\":0,\"ticks\":\"\"}},\"colorscale\":{\"diverging\":[[0,\"#8e0152\"],[0.1,\"#c51b7d\"],[0.2,\"#de77ae\"],[0.3,\"#f1b6da\"],[0.4,\"#fde0ef\"],[0.5,\"#f7f7f7\"],[0.6,\"#e6f5d0\"],[0.7,\"#b8e186\"],[0.8,\"#7fbc41\"],[0.9,\"#4d9221\"],[1,\"#276419\"]],\"sequential\":[[0.0,\"#0d0887\"],[0.1111111111111111,\"#46039f\"],[0.2222222222222222,\"#7201a8\"],[0.3333333333333333,\"#9c179e\"],[0.4444444444444444,\"#bd3786\"],[0.5555555555555556,\"#d8576b\"],[0.6666666666666666,\"#ed7953\"],[0.7777777777777778,\"#fb9f3a\"],[0.8888888888888888,\"#fdca26\"],[1.0,\"#f0f921\"]],\"sequentialminus\":[[0.0,\"#0d0887\"],[0.1111111111111111,\"#46039f\"],[0.2222222222222222,\"#7201a8\"],[0.3333333333333333,\"#9c179e\"],[0.4444444444444444,\"#bd3786\"],[0.5555555555555556,\"#d8576b\"],[0.6666666666666666,\"#ed7953\"],[0.7777777777777778,\"#fb9f3a\"],[0.8888888888888888,\"#fdca26\"],[1.0,\"#f0f921\"]]},\"colorway\":[\"#636efa\",\"#EF553B\",\"#00cc96\",\"#ab63fa\",\"#FFA15A\",\"#19d3f3\",\"#FF6692\",\"#B6E880\",\"#FF97FF\",\"#FECB52\"],\"font\":{\"color\":\"#2a3f5f\"},\"geo\":{\"bgcolor\":\"white\",\"lakecolor\":\"white\",\"landcolor\":\"#E5ECF6\",\"showlakes\":true,\"showland\":true,\"subunitcolor\":\"white\"},\"hoverlabel\":{\"align\":\"left\"},\"hovermode\":\"closest\",\"mapbox\":{\"style\":\"light\"},\"paper_bgcolor\":\"white\",\"plot_bgcolor\":\"#E5ECF6\",\"polar\":{\"angularaxis\":{\"gridcolor\":\"white\",\"linecolor\":\"white\",\"ticks\":\"\"},\"bgcolor\":\"#E5ECF6\",\"radialaxis\":{\"gridcolor\":\"white\",\"linecolor\":\"white\",\"ticks\":\"\"}},\"scene\":{\"xaxis\":{\"backgroundcolor\":\"#E5ECF6\",\"gridcolor\":\"white\",\"gridwidth\":2,\"linecolor\":\"white\",\"showbackground\":true,\"ticks\":\"\",\"zerolinecolor\":\"white\"},\"yaxis\":{\"backgroundcolor\":\"#E5ECF6\",\"gridcolor\":\"white\",\"gridwidth\":2,\"linecolor\":\"white\",\"showbackground\":true,\"ticks\":\"\",\"zerolinecolor\":\"white\"},\"zaxis\":{\"backgroundcolor\":\"#E5ECF6\",\"gridcolor\":\"white\",\"gridwidth\":2,\"linecolor\":\"white\",\"showbackground\":true,\"ticks\":\"\",\"zerolinecolor\":\"white\"}},\"shapedefaults\":{\"line\":{\"color\":\"#2a3f5f\"}},\"ternary\":{\"aaxis\":{\"gridcolor\":\"white\",\"linecolor\":\"white\",\"ticks\":\"\"},\"baxis\":{\"gridcolor\":\"white\",\"linecolor\":\"white\",\"ticks\":\"\"},\"bgcolor\":\"#E5ECF6\",\"caxis\":{\"gridcolor\":\"white\",\"linecolor\":\"white\",\"ticks\":\"\"}},\"title\":{\"x\":0.05},\"xaxis\":{\"automargin\":true,\"gridcolor\":\"white\",\"linecolor\":\"white\",\"ticks\":\"\",\"title\":{\"standoff\":15},\"zerolinecolor\":\"white\",\"zerolinewidth\":2},\"yaxis\":{\"automargin\":true,\"gridcolor\":\"white\",\"linecolor\":\"white\",\"ticks\":\"\",\"title\":{\"standoff\":15},\"zerolinecolor\":\"white\",\"zerolinewidth\":2}}},\"title\":{\"text\":\"Feature Recommendation Sankey Visualization\"}},                        {\"responsive\": true}                    ).then(function(){\n",
       "                            \n",
       "var gd = document.getElementById('1f61322f-e362-4a9c-8474-ead4526df0ed');\n",
       "var x = new MutationObserver(function (mutations, observer) {{\n",
       "        var display = window.getComputedStyle(gd).display;\n",
       "        if (!display || display === 'none') {{\n",
       "            console.log([gd, 'removed!']);\n",
       "            Plotly.purge(gd);\n",
       "            observer.disconnect();\n",
       "        }}\n",
       "}});\n",
       "\n",
       "// Listen for the removal of the full notebook cells\n",
       "var notebookContainer = gd.closest('#notebook-container');\n",
       "if (notebookContainer) {{\n",
       "    x.observe(notebookContainer, {childList: true});\n",
       "}}\n",
       "\n",
       "// Listen for the clearing of the current output cell\n",
       "var outputEl = gd.closest('.output');\n",
       "if (outputEl) {{\n",
       "    x.observe(outputEl, {childList: true});\n",
       "}}\n",
       "\n",
       "                        })                };                });            </script>        </div>"
      ]
     },
     "metadata": {},
     "output_type": "display_data"
    }
   ],
   "source": [
    "df_3 = feature_recommendation(df_attr_2, desc_column='Desc')\n",
    "fig_3 = sankey_visualization(df_3, industry_included=True, usecase_included=True)\n",
    "fig_3.show()"
   ]
  },
  {
   "cell_type": "markdown",
   "id": "193f8e64",
   "metadata": {},
   "source": [
    "#### find_attr_by_relevance( ) Sankey Plots"
   ]
  },
  {
   "cell_type": "code",
   "execution_count": 40,
   "id": "d4f39bdb",
   "metadata": {},
   "outputs": [
    {
     "data": {
      "text/html": [
       "<div>\n",
       "<style scoped>\n",
       "    .dataframe tbody tr th:only-of-type {\n",
       "        vertical-align: middle;\n",
       "    }\n",
       "\n",
       "    .dataframe tbody tr th {\n",
       "        vertical-align: top;\n",
       "    }\n",
       "\n",
       "    .dataframe thead th {\n",
       "        text-align: right;\n",
       "    }\n",
       "</style>\n",
       "<table border=\"1\" class=\"dataframe\">\n",
       "  <thead>\n",
       "    <tr style=\"text-align: right;\">\n",
       "      <th></th>\n",
       "      <th>Attribute Name</th>\n",
       "      <th>Attribute Description</th>\n",
       "    </tr>\n",
       "  </thead>\n",
       "  <tbody>\n",
       "    <tr>\n",
       "      <th>0</th>\n",
       "      <td>churn</td>\n",
       "      <td>1 if customer cancelled service, 0 if not</td>\n",
       "    </tr>\n",
       "    <tr>\n",
       "      <th>1</th>\n",
       "      <td>AccountWeeks</td>\n",
       "      <td>number of weeks customer has had active account</td>\n",
       "    </tr>\n",
       "    <tr>\n",
       "      <th>2</th>\n",
       "      <td>ContractRenewal</td>\n",
       "      <td>1 if customer recently renewed contract, 0 if not</td>\n",
       "    </tr>\n",
       "    <tr>\n",
       "      <th>3</th>\n",
       "      <td>DataPlan</td>\n",
       "      <td>1 if customer has data plan, 0 if not</td>\n",
       "    </tr>\n",
       "    <tr>\n",
       "      <th>4</th>\n",
       "      <td>DataUsage</td>\n",
       "      <td>gigabytes of monthly data usage</td>\n",
       "    </tr>\n",
       "    <tr>\n",
       "      <th>5</th>\n",
       "      <td>CustServCalls</td>\n",
       "      <td>number of calls into customer service</td>\n",
       "    </tr>\n",
       "    <tr>\n",
       "      <th>6</th>\n",
       "      <td>DayMins</td>\n",
       "      <td>average daytime minutes per month</td>\n",
       "    </tr>\n",
       "    <tr>\n",
       "      <th>7</th>\n",
       "      <td>DayCalls</td>\n",
       "      <td>average number of daytime calls</td>\n",
       "    </tr>\n",
       "    <tr>\n",
       "      <th>8</th>\n",
       "      <td>MonthlyCharge</td>\n",
       "      <td>average monthly bill</td>\n",
       "    </tr>\n",
       "    <tr>\n",
       "      <th>9</th>\n",
       "      <td>OverageFee</td>\n",
       "      <td>largest overage fee in last 12 months</td>\n",
       "    </tr>\n",
       "  </tbody>\n",
       "</table>\n",
       "</div>"
      ],
      "text/plain": [
       "    Attribute Name                              Attribute Description\n",
       "0            churn          1 if customer cancelled service, 0 if not\n",
       "1     AccountWeeks    number of weeks customer has had active account\n",
       "2  ContractRenewal  1 if customer recently renewed contract, 0 if not\n",
       "3         DataPlan              1 if customer has data plan, 0 if not\n",
       "4        DataUsage                    gigabytes of monthly data usage\n",
       "5    CustServCalls              number of calls into customer service\n",
       "6          DayMins                  average daytime minutes per month\n",
       "7         DayCalls                    average number of daytime calls\n",
       "8    MonthlyCharge                               average monthly bill\n",
       "9       OverageFee              largest overage fee in last 12 months"
      ]
     },
     "execution_count": 40,
     "metadata": {},
     "output_type": "execute_result"
    }
   ],
   "source": [
    "df_attr_1"
   ]
  },
  {
   "cell_type": "code",
   "execution_count": 30,
   "id": "b65927ad",
   "metadata": {},
   "outputs": [
    {
     "data": {
      "application/vnd.plotly.v1+json": {
       "config": {
        "plotlyServerURL": "https://plot.ly"
       },
       "data": [
        {
         "link": {
          "source": [
           0,
           0,
           0,
           0,
           0,
           0,
           1,
           1,
           1,
           1,
           1,
           1,
           1,
           1,
           1
          ],
          "target": [
           2,
           3,
           4,
           5,
           6,
           7,
           5,
           2,
           8,
           4,
           6,
           3,
           9,
           7,
           10
          ],
          "value": [
           0.4228,
           0.3764,
           0.3409,
           0.3245,
           0.3198,
           0.3089,
           0.7598,
           0.6555,
           0.4595,
           0.4411,
           0.4119,
           0.3883,
           0.3801,
           0.3665,
           0.3297
          ]
         },
         "node": {
          "color": [
           "#6EAD48",
           "#B029B1",
           "#966164",
           "#29E47B",
           "#952921",
           "#A0E5FF",
           "#417189",
           "#7AEF5A",
           "#FE44D0",
           "#F0209D",
           "#A908DA"
          ],
          "label": [
           "number of customers using products",
           "number of call customer make daily",
           "CustServCalls",
           "AccountWeeks",
           "churn",
           "DayCalls",
           "DataUsage",
           "DataPlan",
           "DayMins",
           "MonthlyCharge",
           "ContractRenewal"
          ],
          "line": {
           "color": [
            "#05B072",
            "#F58416",
            "#218BE5",
            "#4EB48E",
            "#3002D2",
            "#5B842E",
            "#5F05D6",
            "#2CFA04",
            "#307218",
            "#00B7E2",
            "#8DE0D3",
            "#3DF0C0",
            "#D6571D",
            "#ADC9A9",
            "#94A892"
           ],
           "width": 0.5
          },
          "pad": 15,
          "thickness": 20
         },
         "type": "sankey"
        }
       ],
       "layout": {
        "font": {
         "size": 10
        },
        "template": {
         "data": {
          "bar": [
           {
            "error_x": {
             "color": "#2a3f5f"
            },
            "error_y": {
             "color": "#2a3f5f"
            },
            "marker": {
             "line": {
              "color": "#E5ECF6",
              "width": 0.5
             },
             "pattern": {
              "fillmode": "overlay",
              "size": 10,
              "solidity": 0.2
             }
            },
            "type": "bar"
           }
          ],
          "barpolar": [
           {
            "marker": {
             "line": {
              "color": "#E5ECF6",
              "width": 0.5
             },
             "pattern": {
              "fillmode": "overlay",
              "size": 10,
              "solidity": 0.2
             }
            },
            "type": "barpolar"
           }
          ],
          "carpet": [
           {
            "aaxis": {
             "endlinecolor": "#2a3f5f",
             "gridcolor": "white",
             "linecolor": "white",
             "minorgridcolor": "white",
             "startlinecolor": "#2a3f5f"
            },
            "baxis": {
             "endlinecolor": "#2a3f5f",
             "gridcolor": "white",
             "linecolor": "white",
             "minorgridcolor": "white",
             "startlinecolor": "#2a3f5f"
            },
            "type": "carpet"
           }
          ],
          "choropleth": [
           {
            "colorbar": {
             "outlinewidth": 0,
             "ticks": ""
            },
            "type": "choropleth"
           }
          ],
          "contour": [
           {
            "colorbar": {
             "outlinewidth": 0,
             "ticks": ""
            },
            "colorscale": [
             [
              0,
              "#0d0887"
             ],
             [
              0.1111111111111111,
              "#46039f"
             ],
             [
              0.2222222222222222,
              "#7201a8"
             ],
             [
              0.3333333333333333,
              "#9c179e"
             ],
             [
              0.4444444444444444,
              "#bd3786"
             ],
             [
              0.5555555555555556,
              "#d8576b"
             ],
             [
              0.6666666666666666,
              "#ed7953"
             ],
             [
              0.7777777777777778,
              "#fb9f3a"
             ],
             [
              0.8888888888888888,
              "#fdca26"
             ],
             [
              1,
              "#f0f921"
             ]
            ],
            "type": "contour"
           }
          ],
          "contourcarpet": [
           {
            "colorbar": {
             "outlinewidth": 0,
             "ticks": ""
            },
            "type": "contourcarpet"
           }
          ],
          "heatmap": [
           {
            "colorbar": {
             "outlinewidth": 0,
             "ticks": ""
            },
            "colorscale": [
             [
              0,
              "#0d0887"
             ],
             [
              0.1111111111111111,
              "#46039f"
             ],
             [
              0.2222222222222222,
              "#7201a8"
             ],
             [
              0.3333333333333333,
              "#9c179e"
             ],
             [
              0.4444444444444444,
              "#bd3786"
             ],
             [
              0.5555555555555556,
              "#d8576b"
             ],
             [
              0.6666666666666666,
              "#ed7953"
             ],
             [
              0.7777777777777778,
              "#fb9f3a"
             ],
             [
              0.8888888888888888,
              "#fdca26"
             ],
             [
              1,
              "#f0f921"
             ]
            ],
            "type": "heatmap"
           }
          ],
          "heatmapgl": [
           {
            "colorbar": {
             "outlinewidth": 0,
             "ticks": ""
            },
            "colorscale": [
             [
              0,
              "#0d0887"
             ],
             [
              0.1111111111111111,
              "#46039f"
             ],
             [
              0.2222222222222222,
              "#7201a8"
             ],
             [
              0.3333333333333333,
              "#9c179e"
             ],
             [
              0.4444444444444444,
              "#bd3786"
             ],
             [
              0.5555555555555556,
              "#d8576b"
             ],
             [
              0.6666666666666666,
              "#ed7953"
             ],
             [
              0.7777777777777778,
              "#fb9f3a"
             ],
             [
              0.8888888888888888,
              "#fdca26"
             ],
             [
              1,
              "#f0f921"
             ]
            ],
            "type": "heatmapgl"
           }
          ],
          "histogram": [
           {
            "marker": {
             "pattern": {
              "fillmode": "overlay",
              "size": 10,
              "solidity": 0.2
             }
            },
            "type": "histogram"
           }
          ],
          "histogram2d": [
           {
            "colorbar": {
             "outlinewidth": 0,
             "ticks": ""
            },
            "colorscale": [
             [
              0,
              "#0d0887"
             ],
             [
              0.1111111111111111,
              "#46039f"
             ],
             [
              0.2222222222222222,
              "#7201a8"
             ],
             [
              0.3333333333333333,
              "#9c179e"
             ],
             [
              0.4444444444444444,
              "#bd3786"
             ],
             [
              0.5555555555555556,
              "#d8576b"
             ],
             [
              0.6666666666666666,
              "#ed7953"
             ],
             [
              0.7777777777777778,
              "#fb9f3a"
             ],
             [
              0.8888888888888888,
              "#fdca26"
             ],
             [
              1,
              "#f0f921"
             ]
            ],
            "type": "histogram2d"
           }
          ],
          "histogram2dcontour": [
           {
            "colorbar": {
             "outlinewidth": 0,
             "ticks": ""
            },
            "colorscale": [
             [
              0,
              "#0d0887"
             ],
             [
              0.1111111111111111,
              "#46039f"
             ],
             [
              0.2222222222222222,
              "#7201a8"
             ],
             [
              0.3333333333333333,
              "#9c179e"
             ],
             [
              0.4444444444444444,
              "#bd3786"
             ],
             [
              0.5555555555555556,
              "#d8576b"
             ],
             [
              0.6666666666666666,
              "#ed7953"
             ],
             [
              0.7777777777777778,
              "#fb9f3a"
             ],
             [
              0.8888888888888888,
              "#fdca26"
             ],
             [
              1,
              "#f0f921"
             ]
            ],
            "type": "histogram2dcontour"
           }
          ],
          "mesh3d": [
           {
            "colorbar": {
             "outlinewidth": 0,
             "ticks": ""
            },
            "type": "mesh3d"
           }
          ],
          "parcoords": [
           {
            "line": {
             "colorbar": {
              "outlinewidth": 0,
              "ticks": ""
             }
            },
            "type": "parcoords"
           }
          ],
          "pie": [
           {
            "automargin": true,
            "type": "pie"
           }
          ],
          "scatter": [
           {
            "marker": {
             "colorbar": {
              "outlinewidth": 0,
              "ticks": ""
             }
            },
            "type": "scatter"
           }
          ],
          "scatter3d": [
           {
            "line": {
             "colorbar": {
              "outlinewidth": 0,
              "ticks": ""
             }
            },
            "marker": {
             "colorbar": {
              "outlinewidth": 0,
              "ticks": ""
             }
            },
            "type": "scatter3d"
           }
          ],
          "scattercarpet": [
           {
            "marker": {
             "colorbar": {
              "outlinewidth": 0,
              "ticks": ""
             }
            },
            "type": "scattercarpet"
           }
          ],
          "scattergeo": [
           {
            "marker": {
             "colorbar": {
              "outlinewidth": 0,
              "ticks": ""
             }
            },
            "type": "scattergeo"
           }
          ],
          "scattergl": [
           {
            "marker": {
             "colorbar": {
              "outlinewidth": 0,
              "ticks": ""
             }
            },
            "type": "scattergl"
           }
          ],
          "scattermapbox": [
           {
            "marker": {
             "colorbar": {
              "outlinewidth": 0,
              "ticks": ""
             }
            },
            "type": "scattermapbox"
           }
          ],
          "scatterpolar": [
           {
            "marker": {
             "colorbar": {
              "outlinewidth": 0,
              "ticks": ""
             }
            },
            "type": "scatterpolar"
           }
          ],
          "scatterpolargl": [
           {
            "marker": {
             "colorbar": {
              "outlinewidth": 0,
              "ticks": ""
             }
            },
            "type": "scatterpolargl"
           }
          ],
          "scatterternary": [
           {
            "marker": {
             "colorbar": {
              "outlinewidth": 0,
              "ticks": ""
             }
            },
            "type": "scatterternary"
           }
          ],
          "surface": [
           {
            "colorbar": {
             "outlinewidth": 0,
             "ticks": ""
            },
            "colorscale": [
             [
              0,
              "#0d0887"
             ],
             [
              0.1111111111111111,
              "#46039f"
             ],
             [
              0.2222222222222222,
              "#7201a8"
             ],
             [
              0.3333333333333333,
              "#9c179e"
             ],
             [
              0.4444444444444444,
              "#bd3786"
             ],
             [
              0.5555555555555556,
              "#d8576b"
             ],
             [
              0.6666666666666666,
              "#ed7953"
             ],
             [
              0.7777777777777778,
              "#fb9f3a"
             ],
             [
              0.8888888888888888,
              "#fdca26"
             ],
             [
              1,
              "#f0f921"
             ]
            ],
            "type": "surface"
           }
          ],
          "table": [
           {
            "cells": {
             "fill": {
              "color": "#EBF0F8"
             },
             "line": {
              "color": "white"
             }
            },
            "header": {
             "fill": {
              "color": "#C8D4E3"
             },
             "line": {
              "color": "white"
             }
            },
            "type": "table"
           }
          ]
         },
         "layout": {
          "annotationdefaults": {
           "arrowcolor": "#2a3f5f",
           "arrowhead": 0,
           "arrowwidth": 1
          },
          "autotypenumbers": "strict",
          "coloraxis": {
           "colorbar": {
            "outlinewidth": 0,
            "ticks": ""
           }
          },
          "colorscale": {
           "diverging": [
            [
             0,
             "#8e0152"
            ],
            [
             0.1,
             "#c51b7d"
            ],
            [
             0.2,
             "#de77ae"
            ],
            [
             0.3,
             "#f1b6da"
            ],
            [
             0.4,
             "#fde0ef"
            ],
            [
             0.5,
             "#f7f7f7"
            ],
            [
             0.6,
             "#e6f5d0"
            ],
            [
             0.7,
             "#b8e186"
            ],
            [
             0.8,
             "#7fbc41"
            ],
            [
             0.9,
             "#4d9221"
            ],
            [
             1,
             "#276419"
            ]
           ],
           "sequential": [
            [
             0,
             "#0d0887"
            ],
            [
             0.1111111111111111,
             "#46039f"
            ],
            [
             0.2222222222222222,
             "#7201a8"
            ],
            [
             0.3333333333333333,
             "#9c179e"
            ],
            [
             0.4444444444444444,
             "#bd3786"
            ],
            [
             0.5555555555555556,
             "#d8576b"
            ],
            [
             0.6666666666666666,
             "#ed7953"
            ],
            [
             0.7777777777777778,
             "#fb9f3a"
            ],
            [
             0.8888888888888888,
             "#fdca26"
            ],
            [
             1,
             "#f0f921"
            ]
           ],
           "sequentialminus": [
            [
             0,
             "#0d0887"
            ],
            [
             0.1111111111111111,
             "#46039f"
            ],
            [
             0.2222222222222222,
             "#7201a8"
            ],
            [
             0.3333333333333333,
             "#9c179e"
            ],
            [
             0.4444444444444444,
             "#bd3786"
            ],
            [
             0.5555555555555556,
             "#d8576b"
            ],
            [
             0.6666666666666666,
             "#ed7953"
            ],
            [
             0.7777777777777778,
             "#fb9f3a"
            ],
            [
             0.8888888888888888,
             "#fdca26"
            ],
            [
             1,
             "#f0f921"
            ]
           ]
          },
          "colorway": [
           "#636efa",
           "#EF553B",
           "#00cc96",
           "#ab63fa",
           "#FFA15A",
           "#19d3f3",
           "#FF6692",
           "#B6E880",
           "#FF97FF",
           "#FECB52"
          ],
          "font": {
           "color": "#2a3f5f"
          },
          "geo": {
           "bgcolor": "white",
           "lakecolor": "white",
           "landcolor": "#E5ECF6",
           "showlakes": true,
           "showland": true,
           "subunitcolor": "white"
          },
          "hoverlabel": {
           "align": "left"
          },
          "hovermode": "closest",
          "mapbox": {
           "style": "light"
          },
          "paper_bgcolor": "white",
          "plot_bgcolor": "#E5ECF6",
          "polar": {
           "angularaxis": {
            "gridcolor": "white",
            "linecolor": "white",
            "ticks": ""
           },
           "bgcolor": "#E5ECF6",
           "radialaxis": {
            "gridcolor": "white",
            "linecolor": "white",
            "ticks": ""
           }
          },
          "scene": {
           "xaxis": {
            "backgroundcolor": "#E5ECF6",
            "gridcolor": "white",
            "gridwidth": 2,
            "linecolor": "white",
            "showbackground": true,
            "ticks": "",
            "zerolinecolor": "white"
           },
           "yaxis": {
            "backgroundcolor": "#E5ECF6",
            "gridcolor": "white",
            "gridwidth": 2,
            "linecolor": "white",
            "showbackground": true,
            "ticks": "",
            "zerolinecolor": "white"
           },
           "zaxis": {
            "backgroundcolor": "#E5ECF6",
            "gridcolor": "white",
            "gridwidth": 2,
            "linecolor": "white",
            "showbackground": true,
            "ticks": "",
            "zerolinecolor": "white"
           }
          },
          "shapedefaults": {
           "line": {
            "color": "#2a3f5f"
           }
          },
          "ternary": {
           "aaxis": {
            "gridcolor": "white",
            "linecolor": "white",
            "ticks": ""
           },
           "baxis": {
            "gridcolor": "white",
            "linecolor": "white",
            "ticks": ""
           },
           "bgcolor": "#E5ECF6",
           "caxis": {
            "gridcolor": "white",
            "linecolor": "white",
            "ticks": ""
           }
          },
          "title": {
           "x": 0.05
          },
          "xaxis": {
           "automargin": true,
           "gridcolor": "white",
           "linecolor": "white",
           "ticks": "",
           "title": {
            "standoff": 15
           },
           "zerolinecolor": "white",
           "zerolinewidth": 2
          },
          "yaxis": {
           "automargin": true,
           "gridcolor": "white",
           "linecolor": "white",
           "ticks": "",
           "title": {
            "standoff": 15
           },
           "zerolinecolor": "white",
           "zerolinewidth": 2
          }
         }
        },
        "title": {
         "text": "Feature Recommendation Sankey Visualization"
        }
       }
      },
      "text/html": [
       "<div>                            <div id=\"67d023f1-9f99-410c-864d-9d78446f9372\" class=\"plotly-graph-div\" style=\"height:525px; width:100%;\"></div>            <script type=\"text/javascript\">                require([\"plotly\"], function(Plotly) {                    window.PLOTLYENV=window.PLOTLYENV || {};                                    if (document.getElementById(\"67d023f1-9f99-410c-864d-9d78446f9372\")) {                    Plotly.newPlot(                        \"67d023f1-9f99-410c-864d-9d78446f9372\",                        [{\"link\":{\"source\":[0,0,0,0,0,0,1,1,1,1,1,1,1,1,1],\"target\":[2,3,4,5,6,7,5,2,8,4,6,3,9,7,10],\"value\":[0.4228,0.3764,0.3409,0.3245,0.3198,0.3089,0.7598,0.6555,0.4595,0.4411,0.4119,0.3883,0.3801,0.3665,0.3297]},\"node\":{\"color\":[\"#6EAD48\",\"#B029B1\",\"#966164\",\"#29E47B\",\"#952921\",\"#A0E5FF\",\"#417189\",\"#7AEF5A\",\"#FE44D0\",\"#F0209D\",\"#A908DA\"],\"label\":[\"number of customers using products\",\"number of call customer make daily\",\"CustServCalls\",\"AccountWeeks\",\"churn\",\"DayCalls\",\"DataUsage\",\"DataPlan\",\"DayMins\",\"MonthlyCharge\",\"ContractRenewal\"],\"line\":{\"color\":[\"#05B072\",\"#F58416\",\"#218BE5\",\"#4EB48E\",\"#3002D2\",\"#5B842E\",\"#5F05D6\",\"#2CFA04\",\"#307218\",\"#00B7E2\",\"#8DE0D3\",\"#3DF0C0\",\"#D6571D\",\"#ADC9A9\",\"#94A892\"],\"width\":0.5},\"pad\":15,\"thickness\":20},\"type\":\"sankey\"}],                        {\"font\":{\"size\":10},\"template\":{\"data\":{\"bar\":[{\"error_x\":{\"color\":\"#2a3f5f\"},\"error_y\":{\"color\":\"#2a3f5f\"},\"marker\":{\"line\":{\"color\":\"#E5ECF6\",\"width\":0.5},\"pattern\":{\"fillmode\":\"overlay\",\"size\":10,\"solidity\":0.2}},\"type\":\"bar\"}],\"barpolar\":[{\"marker\":{\"line\":{\"color\":\"#E5ECF6\",\"width\":0.5},\"pattern\":{\"fillmode\":\"overlay\",\"size\":10,\"solidity\":0.2}},\"type\":\"barpolar\"}],\"carpet\":[{\"aaxis\":{\"endlinecolor\":\"#2a3f5f\",\"gridcolor\":\"white\",\"linecolor\":\"white\",\"minorgridcolor\":\"white\",\"startlinecolor\":\"#2a3f5f\"},\"baxis\":{\"endlinecolor\":\"#2a3f5f\",\"gridcolor\":\"white\",\"linecolor\":\"white\",\"minorgridcolor\":\"white\",\"startlinecolor\":\"#2a3f5f\"},\"type\":\"carpet\"}],\"choropleth\":[{\"colorbar\":{\"outlinewidth\":0,\"ticks\":\"\"},\"type\":\"choropleth\"}],\"contour\":[{\"colorbar\":{\"outlinewidth\":0,\"ticks\":\"\"},\"colorscale\":[[0.0,\"#0d0887\"],[0.1111111111111111,\"#46039f\"],[0.2222222222222222,\"#7201a8\"],[0.3333333333333333,\"#9c179e\"],[0.4444444444444444,\"#bd3786\"],[0.5555555555555556,\"#d8576b\"],[0.6666666666666666,\"#ed7953\"],[0.7777777777777778,\"#fb9f3a\"],[0.8888888888888888,\"#fdca26\"],[1.0,\"#f0f921\"]],\"type\":\"contour\"}],\"contourcarpet\":[{\"colorbar\":{\"outlinewidth\":0,\"ticks\":\"\"},\"type\":\"contourcarpet\"}],\"heatmap\":[{\"colorbar\":{\"outlinewidth\":0,\"ticks\":\"\"},\"colorscale\":[[0.0,\"#0d0887\"],[0.1111111111111111,\"#46039f\"],[0.2222222222222222,\"#7201a8\"],[0.3333333333333333,\"#9c179e\"],[0.4444444444444444,\"#bd3786\"],[0.5555555555555556,\"#d8576b\"],[0.6666666666666666,\"#ed7953\"],[0.7777777777777778,\"#fb9f3a\"],[0.8888888888888888,\"#fdca26\"],[1.0,\"#f0f921\"]],\"type\":\"heatmap\"}],\"heatmapgl\":[{\"colorbar\":{\"outlinewidth\":0,\"ticks\":\"\"},\"colorscale\":[[0.0,\"#0d0887\"],[0.1111111111111111,\"#46039f\"],[0.2222222222222222,\"#7201a8\"],[0.3333333333333333,\"#9c179e\"],[0.4444444444444444,\"#bd3786\"],[0.5555555555555556,\"#d8576b\"],[0.6666666666666666,\"#ed7953\"],[0.7777777777777778,\"#fb9f3a\"],[0.8888888888888888,\"#fdca26\"],[1.0,\"#f0f921\"]],\"type\":\"heatmapgl\"}],\"histogram\":[{\"marker\":{\"pattern\":{\"fillmode\":\"overlay\",\"size\":10,\"solidity\":0.2}},\"type\":\"histogram\"}],\"histogram2d\":[{\"colorbar\":{\"outlinewidth\":0,\"ticks\":\"\"},\"colorscale\":[[0.0,\"#0d0887\"],[0.1111111111111111,\"#46039f\"],[0.2222222222222222,\"#7201a8\"],[0.3333333333333333,\"#9c179e\"],[0.4444444444444444,\"#bd3786\"],[0.5555555555555556,\"#d8576b\"],[0.6666666666666666,\"#ed7953\"],[0.7777777777777778,\"#fb9f3a\"],[0.8888888888888888,\"#fdca26\"],[1.0,\"#f0f921\"]],\"type\":\"histogram2d\"}],\"histogram2dcontour\":[{\"colorbar\":{\"outlinewidth\":0,\"ticks\":\"\"},\"colorscale\":[[0.0,\"#0d0887\"],[0.1111111111111111,\"#46039f\"],[0.2222222222222222,\"#7201a8\"],[0.3333333333333333,\"#9c179e\"],[0.4444444444444444,\"#bd3786\"],[0.5555555555555556,\"#d8576b\"],[0.6666666666666666,\"#ed7953\"],[0.7777777777777778,\"#fb9f3a\"],[0.8888888888888888,\"#fdca26\"],[1.0,\"#f0f921\"]],\"type\":\"histogram2dcontour\"}],\"mesh3d\":[{\"colorbar\":{\"outlinewidth\":0,\"ticks\":\"\"},\"type\":\"mesh3d\"}],\"parcoords\":[{\"line\":{\"colorbar\":{\"outlinewidth\":0,\"ticks\":\"\"}},\"type\":\"parcoords\"}],\"pie\":[{\"automargin\":true,\"type\":\"pie\"}],\"scatter\":[{\"marker\":{\"colorbar\":{\"outlinewidth\":0,\"ticks\":\"\"}},\"type\":\"scatter\"}],\"scatter3d\":[{\"line\":{\"colorbar\":{\"outlinewidth\":0,\"ticks\":\"\"}},\"marker\":{\"colorbar\":{\"outlinewidth\":0,\"ticks\":\"\"}},\"type\":\"scatter3d\"}],\"scattercarpet\":[{\"marker\":{\"colorbar\":{\"outlinewidth\":0,\"ticks\":\"\"}},\"type\":\"scattercarpet\"}],\"scattergeo\":[{\"marker\":{\"colorbar\":{\"outlinewidth\":0,\"ticks\":\"\"}},\"type\":\"scattergeo\"}],\"scattergl\":[{\"marker\":{\"colorbar\":{\"outlinewidth\":0,\"ticks\":\"\"}},\"type\":\"scattergl\"}],\"scattermapbox\":[{\"marker\":{\"colorbar\":{\"outlinewidth\":0,\"ticks\":\"\"}},\"type\":\"scattermapbox\"}],\"scatterpolar\":[{\"marker\":{\"colorbar\":{\"outlinewidth\":0,\"ticks\":\"\"}},\"type\":\"scatterpolar\"}],\"scatterpolargl\":[{\"marker\":{\"colorbar\":{\"outlinewidth\":0,\"ticks\":\"\"}},\"type\":\"scatterpolargl\"}],\"scatterternary\":[{\"marker\":{\"colorbar\":{\"outlinewidth\":0,\"ticks\":\"\"}},\"type\":\"scatterternary\"}],\"surface\":[{\"colorbar\":{\"outlinewidth\":0,\"ticks\":\"\"},\"colorscale\":[[0.0,\"#0d0887\"],[0.1111111111111111,\"#46039f\"],[0.2222222222222222,\"#7201a8\"],[0.3333333333333333,\"#9c179e\"],[0.4444444444444444,\"#bd3786\"],[0.5555555555555556,\"#d8576b\"],[0.6666666666666666,\"#ed7953\"],[0.7777777777777778,\"#fb9f3a\"],[0.8888888888888888,\"#fdca26\"],[1.0,\"#f0f921\"]],\"type\":\"surface\"}],\"table\":[{\"cells\":{\"fill\":{\"color\":\"#EBF0F8\"},\"line\":{\"color\":\"white\"}},\"header\":{\"fill\":{\"color\":\"#C8D4E3\"},\"line\":{\"color\":\"white\"}},\"type\":\"table\"}]},\"layout\":{\"annotationdefaults\":{\"arrowcolor\":\"#2a3f5f\",\"arrowhead\":0,\"arrowwidth\":1},\"autotypenumbers\":\"strict\",\"coloraxis\":{\"colorbar\":{\"outlinewidth\":0,\"ticks\":\"\"}},\"colorscale\":{\"diverging\":[[0,\"#8e0152\"],[0.1,\"#c51b7d\"],[0.2,\"#de77ae\"],[0.3,\"#f1b6da\"],[0.4,\"#fde0ef\"],[0.5,\"#f7f7f7\"],[0.6,\"#e6f5d0\"],[0.7,\"#b8e186\"],[0.8,\"#7fbc41\"],[0.9,\"#4d9221\"],[1,\"#276419\"]],\"sequential\":[[0.0,\"#0d0887\"],[0.1111111111111111,\"#46039f\"],[0.2222222222222222,\"#7201a8\"],[0.3333333333333333,\"#9c179e\"],[0.4444444444444444,\"#bd3786\"],[0.5555555555555556,\"#d8576b\"],[0.6666666666666666,\"#ed7953\"],[0.7777777777777778,\"#fb9f3a\"],[0.8888888888888888,\"#fdca26\"],[1.0,\"#f0f921\"]],\"sequentialminus\":[[0.0,\"#0d0887\"],[0.1111111111111111,\"#46039f\"],[0.2222222222222222,\"#7201a8\"],[0.3333333333333333,\"#9c179e\"],[0.4444444444444444,\"#bd3786\"],[0.5555555555555556,\"#d8576b\"],[0.6666666666666666,\"#ed7953\"],[0.7777777777777778,\"#fb9f3a\"],[0.8888888888888888,\"#fdca26\"],[1.0,\"#f0f921\"]]},\"colorway\":[\"#636efa\",\"#EF553B\",\"#00cc96\",\"#ab63fa\",\"#FFA15A\",\"#19d3f3\",\"#FF6692\",\"#B6E880\",\"#FF97FF\",\"#FECB52\"],\"font\":{\"color\":\"#2a3f5f\"},\"geo\":{\"bgcolor\":\"white\",\"lakecolor\":\"white\",\"landcolor\":\"#E5ECF6\",\"showlakes\":true,\"showland\":true,\"subunitcolor\":\"white\"},\"hoverlabel\":{\"align\":\"left\"},\"hovermode\":\"closest\",\"mapbox\":{\"style\":\"light\"},\"paper_bgcolor\":\"white\",\"plot_bgcolor\":\"#E5ECF6\",\"polar\":{\"angularaxis\":{\"gridcolor\":\"white\",\"linecolor\":\"white\",\"ticks\":\"\"},\"bgcolor\":\"#E5ECF6\",\"radialaxis\":{\"gridcolor\":\"white\",\"linecolor\":\"white\",\"ticks\":\"\"}},\"scene\":{\"xaxis\":{\"backgroundcolor\":\"#E5ECF6\",\"gridcolor\":\"white\",\"gridwidth\":2,\"linecolor\":\"white\",\"showbackground\":true,\"ticks\":\"\",\"zerolinecolor\":\"white\"},\"yaxis\":{\"backgroundcolor\":\"#E5ECF6\",\"gridcolor\":\"white\",\"gridwidth\":2,\"linecolor\":\"white\",\"showbackground\":true,\"ticks\":\"\",\"zerolinecolor\":\"white\"},\"zaxis\":{\"backgroundcolor\":\"#E5ECF6\",\"gridcolor\":\"white\",\"gridwidth\":2,\"linecolor\":\"white\",\"showbackground\":true,\"ticks\":\"\",\"zerolinecolor\":\"white\"}},\"shapedefaults\":{\"line\":{\"color\":\"#2a3f5f\"}},\"ternary\":{\"aaxis\":{\"gridcolor\":\"white\",\"linecolor\":\"white\",\"ticks\":\"\"},\"baxis\":{\"gridcolor\":\"white\",\"linecolor\":\"white\",\"ticks\":\"\"},\"bgcolor\":\"#E5ECF6\",\"caxis\":{\"gridcolor\":\"white\",\"linecolor\":\"white\",\"ticks\":\"\"}},\"title\":{\"x\":0.05},\"xaxis\":{\"automargin\":true,\"gridcolor\":\"white\",\"linecolor\":\"white\",\"ticks\":\"\",\"title\":{\"standoff\":15},\"zerolinecolor\":\"white\",\"zerolinewidth\":2},\"yaxis\":{\"automargin\":true,\"gridcolor\":\"white\",\"linecolor\":\"white\",\"ticks\":\"\",\"title\":{\"standoff\":15},\"zerolinecolor\":\"white\",\"zerolinewidth\":2}}},\"title\":{\"text\":\"Feature Recommendation Sankey Visualization\"}},                        {\"responsive\": true}                    ).then(function(){\n",
       "                            \n",
       "var gd = document.getElementById('67d023f1-9f99-410c-864d-9d78446f9372');\n",
       "var x = new MutationObserver(function (mutations, observer) {{\n",
       "        var display = window.getComputedStyle(gd).display;\n",
       "        if (!display || display === 'none') {{\n",
       "            console.log([gd, 'removed!']);\n",
       "            Plotly.purge(gd);\n",
       "            observer.disconnect();\n",
       "        }}\n",
       "}});\n",
       "\n",
       "// Listen for the removal of the full notebook cells\n",
       "var notebookContainer = gd.closest('#notebook-container');\n",
       "if (notebookContainer) {{\n",
       "    x.observe(notebookContainer, {childList: true});\n",
       "}}\n",
       "\n",
       "// Listen for the clearing of the current output cell\n",
       "var outputEl = gd.closest('.output');\n",
       "if (outputEl) {{\n",
       "    x.observe(outputEl, {childList: true});\n",
       "}}\n",
       "\n",
       "                        })                };                });            </script>        </div>"
      ]
     },
     "metadata": {},
     "output_type": "display_data"
    }
   ],
   "source": [
    "test_building_corpus = ['number of customers using products', 'number of call customer make daily']\n",
    "df_4 = find_attr_by_relevance(df_attr_1,\n",
    "                            building_corpus=test_building_corpus,\n",
    "                            name_column='Attribute Name',\n",
    "                            desc_column='Attribute Description')\n",
    "fig_4 = sankey_visualization(df_4)\n",
    "fig_4.show()"
   ]
  },
  {
   "cell_type": "code",
   "execution_count": 38,
   "id": "1ae476be",
   "metadata": {},
   "outputs": [
    {
     "data": {
      "text/html": [
       "<div>\n",
       "<style scoped>\n",
       "    .dataframe tbody tr th:only-of-type {\n",
       "        vertical-align: middle;\n",
       "    }\n",
       "\n",
       "    .dataframe tbody tr th {\n",
       "        vertical-align: top;\n",
       "    }\n",
       "\n",
       "    .dataframe thead th {\n",
       "        text-align: right;\n",
       "    }\n",
       "</style>\n",
       "<table border=\"1\" class=\"dataframe\">\n",
       "  <thead>\n",
       "    <tr style=\"text-align: right;\">\n",
       "      <th></th>\n",
       "      <th>Name</th>\n",
       "      <th>Desc</th>\n",
       "      <th>Industry</th>\n",
       "      <th>Usecase</th>\n",
       "    </tr>\n",
       "  </thead>\n",
       "  <tbody>\n",
       "    <tr>\n",
       "      <th>0</th>\n",
       "      <td>key</td>\n",
       "      <td>a unique identifier for each trip</td>\n",
       "      <td>Transportation</td>\n",
       "      <td>Ridepooling Pricing</td>\n",
       "    </tr>\n",
       "    <tr>\n",
       "      <th>1</th>\n",
       "      <td>fare_amount</td>\n",
       "      <td>the cost of each trip in usd</td>\n",
       "      <td>Transportation</td>\n",
       "      <td>Ridepooling Pricing</td>\n",
       "    </tr>\n",
       "    <tr>\n",
       "      <th>2</th>\n",
       "      <td>pickup_datetime</td>\n",
       "      <td>date and time where the meter was engaged</td>\n",
       "      <td>Transportation</td>\n",
       "      <td>Ridepooling Pricing</td>\n",
       "    </tr>\n",
       "    <tr>\n",
       "      <th>3</th>\n",
       "      <td>passenger_count</td>\n",
       "      <td>the number of passengers in the vehicle (drive...</td>\n",
       "      <td>Transportation</td>\n",
       "      <td>Ridepooling Pricing</td>\n",
       "    </tr>\n",
       "    <tr>\n",
       "      <th>4</th>\n",
       "      <td>pickup_longitude</td>\n",
       "      <td>the longitude where the meter was engaged</td>\n",
       "      <td>Transportation</td>\n",
       "      <td>Ridepooling Pricing</td>\n",
       "    </tr>\n",
       "    <tr>\n",
       "      <th>5</th>\n",
       "      <td>pickup_latitude</td>\n",
       "      <td>the latitude where the meter was engaged</td>\n",
       "      <td>Transportation</td>\n",
       "      <td>Ridepooling Pricing</td>\n",
       "    </tr>\n",
       "    <tr>\n",
       "      <th>6</th>\n",
       "      <td>dropoff_longitude</td>\n",
       "      <td>the longitude where the meter was disengaged</td>\n",
       "      <td>Transportation</td>\n",
       "      <td>Ridepooling Pricing</td>\n",
       "    </tr>\n",
       "    <tr>\n",
       "      <th>7</th>\n",
       "      <td>dropoff_latitude</td>\n",
       "      <td>the latitude where the meter was disengaged</td>\n",
       "      <td>Transportation</td>\n",
       "      <td>Ridepooling Pricing</td>\n",
       "    </tr>\n",
       "  </tbody>\n",
       "</table>\n",
       "</div>"
      ],
      "text/plain": [
       "                Name                                               Desc  \\\n",
       "0                key                  a unique identifier for each trip   \n",
       "1        fare_amount                       the cost of each trip in usd   \n",
       "2    pickup_datetime          date and time where the meter was engaged   \n",
       "3    passenger_count  the number of passengers in the vehicle (drive...   \n",
       "4   pickup_longitude          the longitude where the meter was engaged   \n",
       "5    pickup_latitude           the latitude where the meter was engaged   \n",
       "6  dropoff_longitude       the longitude where the meter was disengaged   \n",
       "7   dropoff_latitude        the latitude where the meter was disengaged   \n",
       "\n",
       "         Industry              Usecase  \n",
       "0  Transportation  Ridepooling Pricing  \n",
       "1  Transportation  Ridepooling Pricing  \n",
       "2  Transportation  Ridepooling Pricing  \n",
       "3  Transportation  Ridepooling Pricing  \n",
       "4  Transportation  Ridepooling Pricing  \n",
       "5  Transportation  Ridepooling Pricing  \n",
       "6  Transportation  Ridepooling Pricing  \n",
       "7  Transportation  Ridepooling Pricing  "
      ]
     },
     "execution_count": 38,
     "metadata": {},
     "output_type": "execute_result"
    }
   ],
   "source": [
    "df_attr_2"
   ]
  },
  {
   "cell_type": "code",
   "execution_count": 39,
   "id": "4c500e5e",
   "metadata": {},
   "outputs": [
    {
     "data": {
      "application/vnd.plotly.v1+json": {
       "config": {
        "plotlyServerURL": "https://plot.ly"
       },
       "data": [
        {
         "link": {
          "source": [
           0,
           0,
           0,
           0,
           1,
           1,
           1
          ],
          "target": [
           2,
           3,
           4,
           5,
           6,
           3,
           7
          ],
          "value": [
           0.3327,
           0.2881,
           0.284,
           0.2829,
           0.5199,
           0.3881,
           0.3358
          ]
         },
         "node": {
          "color": [
           "#7DC1AC",
           "#7D8A28",
           "#F935A9",
           "#B01F55",
           "#638BA2",
           "#0D6010",
           "#592C4F",
           "#06C68C"
          ],
          "label": [
           "usual location of the customer",
           "how much customer spend for each trip on average",
           "pickup latitude",
           "passenger count",
           "pickup longitude",
           "dropoff latitude",
           "fare amount",
           "key"
          ],
          "line": {
           "color": [
            "#68C947",
            "#47E672",
            "#34B00A",
            "#36BB06",
            "#2727FA",
            "#D043FE",
            "#B6F613"
           ],
           "width": 0.5
          },
          "pad": 15,
          "thickness": 20
         },
         "type": "sankey"
        }
       ],
       "layout": {
        "font": {
         "size": 10
        },
        "template": {
         "data": {
          "bar": [
           {
            "error_x": {
             "color": "#2a3f5f"
            },
            "error_y": {
             "color": "#2a3f5f"
            },
            "marker": {
             "line": {
              "color": "#E5ECF6",
              "width": 0.5
             },
             "pattern": {
              "fillmode": "overlay",
              "size": 10,
              "solidity": 0.2
             }
            },
            "type": "bar"
           }
          ],
          "barpolar": [
           {
            "marker": {
             "line": {
              "color": "#E5ECF6",
              "width": 0.5
             },
             "pattern": {
              "fillmode": "overlay",
              "size": 10,
              "solidity": 0.2
             }
            },
            "type": "barpolar"
           }
          ],
          "carpet": [
           {
            "aaxis": {
             "endlinecolor": "#2a3f5f",
             "gridcolor": "white",
             "linecolor": "white",
             "minorgridcolor": "white",
             "startlinecolor": "#2a3f5f"
            },
            "baxis": {
             "endlinecolor": "#2a3f5f",
             "gridcolor": "white",
             "linecolor": "white",
             "minorgridcolor": "white",
             "startlinecolor": "#2a3f5f"
            },
            "type": "carpet"
           }
          ],
          "choropleth": [
           {
            "colorbar": {
             "outlinewidth": 0,
             "ticks": ""
            },
            "type": "choropleth"
           }
          ],
          "contour": [
           {
            "colorbar": {
             "outlinewidth": 0,
             "ticks": ""
            },
            "colorscale": [
             [
              0,
              "#0d0887"
             ],
             [
              0.1111111111111111,
              "#46039f"
             ],
             [
              0.2222222222222222,
              "#7201a8"
             ],
             [
              0.3333333333333333,
              "#9c179e"
             ],
             [
              0.4444444444444444,
              "#bd3786"
             ],
             [
              0.5555555555555556,
              "#d8576b"
             ],
             [
              0.6666666666666666,
              "#ed7953"
             ],
             [
              0.7777777777777778,
              "#fb9f3a"
             ],
             [
              0.8888888888888888,
              "#fdca26"
             ],
             [
              1,
              "#f0f921"
             ]
            ],
            "type": "contour"
           }
          ],
          "contourcarpet": [
           {
            "colorbar": {
             "outlinewidth": 0,
             "ticks": ""
            },
            "type": "contourcarpet"
           }
          ],
          "heatmap": [
           {
            "colorbar": {
             "outlinewidth": 0,
             "ticks": ""
            },
            "colorscale": [
             [
              0,
              "#0d0887"
             ],
             [
              0.1111111111111111,
              "#46039f"
             ],
             [
              0.2222222222222222,
              "#7201a8"
             ],
             [
              0.3333333333333333,
              "#9c179e"
             ],
             [
              0.4444444444444444,
              "#bd3786"
             ],
             [
              0.5555555555555556,
              "#d8576b"
             ],
             [
              0.6666666666666666,
              "#ed7953"
             ],
             [
              0.7777777777777778,
              "#fb9f3a"
             ],
             [
              0.8888888888888888,
              "#fdca26"
             ],
             [
              1,
              "#f0f921"
             ]
            ],
            "type": "heatmap"
           }
          ],
          "heatmapgl": [
           {
            "colorbar": {
             "outlinewidth": 0,
             "ticks": ""
            },
            "colorscale": [
             [
              0,
              "#0d0887"
             ],
             [
              0.1111111111111111,
              "#46039f"
             ],
             [
              0.2222222222222222,
              "#7201a8"
             ],
             [
              0.3333333333333333,
              "#9c179e"
             ],
             [
              0.4444444444444444,
              "#bd3786"
             ],
             [
              0.5555555555555556,
              "#d8576b"
             ],
             [
              0.6666666666666666,
              "#ed7953"
             ],
             [
              0.7777777777777778,
              "#fb9f3a"
             ],
             [
              0.8888888888888888,
              "#fdca26"
             ],
             [
              1,
              "#f0f921"
             ]
            ],
            "type": "heatmapgl"
           }
          ],
          "histogram": [
           {
            "marker": {
             "pattern": {
              "fillmode": "overlay",
              "size": 10,
              "solidity": 0.2
             }
            },
            "type": "histogram"
           }
          ],
          "histogram2d": [
           {
            "colorbar": {
             "outlinewidth": 0,
             "ticks": ""
            },
            "colorscale": [
             [
              0,
              "#0d0887"
             ],
             [
              0.1111111111111111,
              "#46039f"
             ],
             [
              0.2222222222222222,
              "#7201a8"
             ],
             [
              0.3333333333333333,
              "#9c179e"
             ],
             [
              0.4444444444444444,
              "#bd3786"
             ],
             [
              0.5555555555555556,
              "#d8576b"
             ],
             [
              0.6666666666666666,
              "#ed7953"
             ],
             [
              0.7777777777777778,
              "#fb9f3a"
             ],
             [
              0.8888888888888888,
              "#fdca26"
             ],
             [
              1,
              "#f0f921"
             ]
            ],
            "type": "histogram2d"
           }
          ],
          "histogram2dcontour": [
           {
            "colorbar": {
             "outlinewidth": 0,
             "ticks": ""
            },
            "colorscale": [
             [
              0,
              "#0d0887"
             ],
             [
              0.1111111111111111,
              "#46039f"
             ],
             [
              0.2222222222222222,
              "#7201a8"
             ],
             [
              0.3333333333333333,
              "#9c179e"
             ],
             [
              0.4444444444444444,
              "#bd3786"
             ],
             [
              0.5555555555555556,
              "#d8576b"
             ],
             [
              0.6666666666666666,
              "#ed7953"
             ],
             [
              0.7777777777777778,
              "#fb9f3a"
             ],
             [
              0.8888888888888888,
              "#fdca26"
             ],
             [
              1,
              "#f0f921"
             ]
            ],
            "type": "histogram2dcontour"
           }
          ],
          "mesh3d": [
           {
            "colorbar": {
             "outlinewidth": 0,
             "ticks": ""
            },
            "type": "mesh3d"
           }
          ],
          "parcoords": [
           {
            "line": {
             "colorbar": {
              "outlinewidth": 0,
              "ticks": ""
             }
            },
            "type": "parcoords"
           }
          ],
          "pie": [
           {
            "automargin": true,
            "type": "pie"
           }
          ],
          "scatter": [
           {
            "marker": {
             "colorbar": {
              "outlinewidth": 0,
              "ticks": ""
             }
            },
            "type": "scatter"
           }
          ],
          "scatter3d": [
           {
            "line": {
             "colorbar": {
              "outlinewidth": 0,
              "ticks": ""
             }
            },
            "marker": {
             "colorbar": {
              "outlinewidth": 0,
              "ticks": ""
             }
            },
            "type": "scatter3d"
           }
          ],
          "scattercarpet": [
           {
            "marker": {
             "colorbar": {
              "outlinewidth": 0,
              "ticks": ""
             }
            },
            "type": "scattercarpet"
           }
          ],
          "scattergeo": [
           {
            "marker": {
             "colorbar": {
              "outlinewidth": 0,
              "ticks": ""
             }
            },
            "type": "scattergeo"
           }
          ],
          "scattergl": [
           {
            "marker": {
             "colorbar": {
              "outlinewidth": 0,
              "ticks": ""
             }
            },
            "type": "scattergl"
           }
          ],
          "scattermapbox": [
           {
            "marker": {
             "colorbar": {
              "outlinewidth": 0,
              "ticks": ""
             }
            },
            "type": "scattermapbox"
           }
          ],
          "scatterpolar": [
           {
            "marker": {
             "colorbar": {
              "outlinewidth": 0,
              "ticks": ""
             }
            },
            "type": "scatterpolar"
           }
          ],
          "scatterpolargl": [
           {
            "marker": {
             "colorbar": {
              "outlinewidth": 0,
              "ticks": ""
             }
            },
            "type": "scatterpolargl"
           }
          ],
          "scatterternary": [
           {
            "marker": {
             "colorbar": {
              "outlinewidth": 0,
              "ticks": ""
             }
            },
            "type": "scatterternary"
           }
          ],
          "surface": [
           {
            "colorbar": {
             "outlinewidth": 0,
             "ticks": ""
            },
            "colorscale": [
             [
              0,
              "#0d0887"
             ],
             [
              0.1111111111111111,
              "#46039f"
             ],
             [
              0.2222222222222222,
              "#7201a8"
             ],
             [
              0.3333333333333333,
              "#9c179e"
             ],
             [
              0.4444444444444444,
              "#bd3786"
             ],
             [
              0.5555555555555556,
              "#d8576b"
             ],
             [
              0.6666666666666666,
              "#ed7953"
             ],
             [
              0.7777777777777778,
              "#fb9f3a"
             ],
             [
              0.8888888888888888,
              "#fdca26"
             ],
             [
              1,
              "#f0f921"
             ]
            ],
            "type": "surface"
           }
          ],
          "table": [
           {
            "cells": {
             "fill": {
              "color": "#EBF0F8"
             },
             "line": {
              "color": "white"
             }
            },
            "header": {
             "fill": {
              "color": "#C8D4E3"
             },
             "line": {
              "color": "white"
             }
            },
            "type": "table"
           }
          ]
         },
         "layout": {
          "annotationdefaults": {
           "arrowcolor": "#2a3f5f",
           "arrowhead": 0,
           "arrowwidth": 1
          },
          "autotypenumbers": "strict",
          "coloraxis": {
           "colorbar": {
            "outlinewidth": 0,
            "ticks": ""
           }
          },
          "colorscale": {
           "diverging": [
            [
             0,
             "#8e0152"
            ],
            [
             0.1,
             "#c51b7d"
            ],
            [
             0.2,
             "#de77ae"
            ],
            [
             0.3,
             "#f1b6da"
            ],
            [
             0.4,
             "#fde0ef"
            ],
            [
             0.5,
             "#f7f7f7"
            ],
            [
             0.6,
             "#e6f5d0"
            ],
            [
             0.7,
             "#b8e186"
            ],
            [
             0.8,
             "#7fbc41"
            ],
            [
             0.9,
             "#4d9221"
            ],
            [
             1,
             "#276419"
            ]
           ],
           "sequential": [
            [
             0,
             "#0d0887"
            ],
            [
             0.1111111111111111,
             "#46039f"
            ],
            [
             0.2222222222222222,
             "#7201a8"
            ],
            [
             0.3333333333333333,
             "#9c179e"
            ],
            [
             0.4444444444444444,
             "#bd3786"
            ],
            [
             0.5555555555555556,
             "#d8576b"
            ],
            [
             0.6666666666666666,
             "#ed7953"
            ],
            [
             0.7777777777777778,
             "#fb9f3a"
            ],
            [
             0.8888888888888888,
             "#fdca26"
            ],
            [
             1,
             "#f0f921"
            ]
           ],
           "sequentialminus": [
            [
             0,
             "#0d0887"
            ],
            [
             0.1111111111111111,
             "#46039f"
            ],
            [
             0.2222222222222222,
             "#7201a8"
            ],
            [
             0.3333333333333333,
             "#9c179e"
            ],
            [
             0.4444444444444444,
             "#bd3786"
            ],
            [
             0.5555555555555556,
             "#d8576b"
            ],
            [
             0.6666666666666666,
             "#ed7953"
            ],
            [
             0.7777777777777778,
             "#fb9f3a"
            ],
            [
             0.8888888888888888,
             "#fdca26"
            ],
            [
             1,
             "#f0f921"
            ]
           ]
          },
          "colorway": [
           "#636efa",
           "#EF553B",
           "#00cc96",
           "#ab63fa",
           "#FFA15A",
           "#19d3f3",
           "#FF6692",
           "#B6E880",
           "#FF97FF",
           "#FECB52"
          ],
          "font": {
           "color": "#2a3f5f"
          },
          "geo": {
           "bgcolor": "white",
           "lakecolor": "white",
           "landcolor": "#E5ECF6",
           "showlakes": true,
           "showland": true,
           "subunitcolor": "white"
          },
          "hoverlabel": {
           "align": "left"
          },
          "hovermode": "closest",
          "mapbox": {
           "style": "light"
          },
          "paper_bgcolor": "white",
          "plot_bgcolor": "#E5ECF6",
          "polar": {
           "angularaxis": {
            "gridcolor": "white",
            "linecolor": "white",
            "ticks": ""
           },
           "bgcolor": "#E5ECF6",
           "radialaxis": {
            "gridcolor": "white",
            "linecolor": "white",
            "ticks": ""
           }
          },
          "scene": {
           "xaxis": {
            "backgroundcolor": "#E5ECF6",
            "gridcolor": "white",
            "gridwidth": 2,
            "linecolor": "white",
            "showbackground": true,
            "ticks": "",
            "zerolinecolor": "white"
           },
           "yaxis": {
            "backgroundcolor": "#E5ECF6",
            "gridcolor": "white",
            "gridwidth": 2,
            "linecolor": "white",
            "showbackground": true,
            "ticks": "",
            "zerolinecolor": "white"
           },
           "zaxis": {
            "backgroundcolor": "#E5ECF6",
            "gridcolor": "white",
            "gridwidth": 2,
            "linecolor": "white",
            "showbackground": true,
            "ticks": "",
            "zerolinecolor": "white"
           }
          },
          "shapedefaults": {
           "line": {
            "color": "#2a3f5f"
           }
          },
          "ternary": {
           "aaxis": {
            "gridcolor": "white",
            "linecolor": "white",
            "ticks": ""
           },
           "baxis": {
            "gridcolor": "white",
            "linecolor": "white",
            "ticks": ""
           },
           "bgcolor": "#E5ECF6",
           "caxis": {
            "gridcolor": "white",
            "linecolor": "white",
            "ticks": ""
           }
          },
          "title": {
           "x": 0.05
          },
          "xaxis": {
           "automargin": true,
           "gridcolor": "white",
           "linecolor": "white",
           "ticks": "",
           "title": {
            "standoff": 15
           },
           "zerolinecolor": "white",
           "zerolinewidth": 2
          },
          "yaxis": {
           "automargin": true,
           "gridcolor": "white",
           "linecolor": "white",
           "ticks": "",
           "title": {
            "standoff": 15
           },
           "zerolinecolor": "white",
           "zerolinewidth": 2
          }
         }
        },
        "title": {
         "text": "Feature Recommendation Sankey Visualization"
        }
       }
      },
      "text/html": [
       "<div>                            <div id=\"c1da972c-197c-4c94-9059-d69de9c24b28\" class=\"plotly-graph-div\" style=\"height:525px; width:100%;\"></div>            <script type=\"text/javascript\">                require([\"plotly\"], function(Plotly) {                    window.PLOTLYENV=window.PLOTLYENV || {};                                    if (document.getElementById(\"c1da972c-197c-4c94-9059-d69de9c24b28\")) {                    Plotly.newPlot(                        \"c1da972c-197c-4c94-9059-d69de9c24b28\",                        [{\"link\":{\"source\":[0,0,0,0,1,1,1],\"target\":[2,3,4,5,6,3,7],\"value\":[0.3327,0.2881,0.284,0.2829,0.5199,0.3881,0.3358]},\"node\":{\"color\":[\"#7DC1AC\",\"#7D8A28\",\"#F935A9\",\"#B01F55\",\"#638BA2\",\"#0D6010\",\"#592C4F\",\"#06C68C\"],\"label\":[\"usual location of the customer\",\"how much customer spend for each trip on average\",\"pickup latitude\",\"passenger count\",\"pickup longitude\",\"dropoff latitude\",\"fare amount\",\"key\"],\"line\":{\"color\":[\"#68C947\",\"#47E672\",\"#34B00A\",\"#36BB06\",\"#2727FA\",\"#D043FE\",\"#B6F613\"],\"width\":0.5},\"pad\":15,\"thickness\":20},\"type\":\"sankey\"}],                        {\"font\":{\"size\":10},\"template\":{\"data\":{\"bar\":[{\"error_x\":{\"color\":\"#2a3f5f\"},\"error_y\":{\"color\":\"#2a3f5f\"},\"marker\":{\"line\":{\"color\":\"#E5ECF6\",\"width\":0.5},\"pattern\":{\"fillmode\":\"overlay\",\"size\":10,\"solidity\":0.2}},\"type\":\"bar\"}],\"barpolar\":[{\"marker\":{\"line\":{\"color\":\"#E5ECF6\",\"width\":0.5},\"pattern\":{\"fillmode\":\"overlay\",\"size\":10,\"solidity\":0.2}},\"type\":\"barpolar\"}],\"carpet\":[{\"aaxis\":{\"endlinecolor\":\"#2a3f5f\",\"gridcolor\":\"white\",\"linecolor\":\"white\",\"minorgridcolor\":\"white\",\"startlinecolor\":\"#2a3f5f\"},\"baxis\":{\"endlinecolor\":\"#2a3f5f\",\"gridcolor\":\"white\",\"linecolor\":\"white\",\"minorgridcolor\":\"white\",\"startlinecolor\":\"#2a3f5f\"},\"type\":\"carpet\"}],\"choropleth\":[{\"colorbar\":{\"outlinewidth\":0,\"ticks\":\"\"},\"type\":\"choropleth\"}],\"contour\":[{\"colorbar\":{\"outlinewidth\":0,\"ticks\":\"\"},\"colorscale\":[[0.0,\"#0d0887\"],[0.1111111111111111,\"#46039f\"],[0.2222222222222222,\"#7201a8\"],[0.3333333333333333,\"#9c179e\"],[0.4444444444444444,\"#bd3786\"],[0.5555555555555556,\"#d8576b\"],[0.6666666666666666,\"#ed7953\"],[0.7777777777777778,\"#fb9f3a\"],[0.8888888888888888,\"#fdca26\"],[1.0,\"#f0f921\"]],\"type\":\"contour\"}],\"contourcarpet\":[{\"colorbar\":{\"outlinewidth\":0,\"ticks\":\"\"},\"type\":\"contourcarpet\"}],\"heatmap\":[{\"colorbar\":{\"outlinewidth\":0,\"ticks\":\"\"},\"colorscale\":[[0.0,\"#0d0887\"],[0.1111111111111111,\"#46039f\"],[0.2222222222222222,\"#7201a8\"],[0.3333333333333333,\"#9c179e\"],[0.4444444444444444,\"#bd3786\"],[0.5555555555555556,\"#d8576b\"],[0.6666666666666666,\"#ed7953\"],[0.7777777777777778,\"#fb9f3a\"],[0.8888888888888888,\"#fdca26\"],[1.0,\"#f0f921\"]],\"type\":\"heatmap\"}],\"heatmapgl\":[{\"colorbar\":{\"outlinewidth\":0,\"ticks\":\"\"},\"colorscale\":[[0.0,\"#0d0887\"],[0.1111111111111111,\"#46039f\"],[0.2222222222222222,\"#7201a8\"],[0.3333333333333333,\"#9c179e\"],[0.4444444444444444,\"#bd3786\"],[0.5555555555555556,\"#d8576b\"],[0.6666666666666666,\"#ed7953\"],[0.7777777777777778,\"#fb9f3a\"],[0.8888888888888888,\"#fdca26\"],[1.0,\"#f0f921\"]],\"type\":\"heatmapgl\"}],\"histogram\":[{\"marker\":{\"pattern\":{\"fillmode\":\"overlay\",\"size\":10,\"solidity\":0.2}},\"type\":\"histogram\"}],\"histogram2d\":[{\"colorbar\":{\"outlinewidth\":0,\"ticks\":\"\"},\"colorscale\":[[0.0,\"#0d0887\"],[0.1111111111111111,\"#46039f\"],[0.2222222222222222,\"#7201a8\"],[0.3333333333333333,\"#9c179e\"],[0.4444444444444444,\"#bd3786\"],[0.5555555555555556,\"#d8576b\"],[0.6666666666666666,\"#ed7953\"],[0.7777777777777778,\"#fb9f3a\"],[0.8888888888888888,\"#fdca26\"],[1.0,\"#f0f921\"]],\"type\":\"histogram2d\"}],\"histogram2dcontour\":[{\"colorbar\":{\"outlinewidth\":0,\"ticks\":\"\"},\"colorscale\":[[0.0,\"#0d0887\"],[0.1111111111111111,\"#46039f\"],[0.2222222222222222,\"#7201a8\"],[0.3333333333333333,\"#9c179e\"],[0.4444444444444444,\"#bd3786\"],[0.5555555555555556,\"#d8576b\"],[0.6666666666666666,\"#ed7953\"],[0.7777777777777778,\"#fb9f3a\"],[0.8888888888888888,\"#fdca26\"],[1.0,\"#f0f921\"]],\"type\":\"histogram2dcontour\"}],\"mesh3d\":[{\"colorbar\":{\"outlinewidth\":0,\"ticks\":\"\"},\"type\":\"mesh3d\"}],\"parcoords\":[{\"line\":{\"colorbar\":{\"outlinewidth\":0,\"ticks\":\"\"}},\"type\":\"parcoords\"}],\"pie\":[{\"automargin\":true,\"type\":\"pie\"}],\"scatter\":[{\"marker\":{\"colorbar\":{\"outlinewidth\":0,\"ticks\":\"\"}},\"type\":\"scatter\"}],\"scatter3d\":[{\"line\":{\"colorbar\":{\"outlinewidth\":0,\"ticks\":\"\"}},\"marker\":{\"colorbar\":{\"outlinewidth\":0,\"ticks\":\"\"}},\"type\":\"scatter3d\"}],\"scattercarpet\":[{\"marker\":{\"colorbar\":{\"outlinewidth\":0,\"ticks\":\"\"}},\"type\":\"scattercarpet\"}],\"scattergeo\":[{\"marker\":{\"colorbar\":{\"outlinewidth\":0,\"ticks\":\"\"}},\"type\":\"scattergeo\"}],\"scattergl\":[{\"marker\":{\"colorbar\":{\"outlinewidth\":0,\"ticks\":\"\"}},\"type\":\"scattergl\"}],\"scattermapbox\":[{\"marker\":{\"colorbar\":{\"outlinewidth\":0,\"ticks\":\"\"}},\"type\":\"scattermapbox\"}],\"scatterpolar\":[{\"marker\":{\"colorbar\":{\"outlinewidth\":0,\"ticks\":\"\"}},\"type\":\"scatterpolar\"}],\"scatterpolargl\":[{\"marker\":{\"colorbar\":{\"outlinewidth\":0,\"ticks\":\"\"}},\"type\":\"scatterpolargl\"}],\"scatterternary\":[{\"marker\":{\"colorbar\":{\"outlinewidth\":0,\"ticks\":\"\"}},\"type\":\"scatterternary\"}],\"surface\":[{\"colorbar\":{\"outlinewidth\":0,\"ticks\":\"\"},\"colorscale\":[[0.0,\"#0d0887\"],[0.1111111111111111,\"#46039f\"],[0.2222222222222222,\"#7201a8\"],[0.3333333333333333,\"#9c179e\"],[0.4444444444444444,\"#bd3786\"],[0.5555555555555556,\"#d8576b\"],[0.6666666666666666,\"#ed7953\"],[0.7777777777777778,\"#fb9f3a\"],[0.8888888888888888,\"#fdca26\"],[1.0,\"#f0f921\"]],\"type\":\"surface\"}],\"table\":[{\"cells\":{\"fill\":{\"color\":\"#EBF0F8\"},\"line\":{\"color\":\"white\"}},\"header\":{\"fill\":{\"color\":\"#C8D4E3\"},\"line\":{\"color\":\"white\"}},\"type\":\"table\"}]},\"layout\":{\"annotationdefaults\":{\"arrowcolor\":\"#2a3f5f\",\"arrowhead\":0,\"arrowwidth\":1},\"autotypenumbers\":\"strict\",\"coloraxis\":{\"colorbar\":{\"outlinewidth\":0,\"ticks\":\"\"}},\"colorscale\":{\"diverging\":[[0,\"#8e0152\"],[0.1,\"#c51b7d\"],[0.2,\"#de77ae\"],[0.3,\"#f1b6da\"],[0.4,\"#fde0ef\"],[0.5,\"#f7f7f7\"],[0.6,\"#e6f5d0\"],[0.7,\"#b8e186\"],[0.8,\"#7fbc41\"],[0.9,\"#4d9221\"],[1,\"#276419\"]],\"sequential\":[[0.0,\"#0d0887\"],[0.1111111111111111,\"#46039f\"],[0.2222222222222222,\"#7201a8\"],[0.3333333333333333,\"#9c179e\"],[0.4444444444444444,\"#bd3786\"],[0.5555555555555556,\"#d8576b\"],[0.6666666666666666,\"#ed7953\"],[0.7777777777777778,\"#fb9f3a\"],[0.8888888888888888,\"#fdca26\"],[1.0,\"#f0f921\"]],\"sequentialminus\":[[0.0,\"#0d0887\"],[0.1111111111111111,\"#46039f\"],[0.2222222222222222,\"#7201a8\"],[0.3333333333333333,\"#9c179e\"],[0.4444444444444444,\"#bd3786\"],[0.5555555555555556,\"#d8576b\"],[0.6666666666666666,\"#ed7953\"],[0.7777777777777778,\"#fb9f3a\"],[0.8888888888888888,\"#fdca26\"],[1.0,\"#f0f921\"]]},\"colorway\":[\"#636efa\",\"#EF553B\",\"#00cc96\",\"#ab63fa\",\"#FFA15A\",\"#19d3f3\",\"#FF6692\",\"#B6E880\",\"#FF97FF\",\"#FECB52\"],\"font\":{\"color\":\"#2a3f5f\"},\"geo\":{\"bgcolor\":\"white\",\"lakecolor\":\"white\",\"landcolor\":\"#E5ECF6\",\"showlakes\":true,\"showland\":true,\"subunitcolor\":\"white\"},\"hoverlabel\":{\"align\":\"left\"},\"hovermode\":\"closest\",\"mapbox\":{\"style\":\"light\"},\"paper_bgcolor\":\"white\",\"plot_bgcolor\":\"#E5ECF6\",\"polar\":{\"angularaxis\":{\"gridcolor\":\"white\",\"linecolor\":\"white\",\"ticks\":\"\"},\"bgcolor\":\"#E5ECF6\",\"radialaxis\":{\"gridcolor\":\"white\",\"linecolor\":\"white\",\"ticks\":\"\"}},\"scene\":{\"xaxis\":{\"backgroundcolor\":\"#E5ECF6\",\"gridcolor\":\"white\",\"gridwidth\":2,\"linecolor\":\"white\",\"showbackground\":true,\"ticks\":\"\",\"zerolinecolor\":\"white\"},\"yaxis\":{\"backgroundcolor\":\"#E5ECF6\",\"gridcolor\":\"white\",\"gridwidth\":2,\"linecolor\":\"white\",\"showbackground\":true,\"ticks\":\"\",\"zerolinecolor\":\"white\"},\"zaxis\":{\"backgroundcolor\":\"#E5ECF6\",\"gridcolor\":\"white\",\"gridwidth\":2,\"linecolor\":\"white\",\"showbackground\":true,\"ticks\":\"\",\"zerolinecolor\":\"white\"}},\"shapedefaults\":{\"line\":{\"color\":\"#2a3f5f\"}},\"ternary\":{\"aaxis\":{\"gridcolor\":\"white\",\"linecolor\":\"white\",\"ticks\":\"\"},\"baxis\":{\"gridcolor\":\"white\",\"linecolor\":\"white\",\"ticks\":\"\"},\"bgcolor\":\"#E5ECF6\",\"caxis\":{\"gridcolor\":\"white\",\"linecolor\":\"white\",\"ticks\":\"\"}},\"title\":{\"x\":0.05},\"xaxis\":{\"automargin\":true,\"gridcolor\":\"white\",\"linecolor\":\"white\",\"ticks\":\"\",\"title\":{\"standoff\":15},\"zerolinecolor\":\"white\",\"zerolinewidth\":2},\"yaxis\":{\"automargin\":true,\"gridcolor\":\"white\",\"linecolor\":\"white\",\"ticks\":\"\",\"title\":{\"standoff\":15},\"zerolinecolor\":\"white\",\"zerolinewidth\":2}}},\"title\":{\"text\":\"Feature Recommendation Sankey Visualization\"}},                        {\"responsive\": true}                    ).then(function(){\n",
       "                            \n",
       "var gd = document.getElementById('c1da972c-197c-4c94-9059-d69de9c24b28');\n",
       "var x = new MutationObserver(function (mutations, observer) {{\n",
       "        var display = window.getComputedStyle(gd).display;\n",
       "        if (!display || display === 'none') {{\n",
       "            console.log([gd, 'removed!']);\n",
       "            Plotly.purge(gd);\n",
       "            observer.disconnect();\n",
       "        }}\n",
       "}});\n",
       "\n",
       "// Listen for the removal of the full notebook cells\n",
       "var notebookContainer = gd.closest('#notebook-container');\n",
       "if (notebookContainer) {{\n",
       "    x.observe(notebookContainer, {childList: true});\n",
       "}}\n",
       "\n",
       "// Listen for the clearing of the current output cell\n",
       "var outputEl = gd.closest('.output');\n",
       "if (outputEl) {{\n",
       "    x.observe(outputEl, {childList: true});\n",
       "}}\n",
       "\n",
       "                        })                };                });            </script>        </div>"
      ]
     },
     "metadata": {},
     "output_type": "display_data"
    }
   ],
   "source": [
    "test_building_corpus_2 = [\n",
    "    'usual location of the customer',\n",
    "    'how much customer spend for each trip on average'\n",
    "]\n",
    "df_5 = find_attr_by_relevance(df_attr_2,\n",
    "                            building_corpus=test_building_corpus_2,\n",
    "                            name_column='Name',\n",
    "                            desc_column='Desc',\n",
    "                            threshold=0.25)\n",
    "fig_5 = sankey_visualization(df_5)\n",
    "fig_5.show()"
   ]
  }
 ],
 "metadata": {
  "kernelspec": {
   "display_name": "Python 3",
   "language": "python",
   "name": "python3"
  },
  "language_info": {
   "codemirror_mode": {
    "name": "ipython",
    "version": 3
   },
   "file_extension": ".py",
   "mimetype": "text/x-python",
   "name": "python",
   "nbconvert_exporter": "python",
   "pygments_lexer": "ipython3",
   "version": "3.8.8"
  },
  "toc": {
   "base_numbering": 1,
   "nav_menu": {},
   "number_sections": true,
   "sideBar": true,
   "skip_h1_title": false,
   "title_cell": "Table of Contents",
   "title_sidebar": "Contents",
   "toc_cell": false,
   "toc_position": {
    "height": "395.688px",
    "left": "1093px",
    "top": "174.125px",
    "width": "374.297px"
   },
   "toc_section_display": true,
   "toc_window_display": true
  },
  "varInspector": {
   "cols": {
    "lenName": 16,
    "lenType": 16,
    "lenVar": 40
   },
   "kernels_config": {
    "python": {
     "delete_cmd_postfix": "",
     "delete_cmd_prefix": "del ",
     "library": "var_list.py",
     "varRefreshCmd": "print(var_dic_list())"
    },
    "r": {
     "delete_cmd_postfix": ") ",
     "delete_cmd_prefix": "rm(",
     "library": "var_list.r",
     "varRefreshCmd": "cat(var_dic_list()) "
    }
   },
   "types_to_exclude": [
    "module",
    "function",
    "builtin_function_or_method",
    "instance",
    "_Feature"
   ],
   "window_display": false
  }
 },
 "nbformat": 4,
 "nbformat_minor": 5
}
